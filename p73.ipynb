{
 "cells": [
  {
   "cell_type": "code",
   "execution_count": 2,
   "id": "be96eb1d-056b-4da4-b039-954dbf8f8258",
   "metadata": {},
   "outputs": [
    {
     "data": {
      "text/plain": [
       "[80, 60, 70, 50, 90]"
      ]
     },
     "execution_count": 2,
     "metadata": {},
     "output_type": "execute_result"
    }
   ],
   "source": [
    "#시험 점수 변수 만들고 출력하기\n",
    "score = [80,60,70,50,90]\n",
    "score"
   ]
  },
  {
   "cell_type": "code",
   "execution_count": 4,
   "id": "bc7592e9-232e-4ee7-a08e-88b8fe6ea75f",
   "metadata": {},
   "outputs": [
    {
     "data": {
      "text/plain": [
       "350"
      ]
     },
     "execution_count": 4,
     "metadata": {},
     "output_type": "execute_result"
    }
   ],
   "source": [
    "#합계 점수 구하기\n",
    "sum(score) "
   ]
  },
  {
   "cell_type": "code",
   "execution_count": 6,
   "id": "95525153-8028-43dd-adf2-c0e396fb1f9a",
   "metadata": {},
   "outputs": [
    {
     "data": {
      "text/plain": [
       "350"
      ]
     },
     "execution_count": 6,
     "metadata": {},
     "output_type": "execute_result"
    }
   ],
   "source": [
    "#합게 점수 변수 만들어 출력하기\n",
    "sum_sc = sum(score)\n",
    "sum_sc"
   ]
  },
  {
   "cell_type": "code",
   "execution_count": null,
   "id": "25bf2d4d-303b-4609-acee-216ba1bc33d6",
   "metadata": {},
   "outputs": [],
   "source": []
  }
 ],
 "metadata": {
  "kernelspec": {
   "display_name": "Python 3 (ipykernel)",
   "language": "python",
   "name": "python3"
  },
  "language_info": {
   "codemirror_mode": {
    "name": "ipython",
    "version": 3
   },
   "file_extension": ".py",
   "mimetype": "text/x-python",
   "name": "python",
   "nbconvert_exporter": "python",
   "pygments_lexer": "ipython3",
   "version": "3.12.4"
  }
 },
 "nbformat": 4,
 "nbformat_minor": 5
}
