{
 "cells": [
  {
   "cell_type": "code",
   "execution_count": null,
   "id": "09a829f9-818a-4c7c-ac01-89071a3f9e3e",
   "metadata": {},
   "outputs": [],
   "source": [
    "import pandas as pd"
   ]
  },
  {
   "cell_type": "code",
   "execution_count": null,
   "id": "6eff8d8d-003d-474d-bd77-344fbd8ef7b9",
   "metadata": {},
   "outputs": [],
   "source": [
    "mpg = pd.read_csv('mpg.csv')"
   ]
  },
  {
   "cell_type": "code",
   "execution_count": null,
   "id": "ae10541e-5860-4400-8855-354628e5a148",
   "metadata": {
    "scrolled": true
   },
   "outputs": [],
   "source": [
    "#기술 통계 분석\n",
    "mpg.query('category in [\"compact\", \"suv\"]') \\\n",
    "    .groupby('category', as_index = False) \\\n",
    "    .agg(n = ('category','count'),\n",
    "        mean = ('cty','mean'))\n",
    "#(순서대로) compact, suv 추출하기\n",
    "# category별 분리\n",
    "# 빈도 구하기\n",
    "# cty 평균 구하기"
   ]
  },
  {
   "cell_type": "code",
   "execution_count": null,
   "id": "fdf78dea-e8ba-4651-9f1e-983531ff87a7",
   "metadata": {},
   "outputs": [],
   "source": [
    "#앞에서 구한 평균 차이가 통계적으로 유의한지 t검정을 수행해 알아보자"
   ]
  },
  {
   "cell_type": "code",
   "execution_count": null,
   "id": "149e6a8d-923d-41d5-8b9e-00b51c6190f7",
   "metadata": {},
   "outputs": [],
   "source": [
    "#mpg에서 category가 'compact'인 행과 'suv'인 행의 cty를 추출해 각각 변수에 할당\n",
    "compact = mpg.query('category == \"compact\"')['cty']\n",
    "suv = mpg.query('category == \"suv\"')['cty']"
   ]
  },
  {
   "cell_type": "code",
   "execution_count": null,
   "id": "0e2c096f-f228-44f8-b8c4-3ec823af8eb9",
   "metadata": {},
   "outputs": [],
   "source": [
    "#scipy패키지의 ttest_ind()이용해 t검정하자."
   ]
  },
  {
   "cell_type": "code",
   "execution_count": null,
   "id": "8d97798c-3fe9-451b-89b1-6c1b05705c31",
   "metadata": {},
   "outputs": [],
   "source": [
    "#t-test\n",
    "from scipy import stats"
   ]
  },
  {
   "cell_type": "code",
   "execution_count": null,
   "id": "c8512746-c3ee-4ef1-8a12-9980984d26fb",
   "metadata": {},
   "outputs": [],
   "source": [
    "stats.ttest_ind(compact, suv, equal_var = True)"
   ]
  },
  {
   "cell_type": "code",
   "execution_count": null,
   "id": "b500782b-0292-4b61-8c9f-b9a39774315e",
   "metadata": {},
   "outputs": [],
   "source": [
    "#출력결과의 pvalue가 유의확률을 의미함\n",
    "#일반적으로, 유의확률 5%를 판단 기준으로 삼고,\n",
    "#p-value가 0.05미만이면 '집단 간 차이가 통계적으로 유의하다'고 해석\n",
    "#실제로는 차이가 없는데 이런 정도의 차이가 우연히 관찰될 확률이 5%보다 작다면, \n",
    "#이 차이를 우연이라고 보기 어렵다고 결론 내림\n",
    "#출력 결과,\n",
    "#p-value가 0.05보다 작기 때문에,\n",
    "#compact와 suv간 평균 도시 연비 차이가 통계적으로 유의하다고 결론 내릴 수 있음."
   ]
  },
  {
   "cell_type": "code",
   "execution_count": null,
   "id": "3e3d3667-c7be-4de4-a714-e2df199cf48c",
   "metadata": {},
   "outputs": [],
   "source": [
    "\n"
   ]
  },
  {
   "cell_type": "code",
   "execution_count": null,
   "id": "53b2e97d-e70e-4afa-bb26-2ca9db243b26",
   "metadata": {},
   "outputs": [],
   "source": [
    "##일반 휘발유와 고급 휘발유와 도시 연비 t검정"
   ]
  },
  {
   "cell_type": "code",
   "execution_count": null,
   "id": "931c5e17-adb5-4b02-9451-0a08bea9b2dc",
   "metadata": {},
   "outputs": [],
   "source": [
    "#일반휘발유를 사용하는 자동차와 고급 휘발유를 사용하는 자동차의 도시연비 차이가\n",
    "#통계적으로 유의한지 알아보자.\n",
    "#두 연료를 사용하는 자동차의 빈도와 cty 평균을 구한 뒤, t검정을 하자"
   ]
  },
  {
   "cell_type": "code",
   "execution_count": null,
   "id": "aeb934cc-0fd4-425e-ad96-085bc9cece2b",
   "metadata": {},
   "outputs": [],
   "source": [
    "#기술 통계 분석\n",
    "mpg.query('fl in [\"r\",\"p\"]') \\\n",
    "    .groupby('fl', as_index = False) \\\n",
    "    .agg(n = ('fl', 'count'),\n",
    "        mean = ('cty', 'mean'))\n",
    "#(순서대로) r,p추출하기\n",
    "#fl별 분리\n",
    "#빈도 구하기\n",
    "#cty평균 구하기"
   ]
  },
  {
   "cell_type": "code",
   "execution_count": null,
   "id": "386e96a1-0f24-474a-b7bc-aac58274bc9b",
   "metadata": {},
   "outputs": [],
   "source": [
    "regular = mpg.query('fl == \"r\"')['cty']\n",
    "premium = mpg.query('fl == \"p\"')['cty']"
   ]
  },
  {
   "cell_type": "code",
   "execution_count": null,
   "id": "090d3fa6-fc4e-4839-a06d-bd19166ae1fc",
   "metadata": {},
   "outputs": [],
   "source": [
    "#t-test\n",
    "stats.ttest_ind(regular, premium, equal_var=True)"
   ]
  },
  {
   "cell_type": "code",
   "execution_count": null,
   "id": "bbdf1e47-025c-4675-bbd2-32be72211910",
   "metadata": {},
   "outputs": [],
   "source": [
    "#출력 결과, \n",
    "#p-value가 0.05보다 큰 0.2875임.\n",
    "#실제로는 차이가 없는데, 우연에 의해 이런 정도의 차이가 관찰될 확률이 28.75%라는 의미\n",
    "#따라서, \"일반 휘발유와 고급 휘발유를 사용하는 자동차의 도시 연비 차이가 통계적으로 유의하지 않다\"고 결론 내릴 수 있음\n",
    "#고급 휘발유 자동차의 도시 연비 평균이 0.6정도 높지만, 이런정도의 차이는 우연히 발생했을 가능성이 크다고 해석"
   ]
  },
  {
   "cell_type": "code",
   "execution_count": null,
   "id": "7483ddf2-f41f-4114-806e-c0195070b681",
   "metadata": {},
   "outputs": [],
   "source": []
  },
  {
   "cell_type": "code",
   "execution_count": null,
   "id": "ac529b7c-16e2-462f-bbe4-7073a09f8326",
   "metadata": {},
   "outputs": [],
   "source": [
    "#####14-3) 상관분석 - 두 변수의 관계 분석하기"
   ]
  },
  {
   "cell_type": "code",
   "execution_count": null,
   "id": "d3ce2bb8-38ae-4f81-834a-e87a7a7a6d7f",
   "metadata": {},
   "outputs": [],
   "source": [
    "##실업자 수와 개인 소비 지출의 상관관계"
   ]
  },
  {
   "cell_type": "code",
   "execution_count": null,
   "id": "8462454c-fee5-426e-ba90-95d9c5445058",
   "metadata": {},
   "outputs": [],
   "source": [
    "#economics 데이터 불러오기\n",
    "economics = pd.read_csv('economics.csv')"
   ]
  },
  {
   "cell_type": "code",
   "execution_count": null,
   "id": "2eab9bdc-d9bc-4caf-b144-4c98cbeedd07",
   "metadata": {},
   "outputs": [],
   "source": [
    "#상관행렬 만들기\n",
    "# : economics의 unemploy와 pce 변수를 추출한 후, corr()을 이용해 상관행렬 만들기 \n",
    "economics[['unemploy', 'pce']].corr()"
   ]
  },
  {
   "cell_type": "code",
   "execution_count": null,
   "id": "dc51afef-5d88-4a64-90ae-627faa68420b",
   "metadata": {},
   "outputs": [],
   "source": [
    "#출력 결과, \n",
    "#상관계수가 양수 0.61이므로, \n",
    "#실업자 수와 개인소비지출은 한 변수가 증가하면 다른 변수가 증가하는 정비례 관계임을 알 수 있음"
   ]
  },
  {
   "cell_type": "code",
   "execution_count": null,
   "id": "d86645ae-1595-4f58-9294-bd38a67f4f2e",
   "metadata": {},
   "outputs": [],
   "source": [
    "#유의 확률 구하기\n",
    "#: df.corr()을 이용하면 상관계수는 알 수 있지만, 유의확률은 알 수 없음\n",
    "#유의 확률은 scipy 패키지의 stats.pearsonr()을 이용해서 구함"
   ]
  },
  {
   "cell_type": "code",
   "execution_count": null,
   "id": "99ff758c-c7c0-4980-a26d-1e8eb011bf7a",
   "metadata": {},
   "outputs": [],
   "source": [
    "stats.pearsonr(economics['unemploy'], economics['pce'])"
   ]
  },
  {
   "cell_type": "code",
   "execution_count": null,
   "id": "4223085b-4e07-4dd7-b74e-e15153f6f12b",
   "metadata": {},
   "outputs": [],
   "source": [
    "#출력 결과, \n",
    "#첫번째 값이 상관계수, 두번째 값이 유의확률 의미\n",
    "#유의확률이 0.05미만이므로,\n",
    "#실업자수와 개인소비지출의 상관관계가 통계적으로 유의하다고 결론 내릴 수 있음"
   ]
  },
  {
   "cell_type": "code",
   "execution_count": null,
   "id": "9a402af6-c922-42ad-86f1-89fc1491f3b4",
   "metadata": {},
   "outputs": [],
   "source": []
  },
  {
   "cell_type": "code",
   "execution_count": null,
   "id": "083be9a6-ff53-451d-985a-0738e01dd82e",
   "metadata": {},
   "outputs": [],
   "source": [
    "#상관행렬 히트맵 만들기"
   ]
  },
  {
   "cell_type": "code",
   "execution_count": null,
   "id": "5febf803-9603-431f-b6f3-87b8996f2e07",
   "metadata": {},
   "outputs": [],
   "source": [
    "#여러 변수의 관련성을 한꺼번에 알아보고 싶을 때, 모든 변수의 상관관계를 나타낸 \n",
    "#상관행렬을 만들면 편리함\n",
    "#상관행렬을 보면 어떤 변수끼리 관련이 크고 적은지 한눈에 파악 가능"
   ]
  },
  {
   "cell_type": "code",
   "execution_count": null,
   "id": "c0e75ad3-258c-48d0-94e1-704085c825c6",
   "metadata": {},
   "outputs": [],
   "source": [
    "#상관행렬 만들기\n",
    "#mtcars불러와서 상관행렬 만들자\n",
    "#mtcars는 자동차 32종의 11개 변수를 담고 있음\n",
    "mtcars = pd.read_csv('mtcars.csv')\n",
    "mtcars.head()"
   ]
  },
  {
   "cell_type": "code",
   "execution_count": null,
   "id": "662c4840-e38b-4127-b4ac-938fdf3ca306",
   "metadata": {},
   "outputs": [],
   "source": [
    "car_cor = mtcars.corr() #상관행렬 만들기\n",
    "car_cor = round(car_cor, 2) #소수점 둘째자리까지 반올림\n",
    "car_cor"
   ]
  },
  {
   "cell_type": "code",
   "execution_count": null,
   "id": "7a707b89-8199-475e-b65f-72a5728bf720",
   "metadata": {},
   "outputs": [],
   "source": [
    "#출력 결과,\n",
    "#mtcars의 변수들이 서로 얼마나 관련되는지 알 수 있음\n",
    "#mpg(연비)행과 cyl(실린더수)열이 교차되는 부분 보면, \n",
    "#상관계수가 -0.85이므로, 연비가 높을수록, 실린더수가 적은 경향이 있음\n",
    "\n",
    "#cyl(실린더수)과 wt(무게)의 상관계수가 0.78이므로, \n",
    "#실린더수가 많을수록 자동차가 더 무거운 경향이 있음"
   ]
  },
  {
   "cell_type": "code",
   "execution_count": null,
   "id": "05eb7996-1bd3-43d4-be22-4784464a1677",
   "metadata": {},
   "outputs": [],
   "source": []
  },
  {
   "cell_type": "code",
   "execution_count": null,
   "id": "667b82cc-19fc-4d58-b51e-57a0d9a34330",
   "metadata": {},
   "outputs": [],
   "source": [
    "#히트맵 만들기\n",
    "# : 여러 변수로 상관행렬을 만들면 출력된 값이 너무 많아서 관심있는 변수들의 관계를 파악하기 어려움\n",
    "# 이럴 때 값의 크기를 색깔로 표현한 히트맵을 만들면 변수들의 관계를 쉽게 파악 가능\n",
    "# seaborn패키지의 heatmap()을 이용하면 상관행렬로 히트맵 만들 수 있음"
   ]
  },
  {
   "cell_type": "code",
   "execution_count": null,
   "id": "5a09c663-e507-49b8-b618-772c2e46afd8",
   "metadata": {},
   "outputs": [],
   "source": [
    "import matplotlib.pyplot as plt\n",
    "plt.rcParams.update({\n",
    "    'figure.dpi' : '120', #해상도 설정\n",
    "    'figure.figsize' : [7.5,5.5] #가로 세로 크기 설정\n",
    "})"
   ]
  },
  {
   "cell_type": "code",
   "execution_count": null,
   "id": "82e0d8e1-c996-4e90-b0ab-0b01df460569",
   "metadata": {},
   "outputs": [],
   "source": [
    "#히트맵 만들기\n",
    "import seaborn as sns\n",
    "sns.heatmap(car_cor, \n",
    "           annot = True, #상관계수 표시\n",
    "           cmap = 'RdBu') #컬러맵"
   ]
  },
  {
   "cell_type": "code",
   "execution_count": null,
   "id": "42a9eca5-90ef-4876-99f0-c940d6d6ae2c",
   "metadata": {},
   "outputs": [],
   "source": [
    "#히트맵은 상관계수가 클수록 상자 색깔을 진하게 표현하고,\n",
    "#상관계수가 양수면 파란색, \n",
    "#음수면 빨간색 계열로 표현."
   ]
  },
  {
   "cell_type": "code",
   "execution_count": null,
   "id": "9474f944-8c03-4cf2-89dd-4865c6c1be86",
   "metadata": {},
   "outputs": [],
   "source": []
  },
  {
   "cell_type": "code",
   "execution_count": null,
   "id": "c36d6640-b71f-4073-90af-c59f58db017b",
   "metadata": {},
   "outputs": [],
   "source": [
    "#대각행렬 제거하기\n",
    "# : 상관행렬은 행과 열에 같은 변수가 나열되므로 앞에서 만든 히트맵은 대각선 기준으로\n",
    "# 왼쪽 아래와 오른쪽 위의 값이 대칭하여 중복됨.\n",
    "#sns.heatmap()의 mask를 이용해 중복된 부분을 제거하자"
   ]
  },
  {
   "cell_type": "code",
   "execution_count": null,
   "id": "cd0a164b-c503-43da-ba33-dca82fc597a3",
   "metadata": {},
   "outputs": [],
   "source": [
    "#mask만들기\n",
    "#:np.zeros_like()이용해서 상관행렬의 행과 열의 수만큼 0으로 채운 배열을 만듦\n",
    "import numpy as np\n",
    "mask = np.zeros_like(car_cor)\n",
    "mask"
   ]
  },
  {
   "cell_type": "code",
   "execution_count": null,
   "id": "b3b44539-bf6a-480d-bf82-5f9fb9264375",
   "metadata": {},
   "outputs": [],
   "source": [
    "#배열의 오른쪽 위 인덱스를 구하는 np.triu_indices_from()을 활용해서 \n",
    "#mask의 오른쪽 위 대각행렬을 1로 바꿈 \n",
    "mask[np.triu_indices_from(mask)] = 1\n",
    "mask"
   ]
  },
  {
   "cell_type": "code",
   "execution_count": null,
   "id": "450bd062-370e-4288-bc8f-a88020b6346e",
   "metadata": {},
   "outputs": [],
   "source": [
    "#히트맵에 mask적용하기\n",
    "#sns.heatmap()에 mask를 적용함.\n",
    "#출력된 히트맵을 보면 mask의 1에 해당하는 위치의 값이 제거되어 왼쪽 아래의 상관계수만 표현됨\n",
    "sns.heatmap(\n",
    "    data = car_cor, \n",
    "    annot = True, #상관계수 표시\n",
    "    cmap = 'RdBu', #컬러맵\n",
    "    mask = mask #mask적용\n",
    ")"
   ]
  },
  {
   "cell_type": "code",
   "execution_count": null,
   "id": "3ad6212d-74ad-419c-8f94-16c1d54c5e12",
   "metadata": {},
   "outputs": [],
   "source": [
    "#빈행과 열 제거하기\n",
    "#앞에서 만든 히트맵의 왼쪽 위mpg행과 오른쪽 아래 carb열에는 아무값도 표현되어 있지 않음\n",
    "#행과 열의 변수가 같아서 상관계수가 항상 1이 되는 위치이므로 값을 표현하지 않은것.\n",
    "#히트맵의 빈 행과 열을 제거하려면 mask와 상관행렬의 첫번째 행과 마지막 열을 제거한 다음\n",
    "#히트맵을 만들면 됨"
   ]
  },
  {
   "cell_type": "code",
   "execution_count": null,
   "id": "6f8ded99-a56b-41a0-a449-e23732f09073",
   "metadata": {},
   "outputs": [],
   "source": [
    "mask_new = mask[1: ,  :-1] #mask의 첫번째 행, 첫번째 열 제거\n",
    "cor_new = car_cor.iloc[1: ,  :-1] #상관행렬 첫 번째 행, 마지막 열 제거"
   ]
  },
  {
   "cell_type": "code",
   "execution_count": null,
   "id": "8eb42bb8-19bd-4576-9b0c-ad4c896f79d7",
   "metadata": {},
   "outputs": [],
   "source": [
    "#히트맵 만들기\n",
    "sns.heatmap(\n",
    "    data = cor_new,\n",
    "    annot = True, #상관계수 표시\n",
    "    cmap = 'RdBu', #컬러맵\n",
    "    mask = mask_new #mask 적용\n",
    ")"
   ]
  },
  {
   "cell_type": "code",
   "execution_count": null,
   "id": "09a8be9e-e557-4cf8-af19-00e9c241ca30",
   "metadata": {},
   "outputs": [],
   "source": [
    "#파라미터를 몇 가지 추가해 히트맵을 보기 좋게 수정하자\n",
    "sns.heatmap(\n",
    "    data = cor_new,\n",
    "    annot = True, #상관계수 표시\n",
    "    cmap = 'RdBu', #컬러맵\n",
    "    mask = mask_new, #mask 적용\n",
    "    linewidths = .5, #경계 구분선 추가\n",
    "    vmax = 1, #가장 진한 파란색으로 표현할 최대값\n",
    "    vmin = -1, #가장 진한 빨간색으로 표현할 최소값\n",
    "    cbar_kws = {'shrink': .5} #범례 크기 줄이기\n",
    ")"
   ]
  },
  {
   "cell_type": "code",
   "execution_count": null,
   "id": "954a9379-498c-4ab5-8d31-e0122deb60a7",
   "metadata": {},
   "outputs": [],
   "source": []
  }
 ],
 "metadata": {
  "kernelspec": {
   "display_name": "Python 3 (ipykernel)",
   "language": "python",
   "name": "python3"
  },
  "language_info": {
   "codemirror_mode": {
    "name": "ipython",
    "version": 3
   },
   "file_extension": ".py",
   "mimetype": "text/x-python",
   "name": "python",
   "nbconvert_exporter": "python",
   "pygments_lexer": "ipython3",
   "version": "3.12.4"
  }
 },
 "nbformat": 4,
 "nbformat_minor": 5
}
