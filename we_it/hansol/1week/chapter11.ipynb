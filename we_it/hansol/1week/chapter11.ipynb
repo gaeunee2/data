{
 "cells": [
  {
   "cell_type": "code",
   "execution_count": null,
   "id": "d30af67b-4fe9-4d76-8b8b-b131817d1c85",
   "metadata": {},
   "outputs": [],
   "source": [
    "#####11-1) 시군구별 인구 단계 구분도 만들기"
   ]
  },
  {
   "cell_type": "code",
   "execution_count": null,
   "id": "5cf990f2-44c8-491f-8fa0-cc1cc3803061",
   "metadata": {},
   "outputs": [],
   "source": [
    "##시군구 경계 지도 데이터 준비하기"
   ]
  },
  {
   "cell_type": "code",
   "execution_count": null,
   "id": "1a27b837-a857-4a66-8808-ee847cec3bfe",
   "metadata": {},
   "outputs": [],
   "source": [
    "import json"
   ]
  },
  {
   "cell_type": "code",
   "execution_count": null,
   "id": "0cd099ec-e5ee-4585-b3ff-80dd5a771e29",
   "metadata": {},
   "outputs": [],
   "source": [
    "geo = json.load(open('SIG.geojson', encoding = 'UTF-8'))"
   ]
  },
  {
   "cell_type": "code",
   "execution_count": null,
   "id": "6cbccc0e-eafb-46e0-a008-fbb639c35a4a",
   "metadata": {},
   "outputs": [],
   "source": [
    "#geo는 딕셔너리 자료구조로 되어 있음\n",
    "#geo의 properties에 들어있는 SIG-CD = 지역을 나타내는 행정 구역 코드 \n",
    "#geometry = 시군구의 경계를 나타낸 위도, 경도 좌표"
   ]
  },
  {
   "cell_type": "code",
   "execution_count": null,
   "id": "95bf4114-d12b-48a3-82ce-fc99e916508a",
   "metadata": {},
   "outputs": [],
   "source": [
    "#행정 구역 코드 출력\n",
    "geo['features'][0]['properties']"
   ]
  },
  {
   "cell_type": "code",
   "execution_count": null,
   "id": "7aab8be5-ed13-4f40-95a2-d85b44a59abf",
   "metadata": {
    "scrolled": true
   },
   "outputs": [],
   "source": [
    "#위도, 경도 좌표 출력\n",
    "geo['features'][0]['geometry']"
   ]
  },
  {
   "cell_type": "code",
   "execution_count": null,
   "id": "8b5ec597-ea0e-4e58-b999-50c13f2c4121",
   "metadata": {},
   "outputs": [],
   "source": [
    "##시군구별 인구 데이터 준비하기"
   ]
  },
  {
   "cell_type": "code",
   "execution_count": null,
   "id": "5b792cc7-6cd0-4b97-a04d-f33b48c79160",
   "metadata": {},
   "outputs": [],
   "source": [
    "import pandas as pd"
   ]
  },
  {
   "cell_type": "code",
   "execution_count": null,
   "id": "ad5772eb-7b83-4f7b-b1b8-52516cfbbe0d",
   "metadata": {},
   "outputs": [],
   "source": [
    "df_pop = pd.read_csv('Population_SIG.csv')"
   ]
  },
  {
   "cell_type": "code",
   "execution_count": null,
   "id": "001f52b0-d9ce-4c03-984f-88bdf165826c",
   "metadata": {},
   "outputs": [],
   "source": [
    "df_pop.head()"
   ]
  },
  {
   "cell_type": "code",
   "execution_count": null,
   "id": "9f93b26a-5035-42b7-9067-eafdcbf29ba8",
   "metadata": {},
   "outputs": [],
   "source": [
    "df_pop.info()"
   ]
  },
  {
   "cell_type": "code",
   "execution_count": null,
   "id": "7aa8c199-45b1-41a5-b1c3-3ba11c308176",
   "metadata": {},
   "outputs": [],
   "source": [
    "#df_pop의 정보\n",
    "#code = 시군구별 행정구역코드\n",
    "#region = 지역 이름\n",
    "#pop = 인구"
   ]
  },
  {
   "cell_type": "code",
   "execution_count": null,
   "id": "8596dd45-4a70-4476-88c3-946ac686235f",
   "metadata": {},
   "outputs": [],
   "source": [
    "#df_pop의 code는 정수형 데이터임\n",
    "#지도를 만드는데 활용하기 위해서는 문자 타입이어야 하므로 데이터 타입 바꿔주기\n",
    "df_pop['code'] = df_pop['code'].astype(str)"
   ]
  },
  {
   "cell_type": "code",
   "execution_count": null,
   "id": "0aae850f-ecca-4ab8-9031-e36b836ab0b3",
   "metadata": {},
   "outputs": [],
   "source": [
    "##단계 구분도 만들기"
   ]
  },
  {
   "cell_type": "code",
   "execution_count": null,
   "id": "ff15db74-6335-4d70-9c94-3c96dccd480f",
   "metadata": {},
   "outputs": [],
   "source": [
    "#1)배경 지도 만들기\n",
    "import folium"
   ]
  },
  {
   "cell_type": "code",
   "execution_count": null,
   "id": "f706fe80-97bf-4a53-8077-5ed69a70a650",
   "metadata": {},
   "outputs": [],
   "source": [
    "folium.Map(location = [35.95,127.7],  #지도의 중심 좌표 위도,경도 = 35.95,127.7\n",
    "          zoom_start = 8) #지도를 확대할 정도 = 8"
   ]
  },
  {
   "cell_type": "code",
   "execution_count": null,
   "id": "7182ab5f-029c-4fbb-9ecc-59fb9dbfbc9c",
   "metadata": {},
   "outputs": [],
   "source": [
    "map_sig = folium.Map(location = [35.95,127.7],\n",
    "                    zoom_start = 8,\n",
    "                    tiles = 'cartodbpositron') #지도 종류 // 밝은 색으로 설정"
   ]
  },
  {
   "cell_type": "code",
   "execution_count": null,
   "id": "28c202f3-adf6-4169-b545-c37207d8b650",
   "metadata": {},
   "outputs": [],
   "source": [
    "map_sig"
   ]
  },
  {
   "cell_type": "code",
   "execution_count": null,
   "id": "e07357da-b151-4e8c-97f8-f8eed21da940",
   "metadata": {},
   "outputs": [],
   "source": [
    "#2)단계 구분도 만들기"
   ]
  },
  {
   "cell_type": "code",
   "execution_count": null,
   "id": "62fbc47f-953d-4187-9615-be4ecc27f929",
   "metadata": {},
   "outputs": [],
   "source": [
    "folium.Choropleth(\n",
    "    geo_data = geo, #지도 데이터\n",
    "    data = df_pop, #통계 데이터\n",
    "    columns = ('code','pop'), #df_pop행정구역코드, 인구\n",
    "    key_on = 'feature.properties.SIG_CD' #geo행정구역코드\n",
    ").add_to(map_sig) #.add_to(map_sig)를 실행하면 시군구 경계가 표시된 지도가 출력됨"
   ]
  },
  {
   "cell_type": "code",
   "execution_count": null,
   "id": "3e743b13-ee56-41f4-be05-0392260e7405",
   "metadata": {},
   "outputs": [],
   "source": [
    "map_sig"
   ]
  },
  {
   "cell_type": "code",
   "execution_count": null,
   "id": "57e8020c-7d41-4470-bb66-a46aadbddbca",
   "metadata": {},
   "outputs": [],
   "source": [
    "#3)계급 구간 정하기"
   ]
  },
  {
   "cell_type": "code",
   "execution_count": null,
   "id": "bc63bbfc-2259-44d5-b8c1-cce758049e29",
   "metadata": {},
   "outputs": [],
   "source": [
    "bins = list(df_pop['pop'].quantile([0,0.2,0.4,0.6,0.8,1]))"
   ]
  },
  {
   "cell_type": "code",
   "execution_count": null,
   "id": "60f72306-3543-4615-bd4d-1794a627ab6a",
   "metadata": {},
   "outputs": [],
   "source": [
    "bins"
   ]
  },
  {
   "cell_type": "code",
   "execution_count": null,
   "id": "2ea38827-8275-49c6-8ac7-59d0ba909d02",
   "metadata": {},
   "outputs": [],
   "source": [
    "#4)디자인 수정하기"
   ]
  },
  {
   "cell_type": "code",
   "execution_count": null,
   "id": "ce11fe38-d423-4fa9-870a-3368dc279967",
   "metadata": {},
   "outputs": [],
   "source": [
    "#인구가 많을수록 파란색, 적을수록 노란색에 가깝게 표현해서 \n",
    "#시군구별 인구차이를 한눈에 알아보도록"
   ]
  },
  {
   "cell_type": "code",
   "execution_count": null,
   "id": "955c8a63-34a1-48c7-889b-642db5aa9884",
   "metadata": {},
   "outputs": [],
   "source": [
    "#배경지도 만들기\n",
    "map_sig = folium.Map(location = [35.95,127.7],\n",
    "                    zoom_start = 8,\n",
    "                    tiles = 'cartodbpositron')"
   ]
  },
  {
   "cell_type": "code",
   "execution_count": null,
   "id": "7bff3c7a-36b7-4e4f-9509-93bed5075165",
   "metadata": {},
   "outputs": [],
   "source": [
    "#단계 구분도 만들기\n",
    "folium.Choropleth(\n",
    "    geo_data = geo, #지도데이터\n",
    "    data = df_pop, #통계데이터\n",
    "    columns = ('code','pop'), #df_pop 행정구역코드, 인구\n",
    "    key_on = 'feature.properties.SIG_CD', #geo 행정구역 코드\n",
    "    fill_color = 'YlGnBu', #컬러맵\n",
    "    fill_opacity = 1, #투명도\n",
    "    line_opacity = 0.5, #경계선 투명도\n",
    "    bins = bins #계급 구간 기준값\n",
    ").add_to(map_sig) #배경 지도에 추가"
   ]
  },
  {
   "cell_type": "code",
   "execution_count": null,
   "id": "dcd5608d-063a-4307-a8c7-c71617b21866",
   "metadata": {},
   "outputs": [],
   "source": [
    "map_sig"
   ]
  },
  {
   "cell_type": "code",
   "execution_count": null,
   "id": "cfdf2848-2440-4313-a403-42357213c23d",
   "metadata": {},
   "outputs": [],
   "source": []
  },
  {
   "cell_type": "code",
   "execution_count": null,
   "id": "1a90600c-eecd-4286-8f5c-0ab5a1958c4e",
   "metadata": {},
   "outputs": [],
   "source": [
    "#####11-2) 서울시 동별 외국인 인구 단계 구분도 만들기"
   ]
  },
  {
   "cell_type": "code",
   "execution_count": null,
   "id": "135b600f-e9ca-4bd9-86bb-18c47996b50a",
   "metadata": {},
   "outputs": [],
   "source": [
    "#단계 구분도 : 최적의 장소를 정하는데 유용하게 활용 가능\n",
    "#ex) 지자체가 외국인의 생활을 돕는 시설을 지을 장소를 정한다면,\n",
    "#    지역별 외국인 인구를 나타낸 단계 구분도를 만들면 도움 됨"
   ]
  },
  {
   "cell_type": "code",
   "execution_count": null,
   "id": "1f48f8e9-c4c6-4717-818b-1020cc42a7d6",
   "metadata": {},
   "outputs": [],
   "source": [
    "#1) 서울시 동 경계 지도 데이터 준비하기"
   ]
  },
  {
   "cell_type": "code",
   "execution_count": null,
   "id": "125e194d-5ef6-445f-aa3d-671345432978",
   "metadata": {},
   "outputs": [],
   "source": [
    "geo_seoul = json.load(open('EMD_Seoul.geojson', encoding = 'UTF-8'))"
   ]
  },
  {
   "cell_type": "code",
   "execution_count": null,
   "id": "e087b9e6-8ab7-40a3-b796-be2e2e52ed08",
   "metadata": {},
   "outputs": [],
   "source": [
    "#EMD_Seoul.geojson파일 상세\n",
    "#서울시의 동별행정구역코드, 동 이름, 동 경계 위도/경도 좌표"
   ]
  },
  {
   "cell_type": "code",
   "execution_count": null,
   "id": "36744e26-b557-4bfc-a80d-19fffb6e07db",
   "metadata": {},
   "outputs": [],
   "source": [
    "#행정구역코드 출력\n",
    "geo_seoul['features'][0]['properties']\n",
    "#geo_seoul의 properties에 들어있는 ADM_DR_CD에 동을 나타내는 행정 구역 코드 담겨 있음"
   ]
  },
  {
   "cell_type": "code",
   "execution_count": null,
   "id": "b45f8961-d152-40be-9d59-82fa7da2abac",
   "metadata": {},
   "outputs": [],
   "source": [
    "#위도. 경도 좌표 출력\n",
    "geo_seoul['features'][0]['geometry']\n",
    "#geometry에 동별 경계를 나타낸 위도와 경도 좌표 담겨 있음"
   ]
  },
  {
   "cell_type": "code",
   "execution_count": null,
   "id": "c149ec50-9810-41ba-bdbd-455dbe5c6f64",
   "metadata": {},
   "outputs": [],
   "source": [
    "#2)서울시 동별 외국인 인구 데이터 준비하기"
   ]
  },
  {
   "cell_type": "code",
   "execution_count": null,
   "id": "886f17a7-5fe0-46f2-905f-662ff1295d6d",
   "metadata": {},
   "outputs": [],
   "source": [
    "foreigner = pd.read_csv('Foreigner_EMD_Seoul.csv')\n",
    "#2021년 서울시의 동별 행정 구역코드, 동이름, 외국인 코드 담은 정보"
   ]
  },
  {
   "cell_type": "code",
   "execution_count": null,
   "id": "dd08daa6-3470-45f4-b0ad-fc71c8d1f229",
   "metadata": {},
   "outputs": [],
   "source": [
    "foreigner.head()"
   ]
  },
  {
   "cell_type": "code",
   "execution_count": null,
   "id": "cfffd40f-a0b1-4e28-ae88-128bf27f811e",
   "metadata": {},
   "outputs": [],
   "source": [
    "foreigner.info()"
   ]
  },
  {
   "cell_type": "code",
   "execution_count": null,
   "id": "c661cfa3-a1f5-4339-85d0-a39e38223f55",
   "metadata": {},
   "outputs": [],
   "source": [
    "#행정구역코드를 나타낸 foreigner의 code는 정수형임.\n",
    "#문자 타입으로 바꾸자"
   ]
  },
  {
   "cell_type": "code",
   "execution_count": null,
   "id": "b05bd1e1-2296-4934-9995-3e424cb6b374",
   "metadata": {},
   "outputs": [],
   "source": [
    "foreigner['code'] = foreigner['code'].astype(str)"
   ]
  },
  {
   "cell_type": "code",
   "execution_count": null,
   "id": "2e6b6a37-08dc-4384-bc59-06140e238761",
   "metadata": {},
   "outputs": [],
   "source": [
    "#3)단계 구분도 만들기"
   ]
  },
  {
   "cell_type": "code",
   "execution_count": null,
   "id": "64328a7f-7366-450d-96c4-c7542ad84665",
   "metadata": {},
   "outputs": [],
   "source": [
    "#지역을 8단계로 나누도록 8개 계급 구간의 하한값, 상한값을 만들자\n",
    "bins = list(foreigner['pop'].quantile([0,0.2,0.4,0.5,0.6,0.7,0.8,0.9,1]))"
   ]
  },
  {
   "cell_type": "code",
   "execution_count": null,
   "id": "8ae74780-7883-4fb4-96c5-bd88ba85da16",
   "metadata": {},
   "outputs": [],
   "source": [
    "bins"
   ]
  },
  {
   "cell_type": "code",
   "execution_count": null,
   "id": "cb62c96a-7de0-4f8f-9a0e-a6863d3a9658",
   "metadata": {},
   "outputs": [],
   "source": [
    "#서울이 가운데에 오도록 배경지도를 만들고, 단계 구분도 추가\n",
    "#인구가 많을수록 진한 파란색으로 표현하도록 fill_color = 'Blues'입력\n",
    "#외국인 인구가 결측치인 지역은 흰색으로 표현하도록 nan_fill_color = 'White' 입력"
   ]
  },
  {
   "cell_type": "code",
   "execution_count": null,
   "id": "47bd9811-8d7c-44b3-a09c-261fc3a77b4a",
   "metadata": {},
   "outputs": [],
   "source": [
    "#배경지도 만들기\n",
    "map_seoul = folium.Map(location = [37.56,127], #서울 좌표\n",
    "                      zoom_start = 12, #확대 단계\n",
    "                      tiles = 'cartodbpositron') #지도 종류"
   ]
  },
  {
   "cell_type": "code",
   "execution_count": null,
   "id": "ccf5e95d-72cb-4762-b7f7-47fa6b5758e0",
   "metadata": {},
   "outputs": [],
   "source": [
    "#단계 구분도 만들기\n",
    "folium.Choropleth(\n",
    "    geo_data = geo_seoul, #지도 데이터\n",
    "    data = foreigner, #통계 데이터\n",
    "    columns = ('code','pop'), #foreigner 행정구역코드, 인구\n",
    "    key_on = 'feature.properties.ADM_DR_CD', #geo_seoul 행정구역코드\n",
    "    fill_color = 'Blues', #컬러맵\n",
    "    nan_fill_color = 'White', #결측치 색깔\n",
    "    fill_opacity = 1, #투명도\n",
    "    line_opacity = 0.5, #경계선 투명도\n",
    "    bins = bins #계급 구간 기준값\n",
    ")\\\n",
    ".add_to(map_seoul) #배경지도에추가"
   ]
  },
  {
   "cell_type": "code",
   "execution_count": null,
   "id": "4a532fcd-2d51-4a72-a5b7-430ea0ab0404",
   "metadata": {},
   "outputs": [],
   "source": [
    "map_seoul"
   ]
  },
  {
   "cell_type": "code",
   "execution_count": null,
   "id": "9c8291b4-f59e-40d9-b11f-fe3ac95b976a",
   "metadata": {},
   "outputs": [],
   "source": []
  },
  {
   "cell_type": "code",
   "execution_count": null,
   "id": "8b5242e3-fd62-46d8-be93-0dbc0cf58d96",
   "metadata": {},
   "outputs": [],
   "source": [
    "#4) 구 경계선 추가하기"
   ]
  },
  {
   "cell_type": "code",
   "execution_count": null,
   "id": "679fafe4-9e35-4527-9268-ecfe124f3941",
   "metadata": {},
   "outputs": [],
   "source": [
    "geo_seoul_sig = json.load(open('SIG_Seoul.geojson', encoding = 'UTF-8'))\n",
    "#SIG_Seoul.geojson은 서울시의 구 경계 좌표를 담은 파일"
   ]
  },
  {
   "cell_type": "code",
   "execution_count": null,
   "id": "e4324122-8b54-4291-a554-5fd3a6283238",
   "metadata": {},
   "outputs": [],
   "source": [
    "#서울시 구 경계선을 이용해 단계 구분도를 만든 다음,\n",
    "#앞에서 만든 지도에 추가하자"
   ]
  },
  {
   "cell_type": "code",
   "execution_count": null,
   "id": "3c75807a-beb9-4c99-8326-4ec3745c01ad",
   "metadata": {},
   "outputs": [],
   "source": [
    "#서울 구 라인 추가\n",
    "folium.Choropleth(geo_data = geo_seoul_sig, \n",
    "                 fill_opacity = 0, \n",
    "                 line_weight = 4).add_to(map_seoul) \n",
    "#(순서대로) 지도데이터\n",
    "# 투명도\n",
    "#선 두께 // 구 경계선을 두껍게 나타내도록\n",
    "#지도에 추가"
   ]
  },
  {
   "cell_type": "code",
   "execution_count": null,
   "id": "4a5fb834-9eb1-43e9-a975-160de8e6cc14",
   "metadata": {},
   "outputs": [],
   "source": [
    "map_seoul"
   ]
  },
  {
   "cell_type": "code",
   "execution_count": null,
   "id": "458f7f98-f672-4d87-b670-9bf1fbbc7330",
   "metadata": {},
   "outputs": [],
   "source": []
  }
 ],
 "metadata": {
  "kernelspec": {
   "display_name": "Python 3 (ipykernel)",
   "language": "python",
   "name": "python3"
  },
  "language_info": {
   "codemirror_mode": {
    "name": "ipython",
    "version": 3
   },
   "file_extension": ".py",
   "mimetype": "text/x-python",
   "name": "python",
   "nbconvert_exporter": "python",
   "pygments_lexer": "ipython3",
   "version": "3.12.4"
  }
 },
 "nbformat": 4,
 "nbformat_minor": 5
}
