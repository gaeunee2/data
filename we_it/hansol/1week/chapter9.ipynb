{
 "cells": [
  {
   "cell_type": "code",
   "execution_count": 347,
   "id": "fdf1e215-075b-430d-830c-5cbf8fb73839",
   "metadata": {},
   "outputs": [],
   "source": [
    "import pandas as pd"
   ]
  },
  {
   "cell_type": "code",
   "execution_count": 349,
   "id": "4d2ee0e7-c5eb-4daf-8e02-0e865dc52bcc",
   "metadata": {},
   "outputs": [],
   "source": [
    "import numpy as np"
   ]
  },
  {
   "cell_type": "code",
   "execution_count": 351,
   "id": "707170b5-95ac-4f9b-b50b-e085412180bd",
   "metadata": {},
   "outputs": [],
   "source": [
    "import seaborn as sns"
   ]
  },
  {
   "cell_type": "code",
   "execution_count": 353,
   "id": "87b907d2-60e7-4155-8ee9-f0f18050994e",
   "metadata": {},
   "outputs": [],
   "source": [
    "#데이터 불러오기\n",
    "raw_welfare = pd.read_spss('Koweps_hpwc14_2019_beta2.sav')"
   ]
  },
  {
   "cell_type": "code",
   "execution_count": 354,
   "id": "74fe0f04-32e5-4e9d-93e9-5a24fc569075",
   "metadata": {},
   "outputs": [],
   "source": [
    "#복사본 만들기\n",
    "welfare = raw_welfare.copy()"
   ]
  },
  {
   "cell_type": "code",
   "execution_count": 355,
   "id": "f679e41c-fad4-4b45-964e-05b19d00cccc",
   "metadata": {},
   "outputs": [
    {
     "data": {
      "text/html": [
       "<div>\n",
       "<style scoped>\n",
       "    .dataframe tbody tr th:only-of-type {\n",
       "        vertical-align: middle;\n",
       "    }\n",
       "\n",
       "    .dataframe tbody tr th {\n",
       "        vertical-align: top;\n",
       "    }\n",
       "\n",
       "    .dataframe thead th {\n",
       "        text-align: right;\n",
       "    }\n",
       "</style>\n",
       "<table border=\"1\" class=\"dataframe\">\n",
       "  <thead>\n",
       "    <tr style=\"text-align: right;\">\n",
       "      <th></th>\n",
       "      <th>h14_id</th>\n",
       "      <th>h14_ind</th>\n",
       "      <th>h14_sn</th>\n",
       "      <th>h14_merkey</th>\n",
       "      <th>h_new</th>\n",
       "      <th>h14_cobf</th>\n",
       "      <th>p14_wsc</th>\n",
       "      <th>p14_wsl</th>\n",
       "      <th>p14_wgc</th>\n",
       "      <th>p14_wgl</th>\n",
       "      <th>...</th>\n",
       "      <th>wc14_64</th>\n",
       "      <th>wc14_65</th>\n",
       "      <th>wc14_5aq4</th>\n",
       "      <th>wc14_5aq5</th>\n",
       "      <th>wc14_5aq6</th>\n",
       "      <th>h14_pers_income1</th>\n",
       "      <th>h14_pers_income2</th>\n",
       "      <th>h14_pers_income3</th>\n",
       "      <th>h14_pers_income4</th>\n",
       "      <th>h14_pers_income5</th>\n",
       "    </tr>\n",
       "  </thead>\n",
       "  <tbody>\n",
       "    <tr>\n",
       "      <th>0</th>\n",
       "      <td>2.0</td>\n",
       "      <td>1.0</td>\n",
       "      <td>1.0</td>\n",
       "      <td>20101.0</td>\n",
       "      <td>0.0</td>\n",
       "      <td>NaN</td>\n",
       "      <td>0.291589</td>\n",
       "      <td>0.291589</td>\n",
       "      <td>1307.764781</td>\n",
       "      <td>1307.764781</td>\n",
       "      <td>...</td>\n",
       "      <td>NaN</td>\n",
       "      <td></td>\n",
       "      <td>NaN</td>\n",
       "      <td>NaN</td>\n",
       "      <td>NaN</td>\n",
       "      <td>NaN</td>\n",
       "      <td>NaN</td>\n",
       "      <td>NaN</td>\n",
       "      <td>0.0</td>\n",
       "      <td>NaN</td>\n",
       "    </tr>\n",
       "    <tr>\n",
       "      <th>1</th>\n",
       "      <td>3.0</td>\n",
       "      <td>1.0</td>\n",
       "      <td>1.0</td>\n",
       "      <td>30101.0</td>\n",
       "      <td>0.0</td>\n",
       "      <td>NaN</td>\n",
       "      <td>0.419753</td>\n",
       "      <td>0.419753</td>\n",
       "      <td>1882.570960</td>\n",
       "      <td>1882.570960</td>\n",
       "      <td>...</td>\n",
       "      <td>NaN</td>\n",
       "      <td></td>\n",
       "      <td>NaN</td>\n",
       "      <td>NaN</td>\n",
       "      <td>NaN</td>\n",
       "      <td>NaN</td>\n",
       "      <td>NaN</td>\n",
       "      <td>NaN</td>\n",
       "      <td>0.0</td>\n",
       "      <td>NaN</td>\n",
       "    </tr>\n",
       "    <tr>\n",
       "      <th>2</th>\n",
       "      <td>4.0</td>\n",
       "      <td>1.0</td>\n",
       "      <td>1.0</td>\n",
       "      <td>40101.0</td>\n",
       "      <td>0.0</td>\n",
       "      <td>NaN</td>\n",
       "      <td>0.265263</td>\n",
       "      <td>0.265980</td>\n",
       "      <td>1189.691668</td>\n",
       "      <td>1192.908537</td>\n",
       "      <td>...</td>\n",
       "      <td>NaN</td>\n",
       "      <td></td>\n",
       "      <td>NaN</td>\n",
       "      <td>NaN</td>\n",
       "      <td>NaN</td>\n",
       "      <td>NaN</td>\n",
       "      <td>1284.0</td>\n",
       "      <td>NaN</td>\n",
       "      <td>0.0</td>\n",
       "      <td>NaN</td>\n",
       "    </tr>\n",
       "    <tr>\n",
       "      <th>3</th>\n",
       "      <td>6.0</td>\n",
       "      <td>1.0</td>\n",
       "      <td>1.0</td>\n",
       "      <td>60101.0</td>\n",
       "      <td>0.0</td>\n",
       "      <td>NaN</td>\n",
       "      <td>0.494906</td>\n",
       "      <td>0.495941</td>\n",
       "      <td>2219.630833</td>\n",
       "      <td>2224.273816</td>\n",
       "      <td>...</td>\n",
       "      <td>1.0</td>\n",
       "      <td>.</td>\n",
       "      <td>2.0</td>\n",
       "      <td>4.0</td>\n",
       "      <td>4.0</td>\n",
       "      <td>2304.0</td>\n",
       "      <td>NaN</td>\n",
       "      <td>1800.0</td>\n",
       "      <td>0.0</td>\n",
       "      <td>NaN</td>\n",
       "    </tr>\n",
       "    <tr>\n",
       "      <th>4</th>\n",
       "      <td>6.0</td>\n",
       "      <td>1.0</td>\n",
       "      <td>1.0</td>\n",
       "      <td>60101.0</td>\n",
       "      <td>0.0</td>\n",
       "      <td>NaN</td>\n",
       "      <td>1.017935</td>\n",
       "      <td>1.017935</td>\n",
       "      <td>4565.389177</td>\n",
       "      <td>4565.389177</td>\n",
       "      <td>...</td>\n",
       "      <td>1.0</td>\n",
       "      <td>.</td>\n",
       "      <td>1.0</td>\n",
       "      <td>5.0</td>\n",
       "      <td>2.0</td>\n",
       "      <td>NaN</td>\n",
       "      <td>NaN</td>\n",
       "      <td>NaN</td>\n",
       "      <td>0.0</td>\n",
       "      <td>NaN</td>\n",
       "    </tr>\n",
       "    <tr>\n",
       "      <th>...</th>\n",
       "      <td>...</td>\n",
       "      <td>...</td>\n",
       "      <td>...</td>\n",
       "      <td>...</td>\n",
       "      <td>...</td>\n",
       "      <td>...</td>\n",
       "      <td>...</td>\n",
       "      <td>...</td>\n",
       "      <td>...</td>\n",
       "      <td>...</td>\n",
       "      <td>...</td>\n",
       "      <td>...</td>\n",
       "      <td>...</td>\n",
       "      <td>...</td>\n",
       "      <td>...</td>\n",
       "      <td>...</td>\n",
       "      <td>...</td>\n",
       "      <td>...</td>\n",
       "      <td>...</td>\n",
       "      <td>...</td>\n",
       "      <td>...</td>\n",
       "    </tr>\n",
       "    <tr>\n",
       "      <th>14413</th>\n",
       "      <td>9800.0</td>\n",
       "      <td>7.0</td>\n",
       "      <td>1.0</td>\n",
       "      <td>98000701.0</td>\n",
       "      <td>1.0</td>\n",
       "      <td>NaN</td>\n",
       "      <td>NaN</td>\n",
       "      <td>NaN</td>\n",
       "      <td>NaN</td>\n",
       "      <td>NaN</td>\n",
       "      <td>...</td>\n",
       "      <td>NaN</td>\n",
       "      <td></td>\n",
       "      <td>NaN</td>\n",
       "      <td>NaN</td>\n",
       "      <td>NaN</td>\n",
       "      <td>NaN</td>\n",
       "      <td>NaN</td>\n",
       "      <td>NaN</td>\n",
       "      <td>0.0</td>\n",
       "      <td>NaN</td>\n",
       "    </tr>\n",
       "    <tr>\n",
       "      <th>14414</th>\n",
       "      <td>9800.0</td>\n",
       "      <td>7.0</td>\n",
       "      <td>1.0</td>\n",
       "      <td>98000701.0</td>\n",
       "      <td>1.0</td>\n",
       "      <td>NaN</td>\n",
       "      <td>NaN</td>\n",
       "      <td>NaN</td>\n",
       "      <td>NaN</td>\n",
       "      <td>NaN</td>\n",
       "      <td>...</td>\n",
       "      <td>NaN</td>\n",
       "      <td></td>\n",
       "      <td>NaN</td>\n",
       "      <td>NaN</td>\n",
       "      <td>NaN</td>\n",
       "      <td>NaN</td>\n",
       "      <td>NaN</td>\n",
       "      <td>NaN</td>\n",
       "      <td>0.0</td>\n",
       "      <td>NaN</td>\n",
       "    </tr>\n",
       "    <tr>\n",
       "      <th>14415</th>\n",
       "      <td>9800.0</td>\n",
       "      <td>7.0</td>\n",
       "      <td>1.0</td>\n",
       "      <td>98000701.0</td>\n",
       "      <td>1.0</td>\n",
       "      <td>NaN</td>\n",
       "      <td>NaN</td>\n",
       "      <td>NaN</td>\n",
       "      <td>NaN</td>\n",
       "      <td>NaN</td>\n",
       "      <td>...</td>\n",
       "      <td>NaN</td>\n",
       "      <td></td>\n",
       "      <td>NaN</td>\n",
       "      <td>NaN</td>\n",
       "      <td>NaN</td>\n",
       "      <td>NaN</td>\n",
       "      <td>208.0</td>\n",
       "      <td>NaN</td>\n",
       "      <td>0.0</td>\n",
       "      <td>NaN</td>\n",
       "    </tr>\n",
       "    <tr>\n",
       "      <th>14416</th>\n",
       "      <td>9800.0</td>\n",
       "      <td>7.0</td>\n",
       "      <td>1.0</td>\n",
       "      <td>98000701.0</td>\n",
       "      <td>1.0</td>\n",
       "      <td>NaN</td>\n",
       "      <td>NaN</td>\n",
       "      <td>NaN</td>\n",
       "      <td>NaN</td>\n",
       "      <td>NaN</td>\n",
       "      <td>...</td>\n",
       "      <td>5.0</td>\n",
       "      <td>.</td>\n",
       "      <td>4.0</td>\n",
       "      <td>3.0</td>\n",
       "      <td>3.0</td>\n",
       "      <td>NaN</td>\n",
       "      <td>1200.0</td>\n",
       "      <td>NaN</td>\n",
       "      <td>0.0</td>\n",
       "      <td>NaN</td>\n",
       "    </tr>\n",
       "    <tr>\n",
       "      <th>14417</th>\n",
       "      <td>9800.0</td>\n",
       "      <td>7.0</td>\n",
       "      <td>1.0</td>\n",
       "      <td>98000701.0</td>\n",
       "      <td>1.0</td>\n",
       "      <td>NaN</td>\n",
       "      <td>NaN</td>\n",
       "      <td>NaN</td>\n",
       "      <td>NaN</td>\n",
       "      <td>NaN</td>\n",
       "      <td>...</td>\n",
       "      <td>NaN</td>\n",
       "      <td></td>\n",
       "      <td>NaN</td>\n",
       "      <td>NaN</td>\n",
       "      <td>NaN</td>\n",
       "      <td>NaN</td>\n",
       "      <td>NaN</td>\n",
       "      <td>NaN</td>\n",
       "      <td>0.0</td>\n",
       "      <td>NaN</td>\n",
       "    </tr>\n",
       "  </tbody>\n",
       "</table>\n",
       "<p>14418 rows × 830 columns</p>\n",
       "</div>"
      ],
      "text/plain": [
       "       h14_id  h14_ind  h14_sn  h14_merkey  h_new  h14_cobf   p14_wsc  \\\n",
       "0         2.0      1.0     1.0     20101.0    0.0       NaN  0.291589   \n",
       "1         3.0      1.0     1.0     30101.0    0.0       NaN  0.419753   \n",
       "2         4.0      1.0     1.0     40101.0    0.0       NaN  0.265263   \n",
       "3         6.0      1.0     1.0     60101.0    0.0       NaN  0.494906   \n",
       "4         6.0      1.0     1.0     60101.0    0.0       NaN  1.017935   \n",
       "...       ...      ...     ...         ...    ...       ...       ...   \n",
       "14413  9800.0      7.0     1.0  98000701.0    1.0       NaN       NaN   \n",
       "14414  9800.0      7.0     1.0  98000701.0    1.0       NaN       NaN   \n",
       "14415  9800.0      7.0     1.0  98000701.0    1.0       NaN       NaN   \n",
       "14416  9800.0      7.0     1.0  98000701.0    1.0       NaN       NaN   \n",
       "14417  9800.0      7.0     1.0  98000701.0    1.0       NaN       NaN   \n",
       "\n",
       "        p14_wsl      p14_wgc      p14_wgl  ...  wc14_64  wc14_65  wc14_5aq4  \\\n",
       "0      0.291589  1307.764781  1307.764781  ...      NaN                 NaN   \n",
       "1      0.419753  1882.570960  1882.570960  ...      NaN                 NaN   \n",
       "2      0.265980  1189.691668  1192.908537  ...      NaN                 NaN   \n",
       "3      0.495941  2219.630833  2224.273816  ...      1.0        .        2.0   \n",
       "4      1.017935  4565.389177  4565.389177  ...      1.0        .        1.0   \n",
       "...         ...          ...          ...  ...      ...      ...        ...   \n",
       "14413       NaN          NaN          NaN  ...      NaN                 NaN   \n",
       "14414       NaN          NaN          NaN  ...      NaN                 NaN   \n",
       "14415       NaN          NaN          NaN  ...      NaN                 NaN   \n",
       "14416       NaN          NaN          NaN  ...      5.0        .        4.0   \n",
       "14417       NaN          NaN          NaN  ...      NaN                 NaN   \n",
       "\n",
       "       wc14_5aq5  wc14_5aq6  h14_pers_income1  h14_pers_income2  \\\n",
       "0            NaN        NaN               NaN               NaN   \n",
       "1            NaN        NaN               NaN               NaN   \n",
       "2            NaN        NaN               NaN            1284.0   \n",
       "3            4.0        4.0            2304.0               NaN   \n",
       "4            5.0        2.0               NaN               NaN   \n",
       "...          ...        ...               ...               ...   \n",
       "14413        NaN        NaN               NaN               NaN   \n",
       "14414        NaN        NaN               NaN               NaN   \n",
       "14415        NaN        NaN               NaN             208.0   \n",
       "14416        3.0        3.0               NaN            1200.0   \n",
       "14417        NaN        NaN               NaN               NaN   \n",
       "\n",
       "       h14_pers_income3  h14_pers_income4  h14_pers_income5  \n",
       "0                   NaN               0.0               NaN  \n",
       "1                   NaN               0.0               NaN  \n",
       "2                   NaN               0.0               NaN  \n",
       "3                1800.0               0.0               NaN  \n",
       "4                   NaN               0.0               NaN  \n",
       "...                 ...               ...               ...  \n",
       "14413               NaN               0.0               NaN  \n",
       "14414               NaN               0.0               NaN  \n",
       "14415               NaN               0.0               NaN  \n",
       "14416               NaN               0.0               NaN  \n",
       "14417               NaN               0.0               NaN  \n",
       "\n",
       "[14418 rows x 830 columns]"
      ]
     },
     "execution_count": 355,
     "metadata": {},
     "output_type": "execute_result"
    }
   ],
   "source": [
    "welfare #앞부분, 뒷부분 출력"
   ]
  },
  {
   "cell_type": "code",
   "execution_count": 356,
   "id": "f7d544c9-0c07-4395-a317-64a46373cde5",
   "metadata": {},
   "outputs": [
    {
     "data": {
      "text/plain": [
       "(14418, 830)"
      ]
     },
     "execution_count": 356,
     "metadata": {},
     "output_type": "execute_result"
    }
   ],
   "source": [
    "welfare.shape #행, 열 개수 출력"
   ]
  },
  {
   "cell_type": "code",
   "execution_count": 357,
   "id": "cf9d038a-7a5d-4ae2-814f-7faac734ed11",
   "metadata": {},
   "outputs": [
    {
     "name": "stdout",
     "output_type": "stream",
     "text": [
      "<class 'pandas.core.frame.DataFrame'>\n",
      "RangeIndex: 14418 entries, 0 to 14417\n",
      "Columns: 830 entries, h14_id to h14_pers_income5\n",
      "dtypes: float64(826), object(4)\n",
      "memory usage: 91.3+ MB\n"
     ]
    }
   ],
   "source": [
    "welfare.info() #변수 속성 출력"
   ]
  },
  {
   "cell_type": "code",
   "execution_count": 518,
   "id": "c1e0a0ee-e1b3-4de6-831f-6570e5aa83db",
   "metadata": {},
   "outputs": [
    {
     "data": {
      "text/html": [
       "<div>\n",
       "<style scoped>\n",
       "    .dataframe tbody tr th:only-of-type {\n",
       "        vertical-align: middle;\n",
       "    }\n",
       "\n",
       "    .dataframe tbody tr th {\n",
       "        vertical-align: top;\n",
       "    }\n",
       "\n",
       "    .dataframe thead th {\n",
       "        text-align: right;\n",
       "    }\n",
       "</style>\n",
       "<table border=\"1\" class=\"dataframe\">\n",
       "  <thead>\n",
       "    <tr style=\"text-align: right;\">\n",
       "      <th></th>\n",
       "      <th>h14_id</th>\n",
       "      <th>h14_ind</th>\n",
       "      <th>h14_sn</th>\n",
       "      <th>h14_merkey</th>\n",
       "      <th>h_new</th>\n",
       "      <th>h14_cobf</th>\n",
       "      <th>p14_wsc</th>\n",
       "      <th>p14_wsl</th>\n",
       "      <th>p14_wgc</th>\n",
       "      <th>p14_wgl</th>\n",
       "      <th>...</th>\n",
       "      <th>wc14_64</th>\n",
       "      <th>wc14_5aq4</th>\n",
       "      <th>wc14_5aq5</th>\n",
       "      <th>wc14_5aq6</th>\n",
       "      <th>h14_pers_income1</th>\n",
       "      <th>h14_pers_income2</th>\n",
       "      <th>h14_pers_income3</th>\n",
       "      <th>h14_pers_income4</th>\n",
       "      <th>h14_pers_income5</th>\n",
       "      <th>age</th>\n",
       "    </tr>\n",
       "  </thead>\n",
       "  <tbody>\n",
       "    <tr>\n",
       "      <th>count</th>\n",
       "      <td>14418.000000</td>\n",
       "      <td>14418.000000</td>\n",
       "      <td>14418.000000</td>\n",
       "      <td>1.441800e+04</td>\n",
       "      <td>14418.000000</td>\n",
       "      <td>121.000000</td>\n",
       "      <td>11513.000000</td>\n",
       "      <td>11513.000000</td>\n",
       "      <td>11513.000000</td>\n",
       "      <td>11513.000000</td>\n",
       "      <td>...</td>\n",
       "      <td>2027.000000</td>\n",
       "      <td>2027.000000</td>\n",
       "      <td>2027.000000</td>\n",
       "      <td>2027.000000</td>\n",
       "      <td>2659.000000</td>\n",
       "      <td>3331.000000</td>\n",
       "      <td>989.000000</td>\n",
       "      <td>14418.000000</td>\n",
       "      <td>715.000000</td>\n",
       "      <td>14418.000000</td>\n",
       "    </tr>\n",
       "    <tr>\n",
       "      <th>mean</th>\n",
       "      <td>4672.108406</td>\n",
       "      <td>3.121723</td>\n",
       "      <td>1.004855</td>\n",
       "      <td>4.672140e+07</td>\n",
       "      <td>0.201484</td>\n",
       "      <td>2.256198</td>\n",
       "      <td>1.000000</td>\n",
       "      <td>1.000000</td>\n",
       "      <td>4484.952219</td>\n",
       "      <td>4484.952541</td>\n",
       "      <td>...</td>\n",
       "      <td>3.743957</td>\n",
       "      <td>3.513567</td>\n",
       "      <td>4.100641</td>\n",
       "      <td>3.233350</td>\n",
       "      <td>4141.380594</td>\n",
       "      <td>1389.440408</td>\n",
       "      <td>3457.835187</td>\n",
       "      <td>2.038702</td>\n",
       "      <td>1183.292308</td>\n",
       "      <td>50.719795</td>\n",
       "    </tr>\n",
       "    <tr>\n",
       "      <th>std</th>\n",
       "      <td>2792.998128</td>\n",
       "      <td>3.297963</td>\n",
       "      <td>0.143205</td>\n",
       "      <td>2.793014e+07</td>\n",
       "      <td>0.401123</td>\n",
       "      <td>1.675952</td>\n",
       "      <td>0.906021</td>\n",
       "      <td>1.016782</td>\n",
       "      <td>4063.459773</td>\n",
       "      <td>4560.218659</td>\n",
       "      <td>...</td>\n",
       "      <td>3.138629</td>\n",
       "      <td>1.045929</td>\n",
       "      <td>0.937712</td>\n",
       "      <td>1.289456</td>\n",
       "      <td>2583.755449</td>\n",
       "      <td>1211.910836</td>\n",
       "      <td>6619.516319</td>\n",
       "      <td>32.965477</td>\n",
       "      <td>2147.418274</td>\n",
       "      <td>24.402250</td>\n",
       "    </tr>\n",
       "    <tr>\n",
       "      <th>min</th>\n",
       "      <td>2.000000</td>\n",
       "      <td>1.000000</td>\n",
       "      <td>1.000000</td>\n",
       "      <td>2.010100e+04</td>\n",
       "      <td>0.000000</td>\n",
       "      <td>1.000000</td>\n",
       "      <td>0.001998</td>\n",
       "      <td>0.000000</td>\n",
       "      <td>8.960093</td>\n",
       "      <td>0.000000</td>\n",
       "      <td>...</td>\n",
       "      <td>1.000000</td>\n",
       "      <td>1.000000</td>\n",
       "      <td>1.000000</td>\n",
       "      <td>1.000000</td>\n",
       "      <td>0.000000</td>\n",
       "      <td>0.000000</td>\n",
       "      <td>-47000.000000</td>\n",
       "      <td>0.000000</td>\n",
       "      <td>-10600.000000</td>\n",
       "      <td>2.000000</td>\n",
       "    </tr>\n",
       "    <tr>\n",
       "      <th>25%</th>\n",
       "      <td>2356.000000</td>\n",
       "      <td>1.000000</td>\n",
       "      <td>1.000000</td>\n",
       "      <td>2.356030e+07</td>\n",
       "      <td>0.000000</td>\n",
       "      <td>1.000000</td>\n",
       "      <td>0.341814</td>\n",
       "      <td>0.269286</td>\n",
       "      <td>1533.021553</td>\n",
       "      <td>1207.736094</td>\n",
       "      <td>...</td>\n",
       "      <td>2.000000</td>\n",
       "      <td>3.000000</td>\n",
       "      <td>4.000000</td>\n",
       "      <td>2.000000</td>\n",
       "      <td>2448.000000</td>\n",
       "      <td>391.500000</td>\n",
       "      <td>1000.000000</td>\n",
       "      <td>0.000000</td>\n",
       "      <td>206.000000</td>\n",
       "      <td>30.000000</td>\n",
       "    </tr>\n",
       "    <tr>\n",
       "      <th>50%</th>\n",
       "      <td>4535.000000</td>\n",
       "      <td>1.000000</td>\n",
       "      <td>1.000000</td>\n",
       "      <td>4.535010e+07</td>\n",
       "      <td>0.000000</td>\n",
       "      <td>2.000000</td>\n",
       "      <td>0.726304</td>\n",
       "      <td>0.704045</td>\n",
       "      <td>3257.436901</td>\n",
       "      <td>3157.609630</td>\n",
       "      <td>...</td>\n",
       "      <td>3.000000</td>\n",
       "      <td>4.000000</td>\n",
       "      <td>4.000000</td>\n",
       "      <td>3.000000</td>\n",
       "      <td>3540.000000</td>\n",
       "      <td>1116.000000</td>\n",
       "      <td>2498.000000</td>\n",
       "      <td>0.000000</td>\n",
       "      <td>530.000000</td>\n",
       "      <td>52.000000</td>\n",
       "    </tr>\n",
       "    <tr>\n",
       "      <th>75%</th>\n",
       "      <td>6616.000000</td>\n",
       "      <td>7.000000</td>\n",
       "      <td>1.000000</td>\n",
       "      <td>6.616010e+07</td>\n",
       "      <td>0.000000</td>\n",
       "      <td>2.000000</td>\n",
       "      <td>1.366071</td>\n",
       "      <td>1.390045</td>\n",
       "      <td>6126.762919</td>\n",
       "      <td>6234.287538</td>\n",
       "      <td>...</td>\n",
       "      <td>5.000000</td>\n",
       "      <td>4.000000</td>\n",
       "      <td>5.000000</td>\n",
       "      <td>4.000000</td>\n",
       "      <td>5378.500000</td>\n",
       "      <td>2040.000000</td>\n",
       "      <td>4687.000000</td>\n",
       "      <td>0.000000</td>\n",
       "      <td>1295.000000</td>\n",
       "      <td>72.000000</td>\n",
       "    </tr>\n",
       "    <tr>\n",
       "      <th>max</th>\n",
       "      <td>9800.000000</td>\n",
       "      <td>14.000000</td>\n",
       "      <td>9.000000</td>\n",
       "      <td>9.800070e+07</td>\n",
       "      <td>1.000000</td>\n",
       "      <td>7.000000</td>\n",
       "      <td>4.727006</td>\n",
       "      <td>5.790039</td>\n",
       "      <td>21200.393903</td>\n",
       "      <td>25968.049029</td>\n",
       "      <td>...</td>\n",
       "      <td>99.000000</td>\n",
       "      <td>9.000000</td>\n",
       "      <td>9.000000</td>\n",
       "      <td>9.000000</td>\n",
       "      <td>22700.000000</td>\n",
       "      <td>11500.000000</td>\n",
       "      <td>170000.000000</td>\n",
       "      <td>3000.000000</td>\n",
       "      <td>22644.000000</td>\n",
       "      <td>113.000000</td>\n",
       "    </tr>\n",
       "  </tbody>\n",
       "</table>\n",
       "<p>8 rows × 825 columns</p>\n",
       "</div>"
      ],
      "text/plain": [
       "             h14_id       h14_ind        h14_sn    h14_merkey         h_new  \\\n",
       "count  14418.000000  14418.000000  14418.000000  1.441800e+04  14418.000000   \n",
       "mean    4672.108406      3.121723      1.004855  4.672140e+07      0.201484   \n",
       "std     2792.998128      3.297963      0.143205  2.793014e+07      0.401123   \n",
       "min        2.000000      1.000000      1.000000  2.010100e+04      0.000000   \n",
       "25%     2356.000000      1.000000      1.000000  2.356030e+07      0.000000   \n",
       "50%     4535.000000      1.000000      1.000000  4.535010e+07      0.000000   \n",
       "75%     6616.000000      7.000000      1.000000  6.616010e+07      0.000000   \n",
       "max     9800.000000     14.000000      9.000000  9.800070e+07      1.000000   \n",
       "\n",
       "         h14_cobf       p14_wsc       p14_wsl       p14_wgc       p14_wgl  \\\n",
       "count  121.000000  11513.000000  11513.000000  11513.000000  11513.000000   \n",
       "mean     2.256198      1.000000      1.000000   4484.952219   4484.952541   \n",
       "std      1.675952      0.906021      1.016782   4063.459773   4560.218659   \n",
       "min      1.000000      0.001998      0.000000      8.960093      0.000000   \n",
       "25%      1.000000      0.341814      0.269286   1533.021553   1207.736094   \n",
       "50%      2.000000      0.726304      0.704045   3257.436901   3157.609630   \n",
       "75%      2.000000      1.366071      1.390045   6126.762919   6234.287538   \n",
       "max      7.000000      4.727006      5.790039  21200.393903  25968.049029   \n",
       "\n",
       "       ...      wc14_64    wc14_5aq4    wc14_5aq5    wc14_5aq6  \\\n",
       "count  ...  2027.000000  2027.000000  2027.000000  2027.000000   \n",
       "mean   ...     3.743957     3.513567     4.100641     3.233350   \n",
       "std    ...     3.138629     1.045929     0.937712     1.289456   \n",
       "min    ...     1.000000     1.000000     1.000000     1.000000   \n",
       "25%    ...     2.000000     3.000000     4.000000     2.000000   \n",
       "50%    ...     3.000000     4.000000     4.000000     3.000000   \n",
       "75%    ...     5.000000     4.000000     5.000000     4.000000   \n",
       "max    ...    99.000000     9.000000     9.000000     9.000000   \n",
       "\n",
       "       h14_pers_income1  h14_pers_income2  h14_pers_income3  h14_pers_income4  \\\n",
       "count       2659.000000       3331.000000        989.000000      14418.000000   \n",
       "mean        4141.380594       1389.440408       3457.835187          2.038702   \n",
       "std         2583.755449       1211.910836       6619.516319         32.965477   \n",
       "min            0.000000          0.000000     -47000.000000          0.000000   \n",
       "25%         2448.000000        391.500000       1000.000000          0.000000   \n",
       "50%         3540.000000       1116.000000       2498.000000          0.000000   \n",
       "75%         5378.500000       2040.000000       4687.000000          0.000000   \n",
       "max        22700.000000      11500.000000     170000.000000       3000.000000   \n",
       "\n",
       "       h14_pers_income5           age  \n",
       "count        715.000000  14418.000000  \n",
       "mean        1183.292308     50.719795  \n",
       "std         2147.418274     24.402250  \n",
       "min       -10600.000000      2.000000  \n",
       "25%          206.000000     30.000000  \n",
       "50%          530.000000     52.000000  \n",
       "75%         1295.000000     72.000000  \n",
       "max        22644.000000    113.000000  \n",
       "\n",
       "[8 rows x 825 columns]"
      ]
     },
     "execution_count": 518,
     "metadata": {},
     "output_type": "execute_result"
    }
   ],
   "source": [
    "welfare.describe() #요약 통계량"
   ]
  },
  {
   "cell_type": "code",
   "execution_count": 519,
   "id": "2771bee6-2d16-4532-993d-d32cdd393a3e",
   "metadata": {},
   "outputs": [],
   "source": [
    "# 변수명을 알아보기 쉬운 단어로 변경\n",
    "welfare = welfare.rename(\n",
    "    columns = {\n",
    "        'h14_g3' : 'sex', #성별\n",
    "        'h14_g4' : 'birth', #태어난 연도\n",
    "        'h14_g10' : 'marriage_type', #혼인 상태\n",
    "        'h14_g11' : 'religion', #종교\n",
    "        'p1402_8aq1' : 'income', #월급\n",
    "        'h14_eco9' : 'code_job', #직업 코드\n",
    "        'h14_reg7' : 'code_region' #지역 코드\n",
    "    }\n",
    ")"
   ]
  },
  {
   "cell_type": "code",
   "execution_count": null,
   "id": "374d89a3-39d2-4106-b2f5-d3a01e72d87b",
   "metadata": {},
   "outputs": [],
   "source": []
  },
  {
   "cell_type": "code",
   "execution_count": 521,
   "id": "66c47909-6602-430d-ad9e-bd77337e8bf3",
   "metadata": {},
   "outputs": [],
   "source": [
    "######9-2 : 성별에 따른 월급 차이 - 성별에 따라 월급이 다를까?"
   ]
  },
  {
   "cell_type": "code",
   "execution_count": 522,
   "id": "909e4145-6e95-43c5-989c-443d065c58bf",
   "metadata": {},
   "outputs": [],
   "source": [
    "# 분석절차) \n",
    "# 1단계) 변수 검토 및 전처리\n",
    "# 2단계) 변수 간 관계 분석"
   ]
  },
  {
   "cell_type": "code",
   "execution_count": 523,
   "id": "6a64dd14-fce8-452a-98e4-cb920ee42303",
   "metadata": {},
   "outputs": [],
   "source": [
    "#### 1단계-1-1) 변수 검토 // 성별 변수 검토 및 전처리하기"
   ]
  },
  {
   "cell_type": "code",
   "execution_count": 524,
   "id": "342b9ef6-5daa-458f-8b66-06495b2cc203",
   "metadata": {},
   "outputs": [
    {
     "data": {
      "text/plain": [
       "dtype('O')"
      ]
     },
     "execution_count": 524,
     "metadata": {},
     "output_type": "execute_result"
    }
   ],
   "source": [
    "#변수 타입 출력\n",
    "welfare['sex'].dtypes"
   ]
  },
  {
   "cell_type": "code",
   "execution_count": 525,
   "id": "d24c754a-2c06-437d-877f-c9293793fe43",
   "metadata": {},
   "outputs": [
    {
     "data": {
      "text/plain": [
       "sex\n",
       "female    7913\n",
       "male      6505\n",
       "Name: count, dtype: int64"
      ]
     },
     "execution_count": 525,
     "metadata": {},
     "output_type": "execute_result"
    }
   ],
   "source": [
    "#범주별 빈도 구하기\n",
    "welfare['sex'].value_counts()\n",
    "#cf)코드북 보면 sex의 1은 남자, 2는 여자, 9는 모른다고 답하거나 응답하지 않은 경우임을 알 수 있음"
   ]
  },
  {
   "cell_type": "code",
   "execution_count": 526,
   "id": "29d38441-952b-4877-b6c4-acf31ec804da",
   "metadata": {},
   "outputs": [],
   "source": [
    "#### 1단계-2-1) 전처리하기"
   ]
  },
  {
   "cell_type": "code",
   "execution_count": 367,
   "id": "236cd3f6-5a8c-4c93-ac9b-d46c54360000",
   "metadata": {},
   "outputs": [
    {
     "data": {
      "text/plain": [
       "sex\n",
       "2.0    7913\n",
       "1.0    6505\n",
       "Name: count, dtype: int64"
      ]
     },
     "execution_count": 367,
     "metadata": {},
     "output_type": "execute_result"
    }
   ],
   "source": [
    "#이상치 확인\n",
    "welfare['sex'].value_counts()\n",
    "#이상치 확인 결과, 1과 2만 있고 9는 존재하지 않음\n",
    "#이상치 없으므로 이상치 결측 처리 과정은 패스\n",
    "#만약 이상치 존재하면 이상치를 결측 처리하는 과정 거친 후, 결측치를 확인해야 함"
   ]
  },
  {
   "cell_type": "code",
   "execution_count": 368,
   "id": "31021bd9-5a6b-4295-a6cd-13eb3bc38c09",
   "metadata": {},
   "outputs": [],
   "source": [
    "#이상치 결측 처리\n",
    "#아래 과정은 이상치가 존재할 경우, 결측 처리 하는 과정을 나타낸 코드\n",
    "welfare['sex'] = np.where(\n",
    "    welfare['sex'] == 9, np.nan, welfare['sex']\n",
    ")"
   ]
  },
  {
   "cell_type": "code",
   "execution_count": 369,
   "id": "e3bf5514-4250-4035-b389-5d9062c7af52",
   "metadata": {},
   "outputs": [
    {
     "data": {
      "text/plain": [
       "0"
      ]
     },
     "execution_count": 369,
     "metadata": {},
     "output_type": "execute_result"
    }
   ],
   "source": [
    "#결측치 확인\n",
    "welfare['sex'].isna().sum()"
   ]
  },
  {
   "cell_type": "code",
   "execution_count": 370,
   "id": "bb4a1e31-8d0c-41ab-a7dc-603ea3871574",
   "metadata": {},
   "outputs": [],
   "source": [
    "#성별 항목 이름 부여\n",
    "#1은 남성, 2는 여성을 의미하므로 male, female로 변수명 변경\n",
    "welfare['sex'] = np.where(\n",
    "    welfare['sex'] == 1, 'male', 'female'\n",
    ")"
   ]
  },
  {
   "cell_type": "code",
   "execution_count": 371,
   "id": "af204982-b81c-4886-bdbc-6909d38090a8",
   "metadata": {},
   "outputs": [
    {
     "data": {
      "text/plain": [
       "sex\n",
       "female    7913\n",
       "male      6505\n",
       "Name: count, dtype: int64"
      ]
     },
     "execution_count": 371,
     "metadata": {},
     "output_type": "execute_result"
    }
   ],
   "source": [
    "#빈도 구하기\n",
    "welfare['sex'].value_counts()"
   ]
  },
  {
   "cell_type": "code",
   "execution_count": 372,
   "id": "1ce5da6b-e726-4833-841d-437a634959b5",
   "metadata": {},
   "outputs": [
    {
     "data": {
      "text/plain": [
       "<Axes: xlabel='sex', ylabel='count'>"
      ]
     },
     "execution_count": 372,
     "metadata": {},
     "output_type": "execute_result"
    },
    {
     "data": {
      "image/png": "[encoded data removed]",
      "text/plain": [
       "<Figure size 640x480 with 1 Axes>"
      ]
     },
     "metadata": {},
     "output_type": "display_data"
    }
   ],
   "source": [
    "#변수별 빈도 막대 그래프 만들기\n",
    "sns.countplot(data=welfare, x = 'sex')"
   ]
  },
  {
   "cell_type": "code",
   "execution_count": 373,
   "id": "7f38cba4-3f6a-4fb5-8ca7-24e1949bee60",
   "metadata": {},
   "outputs": [],
   "source": [
    "#### 1단계-1-2) 변수 검토하기 // 월급 변수 검토 및 전처리하기\n",
    "# 성별은 '범주 변수'이므로 df.value_counts()로 범주별 빈도 확인해서 특징 파악 가능\n",
    "# 월급은 '연속 변수'이므로 df.describe()로 요약 통계량을 확인해서 특징 확인"
   ]
  },
  {
   "cell_type": "code",
   "execution_count": 374,
   "id": "d2d717d4-25a0-4aed-9686-ea54e4408093",
   "metadata": {},
   "outputs": [
    {
     "data": {
      "text/plain": [
       "dtype('float64')"
      ]
     },
     "execution_count": 374,
     "metadata": {},
     "output_type": "execute_result"
    }
   ],
   "source": [
    "#변수 타입 출력\n",
    "welfare['income'].dtypes\n",
    "#income은 float64 타입임을 알 수 있음"
   ]
  },
  {
   "cell_type": "code",
   "execution_count": 376,
   "id": "11d641d9-ef4f-4cc0-93cd-5b54c0fdda57",
   "metadata": {},
   "outputs": [
    {
     "data": {
      "text/plain": [
       "count    4534.000000\n",
       "mean      268.455007\n",
       "std       198.021206\n",
       "min         0.000000\n",
       "25%       150.000000\n",
       "50%       220.000000\n",
       "75%       345.750000\n",
       "max      1892.000000\n",
       "Name: income, dtype: float64"
      ]
     },
     "execution_count": 376,
     "metadata": {},
     "output_type": "execute_result"
    }
   ],
   "source": [
    "#요약 통계량 구하기\n",
    "welfare['income'].describe()\n",
    "#출력 결과,\n",
    "# 0~1892만원의 값을 지님\n",
    "# 150~345만원에 가장 많이 분포 (사분위수로 파악)\n",
    "# 평균은 268만원\n",
    "# 중앙값은 평균보다 작은 220만원으로, 전반적으로 낮은 값 쪽으로 치우쳐있음"
   ]
  },
  {
   "cell_type": "code",
   "execution_count": 377,
   "id": "c2d3386e-b066-4e2a-8adb-364fdf2dffb8",
   "metadata": {},
   "outputs": [
    {
     "data": {
      "text/plain": [
       "<Axes: xlabel='income', ylabel='Count'>"
      ]
     },
     "execution_count": 377,
     "metadata": {},
     "output_type": "execute_result"
    },
    {
     "data": {
      "image/png": "[encoded data removed]",
      "text/plain": [
       "<Figure size 640x480 with 1 Axes>"
      ]
     },
     "metadata": {},
     "output_type": "display_data"
    }
   ],
   "source": [
    "#히스토그램 만들기 ---> income의 분포 확인\n",
    "sns.histplot(data=welfare, x = 'income')\n",
    "# 출력결과,\n",
    "# 0~250만원에 가장 많은 사람이 분포하고, 그 뒤로는 점차 빈도 감소"
   ]
  },
  {
   "cell_type": "code",
   "execution_count": 378,
   "id": "f1beee8c-3438-4516-94b5-932b56435964",
   "metadata": {},
   "outputs": [],
   "source": [
    "####1단계-2-2) 전처리하기"
   ]
  },
  {
   "cell_type": "code",
   "execution_count": 379,
   "id": "d19804ec-7555-4e23-83bb-0f27f1aed9a9",
   "metadata": {},
   "outputs": [],
   "source": [
    "# 코드북 보면,\n",
    "# 월급(income)은 만원단위이고,\n",
    "# 모름/무응답은 9999로 코딩됨"
   ]
  },
  {
   "cell_type": "code",
   "execution_count": 380,
   "id": "8b093df5-7b83-421f-a39c-3c1aa020d4d2",
   "metadata": {},
   "outputs": [
    {
     "data": {
      "text/plain": [
       "count    4534.000000\n",
       "mean      268.455007\n",
       "std       198.021206\n",
       "min         0.000000\n",
       "25%       150.000000\n",
       "50%       220.000000\n",
       "75%       345.750000\n",
       "max      1892.000000\n",
       "Name: income, dtype: float64"
      ]
     },
     "execution_count": 380,
     "metadata": {},
     "output_type": "execute_result"
    }
   ],
   "source": [
    "# 이상치 확인\n",
    "welfare['income'].describe()"
   ]
  },
  {
   "cell_type": "code",
   "execution_count": 381,
   "id": "c92b0354-9943-4cf1-97a7-db0b8f131ff3",
   "metadata": {},
   "outputs": [
    {
     "data": {
      "text/plain": [
       "9884"
      ]
     },
     "execution_count": 381,
     "metadata": {},
     "output_type": "execute_result"
    }
   ],
   "source": [
    "#결측치 확인\n",
    "welfare['income'].isna().sum()\n",
    "# 출력 결과, 결측치가 9884개 존재함을 알 수 있음\n",
    "#직업이 없어서 월급을 받지 않는 응답자가 있어서 결측치가 존재하는 것\n",
    "#따라서, 이제는 결측치를 제거해야 함"
   ]
  },
  {
   "cell_type": "code",
   "execution_count": 382,
   "id": "771878c2-7098-473d-a967-90149f7d79d8",
   "metadata": {},
   "outputs": [],
   "source": [
    "#코드북에 '모름/무응답'이면 9999로 되어있다 했음\n",
    "#income의 최대값이 1892이므로 income이 9999인 행은 없음\n",
    "#즉, 이상치는 존재X\n",
    "#따라서 이상치를 결측처리하는 과정은 패스"
   ]
  },
  {
   "cell_type": "code",
   "execution_count": 383,
   "id": "7928c0eb-6efc-44de-81ec-895653193517",
   "metadata": {},
   "outputs": [],
   "source": [
    "#만약 최대값이 9999로 나타나는 이상치가 존재한다면 아래의 과정을 거쳐야 함\n",
    "#(아래과정):이상치를 결측 처리 한 다음, 결측치가 제대로 만들어졌는지 확인하는 과정\n",
    "welfare['income'] = np.where(\n",
    "    welfare['income'] == 9999, np.nan, welfare['income']\n",
    ")"
   ]
  },
  {
   "cell_type": "code",
   "execution_count": 384,
   "id": "05adaf39-01d9-4e4e-8839-35cb6961d12e",
   "metadata": {},
   "outputs": [
    {
     "data": {
      "text/plain": [
       "9884"
      ]
     },
     "execution_count": 384,
     "metadata": {},
     "output_type": "execute_result"
    }
   ],
   "source": [
    "#결측치 확인\n",
    "welfare['income'].isna().sum()"
   ]
  },
  {
   "cell_type": "code",
   "execution_count": 385,
   "id": "3a38a49e-8b6d-44c5-9db5-a775c819a865",
   "metadata": {},
   "outputs": [],
   "source": [
    "####2단계)변수 간 관계 분석 // 성별에 따른 월급 차이 분석하기"
   ]
  },
  {
   "cell_type": "code",
   "execution_count": 386,
   "id": "c575e629-7e8c-4d9e-a001-5120f504d5f3",
   "metadata": {},
   "outputs": [],
   "source": [
    "#성별 월급 평균표를 만들어서 \n",
    "#월급 평균이 성별에 따라 차이가 있는지 비교"
   ]
  },
  {
   "cell_type": "code",
   "execution_count": 387,
   "id": "4bbb36cf-7aa0-4320-b8dc-7bd2b165513e",
   "metadata": {},
   "outputs": [],
   "source": [
    "#성별 월급 평균표 만들기\n",
    "sex_income = welfare.dropna(subset = 'income') \\\n",
    "                    .groupby('sex', as_index = False) \\\n",
    "                    .agg(mean_income = ('income','mean'))\n",
    "#(순서대로) income 결측치 제거\n",
    "#sex별 분리\n",
    "#income평균 구하기"
   ]
  },
  {
   "cell_type": "code",
   "execution_count": 388,
   "id": "6c6aa387-979e-4266-b2f4-697511ed8f80",
   "metadata": {},
   "outputs": [
    {
     "data": {
      "text/html": [
       "<div>\n",
       "<style scoped>\n",
       "    .dataframe tbody tr th:only-of-type {\n",
       "        vertical-align: middle;\n",
       "    }\n",
       "\n",
       "    .dataframe tbody tr th {\n",
       "        vertical-align: top;\n",
       "    }\n",
       "\n",
       "    .dataframe thead th {\n",
       "        text-align: right;\n",
       "    }\n",
       "</style>\n",
       "<table border=\"1\" class=\"dataframe\">\n",
       "  <thead>\n",
       "    <tr style=\"text-align: right;\">\n",
       "      <th></th>\n",
       "      <th>sex</th>\n",
       "      <th>mean_income</th>\n",
       "    </tr>\n",
       "  </thead>\n",
       "  <tbody>\n",
       "    <tr>\n",
       "      <th>0</th>\n",
       "      <td>female</td>\n",
       "      <td>186.293096</td>\n",
       "    </tr>\n",
       "    <tr>\n",
       "      <th>1</th>\n",
       "      <td>male</td>\n",
       "      <td>349.037571</td>\n",
       "    </tr>\n",
       "  </tbody>\n",
       "</table>\n",
       "</div>"
      ],
      "text/plain": [
       "      sex  mean_income\n",
       "0  female   186.293096\n",
       "1    male   349.037571"
      ]
     },
     "execution_count": 388,
     "metadata": {},
     "output_type": "execute_result"
    }
   ],
   "source": [
    "sex_income\n",
    "#출력 결과, \n",
    "#남자는 349만원, 여자는 186만원\n",
    "#남성이 여성보다 약 163만원 더 많음"
   ]
  },
  {
   "cell_type": "code",
   "execution_count": 389,
   "id": "50670c95-166f-4b50-a815-4380be933414",
   "metadata": {},
   "outputs": [
    {
     "data": {
      "text/plain": [
       "<Axes: xlabel='sex', ylabel='mean_income'>"
      ]
     },
     "execution_count": 389,
     "metadata": {},
     "output_type": "execute_result"
    },
    {
     "data": {
      "image/png": "[encoded data removed]",
      "text/plain": [
       "<Figure size 640x480 with 1 Axes>"
      ]
     },
     "metadata": {},
     "output_type": "display_data"
    }
   ],
   "source": [
    "#성별 월급 평균표를 이용한 막대 그래프 만들기\n",
    "sns.barplot(data = sex_income, x = 'sex', y = 'mean_income')"
   ]
  },
  {
   "cell_type": "code",
   "execution_count": 390,
   "id": "cedebcb3-2718-44c6-9ffa-5902b82feb7a",
   "metadata": {},
   "outputs": [],
   "source": [
    "######9-3 : 나이와 월급의 관계 - 몇 살 때 월급을 가장 많이 받을까?"
   ]
  },
  {
   "cell_type": "code",
   "execution_count": 391,
   "id": "c52a670d-d8c5-4e5a-8fe1-ef40a4f92f83",
   "metadata": {},
   "outputs": [],
   "source": [
    "#나이변수 검토 및 전처리 후, 나이와 월급의 관계 분석\n",
    "#cf)월급변수 전처리는 9-2에서 했으니까 패스"
   ]
  },
  {
   "cell_type": "code",
   "execution_count": 392,
   "id": "a4964472-e553-4687-8e31-ee9c4fd6b639",
   "metadata": {},
   "outputs": [],
   "source": [
    "####1단계-1) 나이 변수 검토하기"
   ]
  },
  {
   "cell_type": "code",
   "execution_count": 393,
   "id": "5ad9002e-a948-4a34-9b2f-76c124493b51",
   "metadata": {},
   "outputs": [],
   "source": [
    "#한국복지패널데이터에는 나이변수는 없고, 연도변수만 존재\n",
    "#태어난 연도변수를 이용해서 나이변수 만들어야 함"
   ]
  },
  {
   "cell_type": "code",
   "execution_count": 394,
   "id": "a70afae3-a1e7-4f35-895e-1f4706ff7877",
   "metadata": {},
   "outputs": [
    {
     "data": {
      "text/plain": [
       "dtype('float64')"
      ]
     },
     "execution_count": 394,
     "metadata": {},
     "output_type": "execute_result"
    }
   ],
   "source": [
    "#변수타입 출력\n",
    "welfare['birth'].dtypes"
   ]
  },
  {
   "cell_type": "code",
   "execution_count": 395,
   "id": "c94d6250-fa42-48e9-a51d-694e8bb5e415",
   "metadata": {},
   "outputs": [
    {
     "data": {
      "text/plain": [
       "count    14418.000000\n",
       "mean      1969.280205\n",
       "std         24.402250\n",
       "min       1907.000000\n",
       "25%       1948.000000\n",
       "50%       1968.000000\n",
       "75%       1990.000000\n",
       "max       2018.000000\n",
       "Name: birth, dtype: float64"
      ]
     },
     "execution_count": 395,
     "metadata": {},
     "output_type": "execute_result"
    }
   ],
   "source": [
    "#요약 통계량 구하기\n",
    "welfare['birth'].describe()"
   ]
  },
  {
   "cell_type": "code",
   "execution_count": 396,
   "id": "31f54e96-f54a-42eb-a645-4188f21c2d64",
   "metadata": {},
   "outputs": [
    {
     "data": {
      "text/plain": [
       "<Axes: xlabel='birth', ylabel='Count'>"
      ]
     },
     "execution_count": 396,
     "metadata": {},
     "output_type": "execute_result"
    },
    {
     "data": {
      "image/png": "[encoded data removed]",
      "text/plain": [
       "<Figure size 640x480 with 1 Axes>"
      ]
     },
     "metadata": {},
     "output_type": "display_data"
    }
   ],
   "source": [
    "#히스토그램 만들기\n",
    "sns.histplot(data=welfare, x = 'birth')"
   ]
  },
  {
   "cell_type": "code",
   "execution_count": 397,
   "id": "e647b653-1478-4bfe-b74c-8f3b7fcdf479",
   "metadata": {},
   "outputs": [],
   "source": [
    "####1단계-2)전처리하기"
   ]
  },
  {
   "cell_type": "code",
   "execution_count": 398,
   "id": "50ba0efe-1941-4205-bd95-129150f45ede",
   "metadata": {},
   "outputs": [],
   "source": [
    "#코드북 보면, '모름/무응답'은 9999로 처리되어있음"
   ]
  },
  {
   "cell_type": "code",
   "execution_count": 399,
   "id": "dcc03874-f716-4022-8dc3-c5ca909f3d10",
   "metadata": {},
   "outputs": [
    {
     "data": {
      "text/plain": [
       "count    14418.000000\n",
       "mean      1969.280205\n",
       "std         24.402250\n",
       "min       1907.000000\n",
       "25%       1948.000000\n",
       "50%       1968.000000\n",
       "75%       1990.000000\n",
       "max       2018.000000\n",
       "Name: birth, dtype: float64"
      ]
     },
     "execution_count": 399,
     "metadata": {},
     "output_type": "execute_result"
    }
   ],
   "source": [
    "#이상치 확인\n",
    "welfare['birth'].describe()\n",
    "#출력 결과, 이상치는 존재X"
   ]
  },
  {
   "cell_type": "code",
   "execution_count": 400,
   "id": "352b43ed-0312-4a4d-9843-0a49baa9a59f",
   "metadata": {},
   "outputs": [
    {
     "data": {
      "text/plain": [
       "0"
      ]
     },
     "execution_count": 400,
     "metadata": {},
     "output_type": "execute_result"
    }
   ],
   "source": [
    "#결측치 확인\n",
    "welfare['birth'].isna().sum()\n",
    "#출력 결과, 결측치 존재X"
   ]
  },
  {
   "cell_type": "code",
   "execution_count": 401,
   "id": "991d7613-99fb-4ba6-83d1-dafb666edcc9",
   "metadata": {},
   "outputs": [],
   "source": [
    "#파생변수 만들기 \n",
    "#연도변수를 이용한 나이변수(파생변수) 만들기\n",
    "#조사가 2019년에 진행됐으므로,\n",
    "#2019-태어난연도+1 해서 나이변수 생성"
   ]
  },
  {
   "cell_type": "code",
   "execution_count": 402,
   "id": "98964677-4617-4453-96c4-c928eadc87fb",
   "metadata": {},
   "outputs": [],
   "source": [
    "#나이변수 만들기\n",
    "welfare = welfare.assign(age=2019-welfare['birth']+1)"
   ]
  },
  {
   "cell_type": "code",
   "execution_count": 403,
   "id": "b0066285-7b56-40d6-a199-94ca88701e23",
   "metadata": {},
   "outputs": [
    {
     "data": {
      "text/plain": [
       "count    14418.000000\n",
       "mean        50.719795\n",
       "std         24.402250\n",
       "min          2.000000\n",
       "25%         30.000000\n",
       "50%         52.000000\n",
       "75%         72.000000\n",
       "max        113.000000\n",
       "Name: age, dtype: float64"
      ]
     },
     "execution_count": 403,
     "metadata": {},
     "output_type": "execute_result"
    }
   ],
   "source": [
    "#요약통계량 구하기\n",
    "welfare['age'].describe() "
   ]
  },
  {
   "cell_type": "code",
   "execution_count": 404,
   "id": "5b217214-f6db-4ac3-98c4-5f736135147e",
   "metadata": {},
   "outputs": [
    {
     "data": {
      "text/plain": [
       "<Axes: xlabel='age', ylabel='Count'>"
      ]
     },
     "execution_count": 404,
     "metadata": {},
     "output_type": "execute_result"
    },
    {
     "data": {
      "image/png": "[encoded data removed]",
      "text/plain": [
       "<Figure size 640x480 with 1 Axes>"
      ]
     },
     "metadata": {},
     "output_type": "display_data"
    }
   ],
   "source": [
    "#히스토그램 만들기\n",
    "sns.histplot(data=welfare, x = 'age')"
   ]
  },
  {
   "cell_type": "code",
   "execution_count": 405,
   "id": "3ab48d22-982c-44a5-9b4c-80169a0e324b",
   "metadata": {},
   "outputs": [],
   "source": [
    "####2단계)변수 간 관계 분석 // 나이와 월급의 관계 분석하기"
   ]
  },
  {
   "cell_type": "code",
   "execution_count": 406,
   "id": "903ca229-f6ca-49c6-a3c8-d146c0d07439",
   "metadata": {},
   "outputs": [],
   "source": [
    "#나이별 월급 평균표 만들기"
   ]
  },
  {
   "cell_type": "code",
   "execution_count": 407,
   "id": "002904d5-d4b6-4e47-a28c-c08d29f993a7",
   "metadata": {},
   "outputs": [],
   "source": [
    "age_income = welfare.dropna(subset = 'income') \\\n",
    "                    .groupby('age') \\\n",
    "                    .agg(mean_income = ('income', 'mean'))\n",
    "#(순서대로) income결측치 제거\n",
    "#age별 분리\n",
    "#income평균 구하기"
   ]
  },
  {
   "cell_type": "code",
   "execution_count": 408,
   "id": "c3a38193-e4bd-4108-b8fc-17542ae4218a",
   "metadata": {},
   "outputs": [
    {
     "data": {
      "text/html": [
       "<div>\n",
       "<style scoped>\n",
       "    .dataframe tbody tr th:only-of-type {\n",
       "        vertical-align: middle;\n",
       "    }\n",
       "\n",
       "    .dataframe tbody tr th {\n",
       "        vertical-align: top;\n",
       "    }\n",
       "\n",
       "    .dataframe thead th {\n",
       "        text-align: right;\n",
       "    }\n",
       "</style>\n",
       "<table border=\"1\" class=\"dataframe\">\n",
       "  <thead>\n",
       "    <tr style=\"text-align: right;\">\n",
       "      <th></th>\n",
       "      <th>mean_income</th>\n",
       "    </tr>\n",
       "    <tr>\n",
       "      <th>age</th>\n",
       "      <th></th>\n",
       "    </tr>\n",
       "  </thead>\n",
       "  <tbody>\n",
       "    <tr>\n",
       "      <th>19.0</th>\n",
       "      <td>162.000000</td>\n",
       "    </tr>\n",
       "    <tr>\n",
       "      <th>20.0</th>\n",
       "      <td>121.333333</td>\n",
       "    </tr>\n",
       "    <tr>\n",
       "      <th>21.0</th>\n",
       "      <td>136.400000</td>\n",
       "    </tr>\n",
       "    <tr>\n",
       "      <th>22.0</th>\n",
       "      <td>123.666667</td>\n",
       "    </tr>\n",
       "    <tr>\n",
       "      <th>23.0</th>\n",
       "      <td>179.676471</td>\n",
       "    </tr>\n",
       "  </tbody>\n",
       "</table>\n",
       "</div>"
      ],
      "text/plain": [
       "      mean_income\n",
       "age              \n",
       "19.0   162.000000\n",
       "20.0   121.333333\n",
       "21.0   136.400000\n",
       "22.0   123.666667\n",
       "23.0   179.676471"
      ]
     },
     "execution_count": 408,
     "metadata": {},
     "output_type": "execute_result"
    }
   ],
   "source": [
    "age_income.head()"
   ]
  },
  {
   "cell_type": "code",
   "execution_count": 409,
   "id": "b5dd4257-1785-411a-9a54-ace67bcb02cf",
   "metadata": {},
   "outputs": [
    {
     "data": {
      "text/plain": [
       "<Axes: xlabel='age', ylabel='mean_income'>"
      ]
     },
     "execution_count": 409,
     "metadata": {},
     "output_type": "execute_result"
    },
    {
     "data": {
      "image/png": "[encoded data removed]",
      "text/plain": [
       "<Figure size 640x480 with 1 Axes>"
      ]
     },
     "metadata": {},
     "output_type": "display_data"
    }
   ],
   "source": [
    "#선그래프 만들기\n",
    "sns.lineplot(data=age_income,x='age', y = 'mean_income')\n",
    "#x축을 나이, y축을 월급"
   ]
  },
  {
   "cell_type": "code",
   "execution_count": 410,
   "id": "fbb7841c-28fc-4388-9534-73bf14b3da8b",
   "metadata": {},
   "outputs": [],
   "source": [
    "#출력결과,\n",
    "#20대 초반에 월급을 150만원 가량 받고, 이후 지속해서 증가하는 추세\n",
    "#40대에 350만원 가량으로 가장 많이 받고, 짓고해서 감소하다가\n",
    "#60대 후반부터는 20대보다 낮은 월급을 받음"
   ]
  },
  {
   "cell_type": "code",
   "execution_count": null,
   "id": "cc7d8f94-6164-461c-ba4e-4f55c99ec3cd",
   "metadata": {},
   "outputs": [],
   "source": []
  },
  {
   "cell_type": "code",
   "execution_count": 412,
   "id": "379ac1b0-f374-4fdc-8f63-2f1325c95667",
   "metadata": {},
   "outputs": [],
   "source": [
    "######9-4 : 연령대에 따른 월급 차이 - 어떤 연령대의 월급이 가장 많을까?"
   ]
  },
  {
   "cell_type": "code",
   "execution_count": 413,
   "id": "ca9b5f8b-be1d-4728-b02a-b8ec402e4cb4",
   "metadata": {},
   "outputs": [],
   "source": [
    "####1단계) 변수 검토 및 전처리"
   ]
  },
  {
   "cell_type": "code",
   "execution_count": 414,
   "id": "95b7ffa3-bdbc-4d8f-9cc5-44cc7ebbbd07",
   "metadata": {},
   "outputs": [],
   "source": [
    "#나이를 연령대별로 분류한 다음 월급을 비교"
   ]
  },
  {
   "cell_type": "code",
   "execution_count": 415,
   "id": "d3e8fbd3-a2e0-4136-b159-e6ba1980058a",
   "metadata": {},
   "outputs": [],
   "source": [
    "#9-3에서 만든 '나이변수'를 이용해서 '연령대 변수'를 만들것\n",
    "#초년층 : 30세미만\n",
    "#중년층 : 30~59세\n",
    "#노년층 : 60세 이상"
   ]
  },
  {
   "cell_type": "code",
   "execution_count": 416,
   "id": "822de9f9-48dc-43d2-b54e-6d51cde757ca",
   "metadata": {},
   "outputs": [
    {
     "data": {
      "text/plain": [
       "0    75.0\n",
       "1    72.0\n",
       "2    78.0\n",
       "3    58.0\n",
       "4    57.0\n",
       "Name: age, dtype: float64"
      ]
     },
     "execution_count": 416,
     "metadata": {},
     "output_type": "execute_result"
    }
   ],
   "source": [
    "#나이변수 살펴보기\n",
    "welfare['age'].head()"
   ]
  },
  {
   "cell_type": "code",
   "execution_count": 417,
   "id": "57b07e96-5fb3-46d1-80b6-112a53b1e880",
   "metadata": {},
   "outputs": [],
   "source": [
    "#연령대변수 만들기\n",
    "welfare = welfare.assign(ageg = \n",
    "                         np.where(\n",
    "                             welfare['age']<30, 'young',\n",
    "                        np.where(\n",
    "                            welfare['age']<=59, 'middle', 'old'\n",
    "                        )\n",
    "                         ))"
   ]
  },
  {
   "cell_type": "code",
   "execution_count": 418,
   "id": "7982731d-cee2-4093-8b07-fb69754590e8",
   "metadata": {},
   "outputs": [
    {
     "data": {
      "text/plain": [
       "ageg\n",
       "old       5955\n",
       "middle    4963\n",
       "young     3500\n",
       "Name: count, dtype: int64"
      ]
     },
     "execution_count": 418,
     "metadata": {},
     "output_type": "execute_result"
    }
   ],
   "source": [
    "#빈도 구하기\n",
    "welfare['ageg'].value_counts()"
   ]
  },
  {
   "cell_type": "code",
   "execution_count": 419,
   "id": "e20a869b-4f66-44cd-8f5e-29f1b21aaeb9",
   "metadata": {},
   "outputs": [
    {
     "data": {
      "text/plain": [
       "<Axes: xlabel='ageg', ylabel='count'>"
      ]
     },
     "execution_count": 419,
     "metadata": {},
     "output_type": "execute_result"
    },
    {
     "data": {
      "image/png": "[encoded data removed]",
      "text/plain": [
       "<Figure size 640x480 with 1 Axes>"
      ]
     },
     "metadata": {},
     "output_type": "display_data"
    }
   ],
   "source": [
    "#빈도막대그래프 만들기\n",
    "sns.countplot(data=welfare, x = 'ageg')"
   ]
  },
  {
   "cell_type": "code",
   "execution_count": 420,
   "id": "77fe492f-31f8-4f5d-82e8-e899b452dcc5",
   "metadata": {},
   "outputs": [],
   "source": [
    "####2단계)변수 간 관계 분석\n",
    " #연령대별 월급 평균표 만들기\n",
    " #그래프 만들기"
   ]
  },
  {
   "cell_type": "code",
   "execution_count": 421,
   "id": "a9951b18-5563-400c-ab27-ff379edf324e",
   "metadata": {},
   "outputs": [],
   "source": [
    "#연령대별 월급평균표 만들기\n",
    "ageg_income = welfare.dropna(subset='income') \\\n",
    "                     .groupby('ageg', as_index = False) \\\n",
    "                     .agg(mean_income = ('income', 'mean'))\n",
    "#(순서대로)income 결측치 제거\n",
    "#ageg별 분리\n",
    "#income평균 구하기"
   ]
  },
  {
   "cell_type": "code",
   "execution_count": 422,
   "id": "41700580-92ba-4700-904d-4073a602e070",
   "metadata": {},
   "outputs": [
    {
     "data": {
      "text/html": [
       "<div>\n",
       "<style scoped>\n",
       "    .dataframe tbody tr th:only-of-type {\n",
       "        vertical-align: middle;\n",
       "    }\n",
       "\n",
       "    .dataframe tbody tr th {\n",
       "        vertical-align: top;\n",
       "    }\n",
       "\n",
       "    .dataframe thead th {\n",
       "        text-align: right;\n",
       "    }\n",
       "</style>\n",
       "<table border=\"1\" class=\"dataframe\">\n",
       "  <thead>\n",
       "    <tr style=\"text-align: right;\">\n",
       "      <th></th>\n",
       "      <th>ageg</th>\n",
       "      <th>mean_income</th>\n",
       "    </tr>\n",
       "  </thead>\n",
       "  <tbody>\n",
       "    <tr>\n",
       "      <th>0</th>\n",
       "      <td>middle</td>\n",
       "      <td>329.157157</td>\n",
       "    </tr>\n",
       "    <tr>\n",
       "      <th>1</th>\n",
       "      <td>old</td>\n",
       "      <td>140.129003</td>\n",
       "    </tr>\n",
       "    <tr>\n",
       "      <th>2</th>\n",
       "      <td>young</td>\n",
       "      <td>195.663424</td>\n",
       "    </tr>\n",
       "  </tbody>\n",
       "</table>\n",
       "</div>"
      ],
      "text/plain": [
       "     ageg  mean_income\n",
       "0  middle   329.157157\n",
       "1     old   140.129003\n",
       "2   young   195.663424"
      ]
     },
     "execution_count": 422,
     "metadata": {},
     "output_type": "execute_result"
    }
   ],
   "source": [
    "ageg_income\n",
    "#출력결과, \n",
    "# 초년층의 월급평균은 195만원,\n",
    "# 중년층의 월급평균은 329만원,\n",
    "# 노년층의 월급평균은 140만원"
   ]
  },
  {
   "cell_type": "code",
   "execution_count": 423,
   "id": "8a531c3e-cd6d-463a-8764-76442f79909c",
   "metadata": {},
   "outputs": [
    {
     "data": {
      "text/plain": [
       "<Axes: xlabel='ageg', ylabel='mean_income'>"
      ]
     },
     "execution_count": 423,
     "metadata": {},
     "output_type": "execute_result"
    },
    {
     "data": {
      "image/png": "[encoded data removed]",
      "text/plain": [
       "<Figure size 640x480 with 1 Axes>"
      ]
     },
     "metadata": {},
     "output_type": "display_data"
    }
   ],
   "source": [
    "#막대 그래프 만들기\n",
    "sns.barplot(data=ageg_income, x = 'ageg', y='mean_income')"
   ]
  },
  {
   "cell_type": "code",
   "execution_count": 424,
   "id": "f6d2102c-88f4-496d-91c5-144685b35e0c",
   "metadata": {},
   "outputs": [
    {
     "data": {
      "text/plain": [
       "<Axes: xlabel='ageg', ylabel='mean_income'>"
      ]
     },
     "execution_count": 424,
     "metadata": {},
     "output_type": "execute_result"
    },
    {
     "data": {
      "image/png": "[encoded data removed]",
      "text/plain": [
       "<Figure size 640x480 with 1 Axes>"
      ]
     },
     "metadata": {},
     "output_type": "display_data"
    }
   ],
   "source": [
    "#막대정렬 순서를 초년/중년/노년의 순서로 바꾸기\n",
    "sns.barplot(data=ageg_income, x = 'ageg', y='mean_income', \n",
    "           order = ['young', 'middle', 'old'])"
   ]
  },
  {
   "cell_type": "code",
   "execution_count": 425,
   "id": "c289e791-cf79-462c-a55e-dbac59a5f41f",
   "metadata": {},
   "outputs": [],
   "source": [
    "# 출력결과,\n",
    "# 중년층이 330만원 정도로 가장 많은 월급을 받음\n",
    "# 노년층은 140만원으로, 초년층이 받는 195만원보다 적음"
   ]
  },
  {
   "cell_type": "code",
   "execution_count": null,
   "id": "1b1ea456-2a20-4d1f-83f9-983a453661ff",
   "metadata": {},
   "outputs": [],
   "source": []
  },
  {
   "cell_type": "code",
   "execution_count": 428,
   "id": "03eb8427-d664-4b3d-a28d-5455b95b649c",
   "metadata": {},
   "outputs": [],
   "source": [
    "######9-5 : 연령대 및 성별 월급 차이 - 성별 월급 차이는 연령대 별로 다를까?"
   ]
  },
  {
   "cell_type": "code",
   "execution_count": 429,
   "id": "c482bed9-7de8-49f3-8ac6-dd5b240a3758",
   "metadata": {},
   "outputs": [],
   "source": [
    "#1단계) 변수 검토 및 전처리\n",
    " #연령대\n",
    " #성별\n",
    " #월급\n",
    "   #앞에서 이미 전처리 작업 완료했으니 패스"
   ]
  },
  {
   "cell_type": "code",
   "execution_count": 430,
   "id": "38120f01-80c0-46a7-8ed7-02692a68b117",
   "metadata": {},
   "outputs": [],
   "source": [
    "#2단계) 변수 간 관계분석\n",
    " #연령대 및 성별 월급 평균표 만들기\n",
    " #그래프 만들기 "
   ]
  },
  {
   "cell_type": "code",
   "execution_count": 431,
   "id": "84b7021b-bcab-475a-804c-eb5f97d5300a",
   "metadata": {},
   "outputs": [],
   "source": [
    "#연령대 및 성별 평균표 만들기\n",
    "sex_income = \\\n",
    "    welfare.dropna(subset='income') \\\n",
    "            .groupby(['ageg', 'sex'], as_index = False) \\\n",
    "            .agg(mean_income = ('income', 'mean'))\n",
    "#(순서대로) income 결측치 제거\n",
    "#ageg 및 sex별 분리\n",
    "#income 평균 구하기"
   ]
  },
  {
   "cell_type": "code",
   "execution_count": 432,
   "id": "55fa2452-6cda-43f3-a81b-e1af35c59935",
   "metadata": {},
   "outputs": [
    {
     "data": {
      "text/html": [
       "<div>\n",
       "<style scoped>\n",
       "    .dataframe tbody tr th:only-of-type {\n",
       "        vertical-align: middle;\n",
       "    }\n",
       "\n",
       "    .dataframe tbody tr th {\n",
       "        vertical-align: top;\n",
       "    }\n",
       "\n",
       "    .dataframe thead th {\n",
       "        text-align: right;\n",
       "    }\n",
       "</style>\n",
       "<table border=\"1\" class=\"dataframe\">\n",
       "  <thead>\n",
       "    <tr style=\"text-align: right;\">\n",
       "      <th></th>\n",
       "      <th>ageg</th>\n",
       "      <th>sex</th>\n",
       "      <th>mean_income</th>\n",
       "    </tr>\n",
       "  </thead>\n",
       "  <tbody>\n",
       "    <tr>\n",
       "      <th>0</th>\n",
       "      <td>middle</td>\n",
       "      <td>female</td>\n",
       "      <td>230.481735</td>\n",
       "    </tr>\n",
       "    <tr>\n",
       "      <th>1</th>\n",
       "      <td>middle</td>\n",
       "      <td>male</td>\n",
       "      <td>409.541228</td>\n",
       "    </tr>\n",
       "    <tr>\n",
       "      <th>2</th>\n",
       "      <td>old</td>\n",
       "      <td>female</td>\n",
       "      <td>90.228896</td>\n",
       "    </tr>\n",
       "    <tr>\n",
       "      <th>3</th>\n",
       "      <td>old</td>\n",
       "      <td>male</td>\n",
       "      <td>204.570231</td>\n",
       "    </tr>\n",
       "    <tr>\n",
       "      <th>4</th>\n",
       "      <td>young</td>\n",
       "      <td>female</td>\n",
       "      <td>189.822222</td>\n",
       "    </tr>\n",
       "    <tr>\n",
       "      <th>5</th>\n",
       "      <td>young</td>\n",
       "      <td>male</td>\n",
       "      <td>204.909548</td>\n",
       "    </tr>\n",
       "  </tbody>\n",
       "</table>\n",
       "</div>"
      ],
      "text/plain": [
       "     ageg     sex  mean_income\n",
       "0  middle  female   230.481735\n",
       "1  middle    male   409.541228\n",
       "2     old  female    90.228896\n",
       "3     old    male   204.570231\n",
       "4   young  female   189.822222\n",
       "5   young    male   204.909548"
      ]
     },
     "execution_count": 432,
     "metadata": {},
     "output_type": "execute_result"
    }
   ],
   "source": [
    "sex_income"
   ]
  },
  {
   "cell_type": "code",
   "execution_count": 433,
   "id": "263d4bdd-9885-4c76-9075-4f7b1928b122",
   "metadata": {},
   "outputs": [
    {
     "data": {
      "text/plain": [
       "<Axes: xlabel='ageg', ylabel='mean_income'>"
      ]
     },
     "execution_count": 433,
     "metadata": {},
     "output_type": "execute_result"
    },
    {
     "data": {
      "image/png": "[encoded data removed]",
      "text/plain": [
       "<Figure size 640x480 with 1 Axes>"
      ]
     },
     "metadata": {},
     "output_type": "display_data"
    }
   ],
   "source": [
    "#그래프 만들기\n",
    "sns.barplot(data=sex_income,\n",
    "           x = 'ageg',\n",
    "           y = 'mean_income', \n",
    "           hue = 'sex', \n",
    "           order = ['young', 'middle', 'old'])\n",
    "#막대가 연령대별로 나열되도록 x축은 ageg\n",
    "#막대 색깔이 성별에 따라 다르도록 hue에 sex\n",
    "#축 순서는 young, middle, old 순으로"
   ]
  },
  {
   "cell_type": "code",
   "execution_count": 434,
   "id": "bf6c0aba-e82c-4e27-852e-da2b4ad134a5",
   "metadata": {},
   "outputs": [],
   "source": [
    "#출력결과,\n",
    "#성별 월급 차이의 양상이 연령대별로 다름\n",
    "#초년)월급 차이가 크지 않음\n",
    "#중년)남성이 여성보다 179만원 가량 더 많음 \n",
    "#    남성과 여성의 평균 월급 차이 크게 벌어짐\n",
    "#노년)차이가 줄어들지만, 여전히 남성이 114만원 가량 더 많음"
   ]
  },
  {
   "cell_type": "code",
   "execution_count": 435,
   "id": "bbd47149-25cc-4a4a-8a7d-b5d5cf4bd4e1",
   "metadata": {},
   "outputs": [],
   "source": [
    "#앞 과정에서 연령대별 월급 분석했을 때,\n",
    "#노년층이 초년층보다 월급을 적게 받는 것으로 나타났는데\n",
    "#연령대와 성별로 나눈 이번 분석 결과를 보면,\n",
    "#노년층이 초년층보다 월급을 적게 받는 현상은 여성에게만 나타남.\n",
    "#남성은 노년층과 초년층의 월급이 비슷함\n",
    "#또한, 중년층이 초년층보다 월급을 더 많이 받는 현상도 주로 남성에게서 나타남\n",
    "#여성은 그 차이가 크지 않음"
   ]
  },
  {
   "cell_type": "code",
   "execution_count": null,
   "id": "a69811d3-e74d-4df8-b256-f5566d0b5ddf",
   "metadata": {},
   "outputs": [],
   "source": []
  },
  {
   "cell_type": "code",
   "execution_count": 437,
   "id": "4f9ed297-ae0a-4bf0-ab6a-87d07f548312",
   "metadata": {},
   "outputs": [],
   "source": [
    "# 이번에는 연령대별 성별 구분이 아닌, \n",
    "# 나이 및 성별 월급 평균표를 만들어서 표현해보자"
   ]
  },
  {
   "cell_type": "code",
   "execution_count": 438,
   "id": "764ab476-2f38-4001-8e5e-ca3c57b96bd5",
   "metadata": {},
   "outputs": [],
   "source": [
    "#나이 및 성별 월급평균표 만들기\n",
    "sex_age = welfare.dropna(subset='income')\\\n",
    "                 .groupby(['age', 'sex'], as_index = False) \\\n",
    "                 .agg(mean_income = ('income', 'mean'))\n",
    "\n",
    "#(순서대로) income 결측치 제거\n",
    "#age 및 sex별 분리\n",
    "#income평균 구하기"
   ]
  },
  {
   "cell_type": "code",
   "execution_count": 439,
   "id": "f89135e2-0d9f-413c-8f0b-d02002f2070a",
   "metadata": {},
   "outputs": [
    {
     "data": {
      "text/html": [
       "<div>\n",
       "<style scoped>\n",
       "    .dataframe tbody tr th:only-of-type {\n",
       "        vertical-align: middle;\n",
       "    }\n",
       "\n",
       "    .dataframe tbody tr th {\n",
       "        vertical-align: top;\n",
       "    }\n",
       "\n",
       "    .dataframe thead th {\n",
       "        text-align: right;\n",
       "    }\n",
       "</style>\n",
       "<table border=\"1\" class=\"dataframe\">\n",
       "  <thead>\n",
       "    <tr style=\"text-align: right;\">\n",
       "      <th></th>\n",
       "      <th>age</th>\n",
       "      <th>sex</th>\n",
       "      <th>mean_income</th>\n",
       "    </tr>\n",
       "  </thead>\n",
       "  <tbody>\n",
       "    <tr>\n",
       "      <th>0</th>\n",
       "      <td>19.0</td>\n",
       "      <td>male</td>\n",
       "      <td>162.000000</td>\n",
       "    </tr>\n",
       "    <tr>\n",
       "      <th>1</th>\n",
       "      <td>20.0</td>\n",
       "      <td>female</td>\n",
       "      <td>87.666667</td>\n",
       "    </tr>\n",
       "    <tr>\n",
       "      <th>2</th>\n",
       "      <td>20.0</td>\n",
       "      <td>male</td>\n",
       "      <td>155.000000</td>\n",
       "    </tr>\n",
       "    <tr>\n",
       "      <th>3</th>\n",
       "      <td>21.0</td>\n",
       "      <td>female</td>\n",
       "      <td>124.000000</td>\n",
       "    </tr>\n",
       "    <tr>\n",
       "      <th>4</th>\n",
       "      <td>21.0</td>\n",
       "      <td>male</td>\n",
       "      <td>186.000000</td>\n",
       "    </tr>\n",
       "    <tr>\n",
       "      <th>...</th>\n",
       "      <td>...</td>\n",
       "      <td>...</td>\n",
       "      <td>...</td>\n",
       "    </tr>\n",
       "    <tr>\n",
       "      <th>140</th>\n",
       "      <td>89.0</td>\n",
       "      <td>male</td>\n",
       "      <td>27.000000</td>\n",
       "    </tr>\n",
       "    <tr>\n",
       "      <th>141</th>\n",
       "      <td>90.0</td>\n",
       "      <td>female</td>\n",
       "      <td>27.000000</td>\n",
       "    </tr>\n",
       "    <tr>\n",
       "      <th>142</th>\n",
       "      <td>91.0</td>\n",
       "      <td>female</td>\n",
       "      <td>27.000000</td>\n",
       "    </tr>\n",
       "    <tr>\n",
       "      <th>143</th>\n",
       "      <td>91.0</td>\n",
       "      <td>male</td>\n",
       "      <td>13.000000</td>\n",
       "    </tr>\n",
       "    <tr>\n",
       "      <th>144</th>\n",
       "      <td>92.0</td>\n",
       "      <td>female</td>\n",
       "      <td>27.000000</td>\n",
       "    </tr>\n",
       "  </tbody>\n",
       "</table>\n",
       "<p>145 rows × 3 columns</p>\n",
       "</div>"
      ],
      "text/plain": [
       "      age     sex  mean_income\n",
       "0    19.0    male   162.000000\n",
       "1    20.0  female    87.666667\n",
       "2    20.0    male   155.000000\n",
       "3    21.0  female   124.000000\n",
       "4    21.0    male   186.000000\n",
       "..    ...     ...          ...\n",
       "140  89.0    male    27.000000\n",
       "141  90.0  female    27.000000\n",
       "142  91.0  female    27.000000\n",
       "143  91.0    male    13.000000\n",
       "144  92.0  female    27.000000\n",
       "\n",
       "[145 rows x 3 columns]"
      ]
     },
     "execution_count": 439,
     "metadata": {},
     "output_type": "execute_result"
    }
   ],
   "source": [
    "sex_age"
   ]
  },
  {
   "cell_type": "code",
   "execution_count": 440,
   "id": "94f45e5a-0d2f-4d9d-b845-81b027fc2789",
   "metadata": {},
   "outputs": [
    {
     "data": {
      "text/plain": [
       "<Axes: xlabel='age', ylabel='mean_income'>"
      ]
     },
     "execution_count": 440,
     "metadata": {},
     "output_type": "execute_result"
    },
    {
     "data": {
      "image/png": "[encoded data removed]",
      "text/plain": [
       "<Figure size 640x480 with 1 Axes>"
      ]
     },
     "metadata": {},
     "output_type": "display_data"
    }
   ],
   "source": [
    "#선 그래프 만들기\n",
    "sns.lineplot(\n",
    "    data=sex_age,\n",
    "    x = 'age', \n",
    "    y = 'mean_income',\n",
    "    hue = 'sex', \n",
    ")"
   ]
  },
  {
   "cell_type": "code",
   "execution_count": 441,
   "id": "1a5749e6-ca2f-49c6-b13f-cdd645bf19bd",
   "metadata": {},
   "outputs": [],
   "source": [
    "#출력 결과,\n",
    "#남성의 월급은 50세 전후까지 증가하다가 급격하게 감소\n",
    "#여성의 월급은 30세 초반까지 약간 증가하다가 이후 원만한 감소\n",
    "#성별 월급 격차는 30대 중반부터 벌어지다가,\n",
    "#50대에 가장 크게 벌어지고,\n",
    "#이후 점점 줄어들어 80대 되면 비슷해짐."
   ]
  },
  {
   "cell_type": "code",
   "execution_count": null,
   "id": "f2668847-494b-4287-a01f-5bad545789b1",
   "metadata": {},
   "outputs": [],
   "source": []
  },
  {
   "cell_type": "code",
   "execution_count": null,
   "id": "74bd584c-7125-4c88-a2f3-78dcd2ca7e17",
   "metadata": {},
   "outputs": [],
   "source": []
  },
  {
   "cell_type": "code",
   "execution_count": 444,
   "id": "db4beb6c-aed1-4ee0-8938-968227b13774",
   "metadata": {},
   "outputs": [],
   "source": [
    "######9-6 : 직업별 월급 차이 - 어떤 직업이 월급을 가장 많이 받을까?"
   ]
  },
  {
   "cell_type": "code",
   "execution_count": 445,
   "id": "195f37f8-951a-4b74-981b-776a35f12c60",
   "metadata": {},
   "outputs": [],
   "source": [
    "#1단계) 변수 검토 및 전처리\n",
    " # 직업\n",
    " # 월급"
   ]
  },
  {
   "cell_type": "code",
   "execution_count": 446,
   "id": "f85f8a5d-816d-42b6-ac32-b937ce9eb5c8",
   "metadata": {},
   "outputs": [],
   "source": [
    "#2단계) 변수 간 관계 분석\n",
    " # 직업별 월급 평균표 만들기\n",
    " # 그래프 만들기"
   ]
  },
  {
   "cell_type": "code",
   "execution_count": 447,
   "id": "b3fcba43-6e44-4b1d-98fb-2b6ed6b30dd4",
   "metadata": {},
   "outputs": [],
   "source": [
    "#1단계)"
   ]
  },
  {
   "cell_type": "code",
   "execution_count": 448,
   "id": "8fdba586-8c89-4a5b-8922-d0d27227d0d1",
   "metadata": {},
   "outputs": [
    {
     "data": {
      "text/plain": [
       "dtype('float64')"
      ]
     },
     "execution_count": 448,
     "metadata": {},
     "output_type": "execute_result"
    }
   ],
   "source": [
    "#직업을 나타낸 code_job 변수 검토\n",
    "#변수 타입 출력\n",
    "welfare['code_job'].dtypes"
   ]
  },
  {
   "cell_type": "code",
   "execution_count": 449,
   "id": "c6c7c9df-3256-42b3-95eb-97259e708661",
   "metadata": {},
   "outputs": [
    {
     "data": {
      "text/plain": [
       "code_job\n",
       "611.0    962\n",
       "941.0    391\n",
       "521.0    354\n",
       "312.0    275\n",
       "873.0    236\n",
       "        ... \n",
       "112.0      2\n",
       "784.0      2\n",
       "423.0      1\n",
       "861.0      1\n",
       "872.0      1\n",
       "Name: count, Length: 150, dtype: int64"
      ]
     },
     "execution_count": 449,
     "metadata": {},
     "output_type": "execute_result"
    }
   ],
   "source": [
    "#빈도 구하기\n",
    "welfare['code_job'].value_counts()"
   ]
  },
  {
   "cell_type": "code",
   "execution_count": 450,
   "id": "996a750c-63df-4cef-8f1e-f2629031f053",
   "metadata": {},
   "outputs": [],
   "source": [
    "#code_job 변수의 값은 직업 코드 의미\n",
    "#복지패널 데이터에서 직업은 이름이 아니라 직업분류코드로 입력돼 있음\n",
    "#지금 상태로는 코드가 어떤 직업을 의미하는지 알 수 없으므로 \n",
    "#직업 이름을 나타낸 변수를 만들어야 함\n",
    "#코드북의 직업분류코드 목록을 보면 코드가 어떤 직업을 의미하는지 알 수 있음"
   ]
  },
  {
   "cell_type": "code",
   "execution_count": 451,
   "id": "a5a5b22f-7e7d-44e5-9a2c-db20a9e452f5",
   "metadata": {},
   "outputs": [],
   "source": [
    "#Koweps_Codebook_2019.xlsx 팡리의 '직종코드'시트에 있는 직업분류코드 목록 불러오기\n",
    "list_job = pd.read_excel('Koweps_Codebook_2019.xlsx', sheet_name = '직종코드')"
   ]
  },
  {
   "cell_type": "code",
   "execution_count": 452,
   "id": "7d93a168-7cb5-4542-bbab-fcbb39e6f84c",
   "metadata": {},
   "outputs": [
    {
     "data": {
      "text/html": [
       "<div>\n",
       "<style scoped>\n",
       "    .dataframe tbody tr th:only-of-type {\n",
       "        vertical-align: middle;\n",
       "    }\n",
       "\n",
       "    .dataframe tbody tr th {\n",
       "        vertical-align: top;\n",
       "    }\n",
       "\n",
       "    .dataframe thead th {\n",
       "        text-align: right;\n",
       "    }\n",
       "</style>\n",
       "<table border=\"1\" class=\"dataframe\">\n",
       "  <thead>\n",
       "    <tr style=\"text-align: right;\">\n",
       "      <th></th>\n",
       "      <th>code_job</th>\n",
       "      <th>job</th>\n",
       "    </tr>\n",
       "  </thead>\n",
       "  <tbody>\n",
       "    <tr>\n",
       "      <th>0</th>\n",
       "      <td>111</td>\n",
       "      <td>의회 의원∙고위 공무원 및 공공단체 임원</td>\n",
       "    </tr>\n",
       "    <tr>\n",
       "      <th>1</th>\n",
       "      <td>112</td>\n",
       "      <td>기업 고위 임원</td>\n",
       "    </tr>\n",
       "    <tr>\n",
       "      <th>2</th>\n",
       "      <td>121</td>\n",
       "      <td>행정 및 경영 지원 관리자</td>\n",
       "    </tr>\n",
       "    <tr>\n",
       "      <th>3</th>\n",
       "      <td>122</td>\n",
       "      <td>마케팅 및 광고∙홍보 관리자</td>\n",
       "    </tr>\n",
       "    <tr>\n",
       "      <th>4</th>\n",
       "      <td>131</td>\n",
       "      <td>연구∙교육 및 법률 관련 관리자</td>\n",
       "    </tr>\n",
       "  </tbody>\n",
       "</table>\n",
       "</div>"
      ],
      "text/plain": [
       "   code_job                     job\n",
       "0       111  의회 의원∙고위 공무원 및 공공단체 임원\n",
       "1       112                기업 고위 임원\n",
       "2       121          행정 및 경영 지원 관리자\n",
       "3       122         마케팅 및 광고∙홍보 관리자\n",
       "4       131       연구∙교육 및 법률 관련 관리자"
      ]
     },
     "execution_count": 452,
     "metadata": {},
     "output_type": "execute_result"
    }
   ],
   "source": [
    "list_job.head()"
   ]
  },
  {
   "cell_type": "code",
   "execution_count": 453,
   "id": "29f6e48f-b996-4fff-b2c2-045f7932b9f2",
   "metadata": {},
   "outputs": [
    {
     "data": {
      "text/plain": [
       "(156, 2)"
      ]
     },
     "execution_count": 453,
     "metadata": {},
     "output_type": "execute_result"
    }
   ],
   "source": [
    "list_job.shape #행, 열개수 출력"
   ]
  },
  {
   "cell_type": "code",
   "execution_count": 454,
   "id": "ff2bde3b-b6be-4bcd-bc1b-4ed5d3b61690",
   "metadata": {},
   "outputs": [],
   "source": [
    "#welfare에 list_job결합하기\n",
    "#welfare와 list_job에 공통으로 들어있는 code_job 변수를 기준으로 결합\n",
    "welfare = welfare.merge(list_job, how = 'left', on = 'code_job')"
   ]
  },
  {
   "cell_type": "code",
   "execution_count": 455,
   "id": "451b6067-7e79-4e82-90e4-d29e4ab1bb53",
   "metadata": {},
   "outputs": [
    {
     "data": {
      "text/plain": [
       "7540"
      ]
     },
     "execution_count": 455,
     "metadata": {},
     "output_type": "execute_result"
    }
   ],
   "source": [
    "#code_job의 결측치 확인\n",
    "welfare['code_job'].isna().sum()\n",
    "#결측치 7540개 존재"
   ]
  },
  {
   "cell_type": "code",
   "execution_count": 456,
   "id": "327fe379-f1fc-49b4-a873-df13663cd646",
   "metadata": {},
   "outputs": [
    {
     "data": {
      "text/html": [
       "<div>\n",
       "<style scoped>\n",
       "    .dataframe tbody tr th:only-of-type {\n",
       "        vertical-align: middle;\n",
       "    }\n",
       "\n",
       "    .dataframe tbody tr th {\n",
       "        vertical-align: top;\n",
       "    }\n",
       "\n",
       "    .dataframe thead th {\n",
       "        text-align: right;\n",
       "    }\n",
       "</style>\n",
       "<table border=\"1\" class=\"dataframe\">\n",
       "  <thead>\n",
       "    <tr style=\"text-align: right;\">\n",
       "      <th></th>\n",
       "      <th>code_job</th>\n",
       "      <th>job</th>\n",
       "    </tr>\n",
       "  </thead>\n",
       "  <tbody>\n",
       "    <tr>\n",
       "      <th>2</th>\n",
       "      <td>762.0</td>\n",
       "      <td>전기공</td>\n",
       "    </tr>\n",
       "    <tr>\n",
       "      <th>3</th>\n",
       "      <td>855.0</td>\n",
       "      <td>금속기계 부품 조립원</td>\n",
       "    </tr>\n",
       "    <tr>\n",
       "      <th>7</th>\n",
       "      <td>941.0</td>\n",
       "      <td>청소원 및 환경미화원</td>\n",
       "    </tr>\n",
       "    <tr>\n",
       "      <th>8</th>\n",
       "      <td>999.0</td>\n",
       "      <td>기타 서비스 관련 단순 종사자</td>\n",
       "    </tr>\n",
       "    <tr>\n",
       "      <th>14</th>\n",
       "      <td>312.0</td>\n",
       "      <td>경영 관련 사무원</td>\n",
       "    </tr>\n",
       "  </tbody>\n",
       "</table>\n",
       "</div>"
      ],
      "text/plain": [
       "    code_job               job\n",
       "2      762.0               전기공\n",
       "3      855.0       금속기계 부품 조립원\n",
       "7      941.0       청소원 및 환경미화원\n",
       "8      999.0  기타 서비스 관련 단순 종사자\n",
       "14     312.0         경영 관련 사무원"
      ]
     },
     "execution_count": 456,
     "metadata": {},
     "output_type": "execute_result"
    }
   ],
   "source": [
    "#code_job의 결측치 제거하고 code_job, job 출력\n",
    "welfare.dropna(subset='code_job')[['code_job', 'job']].head()"
   ]
  },
  {
   "cell_type": "code",
   "execution_count": 457,
   "id": "9358e981-3d9b-4620-b850-e586ad3e25f6",
   "metadata": {},
   "outputs": [],
   "source": [
    "#출력결과,\n",
    "#wefare에 직업 이름으로 된 job변수가 결합됐음"
   ]
  },
  {
   "cell_type": "code",
   "execution_count": 458,
   "id": "56cb1e03-a116-426e-9246-711dcf44680f",
   "metadata": {},
   "outputs": [],
   "source": [
    "#2단계) 직업별 월급 차이 분석"
   ]
  },
  {
   "cell_type": "code",
   "execution_count": 459,
   "id": "ffac3f55-df6a-4bc6-8382-83db7b11c174",
   "metadata": {},
   "outputs": [],
   "source": [
    "#직업별 월급 평균표 만들기\n",
    "job_income = welfare.dropna(subset=['income', 'job']) \\\n",
    "                    .groupby('job', as_index = False) \\\n",
    "                    .agg(mean_income = ('income', 'mean'))\n",
    "#(순서대로) job,income 결측치 제거\n",
    "#job별 분리\n",
    "#income 평균 구하기"
   ]
  },
  {
   "cell_type": "code",
   "execution_count": 460,
   "id": "25468cd6-898b-472f-92ea-0cb61e425eb6",
   "metadata": {},
   "outputs": [
    {
     "data": {
      "text/html": [
       "<div>\n",
       "<style scoped>\n",
       "    .dataframe tbody tr th:only-of-type {\n",
       "        vertical-align: middle;\n",
       "    }\n",
       "\n",
       "    .dataframe tbody tr th {\n",
       "        vertical-align: top;\n",
       "    }\n",
       "\n",
       "    .dataframe thead th {\n",
       "        text-align: right;\n",
       "    }\n",
       "</style>\n",
       "<table border=\"1\" class=\"dataframe\">\n",
       "  <thead>\n",
       "    <tr style=\"text-align: right;\">\n",
       "      <th></th>\n",
       "      <th>job</th>\n",
       "      <th>mean_income</th>\n",
       "    </tr>\n",
       "  </thead>\n",
       "  <tbody>\n",
       "    <tr>\n",
       "      <th>0</th>\n",
       "      <td>가사 및 육아 도우미</td>\n",
       "      <td>92.455882</td>\n",
       "    </tr>\n",
       "    <tr>\n",
       "      <th>1</th>\n",
       "      <td>간호사</td>\n",
       "      <td>265.219178</td>\n",
       "    </tr>\n",
       "    <tr>\n",
       "      <th>2</th>\n",
       "      <td>감정∙기술영업및중개관련종사자</td>\n",
       "      <td>391.000000</td>\n",
       "    </tr>\n",
       "    <tr>\n",
       "      <th>3</th>\n",
       "      <td>건물 관리원 및 검표원</td>\n",
       "      <td>168.375000</td>\n",
       "    </tr>\n",
       "    <tr>\n",
       "      <th>4</th>\n",
       "      <td>건설 및 광업 단순 종사자</td>\n",
       "      <td>261.975000</td>\n",
       "    </tr>\n",
       "  </tbody>\n",
       "</table>\n",
       "</div>"
      ],
      "text/plain": [
       "                job  mean_income\n",
       "0       가사 및 육아 도우미    92.455882\n",
       "1               간호사   265.219178\n",
       "2  감정∙기술영업및중개관련종사자    391.000000\n",
       "3      건물 관리원 및 검표원   168.375000\n",
       "4    건설 및 광업 단순 종사자   261.975000"
      ]
     },
     "execution_count": 460,
     "metadata": {},
     "output_type": "execute_result"
    }
   ],
   "source": [
    "job_income.head()"
   ]
  },
  {
   "cell_type": "code",
   "execution_count": 461,
   "id": "a361f769-b128-4f6b-aad2-d2ea322f0e62",
   "metadata": {},
   "outputs": [],
   "source": [
    "#월급이 많은 직업 알아보기"
   ]
  },
  {
   "cell_type": "code",
   "execution_count": 462,
   "id": "e6f3faec-236b-4d7a-b537-51e9822cd920",
   "metadata": {},
   "outputs": [],
   "source": [
    "#앞에서 구한 직업별 월급 평균표를 월급 기준으로 내림차순 정렬 후,\n",
    "#상위 10개 추출\n",
    "top10 = job_income.sort_values('mean_income', ascending=False).head(10)"
   ]
  },
  {
   "cell_type": "code",
   "execution_count": 463,
   "id": "5f2757bd-acd5-47ec-a64c-cbcebdb63411",
   "metadata": {},
   "outputs": [
    {
     "data": {
      "text/html": [
       "<div>\n",
       "<style scoped>\n",
       "    .dataframe tbody tr th:only-of-type {\n",
       "        vertical-align: middle;\n",
       "    }\n",
       "\n",
       "    .dataframe tbody tr th {\n",
       "        vertical-align: top;\n",
       "    }\n",
       "\n",
       "    .dataframe thead th {\n",
       "        text-align: right;\n",
       "    }\n",
       "</style>\n",
       "<table border=\"1\" class=\"dataframe\">\n",
       "  <thead>\n",
       "    <tr style=\"text-align: right;\">\n",
       "      <th></th>\n",
       "      <th>job</th>\n",
       "      <th>mean_income</th>\n",
       "    </tr>\n",
       "  </thead>\n",
       "  <tbody>\n",
       "    <tr>\n",
       "      <th>98</th>\n",
       "      <td>의료 진료 전문가</td>\n",
       "      <td>781.000000</td>\n",
       "    </tr>\n",
       "    <tr>\n",
       "      <th>60</th>\n",
       "      <td>법률 전문가</td>\n",
       "      <td>776.333333</td>\n",
       "    </tr>\n",
       "    <tr>\n",
       "      <th>140</th>\n",
       "      <td>행정 및 경영 지원 관리자</td>\n",
       "      <td>771.833333</td>\n",
       "    </tr>\n",
       "    <tr>\n",
       "      <th>63</th>\n",
       "      <td>보험 및 금융 관리자</td>\n",
       "      <td>734.750000</td>\n",
       "    </tr>\n",
       "    <tr>\n",
       "      <th>110</th>\n",
       "      <td>재활용 처리 및 소각로 조작원</td>\n",
       "      <td>688.000000</td>\n",
       "    </tr>\n",
       "    <tr>\n",
       "      <th>131</th>\n",
       "      <td>컴퓨터 하드웨어 및 통신공학 전문가</td>\n",
       "      <td>679.444444</td>\n",
       "    </tr>\n",
       "    <tr>\n",
       "      <th>24</th>\n",
       "      <td>기계∙로봇공학 기술자 및 시험원</td>\n",
       "      <td>669.166667</td>\n",
       "    </tr>\n",
       "    <tr>\n",
       "      <th>6</th>\n",
       "      <td>건설∙전기 및 생산 관련 관리자</td>\n",
       "      <td>603.083333</td>\n",
       "    </tr>\n",
       "    <tr>\n",
       "      <th>120</th>\n",
       "      <td>제관원 및 판금원</td>\n",
       "      <td>597.000000</td>\n",
       "    </tr>\n",
       "    <tr>\n",
       "      <th>100</th>\n",
       "      <td>의회 의원∙고위 공무원 및 공공단체 임원</td>\n",
       "      <td>580.500000</td>\n",
       "    </tr>\n",
       "  </tbody>\n",
       "</table>\n",
       "</div>"
      ],
      "text/plain": [
       "                        job  mean_income\n",
       "98                의료 진료 전문가   781.000000\n",
       "60                   법률 전문가   776.333333\n",
       "140          행정 및 경영 지원 관리자   771.833333\n",
       "63              보험 및 금융 관리자   734.750000\n",
       "110        재활용 처리 및 소각로 조작원   688.000000\n",
       "131     컴퓨터 하드웨어 및 통신공학 전문가   679.444444\n",
       "24        기계∙로봇공학 기술자 및 시험원   669.166667\n",
       "6         건설∙전기 및 생산 관련 관리자   603.083333\n",
       "120               제관원 및 판금원   597.000000\n",
       "100  의회 의원∙고위 공무원 및 공공단체 임원   580.500000"
      ]
     },
     "execution_count": 463,
     "metadata": {},
     "output_type": "execute_result"
    }
   ],
   "source": [
    "top10"
   ]
  },
  {
   "cell_type": "code",
   "execution_count": 464,
   "id": "e072f6f8-277d-4bba-b195-d7a35b68a6a4",
   "metadata": {},
   "outputs": [],
   "source": [
    "#그래프 만들기\n",
    "#직업 이름이 한글로 되어 있으므로 그래프에 제대로 출력되도록 폰트 설정\n",
    "#맑은 고딕 폰트 설정\n",
    "import matplotlib.pyplot as plt"
   ]
  },
  {
   "cell_type": "code",
   "execution_count": 465,
   "id": "ee096b73-6014-4d7b-a655-48fc96b7b673",
   "metadata": {},
   "outputs": [],
   "source": [
    "plt.rcParams.update({'font.family':'Malgun Gothic'})"
   ]
  },
  {
   "cell_type": "code",
   "execution_count": 466,
   "id": "2ae426f6-4159-4eff-b5b3-f034f507cff0",
   "metadata": {},
   "outputs": [
    {
     "data": {
      "text/plain": [
       "<Axes: xlabel='mean_income', ylabel='job'>"
      ]
     },
     "execution_count": 466,
     "metadata": {},
     "output_type": "execute_result"
    },
    {
     "data": {
      "image/png": "[encoded data removed]",
      "text/plain": [
       "<Figure size 640x480 with 1 Axes>"
      ]
     },
     "metadata": {},
     "output_type": "display_data"
    }
   ],
   "source": [
    "#직업 이름이 길기 때문에 x축에 직업 이름 지정시, 서로 겹쳐서 못 알아봄\n",
    "#직업 이름을 y축, 월급 평균을 x축에 지정\n",
    "sns.barplot(data=top10, y = 'job', x = 'mean_income')"
   ]
  },
  {
   "cell_type": "code",
   "execution_count": 467,
   "id": "94c69304-148e-45d1-8443-67b86646cd68",
   "metadata": {},
   "outputs": [],
   "source": [
    "#출력결과,\n",
    "#'의료 진료 전문가'의 월급이 평균 781만원으로 가장 많음\n",
    "# 그 뒤로,\n",
    "#'법률전문가', '행정 및 경영 지원 관리자', '보험 및 금융 관리자'순으로 많음"
   ]
  },
  {
   "cell_type": "code",
   "execution_count": 468,
   "id": "7f62e07f-7cce-4330-8751-6918ba9d9e56",
   "metadata": {},
   "outputs": [],
   "source": [
    "#월급이 적은 직업 알아보기"
   ]
  },
  {
   "cell_type": "code",
   "execution_count": 469,
   "id": "a194cba2-cded-4ecd-b590-8df7c52aef4a",
   "metadata": {},
   "outputs": [],
   "source": [
    "#직업별 월급 평균표를 월급 기준으로 오름차순 정렬 후,\n",
    "#상위 10개 추출"
   ]
  },
  {
   "cell_type": "code",
   "execution_count": 470,
   "id": "6140595c-4075-4fea-a94d-641592ac88ac",
   "metadata": {},
   "outputs": [],
   "source": [
    "bottom10 = job_income.sort_values('mean_income').head(10)"
   ]
  },
  {
   "cell_type": "code",
   "execution_count": 471,
   "id": "1dcddf20-b99f-4a10-98d1-512f815dae0e",
   "metadata": {},
   "outputs": [
    {
     "data": {
      "text/html": [
       "<div>\n",
       "<style scoped>\n",
       "    .dataframe tbody tr th:only-of-type {\n",
       "        vertical-align: middle;\n",
       "    }\n",
       "\n",
       "    .dataframe tbody tr th {\n",
       "        vertical-align: top;\n",
       "    }\n",
       "\n",
       "    .dataframe thead th {\n",
       "        text-align: right;\n",
       "    }\n",
       "</style>\n",
       "<table border=\"1\" class=\"dataframe\">\n",
       "  <thead>\n",
       "    <tr style=\"text-align: right;\">\n",
       "      <th></th>\n",
       "      <th>job</th>\n",
       "      <th>mean_income</th>\n",
       "    </tr>\n",
       "  </thead>\n",
       "  <tbody>\n",
       "    <tr>\n",
       "      <th>33</th>\n",
       "      <td>기타 돌봄∙보건 및 개인 생활 서비스 종사자</td>\n",
       "      <td>73.964286</td>\n",
       "    </tr>\n",
       "    <tr>\n",
       "      <th>34</th>\n",
       "      <td>기타 서비스 관련 단순 종사자</td>\n",
       "      <td>77.789474</td>\n",
       "    </tr>\n",
       "    <tr>\n",
       "      <th>128</th>\n",
       "      <td>청소원 및 환경미화원</td>\n",
       "      <td>88.461756</td>\n",
       "    </tr>\n",
       "    <tr>\n",
       "      <th>0</th>\n",
       "      <td>가사 및 육아 도우미</td>\n",
       "      <td>92.455882</td>\n",
       "    </tr>\n",
       "    <tr>\n",
       "      <th>43</th>\n",
       "      <td>돌봄 및 보건 서비스 종사자</td>\n",
       "      <td>117.162338</td>\n",
       "    </tr>\n",
       "    <tr>\n",
       "      <th>97</th>\n",
       "      <td>음식 관련 단순 종사자</td>\n",
       "      <td>118.187500</td>\n",
       "    </tr>\n",
       "    <tr>\n",
       "      <th>39</th>\n",
       "      <td>농림∙어업 관련 단순 종사자</td>\n",
       "      <td>122.625000</td>\n",
       "    </tr>\n",
       "    <tr>\n",
       "      <th>139</th>\n",
       "      <td>학예사∙사서 및 기록물 관리사</td>\n",
       "      <td>140.000000</td>\n",
       "    </tr>\n",
       "    <tr>\n",
       "      <th>126</th>\n",
       "      <td>채굴 및 토목 관련 기능 종사자</td>\n",
       "      <td>140.000000</td>\n",
       "    </tr>\n",
       "    <tr>\n",
       "      <th>135</th>\n",
       "      <td>판매 관련 단순 종사자</td>\n",
       "      <td>140.909091</td>\n",
       "    </tr>\n",
       "  </tbody>\n",
       "</table>\n",
       "</div>"
      ],
      "text/plain": [
       "                          job  mean_income\n",
       "33   기타 돌봄∙보건 및 개인 생활 서비스 종사자    73.964286\n",
       "34           기타 서비스 관련 단순 종사자    77.789474\n",
       "128               청소원 및 환경미화원    88.461756\n",
       "0                 가사 및 육아 도우미    92.455882\n",
       "43            돌봄 및 보건 서비스 종사자   117.162338\n",
       "97               음식 관련 단순 종사자   118.187500\n",
       "39            농림∙어업 관련 단순 종사자   122.625000\n",
       "139          학예사∙사서 및 기록물 관리사   140.000000\n",
       "126         채굴 및 토목 관련 기능 종사자   140.000000\n",
       "135              판매 관련 단순 종사자   140.909091"
      ]
     },
     "execution_count": 471,
     "metadata": {},
     "output_type": "execute_result"
    }
   ],
   "source": [
    "bottom10"
   ]
  },
  {
   "cell_type": "code",
   "execution_count": 472,
   "id": "ecbba701-46f8-413a-8cad-39448d51c6cc",
   "metadata": {},
   "outputs": [],
   "source": [
    "#앞에서 만든 월급 상위 10위 그래프와 비교할 수 있도록 \n",
    "#그래프의 x축을 0~800으로 제한"
   ]
  },
  {
   "cell_type": "code",
   "execution_count": 473,
   "id": "586cc6e3-99ba-47a3-9638-f6b1cb7811f2",
   "metadata": {},
   "outputs": [
    {
     "data": {
      "text/plain": [
       "[(0.0, 800.0)]"
      ]
     },
     "execution_count": 473,
     "metadata": {},
     "output_type": "execute_result"
    },
    {
     "data": {
      "image/png": "[encoded data removed]",
      "text/plain": [
       "<Figure size 640x480 with 1 Axes>"
      ]
     },
     "metadata": {},
     "output_type": "display_data"
    }
   ],
   "source": [
    "#막대그래프 만들기\n",
    "sns.barplot(data=bottom10, x = 'mean_income', y = 'job') \\\n",
    "    .set(xlim = [0,800])"
   ]
  },
  {
   "cell_type": "code",
   "execution_count": 474,
   "id": "01b9d34b-d80f-48c1-a652-7bc43992369c",
   "metadata": {},
   "outputs": [],
   "source": [
    "#출력 결과,\n",
    "#'기타 돌봄/보건 및 개인 생활 서비스 종사자'의 월급이 평균 73만원으로 가장 적고\n",
    "#그 뒤로\n",
    "#'기타 서비스 관련 단순 종사자','청소원 및 환경미화원','가사 및 육아도우미'순으로 적음"
   ]
  },
  {
   "cell_type": "code",
   "execution_count": 475,
   "id": "f7d53200-ba44-4895-8ff5-c93140a0e31b",
   "metadata": {},
   "outputs": [],
   "source": [
    "#월급이 가장 많은 직업과 가장 적은 직업을 비교하면\n",
    "#'의료 진료 전문가'는 평균 781만원\n",
    "#'기타 돌봄/보건 및 개인 생활 서비스 종사자'는 평균 73만원 받음\n",
    "#따라서 '의료 진료 전문가'는 '기타 돌봄/보건 및 개인 생활 서비스 종사자'보다 10배 넘는 월급 받음"
   ]
  },
  {
   "cell_type": "code",
   "execution_count": null,
   "id": "86ea5592-ca0d-4f7f-b79c-524bc529ac5a",
   "metadata": {},
   "outputs": [],
   "source": []
  },
  {
   "cell_type": "code",
   "execution_count": null,
   "id": "e7416690-0602-4805-bb7f-26966c2710f3",
   "metadata": {},
   "outputs": [],
   "source": []
  },
  {
   "cell_type": "code",
   "execution_count": 478,
   "id": "07d1e3a5-aecb-4ab2-806b-d8aee04ff711",
   "metadata": {},
   "outputs": [],
   "source": [
    "######9-7 : 성별 직업 빈도 - 성별에 따라 어떤 직업이 가장 많을까?"
   ]
  },
  {
   "cell_type": "code",
   "execution_count": 479,
   "id": "2394845e-f550-4272-8b81-fb8fd9bab963",
   "metadata": {},
   "outputs": [],
   "source": [
    "#성별에 따라 어떤 직업이 많은지 분석해보자\n",
    "#성별, 직업 변수 전처리 작업은 앞에서 했으니 패스\n",
    "#성별과 직업의 관계 분석해보자 "
   ]
  },
  {
   "cell_type": "code",
   "execution_count": 480,
   "id": "9cd04874-f06f-421e-823b-4de9d0492f95",
   "metadata": {},
   "outputs": [],
   "source": [
    "#1단계) 변수 검토 및 전처리\n",
    " #성별\n",
    " #직업"
   ]
  },
  {
   "cell_type": "code",
   "execution_count": 481,
   "id": "4f8f2b3a-0546-4fd7-b937-241ee7677b80",
   "metadata": {},
   "outputs": [],
   "source": [
    "#2단계) 변수 간 관계분석\n",
    " #성별 직업 빈도표 만들기\n",
    " #그래프 만들기"
   ]
  },
  {
   "cell_type": "code",
   "execution_count": 482,
   "id": "3483655d-afea-45cd-a4d6-3758d66ba015",
   "metadata": {},
   "outputs": [],
   "source": [
    "#성별로 직업별 빈도를 구해서 상위 10개 추출"
   ]
  },
  {
   "cell_type": "code",
   "execution_count": 483,
   "id": "fcbb931c-ed83-4d68-89b3-b038c52b9d05",
   "metadata": {},
   "outputs": [],
   "source": [
    "#남성 직업 빈도 상위 10개 추출\n",
    "job_male = welfare.dropna(subset='job') \\\n",
    "                  .query('sex == \"male\"') \\\n",
    "                  .groupby('job', as_index = False) \\\n",
    "                  .agg(n=('job', 'count')) \\\n",
    "                  .sort_values('n', ascending = False) \\\n",
    "                  .head(10)\n",
    "#(순서대로) job 결측치 제거\n",
    "#male추출\n",
    "#job별 분리\n",
    "#job 빈도 구하기\n",
    "#내림차순 정렬\n",
    "#상위 10행 추출"
   ]
  },
  {
   "cell_type": "code",
   "execution_count": 484,
   "id": "4e0c23ce-6a0f-4d1e-a059-f3e78e9a8970",
   "metadata": {},
   "outputs": [
    {
     "data": {
      "text/html": [
       "<div>\n",
       "<style scoped>\n",
       "    .dataframe tbody tr th:only-of-type {\n",
       "        vertical-align: middle;\n",
       "    }\n",
       "\n",
       "    .dataframe tbody tr th {\n",
       "        vertical-align: top;\n",
       "    }\n",
       "\n",
       "    .dataframe thead th {\n",
       "        text-align: right;\n",
       "    }\n",
       "</style>\n",
       "<table border=\"1\" class=\"dataframe\">\n",
       "  <thead>\n",
       "    <tr style=\"text-align: right;\">\n",
       "      <th></th>\n",
       "      <th>job</th>\n",
       "      <th>n</th>\n",
       "    </tr>\n",
       "  </thead>\n",
       "  <tbody>\n",
       "    <tr>\n",
       "      <th>107</th>\n",
       "      <td>작물 재배 종사자</td>\n",
       "      <td>486</td>\n",
       "    </tr>\n",
       "    <tr>\n",
       "      <th>104</th>\n",
       "      <td>자동차 운전원</td>\n",
       "      <td>230</td>\n",
       "    </tr>\n",
       "    <tr>\n",
       "      <th>11</th>\n",
       "      <td>경영 관련 사무원</td>\n",
       "      <td>216</td>\n",
       "    </tr>\n",
       "    <tr>\n",
       "      <th>46</th>\n",
       "      <td>매장 판매 종사자</td>\n",
       "      <td>142</td>\n",
       "    </tr>\n",
       "    <tr>\n",
       "      <th>89</th>\n",
       "      <td>영업 종사자</td>\n",
       "      <td>113</td>\n",
       "    </tr>\n",
       "    <tr>\n",
       "      <th>127</th>\n",
       "      <td>청소원 및 환경미화원</td>\n",
       "      <td>109</td>\n",
       "    </tr>\n",
       "    <tr>\n",
       "      <th>4</th>\n",
       "      <td>건설 및 광업 단순 종사자</td>\n",
       "      <td>96</td>\n",
       "    </tr>\n",
       "    <tr>\n",
       "      <th>120</th>\n",
       "      <td>제조 관련 단순 종사자</td>\n",
       "      <td>80</td>\n",
       "    </tr>\n",
       "    <tr>\n",
       "      <th>3</th>\n",
       "      <td>건물 관리원 및 검표원</td>\n",
       "      <td>79</td>\n",
       "    </tr>\n",
       "    <tr>\n",
       "      <th>141</th>\n",
       "      <td>행정 사무원</td>\n",
       "      <td>74</td>\n",
       "    </tr>\n",
       "  </tbody>\n",
       "</table>\n",
       "</div>"
      ],
      "text/plain": [
       "                job    n\n",
       "107       작물 재배 종사자  486\n",
       "104         자동차 운전원  230\n",
       "11        경영 관련 사무원  216\n",
       "46        매장 판매 종사자  142\n",
       "89           영업 종사자  113\n",
       "127     청소원 및 환경미화원  109\n",
       "4    건설 및 광업 단순 종사자   96\n",
       "120    제조 관련 단순 종사자   80\n",
       "3      건물 관리원 및 검표원   79\n",
       "141          행정 사무원   74"
      ]
     },
     "execution_count": 484,
     "metadata": {},
     "output_type": "execute_result"
    }
   ],
   "source": [
    "job_male"
   ]
  },
  {
   "cell_type": "code",
   "execution_count": 485,
   "id": "84f3e10c-343c-40fd-b1ed-cc898b57c963",
   "metadata": {},
   "outputs": [],
   "source": [
    "#여성 직업 빈도 상위 10개 추출\n",
    "job_female = welfare.dropna(subset='job')\\\n",
    "                    .query('sex == \"female\"') \\\n",
    "                    .groupby('job', as_index = False) \\\n",
    "                    .agg(n = ('job', 'count')) \\\n",
    "                    .sort_values('n', ascending = False) \\\n",
    "                    .head(10)"
   ]
  },
  {
   "cell_type": "code",
   "execution_count": 486,
   "id": "2afe51ac-9057-447b-b5a8-33e94d3bfb25",
   "metadata": {},
   "outputs": [
    {
     "data": {
      "text/html": [
       "<div>\n",
       "<style scoped>\n",
       "    .dataframe tbody tr th:only-of-type {\n",
       "        vertical-align: middle;\n",
       "    }\n",
       "\n",
       "    .dataframe tbody tr th {\n",
       "        vertical-align: top;\n",
       "    }\n",
       "\n",
       "    .dataframe thead th {\n",
       "        text-align: right;\n",
       "    }\n",
       "</style>\n",
       "<table border=\"1\" class=\"dataframe\">\n",
       "  <thead>\n",
       "    <tr style=\"text-align: right;\">\n",
       "      <th></th>\n",
       "      <th>job</th>\n",
       "      <th>n</th>\n",
       "    </tr>\n",
       "  </thead>\n",
       "  <tbody>\n",
       "    <tr>\n",
       "      <th>83</th>\n",
       "      <td>작물 재배 종사자</td>\n",
       "      <td>476</td>\n",
       "    </tr>\n",
       "    <tr>\n",
       "      <th>91</th>\n",
       "      <td>청소원 및 환경미화원</td>\n",
       "      <td>282</td>\n",
       "    </tr>\n",
       "    <tr>\n",
       "      <th>33</th>\n",
       "      <td>매장 판매 종사자</td>\n",
       "      <td>212</td>\n",
       "    </tr>\n",
       "    <tr>\n",
       "      <th>106</th>\n",
       "      <td>회계 및 경리 사무원</td>\n",
       "      <td>163</td>\n",
       "    </tr>\n",
       "    <tr>\n",
       "      <th>31</th>\n",
       "      <td>돌봄 및 보건 서비스 종사자</td>\n",
       "      <td>155</td>\n",
       "    </tr>\n",
       "    <tr>\n",
       "      <th>87</th>\n",
       "      <td>제조 관련 단순 종사자</td>\n",
       "      <td>148</td>\n",
       "    </tr>\n",
       "    <tr>\n",
       "      <th>73</th>\n",
       "      <td>음식 관련 단순 종사자</td>\n",
       "      <td>126</td>\n",
       "    </tr>\n",
       "    <tr>\n",
       "      <th>58</th>\n",
       "      <td>식음료 서비스 종사자</td>\n",
       "      <td>117</td>\n",
       "    </tr>\n",
       "    <tr>\n",
       "      <th>88</th>\n",
       "      <td>조리사</td>\n",
       "      <td>114</td>\n",
       "    </tr>\n",
       "    <tr>\n",
       "      <th>24</th>\n",
       "      <td>기타 서비스 관련 단순 종사자</td>\n",
       "      <td>97</td>\n",
       "    </tr>\n",
       "  </tbody>\n",
       "</table>\n",
       "</div>"
      ],
      "text/plain": [
       "                  job    n\n",
       "83          작물 재배 종사자  476\n",
       "91        청소원 및 환경미화원  282\n",
       "33          매장 판매 종사자  212\n",
       "106       회계 및 경리 사무원  163\n",
       "31    돌봄 및 보건 서비스 종사자  155\n",
       "87       제조 관련 단순 종사자  148\n",
       "73       음식 관련 단순 종사자  126\n",
       "58        식음료 서비스 종사자  117\n",
       "88                조리사  114\n",
       "24   기타 서비스 관련 단순 종사자   97"
      ]
     },
     "execution_count": 486,
     "metadata": {},
     "output_type": "execute_result"
    }
   ],
   "source": [
    "job_female"
   ]
  },
  {
   "cell_type": "code",
   "execution_count": 487,
   "id": "8ce4038f-8e6b-4bc7-98cc-41421d723d78",
   "metadata": {},
   "outputs": [
    {
     "data": {
      "text/plain": [
       "[(0.0, 500.0)]"
      ]
     },
     "execution_count": 487,
     "metadata": {},
     "output_type": "execute_result"
    },
    {
     "data": {
      "image/png": "[encoded data removed]",
      "text/plain": [
       "<Figure size 640x480 with 1 Axes>"
      ]
     },
     "metadata": {},
     "output_type": "display_data"
    }
   ],
   "source": [
    "#남성 직업 빈도 막대 그래프 만들기\n",
    "#성별 직업 빈도 그래프 비교 위해 x축은 0~500으로 범위 제한\n",
    "sns.barplot(data=job_male, x = 'n', y = 'job').set(xlim = [0,500])"
   ]
  },
  {
   "cell_type": "code",
   "execution_count": 488,
   "id": "94a86c25-4b8f-4c25-b643-c3b3dc7bbd7d",
   "metadata": {},
   "outputs": [
    {
     "data": {
      "text/plain": [
       "[(0.0, 500.0)]"
      ]
     },
     "execution_count": 488,
     "metadata": {},
     "output_type": "execute_result"
    },
    {
     "data": {
      "image/png": "[encoded data removed]",
      "text/plain": [
       "<Figure size 640x480 with 1 Axes>"
      ]
     },
     "metadata": {},
     "output_type": "display_data"
    }
   ],
   "source": [
    "#여성 직업 빈도 막대 그래프 만들기\n",
    "sns.barplot(data=job_female, x = 'n', y = 'job').set(xlim = [0,500])\n"
   ]
  },
  {
   "cell_type": "code",
   "execution_count": 489,
   "id": "03514347-8dc7-4420-8ef4-f8b98e2d7192",
   "metadata": {},
   "outputs": [],
   "source": [
    "#출력 결과,\n",
    "#남녀 모두 '작물 재배 종사자'가 가장 많음\n",
    "#그 뒤로는 순위 다름\n",
    "#남성은 '자동차 운전원', '경영 관련 사무원', '매장 판매 종사자' 순으로 많음\n",
    "#여성은 '청소원 및 환경미화원', '매장 판매 종사자', '회계 및 경리 사무원' 순으로 많음"
   ]
  },
  {
   "cell_type": "code",
   "execution_count": null,
   "id": "c51ca85b-e4c3-4a13-83fb-7d4f65c432cc",
   "metadata": {},
   "outputs": [],
   "source": []
  },
  {
   "cell_type": "code",
   "execution_count": 491,
   "id": "cfc8e0dc-b98e-4307-bcfe-65cebf678e84",
   "metadata": {},
   "outputs": [],
   "source": [
    "######9-8 : 종교 유무에 따른 이혼율 - 종교가 있으면 이혼을 덜 할까?"
   ]
  },
  {
   "cell_type": "code",
   "execution_count": 492,
   "id": "26d246fd-9a6c-487d-ad5b-90a1a7105d73",
   "metadata": {},
   "outputs": [],
   "source": [
    "#종교가 있는 사람이 종교가 없는 사람보다 이혼을 덜 하는지 분석해보자 "
   ]
  },
  {
   "cell_type": "code",
   "execution_count": 493,
   "id": "d89ba4eb-bd04-4ba9-b209-f81cd9b519b4",
   "metadata": {},
   "outputs": [],
   "source": [
    "#종교, 혼인 상태의 두 변수를 검토 및 전처리 한 다음\n",
    "# 종교와 이혼율의 관계를 분석하자"
   ]
  },
  {
   "cell_type": "code",
   "execution_count": 494,
   "id": "2d4aae8b-3ddf-41b2-9f6b-04abf7c58cb9",
   "metadata": {},
   "outputs": [],
   "source": [
    "#1단계) 변수 검토 및 전처리\n",
    " #종교\n",
    " #혼인상태"
   ]
  },
  {
   "cell_type": "code",
   "execution_count": 495,
   "id": "71b4ff01-be18-4808-a968-1c4c6d445079",
   "metadata": {},
   "outputs": [],
   "source": [
    "#2단계) 변수 간 관계 분석\n",
    " #종교 유무에 따른 이혼율 표 만들기\n",
    " #그래프 만들기"
   ]
  },
  {
   "cell_type": "code",
   "execution_count": null,
   "id": "cf798297-6711-4699-b8b9-392c17c34af2",
   "metadata": {},
   "outputs": [],
   "source": []
  },
  {
   "cell_type": "code",
   "execution_count": 497,
   "id": "8d01c529-147f-4995-a835-b31f03584db2",
   "metadata": {},
   "outputs": [],
   "source": [
    "#종교변수 검토"
   ]
  },
  {
   "cell_type": "code",
   "execution_count": 498,
   "id": "49a29edc-c023-4f27-a9c9-3b7c5396cf7b",
   "metadata": {},
   "outputs": [
    {
     "data": {
      "text/plain": [
       "dtype('float64')"
      ]
     },
     "execution_count": 498,
     "metadata": {},
     "output_type": "execute_result"
    }
   ],
   "source": [
    "#변수 타입 출력\n",
    "welfare['religion'].dtypes"
   ]
  },
  {
   "cell_type": "code",
   "execution_count": 499,
   "id": "4b4805dc-1535-4352-bd6d-9bf2e10d7a6f",
   "metadata": {},
   "outputs": [
    {
     "data": {
      "text/plain": [
       "religion\n",
       "2.0    7815\n",
       "1.0    6603\n",
       "Name: count, dtype: int64"
      ]
     },
     "execution_count": 499,
     "metadata": {},
     "output_type": "execute_result"
    }
   ],
   "source": [
    "#빈도 구하기\n",
    "welfare['religion'].value_counts()\n",
    "#코드표 참고하면,\n",
    "#1 = 종교 있음\n",
    "#2 = 종교 없음\n",
    "#9 = 모름/무응답"
   ]
  },
  {
   "cell_type": "code",
   "execution_count": 500,
   "id": "5c6bb737-82e5-4a62-8b52-a2f0d75eedfb",
   "metadata": {},
   "outputs": [],
   "source": [
    "#출력결과, \n",
    "#이상치 X\n",
    "#종교 있는 사람은 6603명,\n",
    "#종교 없는 사람은 7815명"
   ]
  },
  {
   "cell_type": "code",
   "execution_count": 501,
   "id": "8dafdf8c-570f-428a-a3df-3a42eab424bd",
   "metadata": {},
   "outputs": [],
   "source": [
    "#종교 유무 이름 부여\n",
    "welfare['religion'] = np.where(\n",
    "    welfare['religion'] == 1,\n",
    "    'yes',\n",
    "    'no'\n",
    ")"
   ]
  },
  {
   "cell_type": "code",
   "execution_count": 502,
   "id": "944344fc-a95c-4c0d-b0b1-94437b145de0",
   "metadata": {},
   "outputs": [
    {
     "data": {
      "text/plain": [
       "religion\n",
       "no     7815\n",
       "yes    6603\n",
       "Name: count, dtype: int64"
      ]
     },
     "execution_count": 502,
     "metadata": {},
     "output_type": "execute_result"
    }
   ],
   "source": [
    "#빈도구하기\n",
    "welfare['religion'].value_counts()"
   ]
  },
  {
   "cell_type": "code",
   "execution_count": 503,
   "id": "89d1048c-0507-4a27-bee7-c69bf7b9a730",
   "metadata": {},
   "outputs": [
    {
     "data": {
      "text/plain": [
       "<Axes: xlabel='religion', ylabel='count'>"
      ]
     },
     "execution_count": 503,
     "metadata": {},
     "output_type": "execute_result"
    },
    {
     "data": {
      "image/png": "[encoded data removed]",
      "text/plain": [
       "<Figure size 640x480 with 1 Axes>"
      ]
     },
     "metadata": {},
     "output_type": "display_data"
    }
   ],
   "source": [
    "#막대그래프 만들기\n",
    "sns.countplot(data=welfare, x = 'religion', )"
   ]
  },
  {
   "cell_type": "code",
   "execution_count": 504,
   "id": "c6b81335-8832-4fac-8231-15de5620d236",
   "metadata": {},
   "outputs": [],
   "source": [
    "#혼인상태 변수 검토하기"
   ]
  },
  {
   "cell_type": "code",
   "execution_count": 505,
   "id": "97873701-d663-4d58-97ab-b1e9adfde483",
   "metadata": {},
   "outputs": [
    {
     "data": {
      "text/plain": [
       "dtype('float64')"
      ]
     },
     "execution_count": 505,
     "metadata": {},
     "output_type": "execute_result"
    }
   ],
   "source": [
    "#변수 타입 출력\n",
    "welfare['marriage_type'].dtypes"
   ]
  },
  {
   "cell_type": "code",
   "execution_count": 506,
   "id": "c71a8d1d-57e4-46a6-ba70-6446172088f1",
   "metadata": {},
   "outputs": [
    {
     "data": {
      "text/plain": [
       "marriage_type\n",
       "1.0    7190\n",
       "5.0    2357\n",
       "0.0    2121\n",
       "2.0    1954\n",
       "3.0     689\n",
       "4.0      78\n",
       "6.0      29\n",
       "Name: count, dtype: int64"
      ]
     },
     "execution_count": 506,
     "metadata": {},
     "output_type": "execute_result"
    }
   ],
   "source": [
    "#빈도 구하기\n",
    "welfare['marriage_type'].value_counts()\n",
    "#코드표 참고하면,\n",
    "# 0 = 비해당(18세 미만)\n",
    "# 1 = 유배우\n",
    "# 2 = 사별\n",
    "# 3 = 이혼\n",
    "# 4 = 별거\n",
    "# 5 = 미혼(18세 이상, 미혼모 포함)\n",
    "# 6 = 기타(사망 등)\n",
    "# 9 = 모름/무응답"
   ]
  },
  {
   "cell_type": "code",
   "execution_count": 507,
   "id": "89a3200b-0d81-4302-b504-524baab1c7f9",
   "metadata": {},
   "outputs": [],
   "source": [
    "#출력 결과,\n",
    "#이상치 X"
   ]
  },
  {
   "cell_type": "code",
   "execution_count": 508,
   "id": "0a6d6f9a-7210-4848-9e22-116fd86f7fa5",
   "metadata": {},
   "outputs": [],
   "source": [
    "#이혼 여부 변수 만들기\n",
    "welfare['marriage'] = np.where(\n",
    "    welfare['marriage_type'] == 1, 'marriage', \n",
    "    np.where(welfare['marriage_type'] == 3, 'divorce', 'etc')\n",
    ")"
   ]
  },
  {
   "cell_type": "code",
   "execution_count": 509,
   "id": "0265f422-2700-4e40-ae6f-a09a7d7c3b26",
   "metadata": {},
   "outputs": [],
   "source": [
    "#이혼 여부별 빈도\n",
    "n_divorce = welfare.groupby('marriage', as_index = False) \\\n",
    "                    .agg(n = ('marriage', 'count'))\n",
    "#(순서대로) marriage별 분리\n",
    "#marriage별 빈도 구하기"
   ]
  },
  {
   "cell_type": "code",
   "execution_count": 510,
   "id": "8722265e-27bd-4b48-917e-a86b9a2e0a71",
   "metadata": {},
   "outputs": [
    {
     "data": {
      "text/html": [
       "<div>\n",
       "<style scoped>\n",
       "    .dataframe tbody tr th:only-of-type {\n",
       "        vertical-align: middle;\n",
       "    }\n",
       "\n",
       "    .dataframe tbody tr th {\n",
       "        vertical-align: top;\n",
       "    }\n",
       "\n",
       "    .dataframe thead th {\n",
       "        text-align: right;\n",
       "    }\n",
       "</style>\n",
       "<table border=\"1\" class=\"dataframe\">\n",
       "  <thead>\n",
       "    <tr style=\"text-align: right;\">\n",
       "      <th></th>\n",
       "      <th>marriage</th>\n",
       "      <th>n</th>\n",
       "    </tr>\n",
       "  </thead>\n",
       "  <tbody>\n",
       "    <tr>\n",
       "      <th>0</th>\n",
       "      <td>divorce</td>\n",
       "      <td>689</td>\n",
       "    </tr>\n",
       "    <tr>\n",
       "      <th>1</th>\n",
       "      <td>etc</td>\n",
       "      <td>6539</td>\n",
       "    </tr>\n",
       "    <tr>\n",
       "      <th>2</th>\n",
       "      <td>marriage</td>\n",
       "      <td>7190</td>\n",
       "    </tr>\n",
       "  </tbody>\n",
       "</table>\n",
       "</div>"
      ],
      "text/plain": [
       "   marriage     n\n",
       "0   divorce   689\n",
       "1       etc  6539\n",
       "2  marriage  7190"
      ]
     },
     "execution_count": 510,
     "metadata": {},
     "output_type": "execute_result"
    }
   ],
   "source": [
    "n_divorce"
   ]
  },
  {
   "cell_type": "code",
   "execution_count": 672,
   "id": "588d831e-8695-4453-a0d5-d844ed823ba9",
   "metadata": {},
   "outputs": [
    {
     "data": {
      "text/plain": [
       "<Axes: xlabel='marriage', ylabel='n'>"
      ]
     },
     "execution_count": 672,
     "metadata": {},
     "output_type": "execute_result"
    },
    {
     "data": {
      "image/png": "[encoded data removed]",
      "text/plain": [
       "<Figure size 640x480 with 1 Axes>"
      ]
     },
     "metadata": {},
     "output_type": "display_data"
    }
   ],
   "source": [
    "#막대그래프 만들기\n",
    "sns.barplot(data=n_divorce, x = 'marriage', y = 'n')"
   ]
  },
  {
   "cell_type": "code",
   "execution_count": 512,
   "id": "35dc471e-cd9a-4df9-bcc3-dd246ebddf38",
   "metadata": {},
   "outputs": [],
   "source": [
    "#출력결과,\n",
    "#결혼상태인 사람은 7190명\n",
    "#이혼상태인 사람은 689명\n",
    "#그 외인 사람은 6539명 --->이들은 분석 대상 아니므로 이후 작업에서 제외"
   ]
  },
  {
   "cell_type": "code",
   "execution_count": 674,
   "id": "f82eca46-fd64-405a-8381-c1b0736ab97c",
   "metadata": {},
   "outputs": [],
   "source": [
    "#종교 유무에 따른 이혼율 표 만들기\n",
    "#marriage가 etc인 경우 제외하고,\n",
    "#'종교유무 및 이혼여부별 비율'구하자"
   ]
  },
  {
   "cell_type": "code",
   "execution_count": 676,
   "id": "f9535922-0499-41fa-b13f-97456f553d67",
   "metadata": {},
   "outputs": [],
   "source": [
    "rel_div = welfare.query('marriage != \"etc\"') \\\n",
    "                .groupby('religion', as_index = False)\\\n",
    "                ['marriage'] \\\n",
    "                .value_counts(normalize = True)\n",
    "#(순서대로) etc제외\n",
    "#religion별 분리\n",
    "#marriage추출\n",
    "#비율 구하기\n",
    "#cf) value_counts()에 normalize=True를 입력하면 비율 구할 수 있음"
   ]
  },
  {
   "cell_type": "code",
   "execution_count": 678,
   "id": "d7f1606a-52ef-43fb-af26-6819ce41ab20",
   "metadata": {},
   "outputs": [
    {
     "data": {
      "text/html": [
       "<div>\n",
       "<style scoped>\n",
       "    .dataframe tbody tr th:only-of-type {\n",
       "        vertical-align: middle;\n",
       "    }\n",
       "\n",
       "    .dataframe tbody tr th {\n",
       "        vertical-align: top;\n",
       "    }\n",
       "\n",
       "    .dataframe thead th {\n",
       "        text-align: right;\n",
       "    }\n",
       "</style>\n",
       "<table border=\"1\" class=\"dataframe\">\n",
       "  <thead>\n",
       "    <tr style=\"text-align: right;\">\n",
       "      <th></th>\n",
       "      <th>religion</th>\n",
       "      <th>marriage</th>\n",
       "      <th>proportion</th>\n",
       "    </tr>\n",
       "  </thead>\n",
       "  <tbody>\n",
       "    <tr>\n",
       "      <th>0</th>\n",
       "      <td>no</td>\n",
       "      <td>marriage</td>\n",
       "      <td>0.905045</td>\n",
       "    </tr>\n",
       "    <tr>\n",
       "      <th>1</th>\n",
       "      <td>no</td>\n",
       "      <td>divorce</td>\n",
       "      <td>0.094955</td>\n",
       "    </tr>\n",
       "    <tr>\n",
       "      <th>2</th>\n",
       "      <td>yes</td>\n",
       "      <td>marriage</td>\n",
       "      <td>0.920469</td>\n",
       "    </tr>\n",
       "    <tr>\n",
       "      <th>3</th>\n",
       "      <td>yes</td>\n",
       "      <td>divorce</td>\n",
       "      <td>0.079531</td>\n",
       "    </tr>\n",
       "  </tbody>\n",
       "</table>\n",
       "</div>"
      ],
      "text/plain": [
       "  religion  marriage  proportion\n",
       "0       no  marriage    0.905045\n",
       "1       no   divorce    0.094955\n",
       "2      yes  marriage    0.920469\n",
       "3      yes   divorce    0.079531"
      ]
     },
     "execution_count": 678,
     "metadata": {},
     "output_type": "execute_result"
    }
   ],
   "source": [
    "rel_div"
   ]
  },
  {
   "cell_type": "code",
   "execution_count": 680,
   "id": "e690ccc2-5f81-4cac-92ea-82f8e5124cd8",
   "metadata": {},
   "outputs": [],
   "source": [
    "#그래프 만들기\n",
    "#이혼에 해당하는 값만 추출한 다음,\n",
    "#proportion을 백분율로 바꾸고,\n",
    "#소수점 첫째자리까지 반올림"
   ]
  },
  {
   "cell_type": "code",
   "execution_count": 682,
   "id": "bc4aeb35-155d-4308-b646-3b4b0899bc1d",
   "metadata": {},
   "outputs": [],
   "source": [
    "rel_div = rel_div.query('marriage == \"divorce\"') \\\n",
    "                .assign(proportion = rel_div['proportion']*100) \\\n",
    "                .round(1)"
   ]
  },
  {
   "cell_type": "code",
   "execution_count": 684,
   "id": "88bbd188-76cc-4011-a552-a888d37759e2",
   "metadata": {},
   "outputs": [
    {
     "data": {
      "text/html": [
       "<div>\n",
       "<style scoped>\n",
       "    .dataframe tbody tr th:only-of-type {\n",
       "        vertical-align: middle;\n",
       "    }\n",
       "\n",
       "    .dataframe tbody tr th {\n",
       "        vertical-align: top;\n",
       "    }\n",
       "\n",
       "    .dataframe thead th {\n",
       "        text-align: right;\n",
       "    }\n",
       "</style>\n",
       "<table border=\"1\" class=\"dataframe\">\n",
       "  <thead>\n",
       "    <tr style=\"text-align: right;\">\n",
       "      <th></th>\n",
       "      <th>religion</th>\n",
       "      <th>marriage</th>\n",
       "      <th>proportion</th>\n",
       "    </tr>\n",
       "  </thead>\n",
       "  <tbody>\n",
       "    <tr>\n",
       "      <th>1</th>\n",
       "      <td>no</td>\n",
       "      <td>divorce</td>\n",
       "      <td>9.5</td>\n",
       "    </tr>\n",
       "    <tr>\n",
       "      <th>3</th>\n",
       "      <td>yes</td>\n",
       "      <td>divorce</td>\n",
       "      <td>8.0</td>\n",
       "    </tr>\n",
       "  </tbody>\n",
       "</table>\n",
       "</div>"
      ],
      "text/plain": [
       "  religion marriage  proportion\n",
       "1       no  divorce         9.5\n",
       "3      yes  divorce         8.0"
      ]
     },
     "execution_count": 684,
     "metadata": {},
     "output_type": "execute_result"
    }
   ],
   "source": [
    "rel_div"
   ]
  },
  {
   "cell_type": "code",
   "execution_count": 686,
   "id": "95706f7e-e067-4e1b-a61c-5e2e35a6a13b",
   "metadata": {},
   "outputs": [
    {
     "data": {
      "text/plain": [
       "<Axes: xlabel='religion', ylabel='proportion'>"
      ]
     },
     "execution_count": 686,
     "metadata": {},
     "output_type": "execute_result"
    },
    {
     "data": {
      "image/png": "[encoded data removed]",
      "text/plain": [
       "<Figure size 640x480 with 1 Axes>"
      ]
     },
     "metadata": {},
     "output_type": "display_data"
    }
   ],
   "source": [
    "#막대그래프 만들기\n",
    "sns.barplot(data = rel_div, x = 'religion', y = 'proportion')"
   ]
  },
  {
   "cell_type": "code",
   "execution_count": 688,
   "id": "380528e5-7a66-4917-863e-e51944d1f638",
   "metadata": {},
   "outputs": [],
   "source": [
    "#출력결과,\n",
    "#이혼율은 종교가 있으면 8%,\n",
    "#종교가 없으면 9.5%\n",
    "#따라서, 종교가 있는 사람이 이혼을 덜 한다고 볼 수 있음"
   ]
  },
  {
   "cell_type": "code",
   "execution_count": null,
   "id": "27659609-0a36-420a-96d2-86164b31a498",
   "metadata": {},
   "outputs": [],
   "source": []
  },
  {
   "cell_type": "code",
   "execution_count": 691,
   "id": "c2880fb7-4bb5-4198-8c83-5296148b2428",
   "metadata": {},
   "outputs": [],
   "source": [
    "### 연령대 및 종교 유무에 따른 이혼율 분석하기"
   ]
  },
  {
   "cell_type": "code",
   "execution_count": 693,
   "id": "0f0ddb25-509e-49ba-b934-d37d67742034",
   "metadata": {},
   "outputs": [],
   "source": [
    "#연령대별 이혼율표 만들기"
   ]
  },
  {
   "cell_type": "code",
   "execution_count": 697,
   "id": "4a7487af-ae3f-4489-bfd7-c7c9f15700f5",
   "metadata": {},
   "outputs": [],
   "source": [
    "age_div = welfare.query('marriage != \"etc\"') \\\n",
    "                .groupby('ageg', as_index = False) \\\n",
    "                ['marriage'] \\\n",
    "                .value_counts(normalize = True)\n",
    "#(순서대로)etc 제외\n",
    "#ageg별 분리\n",
    "#marriage추출\n",
    "#비율 구하기"
   ]
  },
  {
   "cell_type": "code",
   "execution_count": 699,
   "id": "d5d96ee0-5905-458f-987a-7b02b6f48ff8",
   "metadata": {},
   "outputs": [
    {
     "data": {
      "text/html": [
       "<div>\n",
       "<style scoped>\n",
       "    .dataframe tbody tr th:only-of-type {\n",
       "        vertical-align: middle;\n",
       "    }\n",
       "\n",
       "    .dataframe tbody tr th {\n",
       "        vertical-align: top;\n",
       "    }\n",
       "\n",
       "    .dataframe thead th {\n",
       "        text-align: right;\n",
       "    }\n",
       "</style>\n",
       "<table border=\"1\" class=\"dataframe\">\n",
       "  <thead>\n",
       "    <tr style=\"text-align: right;\">\n",
       "      <th></th>\n",
       "      <th>ageg</th>\n",
       "      <th>marriage</th>\n",
       "      <th>proportion</th>\n",
       "    </tr>\n",
       "  </thead>\n",
       "  <tbody>\n",
       "    <tr>\n",
       "      <th>0</th>\n",
       "      <td>middle</td>\n",
       "      <td>marriage</td>\n",
       "      <td>0.910302</td>\n",
       "    </tr>\n",
       "    <tr>\n",
       "      <th>1</th>\n",
       "      <td>middle</td>\n",
       "      <td>divorce</td>\n",
       "      <td>0.089698</td>\n",
       "    </tr>\n",
       "    <tr>\n",
       "      <th>2</th>\n",
       "      <td>old</td>\n",
       "      <td>marriage</td>\n",
       "      <td>0.914220</td>\n",
       "    </tr>\n",
       "    <tr>\n",
       "      <th>3</th>\n",
       "      <td>old</td>\n",
       "      <td>divorce</td>\n",
       "      <td>0.085780</td>\n",
       "    </tr>\n",
       "    <tr>\n",
       "      <th>4</th>\n",
       "      <td>young</td>\n",
       "      <td>marriage</td>\n",
       "      <td>0.950000</td>\n",
       "    </tr>\n",
       "    <tr>\n",
       "      <th>5</th>\n",
       "      <td>young</td>\n",
       "      <td>divorce</td>\n",
       "      <td>0.050000</td>\n",
       "    </tr>\n",
       "  </tbody>\n",
       "</table>\n",
       "</div>"
      ],
      "text/plain": [
       "     ageg  marriage  proportion\n",
       "0  middle  marriage    0.910302\n",
       "1  middle   divorce    0.089698\n",
       "2     old  marriage    0.914220\n",
       "3     old   divorce    0.085780\n",
       "4   young  marriage    0.950000\n",
       "5   young   divorce    0.050000"
      ]
     },
     "execution_count": 699,
     "metadata": {},
     "output_type": "execute_result"
    }
   ],
   "source": [
    "age_div"
   ]
  },
  {
   "cell_type": "code",
   "execution_count": 701,
   "id": "9ccba068-7655-42c5-8725-8acf5f1b9429",
   "metadata": {},
   "outputs": [],
   "source": [
    "#출력결과,\n",
    "#중년층이 8.9%정도로 가장 높고\n",
    "#노년층이 8.5%, 초년층이 5% 순으로 높ㅍ음\n",
    "#그러나 빈도를 구해보면 초년층은 결혼,이혼 모두 다른 연령대에 비해 사례가 적음\n",
    "#초년층은 사례가 부족해서\n",
    "#다른 연령대와 비교하기에 적합X\n",
    "# 초년층은 이후 작업에서 제외"
   ]
  },
  {
   "cell_type": "code",
   "execution_count": 703,
   "id": "61ac9a1d-82f2-492d-b7f9-788bf8b7fc16",
   "metadata": {},
   "outputs": [
    {
     "data": {
      "text/html": [
       "<div>\n",
       "<style scoped>\n",
       "    .dataframe tbody tr th:only-of-type {\n",
       "        vertical-align: middle;\n",
       "    }\n",
       "\n",
       "    .dataframe tbody tr th {\n",
       "        vertical-align: top;\n",
       "    }\n",
       "\n",
       "    .dataframe thead th {\n",
       "        text-align: right;\n",
       "    }\n",
       "</style>\n",
       "<table border=\"1\" class=\"dataframe\">\n",
       "  <thead>\n",
       "    <tr style=\"text-align: right;\">\n",
       "      <th></th>\n",
       "      <th>ageg</th>\n",
       "      <th>marriage</th>\n",
       "      <th>count</th>\n",
       "    </tr>\n",
       "  </thead>\n",
       "  <tbody>\n",
       "    <tr>\n",
       "      <th>0</th>\n",
       "      <td>middle</td>\n",
       "      <td>marriage</td>\n",
       "      <td>3552</td>\n",
       "    </tr>\n",
       "    <tr>\n",
       "      <th>1</th>\n",
       "      <td>middle</td>\n",
       "      <td>divorce</td>\n",
       "      <td>350</td>\n",
       "    </tr>\n",
       "    <tr>\n",
       "      <th>2</th>\n",
       "      <td>old</td>\n",
       "      <td>marriage</td>\n",
       "      <td>3581</td>\n",
       "    </tr>\n",
       "    <tr>\n",
       "      <th>3</th>\n",
       "      <td>old</td>\n",
       "      <td>divorce</td>\n",
       "      <td>336</td>\n",
       "    </tr>\n",
       "    <tr>\n",
       "      <th>4</th>\n",
       "      <td>young</td>\n",
       "      <td>marriage</td>\n",
       "      <td>57</td>\n",
       "    </tr>\n",
       "    <tr>\n",
       "      <th>5</th>\n",
       "      <td>young</td>\n",
       "      <td>divorce</td>\n",
       "      <td>3</td>\n",
       "    </tr>\n",
       "  </tbody>\n",
       "</table>\n",
       "</div>"
      ],
      "text/plain": [
       "     ageg  marriage  count\n",
       "0  middle  marriage   3552\n",
       "1  middle   divorce    350\n",
       "2     old  marriage   3581\n",
       "3     old   divorce    336\n",
       "4   young  marriage     57\n",
       "5   young   divorce      3"
      ]
     },
     "execution_count": 703,
     "metadata": {},
     "output_type": "execute_result"
    }
   ],
   "source": [
    "#연령대 별 이혼 여부별 빈도\n",
    "welfare.query('marriage != \"etc\"') \\\n",
    "        .groupby('ageg', as_index = False) \\\n",
    "        ['marriage'] \\\n",
    "        .value_counts()\n",
    "#(순서대로)etc 제외\n",
    "#ageg별 분리\n",
    "#marriage추출\n",
    "#빈도 구하기"
   ]
  },
  {
   "cell_type": "code",
   "execution_count": 705,
   "id": "f8015f01-a94b-44b7-806e-0d435c441af8",
   "metadata": {},
   "outputs": [],
   "source": [
    "#초년층을 제외한, 이혼에 해당하는 값만 추출\n",
    "#proportion을 백분율로 바꾸고, 소수점 아래 첫째자리까지 반올림\n",
    "age_div = age_div.query('ageg != \"young\" & marriage == \"divorce\"') \\\n",
    "                .assign(proportion = age_div['proportion'] * 100) \\\n",
    "                .round(1)"
   ]
  },
  {
   "cell_type": "code",
   "execution_count": 707,
   "id": "95c44ddb-f755-4bd6-a9a8-290eb065d4ef",
   "metadata": {},
   "outputs": [
    {
     "data": {
      "text/html": [
       "<div>\n",
       "<style scoped>\n",
       "    .dataframe tbody tr th:only-of-type {\n",
       "        vertical-align: middle;\n",
       "    }\n",
       "\n",
       "    .dataframe tbody tr th {\n",
       "        vertical-align: top;\n",
       "    }\n",
       "\n",
       "    .dataframe thead th {\n",
       "        text-align: right;\n",
       "    }\n",
       "</style>\n",
       "<table border=\"1\" class=\"dataframe\">\n",
       "  <thead>\n",
       "    <tr style=\"text-align: right;\">\n",
       "      <th></th>\n",
       "      <th>ageg</th>\n",
       "      <th>marriage</th>\n",
       "      <th>proportion</th>\n",
       "    </tr>\n",
       "  </thead>\n",
       "  <tbody>\n",
       "    <tr>\n",
       "      <th>1</th>\n",
       "      <td>middle</td>\n",
       "      <td>divorce</td>\n",
       "      <td>9.0</td>\n",
       "    </tr>\n",
       "    <tr>\n",
       "      <th>3</th>\n",
       "      <td>old</td>\n",
       "      <td>divorce</td>\n",
       "      <td>8.6</td>\n",
       "    </tr>\n",
       "  </tbody>\n",
       "</table>\n",
       "</div>"
      ],
      "text/plain": [
       "     ageg marriage  proportion\n",
       "1  middle  divorce         9.0\n",
       "3     old  divorce         8.6"
      ]
     },
     "execution_count": 707,
     "metadata": {},
     "output_type": "execute_result"
    }
   ],
   "source": [
    "age_div"
   ]
  },
  {
   "cell_type": "code",
   "execution_count": 709,
   "id": "199c2f8e-7497-4d65-a2ef-191fd76109f1",
   "metadata": {},
   "outputs": [
    {
     "data": {
      "text/plain": [
       "<Axes: xlabel='ageg', ylabel='proportion'>"
      ]
     },
     "execution_count": 709,
     "metadata": {},
     "output_type": "execute_result"
    },
    {
     "data": {
      "image/png": "[encoded data removed]",
      "text/plain": [
       "<Figure size 640x480 with 1 Axes>"
      ]
     },
     "metadata": {},
     "output_type": "display_data"
    }
   ],
   "source": [
    "#막대그래프 만들기\n",
    "sns.barplot(data=age_div, x = 'ageg', y = 'proportion')"
   ]
  },
  {
   "cell_type": "code",
   "execution_count": 711,
   "id": "3d68f1f2-1915-4405-aedd-ca4d158ed672",
   "metadata": {},
   "outputs": [],
   "source": [
    "## 연령대 및 종교 유무 별 이혼율표 만들기"
   ]
  },
  {
   "cell_type": "code",
   "execution_count": 713,
   "id": "83611e11-d4c3-470e-bffe-aeaa488bf117",
   "metadata": {},
   "outputs": [],
   "source": [
    "#연령대, 종교 유무, 이혼여부별 비율 구하자 \n",
    "#초년층은 제외\n",
    "age_rel_div = welfare.query('marriage != \"etc\" & ageg != \"young\"') \\\n",
    "                    .groupby(['ageg','religion'], as_index = False) \\\n",
    "                    ['marriage'] \\\n",
    "                    .value_counts(normalize = True)"
   ]
  },
  {
   "cell_type": "code",
   "execution_count": 715,
   "id": "a1b5b703-1283-46e0-ade2-01bdae4c0c25",
   "metadata": {},
   "outputs": [
    {
     "data": {
      "text/html": [
       "<div>\n",
       "<style scoped>\n",
       "    .dataframe tbody tr th:only-of-type {\n",
       "        vertical-align: middle;\n",
       "    }\n",
       "\n",
       "    .dataframe tbody tr th {\n",
       "        vertical-align: top;\n",
       "    }\n",
       "\n",
       "    .dataframe thead th {\n",
       "        text-align: right;\n",
       "    }\n",
       "</style>\n",
       "<table border=\"1\" class=\"dataframe\">\n",
       "  <thead>\n",
       "    <tr style=\"text-align: right;\">\n",
       "      <th></th>\n",
       "      <th>ageg</th>\n",
       "      <th>religion</th>\n",
       "      <th>marriage</th>\n",
       "      <th>proportion</th>\n",
       "    </tr>\n",
       "  </thead>\n",
       "  <tbody>\n",
       "    <tr>\n",
       "      <th>0</th>\n",
       "      <td>middle</td>\n",
       "      <td>no</td>\n",
       "      <td>marriage</td>\n",
       "      <td>0.904953</td>\n",
       "    </tr>\n",
       "    <tr>\n",
       "      <th>1</th>\n",
       "      <td>middle</td>\n",
       "      <td>no</td>\n",
       "      <td>divorce</td>\n",
       "      <td>0.095047</td>\n",
       "    </tr>\n",
       "    <tr>\n",
       "      <th>2</th>\n",
       "      <td>middle</td>\n",
       "      <td>yes</td>\n",
       "      <td>marriage</td>\n",
       "      <td>0.917520</td>\n",
       "    </tr>\n",
       "    <tr>\n",
       "      <th>3</th>\n",
       "      <td>middle</td>\n",
       "      <td>yes</td>\n",
       "      <td>divorce</td>\n",
       "      <td>0.082480</td>\n",
       "    </tr>\n",
       "    <tr>\n",
       "      <th>4</th>\n",
       "      <td>old</td>\n",
       "      <td>no</td>\n",
       "      <td>marriage</td>\n",
       "      <td>0.904382</td>\n",
       "    </tr>\n",
       "    <tr>\n",
       "      <th>5</th>\n",
       "      <td>old</td>\n",
       "      <td>no</td>\n",
       "      <td>divorce</td>\n",
       "      <td>0.095618</td>\n",
       "    </tr>\n",
       "    <tr>\n",
       "      <th>6</th>\n",
       "      <td>old</td>\n",
       "      <td>yes</td>\n",
       "      <td>marriage</td>\n",
       "      <td>0.922222</td>\n",
       "    </tr>\n",
       "    <tr>\n",
       "      <th>7</th>\n",
       "      <td>old</td>\n",
       "      <td>yes</td>\n",
       "      <td>divorce</td>\n",
       "      <td>0.077778</td>\n",
       "    </tr>\n",
       "  </tbody>\n",
       "</table>\n",
       "</div>"
      ],
      "text/plain": [
       "     ageg religion  marriage  proportion\n",
       "0  middle       no  marriage    0.904953\n",
       "1  middle       no   divorce    0.095047\n",
       "2  middle      yes  marriage    0.917520\n",
       "3  middle      yes   divorce    0.082480\n",
       "4     old       no  marriage    0.904382\n",
       "5     old       no   divorce    0.095618\n",
       "6     old      yes  marriage    0.922222\n",
       "7     old      yes   divorce    0.077778"
      ]
     },
     "execution_count": 715,
     "metadata": {},
     "output_type": "execute_result"
    }
   ],
   "source": [
    "age_rel_div"
   ]
  },
  {
   "cell_type": "code",
   "execution_count": 717,
   "id": "247f40b3-ef9d-49a0-8c0b-d04c6deb8c48",
   "metadata": {},
   "outputs": [],
   "source": [
    "#이혼에 해당하는 값만 추출한 후,\n",
    "#proportion을 백분율로 바꾸고,\n",
    "#소수점 아래 첫째자리까지 반올림\n",
    "age_rel_div = age_rel_div.query('marriage != \"divorce\"') \\\n",
    "                        .assign(proportion = age_rel_div['proportion'] * 100) \\\n",
    "                        .round(1)"
   ]
  },
  {
   "cell_type": "code",
   "execution_count": 719,
   "id": "16728821-7b96-454f-ad56-02e559493934",
   "metadata": {},
   "outputs": [
    {
     "data": {
      "text/html": [
       "<div>\n",
       "<style scoped>\n",
       "    .dataframe tbody tr th:only-of-type {\n",
       "        vertical-align: middle;\n",
       "    }\n",
       "\n",
       "    .dataframe tbody tr th {\n",
       "        vertical-align: top;\n",
       "    }\n",
       "\n",
       "    .dataframe thead th {\n",
       "        text-align: right;\n",
       "    }\n",
       "</style>\n",
       "<table border=\"1\" class=\"dataframe\">\n",
       "  <thead>\n",
       "    <tr style=\"text-align: right;\">\n",
       "      <th></th>\n",
       "      <th>ageg</th>\n",
       "      <th>religion</th>\n",
       "      <th>marriage</th>\n",
       "      <th>proportion</th>\n",
       "    </tr>\n",
       "  </thead>\n",
       "  <tbody>\n",
       "    <tr>\n",
       "      <th>0</th>\n",
       "      <td>middle</td>\n",
       "      <td>no</td>\n",
       "      <td>marriage</td>\n",
       "      <td>90.5</td>\n",
       "    </tr>\n",
       "    <tr>\n",
       "      <th>2</th>\n",
       "      <td>middle</td>\n",
       "      <td>yes</td>\n",
       "      <td>marriage</td>\n",
       "      <td>91.8</td>\n",
       "    </tr>\n",
       "    <tr>\n",
       "      <th>4</th>\n",
       "      <td>old</td>\n",
       "      <td>no</td>\n",
       "      <td>marriage</td>\n",
       "      <td>90.4</td>\n",
       "    </tr>\n",
       "    <tr>\n",
       "      <th>6</th>\n",
       "      <td>old</td>\n",
       "      <td>yes</td>\n",
       "      <td>marriage</td>\n",
       "      <td>92.2</td>\n",
       "    </tr>\n",
       "  </tbody>\n",
       "</table>\n",
       "</div>"
      ],
      "text/plain": [
       "     ageg religion  marriage  proportion\n",
       "0  middle       no  marriage        90.5\n",
       "2  middle      yes  marriage        91.8\n",
       "4     old       no  marriage        90.4\n",
       "6     old      yes  marriage        92.2"
      ]
     },
     "execution_count": 719,
     "metadata": {},
     "output_type": "execute_result"
    }
   ],
   "source": [
    "age_rel_div"
   ]
  },
  {
   "cell_type": "code",
   "execution_count": 721,
   "id": "c17e52aa-f432-489e-aa94-6cc94c446694",
   "metadata": {},
   "outputs": [
    {
     "data": {
      "text/plain": [
       "<Axes: xlabel='ageg', ylabel='proportion'>"
      ]
     },
     "execution_count": 721,
     "metadata": {},
     "output_type": "execute_result"
    },
    {
     "data": {
      "image/png": "[encoded data removed]",
      "text/plain": [
       "<Figure size 640x480 with 1 Axes>"
      ]
     },
     "metadata": {},
     "output_type": "display_data"
    }
   ],
   "source": [
    "#막대 그래프 만들기\n",
    "sns.barplot(data=age_rel_div, x = 'ageg', y = 'proportion', hue = 'religion')"
   ]
  },
  {
   "cell_type": "code",
   "execution_count": 723,
   "id": "19cd2043-e4f2-47dd-bf03-5d76f576ae21",
   "metadata": {},
   "outputs": [],
   "source": [
    "#출력결과,\n",
    "#중년과 노년 모두 무종교인 사람의 이혼율이 더 높음\n",
    "#중년은 1.3%, 노년은 1.8%정도로 종교가 없는 사람의 이혼율이 더 높다"
   ]
  },
  {
   "cell_type": "code",
   "execution_count": null,
   "id": "33b28232-e711-434a-bb93-648d272bdf5d",
   "metadata": {},
   "outputs": [],
   "source": []
  },
  {
   "cell_type": "code",
   "execution_count": null,
   "id": "01fdd086-cb60-4a96-a5a0-c81fa5e6d708",
   "metadata": {},
   "outputs": [],
   "source": []
  },
  {
   "cell_type": "code",
   "execution_count": 727,
   "id": "578af202-e8bc-474d-9e36-5eeae2ae4bea",
   "metadata": {},
   "outputs": [],
   "source": [
    "######9-9 : 지역별 연령대 비율 - 어느 지역에 노년층이 많을까?"
   ]
  },
  {
   "cell_type": "code",
   "execution_count": 729,
   "id": "3137767b-87ca-465b-92f2-5dbd4d385282",
   "metadata": {},
   "outputs": [],
   "source": [
    "#1단계) 변수 검토 및 전처리\n",
    " #지역\n",
    " #연령대 // 앞에서 한 과정이므로 패스"
   ]
  },
  {
   "cell_type": "code",
   "execution_count": 731,
   "id": "2fee72c7-493e-4317-bead-b2c9a7ee1e4d",
   "metadata": {},
   "outputs": [],
   "source": [
    "#2단계) 변수 간 관계 분석\n",
    " #지역별 연령대 비율표 만들기\n",
    " #그래프 만들기"
   ]
  },
  {
   "cell_type": "code",
   "execution_count": null,
   "id": "7a2c58f8-0b6f-4577-aa76-e81fd6a3839a",
   "metadata": {},
   "outputs": [],
   "source": []
  },
  {
   "cell_type": "code",
   "execution_count": 736,
   "id": "266b17a7-b9c1-40b0-b98b-684d163a4968",
   "metadata": {},
   "outputs": [
    {
     "data": {
      "text/plain": [
       "dtype('float64')"
      ]
     },
     "execution_count": 736,
     "metadata": {},
     "output_type": "execute_result"
    }
   ],
   "source": [
    "# 지역 변수 검토 및 전처리\n",
    "welfare['code_region'].dtypes #변수 타입 출력"
   ]
  },
  {
   "cell_type": "code",
   "execution_count": 738,
   "id": "96757f06-6c09-4cf7-943c-3cd8abb03784",
   "metadata": {},
   "outputs": [
    {
     "data": {
      "text/plain": [
       "code_region\n",
       "2.0    3246\n",
       "7.0    2466\n",
       "3.0    2448\n",
       "1.0    2002\n",
       "4.0    1728\n",
       "5.0    1391\n",
       "6.0    1137\n",
       "Name: count, dtype: int64"
      ]
     },
     "execution_count": 738,
     "metadata": {},
     "output_type": "execute_result"
    }
   ],
   "source": [
    "#빈도 구하기\n",
    "welfare['code_region'].value_counts()\n",
    "#출력 결과, 이상치 없음"
   ]
  },
  {
   "cell_type": "code",
   "execution_count": 740,
   "id": "46166b5b-04ee-42c2-a054-12924706ec31",
   "metadata": {},
   "outputs": [],
   "source": [
    "#코드북 참고하면,\n",
    "#1 = 서울\n",
    "#2 = 수도권(인천/경기)\n",
    "#3 = 부산/경남/울산\n",
    "#4 = 대구/경북\n",
    "#5 = 대전/충남\n",
    "#6 = 강원/충북\n",
    "#7 = 광주/전남/전북/제주도"
   ]
  },
  {
   "cell_type": "code",
   "execution_count": 742,
   "id": "c4ad290e-901d-4497-9dc6-d25279f94e19",
   "metadata": {},
   "outputs": [],
   "source": [
    "#지역명을 나타낸 변수 만들기\n",
    "list_region = pd.DataFrame({\n",
    "    'code_region' : [1,2,3,4,5,6,7],\n",
    "    'region' : ['서울',\n",
    "               '수도권(인천/경기)',\n",
    "               '부산/경남/울산',\n",
    "               '대구/경북',\n",
    "               '대전/충남',\n",
    "               '강원/충북',\n",
    "               '광주/전남/전북/제주도']\n",
    "})"
   ]
  },
  {
   "cell_type": "code",
   "execution_count": 744,
   "id": "49735b5b-58d2-43b7-b5d5-b08d9b269dec",
   "metadata": {},
   "outputs": [
    {
     "data": {
      "text/html": [
       "<div>\n",
       "<style scoped>\n",
       "    .dataframe tbody tr th:only-of-type {\n",
       "        vertical-align: middle;\n",
       "    }\n",
       "\n",
       "    .dataframe tbody tr th {\n",
       "        vertical-align: top;\n",
       "    }\n",
       "\n",
       "    .dataframe thead th {\n",
       "        text-align: right;\n",
       "    }\n",
       "</style>\n",
       "<table border=\"1\" class=\"dataframe\">\n",
       "  <thead>\n",
       "    <tr style=\"text-align: right;\">\n",
       "      <th></th>\n",
       "      <th>code_region</th>\n",
       "      <th>region</th>\n",
       "    </tr>\n",
       "  </thead>\n",
       "  <tbody>\n",
       "    <tr>\n",
       "      <th>0</th>\n",
       "      <td>1</td>\n",
       "      <td>서울</td>\n",
       "    </tr>\n",
       "    <tr>\n",
       "      <th>1</th>\n",
       "      <td>2</td>\n",
       "      <td>수도권(인천/경기)</td>\n",
       "    </tr>\n",
       "    <tr>\n",
       "      <th>2</th>\n",
       "      <td>3</td>\n",
       "      <td>부산/경남/울산</td>\n",
       "    </tr>\n",
       "    <tr>\n",
       "      <th>3</th>\n",
       "      <td>4</td>\n",
       "      <td>대구/경북</td>\n",
       "    </tr>\n",
       "    <tr>\n",
       "      <th>4</th>\n",
       "      <td>5</td>\n",
       "      <td>대전/충남</td>\n",
       "    </tr>\n",
       "    <tr>\n",
       "      <th>5</th>\n",
       "      <td>6</td>\n",
       "      <td>강원/충북</td>\n",
       "    </tr>\n",
       "    <tr>\n",
       "      <th>6</th>\n",
       "      <td>7</td>\n",
       "      <td>광주/전남/전북/제주도</td>\n",
       "    </tr>\n",
       "  </tbody>\n",
       "</table>\n",
       "</div>"
      ],
      "text/plain": [
       "   code_region        region\n",
       "0            1            서울\n",
       "1            2    수도권(인천/경기)\n",
       "2            3      부산/경남/울산\n",
       "3            4         대구/경북\n",
       "4            5         대전/충남\n",
       "5            6         강원/충북\n",
       "6            7  광주/전남/전북/제주도"
      ]
     },
     "execution_count": 744,
     "metadata": {},
     "output_type": "execute_result"
    }
   ],
   "source": [
    "list_region"
   ]
  },
  {
   "cell_type": "code",
   "execution_count": 746,
   "id": "1575dfa5-ebf5-4163-98da-9ede1d7e2223",
   "metadata": {},
   "outputs": [],
   "source": [
    "#welfare에 지역명 변수 추가 // 두개의 데이터프레임을 합치는 방식으로\n",
    "welfare = welfare.merge(list_region, how = 'left', on = 'code_region')"
   ]
  },
  {
   "cell_type": "code",
   "execution_count": 748,
   "id": "eec07d9a-c03e-4cfb-a9ee-49d47512f0c2",
   "metadata": {},
   "outputs": [
    {
     "data": {
      "text/html": [
       "<div>\n",
       "<style scoped>\n",
       "    .dataframe tbody tr th:only-of-type {\n",
       "        vertical-align: middle;\n",
       "    }\n",
       "\n",
       "    .dataframe tbody tr th {\n",
       "        vertical-align: top;\n",
       "    }\n",
       "\n",
       "    .dataframe thead th {\n",
       "        text-align: right;\n",
       "    }\n",
       "</style>\n",
       "<table border=\"1\" class=\"dataframe\">\n",
       "  <thead>\n",
       "    <tr style=\"text-align: right;\">\n",
       "      <th></th>\n",
       "      <th>code_region</th>\n",
       "      <th>region</th>\n",
       "    </tr>\n",
       "  </thead>\n",
       "  <tbody>\n",
       "    <tr>\n",
       "      <th>0</th>\n",
       "      <td>1.0</td>\n",
       "      <td>서울</td>\n",
       "    </tr>\n",
       "    <tr>\n",
       "      <th>1</th>\n",
       "      <td>1.0</td>\n",
       "      <td>서울</td>\n",
       "    </tr>\n",
       "    <tr>\n",
       "      <th>2</th>\n",
       "      <td>1.0</td>\n",
       "      <td>서울</td>\n",
       "    </tr>\n",
       "    <tr>\n",
       "      <th>3</th>\n",
       "      <td>1.0</td>\n",
       "      <td>서울</td>\n",
       "    </tr>\n",
       "    <tr>\n",
       "      <th>4</th>\n",
       "      <td>1.0</td>\n",
       "      <td>서울</td>\n",
       "    </tr>\n",
       "  </tbody>\n",
       "</table>\n",
       "</div>"
      ],
      "text/plain": [
       "   code_region region\n",
       "0          1.0     서울\n",
       "1          1.0     서울\n",
       "2          1.0     서울\n",
       "3          1.0     서울\n",
       "4          1.0     서울"
      ]
     },
     "execution_count": 748,
     "metadata": {},
     "output_type": "execute_result"
    }
   ],
   "source": [
    "welfare[['code_region', 'region']].head()"
   ]
  },
  {
   "cell_type": "code",
   "execution_count": 764,
   "id": "6a250508-8b93-476a-9614-e905809b66c9",
   "metadata": {},
   "outputs": [],
   "source": [
    "#지역 및 연령대별 비율표 만들기\n",
    "region_ageg = welfare.groupby('region', as_index = False) \\\n",
    "                    ['ageg'] \\\n",
    "                    .value_counts(normalize = True)"
   ]
  },
  {
   "cell_type": "code",
   "execution_count": 766,
   "id": "f7d994ff-46bc-4487-ba3d-d261ae615247",
   "metadata": {},
   "outputs": [
    {
     "data": {
      "text/html": [
       "<div>\n",
       "<style scoped>\n",
       "    .dataframe tbody tr th:only-of-type {\n",
       "        vertical-align: middle;\n",
       "    }\n",
       "\n",
       "    .dataframe tbody tr th {\n",
       "        vertical-align: top;\n",
       "    }\n",
       "\n",
       "    .dataframe thead th {\n",
       "        text-align: right;\n",
       "    }\n",
       "</style>\n",
       "<table border=\"1\" class=\"dataframe\">\n",
       "  <thead>\n",
       "    <tr style=\"text-align: right;\">\n",
       "      <th></th>\n",
       "      <th>region</th>\n",
       "      <th>ageg</th>\n",
       "      <th>proportion</th>\n",
       "    </tr>\n",
       "  </thead>\n",
       "  <tbody>\n",
       "    <tr>\n",
       "      <th>0</th>\n",
       "      <td>강원/충북</td>\n",
       "      <td>old</td>\n",
       "      <td>0.459103</td>\n",
       "    </tr>\n",
       "    <tr>\n",
       "      <th>1</th>\n",
       "      <td>강원/충북</td>\n",
       "      <td>middle</td>\n",
       "      <td>0.308707</td>\n",
       "    </tr>\n",
       "    <tr>\n",
       "      <th>2</th>\n",
       "      <td>강원/충북</td>\n",
       "      <td>young</td>\n",
       "      <td>0.232190</td>\n",
       "    </tr>\n",
       "    <tr>\n",
       "      <th>3</th>\n",
       "      <td>광주/전남/전북/제주도</td>\n",
       "      <td>old</td>\n",
       "      <td>0.449311</td>\n",
       "    </tr>\n",
       "    <tr>\n",
       "      <th>4</th>\n",
       "      <td>광주/전남/전북/제주도</td>\n",
       "      <td>middle</td>\n",
       "      <td>0.317924</td>\n",
       "    </tr>\n",
       "    <tr>\n",
       "      <th>5</th>\n",
       "      <td>광주/전남/전북/제주도</td>\n",
       "      <td>young</td>\n",
       "      <td>0.232766</td>\n",
       "    </tr>\n",
       "    <tr>\n",
       "      <th>6</th>\n",
       "      <td>대구/경북</td>\n",
       "      <td>old</td>\n",
       "      <td>0.504051</td>\n",
       "    </tr>\n",
       "    <tr>\n",
       "      <th>7</th>\n",
       "      <td>대구/경북</td>\n",
       "      <td>middle</td>\n",
       "      <td>0.296296</td>\n",
       "    </tr>\n",
       "    <tr>\n",
       "      <th>8</th>\n",
       "      <td>대구/경북</td>\n",
       "      <td>young</td>\n",
       "      <td>0.199653</td>\n",
       "    </tr>\n",
       "    <tr>\n",
       "      <th>9</th>\n",
       "      <td>대전/충남</td>\n",
       "      <td>old</td>\n",
       "      <td>0.413372</td>\n",
       "    </tr>\n",
       "    <tr>\n",
       "      <th>10</th>\n",
       "      <td>대전/충남</td>\n",
       "      <td>middle</td>\n",
       "      <td>0.336449</td>\n",
       "    </tr>\n",
       "    <tr>\n",
       "      <th>11</th>\n",
       "      <td>대전/충남</td>\n",
       "      <td>young</td>\n",
       "      <td>0.250180</td>\n",
       "    </tr>\n",
       "    <tr>\n",
       "      <th>12</th>\n",
       "      <td>부산/경남/울산</td>\n",
       "      <td>old</td>\n",
       "      <td>0.437500</td>\n",
       "    </tr>\n",
       "    <tr>\n",
       "      <th>13</th>\n",
       "      <td>부산/경남/울산</td>\n",
       "      <td>middle</td>\n",
       "      <td>0.333742</td>\n",
       "    </tr>\n",
       "    <tr>\n",
       "      <th>14</th>\n",
       "      <td>부산/경남/울산</td>\n",
       "      <td>young</td>\n",
       "      <td>0.228758</td>\n",
       "    </tr>\n",
       "    <tr>\n",
       "      <th>15</th>\n",
       "      <td>서울</td>\n",
       "      <td>middle</td>\n",
       "      <td>0.385115</td>\n",
       "    </tr>\n",
       "    <tr>\n",
       "      <th>16</th>\n",
       "      <td>서울</td>\n",
       "      <td>old</td>\n",
       "      <td>0.376124</td>\n",
       "    </tr>\n",
       "    <tr>\n",
       "      <th>17</th>\n",
       "      <td>서울</td>\n",
       "      <td>young</td>\n",
       "      <td>0.238761</td>\n",
       "    </tr>\n",
       "    <tr>\n",
       "      <th>18</th>\n",
       "      <td>수도권(인천/경기)</td>\n",
       "      <td>middle</td>\n",
       "      <td>0.388170</td>\n",
       "    </tr>\n",
       "    <tr>\n",
       "      <th>19</th>\n",
       "      <td>수도권(인천/경기)</td>\n",
       "      <td>old</td>\n",
       "      <td>0.325015</td>\n",
       "    </tr>\n",
       "    <tr>\n",
       "      <th>20</th>\n",
       "      <td>수도권(인천/경기)</td>\n",
       "      <td>young</td>\n",
       "      <td>0.286815</td>\n",
       "    </tr>\n",
       "  </tbody>\n",
       "</table>\n",
       "</div>"
      ],
      "text/plain": [
       "          region    ageg  proportion\n",
       "0          강원/충북     old    0.459103\n",
       "1          강원/충북  middle    0.308707\n",
       "2          강원/충북   young    0.232190\n",
       "3   광주/전남/전북/제주도     old    0.449311\n",
       "4   광주/전남/전북/제주도  middle    0.317924\n",
       "5   광주/전남/전북/제주도   young    0.232766\n",
       "6          대구/경북     old    0.504051\n",
       "7          대구/경북  middle    0.296296\n",
       "8          대구/경북   young    0.199653\n",
       "9          대전/충남     old    0.413372\n",
       "10         대전/충남  middle    0.336449\n",
       "11         대전/충남   young    0.250180\n",
       "12      부산/경남/울산     old    0.437500\n",
       "13      부산/경남/울산  middle    0.333742\n",
       "14      부산/경남/울산   young    0.228758\n",
       "15            서울  middle    0.385115\n",
       "16            서울     old    0.376124\n",
       "17            서울   young    0.238761\n",
       "18    수도권(인천/경기)  middle    0.388170\n",
       "19    수도권(인천/경기)     old    0.325015\n",
       "20    수도권(인천/경기)   young    0.286815"
      ]
     },
     "execution_count": 766,
     "metadata": {},
     "output_type": "execute_result"
    }
   ],
   "source": [
    "region_ageg"
   ]
  },
  {
   "cell_type": "code",
   "execution_count": 776,
   "id": "51031c96-612e-4d19-ae88-6b9aa388f81e",
   "metadata": {},
   "outputs": [],
   "source": [
    "#proportion을 백분율로 바꾸고,\n",
    "#소수점 아래 첫째자리까지 반올림\n",
    "region_ageg = region_ageg.assign(\n",
    "    proportion = region_ageg['proportion'] * 100\n",
    ").round(1)"
   ]
  },
  {
   "cell_type": "code",
   "execution_count": 778,
   "id": "147a90ea-545c-4729-ab8a-895dbe25f874",
   "metadata": {},
   "outputs": [
    {
     "data": {
      "text/html": [
       "<div>\n",
       "<style scoped>\n",
       "    .dataframe tbody tr th:only-of-type {\n",
       "        vertical-align: middle;\n",
       "    }\n",
       "\n",
       "    .dataframe tbody tr th {\n",
       "        vertical-align: top;\n",
       "    }\n",
       "\n",
       "    .dataframe thead th {\n",
       "        text-align: right;\n",
       "    }\n",
       "</style>\n",
       "<table border=\"1\" class=\"dataframe\">\n",
       "  <thead>\n",
       "    <tr style=\"text-align: right;\">\n",
       "      <th></th>\n",
       "      <th>region</th>\n",
       "      <th>ageg</th>\n",
       "      <th>proportion</th>\n",
       "    </tr>\n",
       "  </thead>\n",
       "  <tbody>\n",
       "    <tr>\n",
       "      <th>0</th>\n",
       "      <td>강원/충북</td>\n",
       "      <td>old</td>\n",
       "      <td>45.9</td>\n",
       "    </tr>\n",
       "    <tr>\n",
       "      <th>1</th>\n",
       "      <td>강원/충북</td>\n",
       "      <td>middle</td>\n",
       "      <td>30.9</td>\n",
       "    </tr>\n",
       "    <tr>\n",
       "      <th>2</th>\n",
       "      <td>강원/충북</td>\n",
       "      <td>young</td>\n",
       "      <td>23.2</td>\n",
       "    </tr>\n",
       "    <tr>\n",
       "      <th>3</th>\n",
       "      <td>광주/전남/전북/제주도</td>\n",
       "      <td>old</td>\n",
       "      <td>44.9</td>\n",
       "    </tr>\n",
       "    <tr>\n",
       "      <th>4</th>\n",
       "      <td>광주/전남/전북/제주도</td>\n",
       "      <td>middle</td>\n",
       "      <td>31.8</td>\n",
       "    </tr>\n",
       "    <tr>\n",
       "      <th>5</th>\n",
       "      <td>광주/전남/전북/제주도</td>\n",
       "      <td>young</td>\n",
       "      <td>23.3</td>\n",
       "    </tr>\n",
       "    <tr>\n",
       "      <th>6</th>\n",
       "      <td>대구/경북</td>\n",
       "      <td>old</td>\n",
       "      <td>50.4</td>\n",
       "    </tr>\n",
       "    <tr>\n",
       "      <th>7</th>\n",
       "      <td>대구/경북</td>\n",
       "      <td>middle</td>\n",
       "      <td>29.6</td>\n",
       "    </tr>\n",
       "    <tr>\n",
       "      <th>8</th>\n",
       "      <td>대구/경북</td>\n",
       "      <td>young</td>\n",
       "      <td>20.0</td>\n",
       "    </tr>\n",
       "    <tr>\n",
       "      <th>9</th>\n",
       "      <td>대전/충남</td>\n",
       "      <td>old</td>\n",
       "      <td>41.3</td>\n",
       "    </tr>\n",
       "    <tr>\n",
       "      <th>10</th>\n",
       "      <td>대전/충남</td>\n",
       "      <td>middle</td>\n",
       "      <td>33.6</td>\n",
       "    </tr>\n",
       "    <tr>\n",
       "      <th>11</th>\n",
       "      <td>대전/충남</td>\n",
       "      <td>young</td>\n",
       "      <td>25.0</td>\n",
       "    </tr>\n",
       "    <tr>\n",
       "      <th>12</th>\n",
       "      <td>부산/경남/울산</td>\n",
       "      <td>old</td>\n",
       "      <td>43.8</td>\n",
       "    </tr>\n",
       "    <tr>\n",
       "      <th>13</th>\n",
       "      <td>부산/경남/울산</td>\n",
       "      <td>middle</td>\n",
       "      <td>33.4</td>\n",
       "    </tr>\n",
       "    <tr>\n",
       "      <th>14</th>\n",
       "      <td>부산/경남/울산</td>\n",
       "      <td>young</td>\n",
       "      <td>22.9</td>\n",
       "    </tr>\n",
       "    <tr>\n",
       "      <th>15</th>\n",
       "      <td>서울</td>\n",
       "      <td>middle</td>\n",
       "      <td>38.5</td>\n",
       "    </tr>\n",
       "    <tr>\n",
       "      <th>16</th>\n",
       "      <td>서울</td>\n",
       "      <td>old</td>\n",
       "      <td>37.6</td>\n",
       "    </tr>\n",
       "    <tr>\n",
       "      <th>17</th>\n",
       "      <td>서울</td>\n",
       "      <td>young</td>\n",
       "      <td>23.9</td>\n",
       "    </tr>\n",
       "    <tr>\n",
       "      <th>18</th>\n",
       "      <td>수도권(인천/경기)</td>\n",
       "      <td>middle</td>\n",
       "      <td>38.8</td>\n",
       "    </tr>\n",
       "    <tr>\n",
       "      <th>19</th>\n",
       "      <td>수도권(인천/경기)</td>\n",
       "      <td>old</td>\n",
       "      <td>32.5</td>\n",
       "    </tr>\n",
       "    <tr>\n",
       "      <th>20</th>\n",
       "      <td>수도권(인천/경기)</td>\n",
       "      <td>young</td>\n",
       "      <td>28.7</td>\n",
       "    </tr>\n",
       "  </tbody>\n",
       "</table>\n",
       "</div>"
      ],
      "text/plain": [
       "          region    ageg  proportion\n",
       "0          강원/충북     old        45.9\n",
       "1          강원/충북  middle        30.9\n",
       "2          강원/충북   young        23.2\n",
       "3   광주/전남/전북/제주도     old        44.9\n",
       "4   광주/전남/전북/제주도  middle        31.8\n",
       "5   광주/전남/전북/제주도   young        23.3\n",
       "6          대구/경북     old        50.4\n",
       "7          대구/경북  middle        29.6\n",
       "8          대구/경북   young        20.0\n",
       "9          대전/충남     old        41.3\n",
       "10         대전/충남  middle        33.6\n",
       "11         대전/충남   young        25.0\n",
       "12      부산/경남/울산     old        43.8\n",
       "13      부산/경남/울산  middle        33.4\n",
       "14      부산/경남/울산   young        22.9\n",
       "15            서울  middle        38.5\n",
       "16            서울     old        37.6\n",
       "17            서울   young        23.9\n",
       "18    수도권(인천/경기)  middle        38.8\n",
       "19    수도권(인천/경기)     old        32.5\n",
       "20    수도권(인천/경기)   young        28.7"
      ]
     },
     "execution_count": 778,
     "metadata": {},
     "output_type": "execute_result"
    }
   ],
   "source": [
    "region_ageg"
   ]
  },
  {
   "cell_type": "code",
   "execution_count": 780,
   "id": "26a735b6-57f9-48e2-a0e1-90a52eb2c71e",
   "metadata": {},
   "outputs": [
    {
     "data": {
      "text/plain": [
       "<Axes: xlabel='proportion', ylabel='region'>"
      ]
     },
     "execution_count": 780,
     "metadata": {},
     "output_type": "execute_result"
    },
    {
     "data": {
      "image/png": "[encoded data removed]",
      "text/plain": [
       "<Figure size 640x480 with 1 Axes>"
      ]
     },
     "metadata": {},
     "output_type": "display_data"
    }
   ],
   "source": [
    "sns.barplot(data=region_ageg, \n",
    "            x = 'proportion',\n",
    "            y = 'region',\n",
    "           hue = 'ageg')"
   ]
  },
  {
   "cell_type": "code",
   "execution_count": 782,
   "id": "0a19744f-0dfe-4407-bf65-a562393dd3b7",
   "metadata": {},
   "outputs": [],
   "source": [
    "#위의 그래프는 각 지역의 연령대별 비율이 서로 다른 막대로 표현되어 있어서 \n",
    "#지역끼리 비교하기 어려움\n",
    "#지역끼리 비교하기 쉽도록, 연령대별 막대를 누적한\n",
    "#'누적 비율 막대 그래프'를 만들자"
   ]
  },
  {
   "cell_type": "code",
   "execution_count": 784,
   "id": "6222e5ec-3205-475a-975d-7ffcd62d8f59",
   "metadata": {},
   "outputs": [],
   "source": [
    "####피벗하기\n",
    "#그래프를 만드는데 사용할 지역, 연령대, 비율 변수만 추출한 다음\n",
    "#df.pivot()을 이용해서 데이터프레임을 피벗하자 "
   ]
  },
  {
   "cell_type": "code",
   "execution_count": 786,
   "id": "a467e7a7-97c7-4f66-bd3e-6cdd2e3c5599",
   "metadata": {},
   "outputs": [],
   "source": [
    "#사용해야 하는 지역, 연령대, 비율 변수 추출\n",
    "#지역을 기준으로 회전하도록 index = 'region'을 입력\n",
    "#연령대별로 열을 구성하도록 columns = 'ageg'을 입력\n",
    "#각 항목 값을 비율로 채우도록 values = 'proportion'을 입력\n",
    "pivot_df = \\\n",
    "        region_ageg[['region','ageg','proportion']].pivot(index = 'region',\n",
    "                                                         columns = 'ageg',\n",
    "                                                         values = 'proportion')"
   ]
  },
  {
   "cell_type": "code",
   "execution_count": 788,
   "id": "e106af24-ade3-439a-80de-49ea11e02706",
   "metadata": {},
   "outputs": [
    {
     "data": {
      "text/html": [
       "<div>\n",
       "<style scoped>\n",
       "    .dataframe tbody tr th:only-of-type {\n",
       "        vertical-align: middle;\n",
       "    }\n",
       "\n",
       "    .dataframe tbody tr th {\n",
       "        vertical-align: top;\n",
       "    }\n",
       "\n",
       "    .dataframe thead th {\n",
       "        text-align: right;\n",
       "    }\n",
       "</style>\n",
       "<table border=\"1\" class=\"dataframe\">\n",
       "  <thead>\n",
       "    <tr style=\"text-align: right;\">\n",
       "      <th>ageg</th>\n",
       "      <th>middle</th>\n",
       "      <th>old</th>\n",
       "      <th>young</th>\n",
       "    </tr>\n",
       "    <tr>\n",
       "      <th>region</th>\n",
       "      <th></th>\n",
       "      <th></th>\n",
       "      <th></th>\n",
       "    </tr>\n",
       "  </thead>\n",
       "  <tbody>\n",
       "    <tr>\n",
       "      <th>강원/충북</th>\n",
       "      <td>30.9</td>\n",
       "      <td>45.9</td>\n",
       "      <td>23.2</td>\n",
       "    </tr>\n",
       "    <tr>\n",
       "      <th>광주/전남/전북/제주도</th>\n",
       "      <td>31.8</td>\n",
       "      <td>44.9</td>\n",
       "      <td>23.3</td>\n",
       "    </tr>\n",
       "    <tr>\n",
       "      <th>대구/경북</th>\n",
       "      <td>29.6</td>\n",
       "      <td>50.4</td>\n",
       "      <td>20.0</td>\n",
       "    </tr>\n",
       "    <tr>\n",
       "      <th>대전/충남</th>\n",
       "      <td>33.6</td>\n",
       "      <td>41.3</td>\n",
       "      <td>25.0</td>\n",
       "    </tr>\n",
       "    <tr>\n",
       "      <th>부산/경남/울산</th>\n",
       "      <td>33.4</td>\n",
       "      <td>43.8</td>\n",
       "      <td>22.9</td>\n",
       "    </tr>\n",
       "    <tr>\n",
       "      <th>서울</th>\n",
       "      <td>38.5</td>\n",
       "      <td>37.6</td>\n",
       "      <td>23.9</td>\n",
       "    </tr>\n",
       "    <tr>\n",
       "      <th>수도권(인천/경기)</th>\n",
       "      <td>38.8</td>\n",
       "      <td>32.5</td>\n",
       "      <td>28.7</td>\n",
       "    </tr>\n",
       "  </tbody>\n",
       "</table>\n",
       "</div>"
      ],
      "text/plain": [
       "ageg          middle   old  young\n",
       "region                           \n",
       "강원/충북           30.9  45.9   23.2\n",
       "광주/전남/전북/제주도    31.8  44.9   23.3\n",
       "대구/경북           29.6  50.4   20.0\n",
       "대전/충남           33.6  41.3   25.0\n",
       "부산/경남/울산        33.4  43.8   22.9\n",
       "서울              38.5  37.6   23.9\n",
       "수도권(인천/경기)      38.8  32.5   28.7"
      ]
     },
     "execution_count": 788,
     "metadata": {},
     "output_type": "execute_result"
    }
   ],
   "source": [
    "pivot_df"
   ]
  },
  {
   "cell_type": "code",
   "execution_count": 790,
   "id": "1b14d443-7329-469e-a6c6-9aecfe693faa",
   "metadata": {},
   "outputs": [
    {
     "data": {
      "text/plain": [
       "<Axes: ylabel='region'>"
      ]
     },
     "execution_count": 790,
     "metadata": {},
     "output_type": "execute_result"
    },
    {
     "data": {
      "image/png": "[encoded data removed]",
      "text/plain": [
       "<Figure size 640x480 with 1 Axes>"
      ]
     },
     "metadata": {},
     "output_type": "display_data"
    }
   ],
   "source": [
    "#누적 비율 막대 그래프 만들기\n",
    "#가로막대 그래프로 만들기\n",
    "pivot_df.plot.barh(stacked = True)\n",
    "# df.plot.barh() : 가로 막대 그래프 만들기\n",
    "# stacked = True : 막대를 누적"
   ]
  },
  {
   "cell_type": "code",
   "execution_count": 792,
   "id": "b20043bd-fe88-4bd6-8bc2-0b2fd3cc636f",
   "metadata": {},
   "outputs": [],
   "source": [
    "#노년층 비율 기준 정렬 // 노년층 비율이 높은 순으로 정렬되도록\n",
    "#변수 순서 바꾸기 // 초년, 중년, 노년 순으로\n",
    "reorder_df = pivot_df.sort_values('old')[['young','middle','old']]"
   ]
  },
  {
   "cell_type": "code",
   "execution_count": 794,
   "id": "519d77b9-b308-4595-b22f-a039fe313d36",
   "metadata": {},
   "outputs": [
    {
     "data": {
      "text/html": [
       "<div>\n",
       "<style scoped>\n",
       "    .dataframe tbody tr th:only-of-type {\n",
       "        vertical-align: middle;\n",
       "    }\n",
       "\n",
       "    .dataframe tbody tr th {\n",
       "        vertical-align: top;\n",
       "    }\n",
       "\n",
       "    .dataframe thead th {\n",
       "        text-align: right;\n",
       "    }\n",
       "</style>\n",
       "<table border=\"1\" class=\"dataframe\">\n",
       "  <thead>\n",
       "    <tr style=\"text-align: right;\">\n",
       "      <th>ageg</th>\n",
       "      <th>young</th>\n",
       "      <th>middle</th>\n",
       "      <th>old</th>\n",
       "    </tr>\n",
       "    <tr>\n",
       "      <th>region</th>\n",
       "      <th></th>\n",
       "      <th></th>\n",
       "      <th></th>\n",
       "    </tr>\n",
       "  </thead>\n",
       "  <tbody>\n",
       "    <tr>\n",
       "      <th>수도권(인천/경기)</th>\n",
       "      <td>28.7</td>\n",
       "      <td>38.8</td>\n",
       "      <td>32.5</td>\n",
       "    </tr>\n",
       "    <tr>\n",
       "      <th>서울</th>\n",
       "      <td>23.9</td>\n",
       "      <td>38.5</td>\n",
       "      <td>37.6</td>\n",
       "    </tr>\n",
       "    <tr>\n",
       "      <th>대전/충남</th>\n",
       "      <td>25.0</td>\n",
       "      <td>33.6</td>\n",
       "      <td>41.3</td>\n",
       "    </tr>\n",
       "    <tr>\n",
       "      <th>부산/경남/울산</th>\n",
       "      <td>22.9</td>\n",
       "      <td>33.4</td>\n",
       "      <td>43.8</td>\n",
       "    </tr>\n",
       "    <tr>\n",
       "      <th>광주/전남/전북/제주도</th>\n",
       "      <td>23.3</td>\n",
       "      <td>31.8</td>\n",
       "      <td>44.9</td>\n",
       "    </tr>\n",
       "    <tr>\n",
       "      <th>강원/충북</th>\n",
       "      <td>23.2</td>\n",
       "      <td>30.9</td>\n",
       "      <td>45.9</td>\n",
       "    </tr>\n",
       "    <tr>\n",
       "      <th>대구/경북</th>\n",
       "      <td>20.0</td>\n",
       "      <td>29.6</td>\n",
       "      <td>50.4</td>\n",
       "    </tr>\n",
       "  </tbody>\n",
       "</table>\n",
       "</div>"
      ],
      "text/plain": [
       "ageg          young  middle   old\n",
       "region                           \n",
       "수도권(인천/경기)     28.7    38.8  32.5\n",
       "서울             23.9    38.5  37.6\n",
       "대전/충남          25.0    33.6  41.3\n",
       "부산/경남/울산       22.9    33.4  43.8\n",
       "광주/전남/전북/제주도   23.3    31.8  44.9\n",
       "강원/충북          23.2    30.9  45.9\n",
       "대구/경북          20.0    29.6  50.4"
      ]
     },
     "execution_count": 794,
     "metadata": {},
     "output_type": "execute_result"
    }
   ],
   "source": [
    "reorder_df"
   ]
  },
  {
   "cell_type": "code",
   "execution_count": 796,
   "id": "6e57e509-045c-4562-a1d8-df81c440762d",
   "metadata": {},
   "outputs": [
    {
     "data": {
      "text/plain": [
       "<Axes: ylabel='region'>"
      ]
     },
     "execution_count": 796,
     "metadata": {},
     "output_type": "execute_result"
    },
    {
     "data": {
      "image/png": "[encoded data removed]",
      "text/plain": [
       "<Figure size 640x480 with 1 Axes>"
      ]
     },
     "metadata": {},
     "output_type": "display_data"
    }
   ],
   "source": [
    "reorder_df.plot.barh(stacked=True)"
   ]
  },
  {
   "cell_type": "code",
   "execution_count": 798,
   "id": "c8889bf8-02cf-4843-90db-3d8e5472e512",
   "metadata": {},
   "outputs": [],
   "source": [
    "#출력결과,\n",
    "#대구/경북의 노년층 비율이 가장 높고\n",
    "#그 뒤로 강원/충북, 광주/전남/전북/제주도, 부산/경남/울산 순으로 높음"
   ]
  },
  {
   "cell_type": "code",
   "execution_count": null,
   "id": "dc81535d-da93-4fb2-ba1b-1c7cf5cd9b30",
   "metadata": {},
   "outputs": [],
   "source": []
  }
 ],
 "metadata": {
  "kernelspec": {
   "display_name": "Python 3 (ipykernel)",
   "language": "python",
   "name": "python3"
  },
  "language_info": {
   "codemirror_mode": {
    "name": "ipython",
    "version": 3
   },
   "file_extension": ".py",
   "mimetype": "text/x-python",
   "name": "python",
   "nbconvert_exporter": "python",
   "pygments_lexer": "ipython3",
   "version": "3.12.4"
  }
 },
 "nbformat": 4,
 "nbformat_minor": 5
}
