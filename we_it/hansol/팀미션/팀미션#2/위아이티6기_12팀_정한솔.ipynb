{
 "cells": [
  {
   "cell_type": "markdown",
   "metadata": {
    "id": "J-j_27Xhq0fS"
   },
   "source": [
    " # WEIT x DataStation Team Mission 2. \n",
    "\n",
    "\n",
    "- 첨부된 데이터는 다이어트 식품을 판매하는 어플리케이션 회사에서 나온 고객 결제 데이터 입니다. 고객들이 온라인 마케팅으로 유입된 채널에 따라, 결제를 완료한 고객도 있고, 유입이 되었으나 이탈한 고객도 있습니다. 이 데이터로 아래의 미션을 수행보세요.  \n",
    "- 먼저 개인적으로 풀어본 다음, 팀별로 모여 문제를 풀어보세요.\n",
    "- Chat GPT와 책, 유튜브 등 여러 자료를 활용하여 최대한 풀어보세요.\n",
    "- 미제출시 수료증 및 이수증 발급이 제한됩니다.\n",
    "\n",
    "- **기한 : 24년 11월 19일 23시 59분까지 / 이후 제출 인정 불가** \n",
    "- **양식 :** \n",
    "    - 제목 : \"위아이티6기_팀명_이름_Mission2\"\n",
    "    - 첨부파일 : 해당 Mission 파일 \n",
    "    - 개별 제출 \n",
    "- **제출처 : weit2024.project@gmail.com**"
   ]
  },
  {
   "cell_type": "markdown",
   "metadata": {
    "id": "p9eTIuz4q0fU"
   },
   "source": [
    "### 1. 02_Data.csv파일을 불러와, df1으로 선언하고 데이터의 구조와 타입을 확인하시오."
   ]
  },
  {
   "cell_type": "code",
   "execution_count": 4,
   "metadata": {
    "id": "wS-DEnaBrOYT"
   },
   "outputs": [
    {
     "name": "stdout",
     "output_type": "stream",
     "text": [
      "<class 'pandas.core.frame.DataFrame'>\n",
      "RangeIndex: 10000 entries, 0 to 9999\n",
      "Data columns (total 10 columns):\n",
      " #   Column      Non-Null Count  Dtype \n",
      "---  ------      --------------  ----- \n",
      " 0   회원코드        10000 non-null  object\n",
      " 1   프로그램        10000 non-null  object\n",
      " 2   상태          10000 non-null  object\n",
      " 3   프로그램가격      10000 non-null  int64 \n",
      " 4   최종결제금액      10000 non-null  int64 \n",
      " 5   결제시각        10000 non-null  object\n",
      " 6   결제유형        10000 non-null  object\n",
      " 7   채널          10000 non-null  object\n",
      " 8   보조식품가격      10000 non-null  int64 \n",
      " 9   보조식품(추가구매)  10000 non-null  object\n",
      "dtypes: int64(3), object(7)\n",
      "memory usage: 781.4+ KB\n"
     ]
    }
   ],
   "source": [
    "import pandas as pd\n",
    "df1 = pd.read_csv('02_Data.csv')\n",
    "df1.info()"
   ]
  },
  {
   "cell_type": "markdown",
   "metadata": {
    "id": "cOGAoqD2q0fV"
   },
   "source": [
    "### 2. '프로그램가격'의 평균, 최대값, 최소값을 확인하시오."
   ]
  },
  {
   "cell_type": "code",
   "execution_count": 6,
   "metadata": {
    "id": "afm9ZpJKrGGu"
   },
   "outputs": [
    {
     "data": {
      "text/plain": [
       "count     10000.000000\n",
       "mean     107778.024000\n",
       "std       17897.796506\n",
       "min       44780.000000\n",
       "25%      112500.000000\n",
       "50%      112500.000000\n",
       "75%      112500.000000\n",
       "max      177000.000000\n",
       "Name: 프로그램가격, dtype: float64"
      ]
     },
     "execution_count": 6,
     "metadata": {},
     "output_type": "execute_result"
    }
   ],
   "source": [
    "df1['프로그램가격'].describe()"
   ]
  },
  {
   "cell_type": "markdown",
   "metadata": {
    "id": "IeBoRU26q0fW"
   },
   "source": [
    "### 3. '채널'의 항목과 빈도수를 확인하고, '채널'별 '최종결제금액'의 합을 계산하여, result1.xlsx로 저장하시오."
   ]
  },
  {
   "cell_type": "code",
   "execution_count": 8,
   "metadata": {
    "id": "Vl9rFLb3rHXg"
   },
   "outputs": [
    {
     "data": {
      "text/plain": [
       "채널\n",
       "facebook     6880\n",
       "others       1390\n",
       "naver        1009\n",
       "direct        297\n",
       "email         271\n",
       "google        120\n",
       "instagram      33\n",
       "Name: count, dtype: int64"
      ]
     },
     "execution_count": 8,
     "metadata": {},
     "output_type": "execute_result"
    }
   ],
   "source": [
    "df1['채널'].value_counts()"
   ]
  },
  {
   "cell_type": "code",
   "execution_count": 10,
   "metadata": {},
   "outputs": [],
   "source": [
    "ch_check = df1.groupby('채널').agg(finalcheck_sum = ('최종결제금액', 'sum'))\n",
    "ch_check.to_excel('result1.xlsx', index = False)"
   ]
  },
  {
   "cell_type": "markdown",
   "metadata": {
    "id": "NgzwqKvzq0fW"
   },
   "source": [
    "### 4. '채널'의 빈도수가 높은 상위 3개 항목을 뽑아, 해당 데이터의 '보조식품(추가구매)'에 따른 '최종결제금액'의 합과 평균을 계산하시오.  "
   ]
  },
  {
   "cell_type": "code",
   "execution_count": 45,
   "metadata": {
    "id": "4U_iC6gQrH5P"
   },
   "outputs": [
    {
     "name": "stdout",
     "output_type": "stream",
     "text": [
      "          회원코드              프로그램         상태  프로그램가격  최종결제금액  \\\n",
      "0     Y9RY2VSI   체중감량 프로그램 (타입B)  completed  112500  112500   \n",
      "1     3GTN3S3B   체중감량 프로그램 (타입B)  completed   44780   44780   \n",
      "2     6B0IG276  체중감량 프로그램 (타입 A)  completed  132000  149000   \n",
      "3     EMGRU2MO  체중감량 프로그램 (타입 A)  completed  112500  112500   \n",
      "4     1ELG96TX   체중감량 프로그램 (타입B)  completed   44780   44780   \n",
      "...        ...               ...        ...     ...     ...   \n",
      "9995  118AFCQ9   체중감량 프로그램 (타입B)  completed  112500  112500   \n",
      "9996  VDE8FXV9  체중감량 프로그램 (타입 A)  completed  112500  129500   \n",
      "9997  VWJ4NLZY  체중감량 프로그램 (타입 A)  completed  112500  129500   \n",
      "9998  NJ2PR967   체중감량 프로그램 (타입B)  cancelled  112500  129500   \n",
      "9999  KVX64CPM  체중감량 프로그램 (타입 A)  cancelled  112500  112500   \n",
      "\n",
      "                               결제시각       결제유형        채널  보조식품가격 보조식품(추가구매)  \n",
      "0      2017-04-14 오후 7:03:29.976000  Recurring    others       0       구매안함  \n",
      "1      2017-05-23 오후 8:53:54.368000  Recurring    others       0       구매안함  \n",
      "2     2017-08-23 오후 11:39:21.840000  Recurring  facebook   17000   식이요법보조제A  \n",
      "3      2017-08-28 오후 8:18:22.824000  Recurring     naver       0       구매안함  \n",
      "4      2017-05-07 오후 5:50:30.944000  Recurring  facebook       0       구매안함  \n",
      "...                             ...        ...       ...     ...        ...  \n",
      "9995  2017-04-18 오전 12:43:58.104000  Recurring  facebook       0       구매안함  \n",
      "9996  2017-08-16 오전 10:03:10.136000  Recurring  facebook   17000   식이요법보조제A  \n",
      "9997  2017-08-09 오전 11:47:55.408000  Recurring  facebook   17000   식이요법보조제A  \n",
      "9998   2017-04-28 오전 7:05:19.776000  Recurring  facebook       0       구매안함  \n",
      "9999  2017-06-02 오전 10:16:34.576000  Recurring    others       0       구매안함  \n",
      "\n",
      "[9279 rows x 10 columns]\n"
     ]
    }
   ],
   "source": [
    "top3_channels = df1['채널'].value_counts().head(3).index#채널의 빈도수가 높은 상위 3개 항목\n",
    "top3_data_df = df1[df1['채널'].isin(top3_channels)]\n",
    "print(top3_data_df)"
   ]
  },
  {
   "cell_type": "code",
   "execution_count": 47,
   "metadata": {},
   "outputs": [
    {
     "name": "stdout",
     "output_type": "stream",
     "text": [
      "                           sum           mean\n",
      "채널       보조식품(추가구매)                          \n",
      "facebook 구매안함        527758080  115407.408703\n",
      "         단백질보충제A      30694290  128967.605042\n",
      "         단백질보충제B       5848280  114672.156863\n",
      "         식이요법보조제A    199833090  126316.744627\n",
      "         식이요법보조제B     54792540  141217.886598\n",
      "         종합비타민A        6210180  129378.750000\n",
      "naver    구매안함        103391890  109178.342133\n",
      "         단백질보충제A       4784580  129312.972973\n",
      "         단백질보충제B        422280  105570.000000\n",
      "         종합비타민A        2893000  137761.904762\n",
      "others   구매안함        139047490  106143.122137\n",
      "         단백질보충제A       5924740  128798.695652\n",
      "         단백질보충제B        692060   98865.714286\n",
      "         종합비타민A        3685400  136496.296296\n"
     ]
    }
   ],
   "source": [
    "sup_addpurchase_sum = top3_data_df.groupby('보조식품(추가구매)')['최종결제금액'].sum()\n",
    "sup_addpurchase_mean = top3_data_df.groupby('보조식품(추가구매)')['최종결제금액'].mean()\n",
    "\n",
    "sum_mean = top3_data_df.groupby(['채널','보조식품(추가구매)'])['최종결제금액'].agg(['sum','mean'])\n",
    "print(sum_mean)"
   ]
  },
  {
   "cell_type": "markdown",
   "metadata": {
    "id": "FiKu9siPq0fW"
   },
   "source": [
    "### 5. '결제시각'데이터에서 날짜와 시간데이터를 나누어 데이터만 뽑아, '결제날짜'와 '결제시간'파생변수로 각각 선언하시오."
   ]
  },
  {
   "cell_type": "code",
   "execution_count": 20,
   "metadata": {},
   "outputs": [],
   "source": [
    "df1['결제시각'] = df1['결제시각'].str.replace('오전','AM').str.replace('오후','PM')"
   ]
  },
  {
   "cell_type": "code",
   "execution_count": 50,
   "metadata": {},
   "outputs": [],
   "source": [
    "df1['결제날짜'] = pd.to_datetime(df1['결제시각'], format = '%Y-%m-%d %p %I:%M:%S.%f').dt.date #날짜만 추출\n",
    "df1['결제시간'] = pd.to_datetime(df1['결제시각'], format = '%Y-%m-%d %p %I:%M:%S.%f').dt.time #시간만 추출"
   ]
  },
  {
   "cell_type": "code",
   "execution_count": 42,
   "metadata": {},
   "outputs": [
    {
     "data": {
      "text/html": [
       "<div>\n",
       "<style scoped>\n",
       "    .dataframe tbody tr th:only-of-type {\n",
       "        vertical-align: middle;\n",
       "    }\n",
       "\n",
       "    .dataframe tbody tr th {\n",
       "        vertical-align: top;\n",
       "    }\n",
       "\n",
       "    .dataframe thead th {\n",
       "        text-align: right;\n",
       "    }\n",
       "</style>\n",
       "<table border=\"1\" class=\"dataframe\">\n",
       "  <thead>\n",
       "    <tr style=\"text-align: right;\">\n",
       "      <th></th>\n",
       "      <th>결제날짜</th>\n",
       "      <th>결제시간</th>\n",
       "    </tr>\n",
       "  </thead>\n",
       "  <tbody>\n",
       "    <tr>\n",
       "      <th>0</th>\n",
       "      <td>2017-04-14</td>\n",
       "      <td>19:03:29.976000</td>\n",
       "    </tr>\n",
       "    <tr>\n",
       "      <th>1</th>\n",
       "      <td>2017-05-23</td>\n",
       "      <td>20:53:54.368000</td>\n",
       "    </tr>\n",
       "    <tr>\n",
       "      <th>2</th>\n",
       "      <td>2017-08-23</td>\n",
       "      <td>23:39:21.840000</td>\n",
       "    </tr>\n",
       "    <tr>\n",
       "      <th>3</th>\n",
       "      <td>2017-08-28</td>\n",
       "      <td>20:18:22.824000</td>\n",
       "    </tr>\n",
       "    <tr>\n",
       "      <th>4</th>\n",
       "      <td>2017-05-07</td>\n",
       "      <td>17:50:30.944000</td>\n",
       "    </tr>\n",
       "    <tr>\n",
       "      <th>...</th>\n",
       "      <td>...</td>\n",
       "      <td>...</td>\n",
       "    </tr>\n",
       "    <tr>\n",
       "      <th>9995</th>\n",
       "      <td>2017-04-18</td>\n",
       "      <td>00:43:58.104000</td>\n",
       "    </tr>\n",
       "    <tr>\n",
       "      <th>9996</th>\n",
       "      <td>2017-08-16</td>\n",
       "      <td>10:03:10.136000</td>\n",
       "    </tr>\n",
       "    <tr>\n",
       "      <th>9997</th>\n",
       "      <td>2017-08-09</td>\n",
       "      <td>11:47:55.408000</td>\n",
       "    </tr>\n",
       "    <tr>\n",
       "      <th>9998</th>\n",
       "      <td>2017-04-28</td>\n",
       "      <td>07:05:19.776000</td>\n",
       "    </tr>\n",
       "    <tr>\n",
       "      <th>9999</th>\n",
       "      <td>2017-06-02</td>\n",
       "      <td>10:16:34.576000</td>\n",
       "    </tr>\n",
       "  </tbody>\n",
       "</table>\n",
       "<p>10000 rows × 2 columns</p>\n",
       "</div>"
      ],
      "text/plain": [
       "            결제날짜             결제시간\n",
       "0     2017-04-14  19:03:29.976000\n",
       "1     2017-05-23  20:53:54.368000\n",
       "2     2017-08-23  23:39:21.840000\n",
       "3     2017-08-28  20:18:22.824000\n",
       "4     2017-05-07  17:50:30.944000\n",
       "...          ...              ...\n",
       "9995  2017-04-18  00:43:58.104000\n",
       "9996  2017-08-16  10:03:10.136000\n",
       "9997  2017-08-09  11:47:55.408000\n",
       "9998  2017-04-28  07:05:19.776000\n",
       "9999  2017-06-02  10:16:34.576000\n",
       "\n",
       "[10000 rows x 2 columns]"
      ]
     },
     "execution_count": 42,
     "metadata": {},
     "output_type": "execute_result"
    }
   ],
   "source": [
    "df1[['결제날짜','결제시간']]"
   ]
  },
  {
   "cell_type": "markdown",
   "metadata": {
    "id": "zFz5emi-q0fX"
   },
   "source": [
    "### 6. 앞서 추출된 '결제날짜'데이터를 이용하여, '연도' / '월' / '일' 데이터를 추출하시오."
   ]
  },
  {
   "cell_type": "code",
   "execution_count": 59,
   "metadata": {
    "id": "wi53P2ACrJiA"
   },
   "outputs": [],
   "source": [
    "df1['결제날짜'] = pd.to_datetime(df1['결제날짜'], errors='coerce')\n",
    "df1['연도'] = df1['결제날짜'].dt.year\n",
    "df1['월'] = df1['결제날짜'].dt.month\n",
    "df1['일'] = df1['결제날짜'].dt.day"
   ]
  },
  {
   "cell_type": "code",
   "execution_count": 61,
   "metadata": {},
   "outputs": [
    {
     "data": {
      "text/html": [
       "<div>\n",
       "<style scoped>\n",
       "    .dataframe tbody tr th:only-of-type {\n",
       "        vertical-align: middle;\n",
       "    }\n",
       "\n",
       "    .dataframe tbody tr th {\n",
       "        vertical-align: top;\n",
       "    }\n",
       "\n",
       "    .dataframe thead th {\n",
       "        text-align: right;\n",
       "    }\n",
       "</style>\n",
       "<table border=\"1\" class=\"dataframe\">\n",
       "  <thead>\n",
       "    <tr style=\"text-align: right;\">\n",
       "      <th></th>\n",
       "      <th>연도</th>\n",
       "      <th>월</th>\n",
       "      <th>일</th>\n",
       "    </tr>\n",
       "  </thead>\n",
       "  <tbody>\n",
       "    <tr>\n",
       "      <th>0</th>\n",
       "      <td>2017</td>\n",
       "      <td>4</td>\n",
       "      <td>14</td>\n",
       "    </tr>\n",
       "    <tr>\n",
       "      <th>1</th>\n",
       "      <td>2017</td>\n",
       "      <td>5</td>\n",
       "      <td>23</td>\n",
       "    </tr>\n",
       "    <tr>\n",
       "      <th>2</th>\n",
       "      <td>2017</td>\n",
       "      <td>8</td>\n",
       "      <td>23</td>\n",
       "    </tr>\n",
       "    <tr>\n",
       "      <th>3</th>\n",
       "      <td>2017</td>\n",
       "      <td>8</td>\n",
       "      <td>28</td>\n",
       "    </tr>\n",
       "    <tr>\n",
       "      <th>4</th>\n",
       "      <td>2017</td>\n",
       "      <td>5</td>\n",
       "      <td>7</td>\n",
       "    </tr>\n",
       "    <tr>\n",
       "      <th>...</th>\n",
       "      <td>...</td>\n",
       "      <td>...</td>\n",
       "      <td>...</td>\n",
       "    </tr>\n",
       "    <tr>\n",
       "      <th>9995</th>\n",
       "      <td>2017</td>\n",
       "      <td>4</td>\n",
       "      <td>18</td>\n",
       "    </tr>\n",
       "    <tr>\n",
       "      <th>9996</th>\n",
       "      <td>2017</td>\n",
       "      <td>8</td>\n",
       "      <td>16</td>\n",
       "    </tr>\n",
       "    <tr>\n",
       "      <th>9997</th>\n",
       "      <td>2017</td>\n",
       "      <td>8</td>\n",
       "      <td>9</td>\n",
       "    </tr>\n",
       "    <tr>\n",
       "      <th>9998</th>\n",
       "      <td>2017</td>\n",
       "      <td>4</td>\n",
       "      <td>28</td>\n",
       "    </tr>\n",
       "    <tr>\n",
       "      <th>9999</th>\n",
       "      <td>2017</td>\n",
       "      <td>6</td>\n",
       "      <td>2</td>\n",
       "    </tr>\n",
       "  </tbody>\n",
       "</table>\n",
       "<p>10000 rows × 3 columns</p>\n",
       "</div>"
      ],
      "text/plain": [
       "        연도  월   일\n",
       "0     2017  4  14\n",
       "1     2017  5  23\n",
       "2     2017  8  23\n",
       "3     2017  8  28\n",
       "4     2017  5   7\n",
       "...    ... ..  ..\n",
       "9995  2017  4  18\n",
       "9996  2017  8  16\n",
       "9997  2017  8   9\n",
       "9998  2017  4  28\n",
       "9999  2017  6   2\n",
       "\n",
       "[10000 rows x 3 columns]"
      ]
     },
     "execution_count": 61,
     "metadata": {},
     "output_type": "execute_result"
    }
   ],
   "source": [
    "df1[['연도', '월','일']]"
   ]
  },
  {
   "cell_type": "markdown",
   "metadata": {
    "id": "rzXcA2rnq0fX"
   },
   "source": [
    "### 7. 결제 '월'별 '최종결제금액'의 합을 계산하시오."
   ]
  },
  {
   "cell_type": "code",
   "execution_count": 95,
   "metadata": {
    "id": "CJHslrElrKQo"
   },
   "outputs": [
    {
     "data": {
      "text/html": [
       "<div>\n",
       "<style scoped>\n",
       "    .dataframe tbody tr th:only-of-type {\n",
       "        vertical-align: middle;\n",
       "    }\n",
       "\n",
       "    .dataframe tbody tr th {\n",
       "        vertical-align: top;\n",
       "    }\n",
       "\n",
       "    .dataframe thead th {\n",
       "        text-align: right;\n",
       "    }\n",
       "</style>\n",
       "<table border=\"1\" class=\"dataframe\">\n",
       "  <thead>\n",
       "    <tr style=\"text-align: right;\">\n",
       "      <th></th>\n",
       "      <th>월별최종결제금액합</th>\n",
       "    </tr>\n",
       "    <tr>\n",
       "      <th>월</th>\n",
       "      <th></th>\n",
       "    </tr>\n",
       "  </thead>\n",
       "  <tbody>\n",
       "    <tr>\n",
       "      <th>3</th>\n",
       "      <td>67579200</td>\n",
       "    </tr>\n",
       "    <tr>\n",
       "      <th>4</th>\n",
       "      <td>133340640</td>\n",
       "    </tr>\n",
       "    <tr>\n",
       "      <th>5</th>\n",
       "      <td>185577300</td>\n",
       "    </tr>\n",
       "    <tr>\n",
       "      <th>6</th>\n",
       "      <td>203945100</td>\n",
       "    </tr>\n",
       "    <tr>\n",
       "      <th>7</th>\n",
       "      <td>178364700</td>\n",
       "    </tr>\n",
       "    <tr>\n",
       "      <th>8</th>\n",
       "      <td>395389300</td>\n",
       "    </tr>\n",
       "  </tbody>\n",
       "</table>\n",
       "</div>"
      ],
      "text/plain": [
       "   월별최종결제금액합\n",
       "월           \n",
       "3   67579200\n",
       "4  133340640\n",
       "5  185577300\n",
       "6  203945100\n",
       "7  178364700\n",
       "8  395389300"
      ]
     },
     "execution_count": 95,
     "metadata": {},
     "output_type": "execute_result"
    }
   ],
   "source": [
    "df1.groupby('월').agg(월별최종결제금액합 = ('최종결제금액', 'sum'))"
   ]
  },
  {
   "cell_type": "markdown",
   "metadata": {
    "id": "GECm-xIlq0fX"
   },
   "source": [
    "### 8. '최종결제금액'이 높은 30명의 고객 명단을 추출하여, result2.xlsx로 선언하시오."
   ]
  },
  {
   "cell_type": "code",
   "execution_count": 77,
   "metadata": {
    "id": "MRROuBm4rLM5"
   },
   "outputs": [
    {
     "data": {
      "text/html": [
       "<div>\n",
       "<style scoped>\n",
       "    .dataframe tbody tr th:only-of-type {\n",
       "        vertical-align: middle;\n",
       "    }\n",
       "\n",
       "    .dataframe tbody tr th {\n",
       "        vertical-align: top;\n",
       "    }\n",
       "\n",
       "    .dataframe thead th {\n",
       "        text-align: right;\n",
       "    }\n",
       "</style>\n",
       "<table border=\"1\" class=\"dataframe\">\n",
       "  <thead>\n",
       "    <tr style=\"text-align: right;\">\n",
       "      <th></th>\n",
       "      <th>회원코드</th>\n",
       "      <th>프로그램</th>\n",
       "      <th>상태</th>\n",
       "      <th>프로그램가격</th>\n",
       "      <th>최종결제금액</th>\n",
       "      <th>결제시각</th>\n",
       "      <th>결제유형</th>\n",
       "      <th>채널</th>\n",
       "      <th>보조식품가격</th>\n",
       "      <th>보조식품(추가구매)</th>\n",
       "      <th>결제날짜</th>\n",
       "      <th>결제시간</th>\n",
       "      <th>연도</th>\n",
       "      <th>월</th>\n",
       "      <th>일</th>\n",
       "      <th>최종결제금액합</th>\n",
       "    </tr>\n",
       "  </thead>\n",
       "  <tbody>\n",
       "    <tr>\n",
       "      <th>0</th>\n",
       "      <td>Y9RY2VSI</td>\n",
       "      <td>체중감량 프로그램 (타입B)</td>\n",
       "      <td>completed</td>\n",
       "      <td>112500</td>\n",
       "      <td>112500</td>\n",
       "      <td>2017-04-14 PM 7:03:29.976000</td>\n",
       "      <td>Recurring</td>\n",
       "      <td>others</td>\n",
       "      <td>0</td>\n",
       "      <td>구매안함</td>\n",
       "      <td>2017-04-14</td>\n",
       "      <td>19:03:29.976000</td>\n",
       "      <td>2017</td>\n",
       "      <td>4</td>\n",
       "      <td>14</td>\n",
       "      <td>NaN</td>\n",
       "    </tr>\n",
       "    <tr>\n",
       "      <th>1</th>\n",
       "      <td>3GTN3S3B</td>\n",
       "      <td>체중감량 프로그램 (타입B)</td>\n",
       "      <td>completed</td>\n",
       "      <td>44780</td>\n",
       "      <td>44780</td>\n",
       "      <td>2017-05-23 PM 8:53:54.368000</td>\n",
       "      <td>Recurring</td>\n",
       "      <td>others</td>\n",
       "      <td>0</td>\n",
       "      <td>구매안함</td>\n",
       "      <td>2017-05-23</td>\n",
       "      <td>20:53:54.368000</td>\n",
       "      <td>2017</td>\n",
       "      <td>5</td>\n",
       "      <td>23</td>\n",
       "      <td>NaN</td>\n",
       "    </tr>\n",
       "    <tr>\n",
       "      <th>2</th>\n",
       "      <td>6B0IG276</td>\n",
       "      <td>체중감량 프로그램 (타입 A)</td>\n",
       "      <td>completed</td>\n",
       "      <td>132000</td>\n",
       "      <td>149000</td>\n",
       "      <td>2017-08-23 PM 11:39:21.840000</td>\n",
       "      <td>Recurring</td>\n",
       "      <td>facebook</td>\n",
       "      <td>17000</td>\n",
       "      <td>식이요법보조제A</td>\n",
       "      <td>2017-08-23</td>\n",
       "      <td>23:39:21.840000</td>\n",
       "      <td>2017</td>\n",
       "      <td>8</td>\n",
       "      <td>23</td>\n",
       "      <td>NaN</td>\n",
       "    </tr>\n",
       "    <tr>\n",
       "      <th>3</th>\n",
       "      <td>EMGRU2MO</td>\n",
       "      <td>체중감량 프로그램 (타입 A)</td>\n",
       "      <td>completed</td>\n",
       "      <td>112500</td>\n",
       "      <td>112500</td>\n",
       "      <td>2017-08-28 PM 8:18:22.824000</td>\n",
       "      <td>Recurring</td>\n",
       "      <td>naver</td>\n",
       "      <td>0</td>\n",
       "      <td>구매안함</td>\n",
       "      <td>2017-08-28</td>\n",
       "      <td>20:18:22.824000</td>\n",
       "      <td>2017</td>\n",
       "      <td>8</td>\n",
       "      <td>28</td>\n",
       "      <td>67579200.0</td>\n",
       "    </tr>\n",
       "    <tr>\n",
       "      <th>4</th>\n",
       "      <td>1ELG96TX</td>\n",
       "      <td>체중감량 프로그램 (타입B)</td>\n",
       "      <td>completed</td>\n",
       "      <td>44780</td>\n",
       "      <td>44780</td>\n",
       "      <td>2017-05-07 PM 5:50:30.944000</td>\n",
       "      <td>Recurring</td>\n",
       "      <td>facebook</td>\n",
       "      <td>0</td>\n",
       "      <td>구매안함</td>\n",
       "      <td>2017-05-07</td>\n",
       "      <td>17:50:30.944000</td>\n",
       "      <td>2017</td>\n",
       "      <td>5</td>\n",
       "      <td>7</td>\n",
       "      <td>133340640.0</td>\n",
       "    </tr>\n",
       "  </tbody>\n",
       "</table>\n",
       "</div>"
      ],
      "text/plain": [
       "       회원코드              프로그램         상태  프로그램가격  최종결제금액  \\\n",
       "0  Y9RY2VSI   체중감량 프로그램 (타입B)  completed  112500  112500   \n",
       "1  3GTN3S3B   체중감량 프로그램 (타입B)  completed   44780   44780   \n",
       "2  6B0IG276  체중감량 프로그램 (타입 A)  completed  132000  149000   \n",
       "3  EMGRU2MO  체중감량 프로그램 (타입 A)  completed  112500  112500   \n",
       "4  1ELG96TX   체중감량 프로그램 (타입B)  completed   44780   44780   \n",
       "\n",
       "                            결제시각       결제유형        채널  보조식품가격 보조식품(추가구매)  \\\n",
       "0   2017-04-14 PM 7:03:29.976000  Recurring    others       0       구매안함   \n",
       "1   2017-05-23 PM 8:53:54.368000  Recurring    others       0       구매안함   \n",
       "2  2017-08-23 PM 11:39:21.840000  Recurring  facebook   17000   식이요법보조제A   \n",
       "3   2017-08-28 PM 8:18:22.824000  Recurring     naver       0       구매안함   \n",
       "4   2017-05-07 PM 5:50:30.944000  Recurring  facebook       0       구매안함   \n",
       "\n",
       "        결제날짜             결제시간    연도  월   일      최종결제금액합  \n",
       "0 2017-04-14  19:03:29.976000  2017  4  14          NaN  \n",
       "1 2017-05-23  20:53:54.368000  2017  5  23          NaN  \n",
       "2 2017-08-23  23:39:21.840000  2017  8  23          NaN  \n",
       "3 2017-08-28  20:18:22.824000  2017  8  28   67579200.0  \n",
       "4 2017-05-07  17:50:30.944000  2017  5   7  133340640.0  "
      ]
     },
     "execution_count": 77,
     "metadata": {},
     "output_type": "execute_result"
    }
   ],
   "source": [
    "#df1.head()"
   ]
  },
  {
   "cell_type": "code",
   "execution_count": 87,
   "metadata": {},
   "outputs": [],
   "source": [
    "top30 = df1.sort_values('최종결제금액', ascending = False)['회원코드'].head(30)\n",
    "top30.to_excel('result2.xlsx', index = False)"
   ]
  },
  {
   "cell_type": "markdown",
   "metadata": {
    "id": "kHg4eyExq0fX"
   },
   "source": [
    "### 9. '상태'가 completed에 해당하는 데이터만 뽑아, '채널'별 '최종결제금액'의 합을 계산하시오."
   ]
  },
  {
   "cell_type": "code",
   "execution_count": 97,
   "metadata": {
    "id": "0U_P-z5zrL1l"
   },
   "outputs": [
    {
     "data": {
      "text/html": [
       "<div>\n",
       "<style scoped>\n",
       "    .dataframe tbody tr th:only-of-type {\n",
       "        vertical-align: middle;\n",
       "    }\n",
       "\n",
       "    .dataframe tbody tr th {\n",
       "        vertical-align: top;\n",
       "    }\n",
       "\n",
       "    .dataframe thead th {\n",
       "        text-align: right;\n",
       "    }\n",
       "</style>\n",
       "<table border=\"1\" class=\"dataframe\">\n",
       "  <thead>\n",
       "    <tr style=\"text-align: right;\">\n",
       "      <th></th>\n",
       "      <th>채널별최종결제금액합</th>\n",
       "    </tr>\n",
       "    <tr>\n",
       "      <th>채널</th>\n",
       "      <th></th>\n",
       "    </tr>\n",
       "  </thead>\n",
       "  <tbody>\n",
       "    <tr>\n",
       "      <th>direct</th>\n",
       "      <td>17538760</td>\n",
       "    </tr>\n",
       "    <tr>\n",
       "      <th>email</th>\n",
       "      <td>17475380</td>\n",
       "    </tr>\n",
       "    <tr>\n",
       "      <th>facebook</th>\n",
       "      <td>437954060</td>\n",
       "    </tr>\n",
       "    <tr>\n",
       "      <th>google</th>\n",
       "      <td>7017240</td>\n",
       "    </tr>\n",
       "    <tr>\n",
       "      <th>instagram</th>\n",
       "      <td>1890780</td>\n",
       "    </tr>\n",
       "    <tr>\n",
       "      <th>naver</th>\n",
       "      <td>63103330</td>\n",
       "    </tr>\n",
       "    <tr>\n",
       "      <th>others</th>\n",
       "      <td>83813430</td>\n",
       "    </tr>\n",
       "  </tbody>\n",
       "</table>\n",
       "</div>"
      ],
      "text/plain": [
       "           채널별최종결제금액합\n",
       "채널                   \n",
       "direct       17538760\n",
       "email        17475380\n",
       "facebook    437954060\n",
       "google        7017240\n",
       "instagram     1890780\n",
       "naver        63103330\n",
       "others       83813430"
      ]
     },
     "execution_count": 97,
     "metadata": {},
     "output_type": "execute_result"
    }
   ],
   "source": [
    "completed = df1.query('상태 == \"completed\"')\n",
    "completed.groupby('채널').agg(채널별최종결제금액합 = ('최종결제금액', 'sum'))"
   ]
  },
  {
   "cell_type": "markdown",
   "metadata": {},
   "source": [
    "## 끝. 고생하셨습니다"
   ]
  }
 ],
 "metadata": {
  "colab": {
   "provenance": []
  },
  "kernelspec": {
   "display_name": "Python 3 (ipykernel)",
   "language": "python",
   "name": "python3"
  },
  "language_info": {
   "codemirror_mode": {
    "name": "ipython",
    "version": 3
   },
   "file_extension": ".py",
   "mimetype": "text/x-python",
   "name": "python",
   "nbconvert_exporter": "python",
   "pygments_lexer": "ipython3",
   "version": "3.12.4"
  }
 },
 "nbformat": 4,
 "nbformat_minor": 4
}
