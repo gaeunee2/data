{
 "cells": [
  {
   "cell_type": "code",
   "execution_count": 1,
   "id": "a514c324-9e57-4eb1-9a1d-f7af3c7b7937",
   "metadata": {},
   "outputs": [],
   "source": [
    "import pandas as pd"
   ]
  },
  {
   "cell_type": "code",
   "execution_count": 3,
   "id": "a268a81f-34f2-4460-979b-35459960ee90",
   "metadata": {},
   "outputs": [],
   "source": [
    "import numpy as np"
   ]
  },
  {
   "cell_type": "code",
   "execution_count": 6,
   "id": "cbc79cc9-787e-442e-92ca-47ca84b24c5f",
   "metadata": {},
   "outputs": [],
   "source": [
    "import seaborn as sns"
   ]
  },
  {
   "cell_type": "code",
   "execution_count": 41,
   "id": "6bee3c69-21e1-4107-bff6-53139d4d3584",
   "metadata": {},
   "outputs": [],
   "source": [
    "mpg = pd.read_csv('mpg.csv')"
   ]
  },
  {
   "cell_type": "code",
   "execution_count": 43,
   "id": "81c9511f-c8e0-4a13-a731-a33defcbd61d",
   "metadata": {},
   "outputs": [],
   "source": [
    "#drv에 이상치 할당\n",
    "#cf) drv(구동방식) 값은 4(4륜구동)/f(전륜구동)/r(후륜구동) 이렇게 3가지임\n",
    "# 존재할 수 없는 k 값을 drv의 이상치 값으로 할당\n",
    "mpg.loc[[9,13,57,92],['drv']] = 'k'"
   ]
  },
  {
   "cell_type": "code",
   "execution_count": 45,
   "id": "3d141a46-ad51-480a-9b85-664982ebeaff",
   "metadata": {},
   "outputs": [],
   "source": [
    "#cty에 이상치 할당\n",
    "mpg.loc[[28,42,128,202],'cty'] = [3,4,39,42]"
   ]
  },
  {
   "cell_type": "code",
   "execution_count": 47,
   "id": "0edadf2e-0373-40e8-a5c7-57d4754922b6",
   "metadata": {},
   "outputs": [
    {
     "data": {
      "text/plain": [
       "drv\n",
       "4    100\n",
       "f    106\n",
       "k      4\n",
       "r     24\n",
       "Name: count, dtype: int64"
      ]
     },
     "execution_count": 47,
     "metadata": {},
     "output_type": "execute_result"
    }
   ],
   "source": [
    "#Q1\n",
    "mpg['drv'].value_counts().sort_index()"
   ]
  },
  {
   "cell_type": "code",
   "execution_count": 49,
   "id": "f2145220-1833-4b94-af21-3302ce0ec2f6",
   "metadata": {},
   "outputs": [],
   "source": [
    "mpg['drv'] = np.where(\n",
    "    mpg['drv'].isin(['4','f','r']),\n",
    "    mpg['drv'],np.nan\n",
    ")"
   ]
  },
  {
   "cell_type": "code",
   "execution_count": 51,
   "id": "4b0df711-0aa9-4a82-bdfd-96f93e1f5de2",
   "metadata": {},
   "outputs": [
    {
     "data": {
      "text/plain": [
       "drv\n",
       "4    100\n",
       "f    106\n",
       "r     24\n",
       "Name: count, dtype: int64"
      ]
     },
     "execution_count": 51,
     "metadata": {},
     "output_type": "execute_result"
    }
   ],
   "source": [
    "mpg['drv'].value_counts().sort_index()"
   ]
  },
  {
   "cell_type": "code",
   "execution_count": 57,
   "id": "b3ab84b2-9e69-4297-961b-4a131d3e2167",
   "metadata": {},
   "outputs": [
    {
     "data": {
      "text/plain": [
       "<Axes: ylabel='cty'>"
      ]
     },
     "execution_count": 57,
     "metadata": {},
     "output_type": "execute_result"
    },
    {
     "data": {
      "image/png": "[encoded data removed]",
      "text/plain": [
       "<Figure size 640x480 with 1 Axes>"
      ]
     },
     "metadata": {},
     "output_type": "display_data"
    }
   ],
   "source": [
    "#Q2\n",
    "sns.boxplot(data=mpg, y='cty')"
   ]
  },
  {
   "cell_type": "code",
   "execution_count": 60,
   "id": "ac2097dd-4ceb-4df2-a141-a31f9ea45aa8",
   "metadata": {},
   "outputs": [],
   "source": [
    "pct25 = mpg['cty'].quantile(.25)"
   ]
  },
  {
   "cell_type": "code",
   "execution_count": 62,
   "id": "fad6b6f1-9b6a-4f49-9d18-167916dc6243",
   "metadata": {},
   "outputs": [],
   "source": [
    "pct75 = mpg['cty'].quantile(.75)"
   ]
  },
  {
   "cell_type": "code",
   "execution_count": 65,
   "id": "4bc2ffba-69d8-4e31-8bb3-0d60fe84dc54",
   "metadata": {},
   "outputs": [],
   "source": [
    "iqr = pct75-pct25"
   ]
  },
  {
   "cell_type": "code",
   "execution_count": 69,
   "id": "fc2d4a79-d9da-40f8-b0c3-e047aa1f2dbb",
   "metadata": {},
   "outputs": [
    {
     "data": {
      "text/plain": [
       "6.5"
      ]
     },
     "execution_count": 69,
     "metadata": {},
     "output_type": "execute_result"
    }
   ],
   "source": [
    "pct25-1.5*iqr"
   ]
  },
  {
   "cell_type": "code",
   "execution_count": 71,
   "id": "f8e7e6ee-0cb8-4000-a723-ca1d7af77bfa",
   "metadata": {},
   "outputs": [
    {
     "data": {
      "text/plain": [
       "26.5"
      ]
     },
     "execution_count": 71,
     "metadata": {},
     "output_type": "execute_result"
    }
   ],
   "source": [
    "pct75+1.5*iqr"
   ]
  },
  {
   "cell_type": "code",
   "execution_count": 74,
   "id": "6276bf72-5f25-4b52-93bd-90dfe69adeff",
   "metadata": {},
   "outputs": [],
   "source": [
    "mpg['cty'] = np.where(\n",
    "    (mpg['cty']<6.5) | (mpg['cty']>26.5),\n",
    "    np.nan, mpg['cty']\n",
    ")"
   ]
  },
  {
   "cell_type": "code",
   "execution_count": 77,
   "id": "17c0673a-acbd-4c6d-bda0-36f33f23d970",
   "metadata": {},
   "outputs": [
    {
     "data": {
      "text/plain": [
       "9"
      ]
     },
     "execution_count": 77,
     "metadata": {},
     "output_type": "execute_result"
    }
   ],
   "source": [
    "mpg['cty'].isna().sum()"
   ]
  },
  {
   "cell_type": "code",
   "execution_count": 80,
   "id": "913ec4dd-d012-4418-b293-1ac6199b3afb",
   "metadata": {},
   "outputs": [
    {
     "data": {
      "text/plain": [
       "<Axes: ylabel='cty'>"
      ]
     },
     "execution_count": 80,
     "metadata": {},
     "output_type": "execute_result"
    },
    {
     "data": {
      "image/png": "[encoded data removed]",
      "text/plain": [
       "<Figure size 640x480 with 1 Axes>"
      ]
     },
     "metadata": {},
     "output_type": "display_data"
    }
   ],
   "source": [
    "sns.boxplot(data=mpg, y = 'cty')"
   ]
  },
  {
   "cell_type": "code",
   "execution_count": 87,
   "id": "a63decf9-74b9-4f3d-b5cc-1c11706449e1",
   "metadata": {},
   "outputs": [
    {
     "data": {
      "text/html": [
       "<div>\n",
       "<style scoped>\n",
       "    .dataframe tbody tr th:only-of-type {\n",
       "        vertical-align: middle;\n",
       "    }\n",
       "\n",
       "    .dataframe tbody tr th {\n",
       "        vertical-align: top;\n",
       "    }\n",
       "\n",
       "    .dataframe thead th {\n",
       "        text-align: right;\n",
       "    }\n",
       "</style>\n",
       "<table border=\"1\" class=\"dataframe\">\n",
       "  <thead>\n",
       "    <tr style=\"text-align: right;\">\n",
       "      <th></th>\n",
       "      <th>mean_cty</th>\n",
       "    </tr>\n",
       "    <tr>\n",
       "      <th>drv</th>\n",
       "      <th></th>\n",
       "    </tr>\n",
       "  </thead>\n",
       "  <tbody>\n",
       "    <tr>\n",
       "      <th>4</th>\n",
       "      <td>14.247423</td>\n",
       "    </tr>\n",
       "    <tr>\n",
       "      <th>f</th>\n",
       "      <td>19.470000</td>\n",
       "    </tr>\n",
       "    <tr>\n",
       "      <th>r</th>\n",
       "      <td>13.958333</td>\n",
       "    </tr>\n",
       "  </tbody>\n",
       "</table>\n",
       "</div>"
      ],
      "text/plain": [
       "      mean_cty\n",
       "drv           \n",
       "4    14.247423\n",
       "f    19.470000\n",
       "r    13.958333"
      ]
     },
     "execution_count": 87,
     "metadata": {},
     "output_type": "execute_result"
    }
   ],
   "source": [
    "#Q3\n",
    "mpg.dropna(subset=['cty','drv']) \\\n",
    "    .groupby(mpg['drv']) \\\n",
    "    .agg(mean_cty = ('cty','mean'))"
   ]
  },
  {
   "cell_type": "code",
   "execution_count": null,
   "id": "9387c0e2-fabd-4ebb-adc3-6831dbd27b49",
   "metadata": {},
   "outputs": [],
   "source": []
  }
 ],
 "metadata": {
  "kernelspec": {
   "display_name": "Python 3 (ipykernel)",
   "language": "python",
   "name": "python3"
  },
  "language_info": {
   "codemirror_mode": {
    "name": "ipython",
    "version": 3
   },
   "file_extension": ".py",
   "mimetype": "text/x-python",
   "name": "python",
   "nbconvert_exporter": "python",
   "pygments_lexer": "ipython3",
   "version": "3.12.4"
  }
 },
 "nbformat": 4,
 "nbformat_minor": 5
}
