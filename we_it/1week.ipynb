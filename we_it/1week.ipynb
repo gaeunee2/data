{
 "cells": [
  {
   "cell_type": "code",
   "execution_count": null,
   "metadata": {},
   "outputs": [],
   "source": [
    "#변수 만들기\n",
    "a = 1 #a에 1 할당\n",
    "a     #a 출력"
   ]
  },
  {
   "cell_type": "code",
   "execution_count": null,
   "metadata": {},
   "outputs": [],
   "source": [
    "#변수를 이용한 연산\n",
    "a = 1\n",
    "b = 2\n",
    "c = 3\n",
    "\n",
    "print(a + b)\n",
    "print(a + b + c)\n",
    "print(4 / b) #출력값 2.0\n",
    "print(5 * b)"
   ]
  },
  {
   "cell_type": "code",
   "execution_count": null,
   "metadata": {},
   "outputs": [],
   "source": [
    "#여러 값으로 구성된 변수(list)\n",
    "var1 = [1, 2, 3]\n",
    "var2 = [4, 5, 6]\n",
    "\n",
    "var1 + var2 #결합"
   ]
  },
  {
   "cell_type": "code",
   "execution_count": null,
   "metadata": {},
   "outputs": [],
   "source": [
    "#문자 변수\n",
    "str1 = 'a'\n",
    "str2 = 'text'\n",
    "str3 = 'Hello World!'\n",
    "\n",
    "print(str1) #출력값 따옴표X\n",
    "print(str2)\n",
    "print(str3)\n",
    "print(str2 + str3) #결합, 따옴표X\n",
    "print(str2 + ' ' + str3) #띄어쓰기\n",
    "#str1 + 2 -> TypeError(문자 변수 연산 불가)\n",
    "str1 #출력값 따옴표 붙음"
   ]
  },
  {
   "cell_type": "code",
   "execution_count": null,
   "metadata": {},
   "outputs": [],
   "source": [
    "#여러 값으로 구성된 문자 변수\n",
    "str4 = ['a', 'b', 'c'] #list형\n",
    "str5 = ['Hello!', 'World', 'is', 'good!']\n",
    "\n",
    "print(str4) #str4와 출력값 같음\n",
    "print(str5)"
   ]
  },
  {
   "cell_type": "code",
   "execution_count": null,
   "metadata": {},
   "outputs": [],
   "source": [
    "#함수 이용\n",
    "x = [1, 2, 3]\n",
    "\n",
    "print(sum(x)) #합\n",
    "print(max(x)) #최댓값\n",
    "print(min(x)) #최솟값\n",
    "\n",
    "x_sum = sum(x)\n",
    "x_sum #새 변수에 넣기"
   ]
  },
  {
   "cell_type": "code",
   "execution_count": null,
   "metadata": {},
   "outputs": [],
   "source": [
    "#패키지 활용\n",
    "import seaborn #패키지 로드\n",
    "var = ['a', 'a', 'b', 'c']\n",
    "seaborn.countplot(x = var)"
   ]
  },
  {
   "cell_type": "code",
   "execution_count": null,
   "metadata": {},
   "outputs": [],
   "source": [
    "#패키지 약어 활용\n",
    "import seaborn as sns\n",
    "var = ['a', 'a', 'b', 'c']\n",
    "sns.countplot(x = var)"
   ]
  },
  {
   "cell_type": "code",
   "execution_count": null,
   "metadata": {},
   "outputs": [],
   "source": [
    "#titanic 데이터 그래프\n",
    "import seaborn as sns\n",
    "df = sns.load_dataset('titanic')\n",
    "\n",
    "sns.countplot(data = df, x = 'sex') #x파라미터에 'sex' 지정\n",
    "sns.countplot(data = df, x = 'class') #선실 등급에 따라\n",
    "sns.countplot(data = df, x = 'class', hue = 'alive') #hue는 변수 항목별로 막대 색 표현\n",
    "sns.countplot(data = df, y = 'class', hue = 'alive') #y축 class(그래프 가로)"
   ]
  },
  {
   "cell_type": "code",
   "execution_count": null,
   "metadata": {},
   "outputs": [],
   "source": [
    "#패키지 함수\n",
    "import pydataset as py\n",
    "py.data() #데이터셋 목록 출력\n",
    "df = py.data('mtcars')\n",
    "df"
   ]
  },
  {
   "cell_type": "code",
   "execution_count": null,
   "metadata": {},
   "outputs": [],
   "source": [
    "#Q1_시험 점수 변수 만들고 출력하기\n",
    "score = [80, 60, 70, 50, 90]\n",
    "score"
   ]
  },
  {
   "cell_type": "code",
   "execution_count": null,
   "metadata": {},
   "outputs": [],
   "source": [
    "#Q2_합계 점수 구하기\n",
    "score = [80, 60, 70, 50, 90]\n",
    "sum(score) #내장함수"
   ]
  },
  {
   "cell_type": "code",
   "execution_count": null,
   "metadata": {},
   "outputs": [],
   "source": [
    "#Q3_합계 점수 변수 만들어 출력하기\n",
    "score = [80, 60, 70, 50, 90]\n",
    "score_sum = sum(score)\n",
    "score_sum"
   ]
  },
  {
   "cell_type": "code",
   "execution_count": null,
   "metadata": {},
   "outputs": [],
   "source": [
    "#데이터 입력해 데이터 프레임 만들기\n",
    "import pandas as pd #데이터 가공에 사용되는 패키지\n",
    "df_score = pd.DataFrame({'name' : ['김지훈', '이유진', '박동현', '김민지'],\n",
    "                   'english' : [90, 80, 60, 70],\n",
    "                   'math' : [50, 60, 100, 20]})\n",
    "df_score"
   ]
  },
  {
   "cell_type": "code",
   "execution_count": null,
   "metadata": {},
   "outputs": [],
   "source": [
    "#데이터 프레임으로 분석하기\n",
    "import pandas as pd #데이터 가공에 사용되는 패키지\n",
    "df_score = pd.DataFrame({'name' : ['김지훈', '이유진', '박동현', '김민지'],\n",
    "                   'english' : [90, 80, 60, 70],\n",
    "                   'math' : [50, 60, 100, 20]})\n",
    "df_score['english'] #english변수값 추출\n",
    "sum(df_score['english']) #english sum\n",
    "sum(df_score['math']) / 4 #math average"
   ]
  },
  {
   "cell_type": "code",
   "execution_count": null,
   "metadata": {},
   "outputs": [],
   "source": [
    "#Q1_데이터 프레임 출력하기\n",
    "import pandas as pd\n",
    "df_sales = pd.DataFrame({'제품' : ['사과', '딸기', '수박'],\n",
    "                   '가격' : [1800, 1500, 3000],\n",
    "                   '판매량' : [24, 38, 13]})\n",
    "df_sales"
   ]
  },
  {
   "cell_type": "code",
   "execution_count": null,
   "metadata": {},
   "outputs": [],
   "source": [
    "#Q2_과일 가격 평균과 판매량 평균 구하기\n",
    "import pandas as pd\n",
    "df_sales = pd.DataFrame({'제품' : ['사과', '딸기', '수박'],\n",
    "                   '가격' : [1800, 1500, 3000],\n",
    "                   '판매량' : [24, 38, 13]})\n",
    "print(sum(df_sales['가격']) / 3)\n",
    "print(sum(df_sales['판매량']) / 3)"
   ]
  },
  {
   "cell_type": "code",
   "execution_count": null,
   "metadata": {},
   "outputs": [],
   "source": [
    "#엑셀 파일 불러오기\n",
    "import pandas as pd\n",
    "df_exam = pd.read_excel('excel_exam.xlsx')\n",
    "df_exam\n",
    "print(sum(df_exam['english']) / len(df_exam)) #len(df)은 행 개수\n",
    "print(sum(df_exam['science']) / len(df_exam))"
   ]
  },
  {
   "cell_type": "code",
   "execution_count": null,
   "metadata": {},
   "outputs": [],
   "source": [
    "#CSV 파일 불러오기\n",
    "import pandas as pd\n",
    "df_cvs_exam = pd.read_csv('exam.csv')\n",
    "df_cvs_exam"
   ]
  },
  {
   "cell_type": "code",
   "execution_count": 1,
   "metadata": {},
   "outputs": [],
   "source": [
    "#데이터 프레임 CSV파일로 저장하기\n",
    "import pandas as pd\n",
    "df_midterm = pd.DataFrame({'english' : [90, 80, 60, 70],\n",
    "                           'math' : [50, 60, 100, 20],\n",
    "                           'nclass' : [1, 1, 2, 2]})\n",
    "df_midterm.to_csv('output_newdata.csv', index = False) #index번호 제외"
   ]
  }
 ],
 "metadata": {
  "kernelspec": {
   "display_name": "Python 3 (ipykernel)",
   "language": "python",
   "name": "python3"
  },
  "language_info": {
   "codemirror_mode": {
    "name": "ipython",
    "version": 3
   },
   "file_extension": ".py",
   "mimetype": "text/x-python",
   "name": "python",
   "nbconvert_exporter": "python",
   "pygments_lexer": "ipython3",
   "version": "3.11.1"
  }
 },
 "nbformat": 4,
 "nbformat_minor": 4
}
