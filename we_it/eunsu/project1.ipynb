{
 "cells": [
  {
   "cell_type": "code",
   "execution_count": null,
   "id": "90ebe265-dee1-4fef-89b4-63d52c2dc30e",
   "metadata": {},
   "outputs": [],
   "source": [
    "#피어슨 상관분석\n",
    "import pandas as pd\n",
    "\n",
    "intent_df = pd.read_csv(\"지능형 기기 이용 의도_VRAR기기.csv\", encoding=\"cp949\")\n",
    "frequency_df = pd.read_csv(\"지능형 기기 이용빈도_VRAR기기.csv\", encoding=\"cp949\")\n",
    "\n",
    "# 첫 번째 행을 컬럼명으로 지정\n",
    "intent_df.columns = intent_df.iloc[0]\n",
    "intent_df = intent_df[1:].reset_index(drop=True)\n",
    "\n",
    "frequency_df.columns = frequency_df.iloc[0]\n",
    "frequency_df = frequency_df[1:].reset_index(drop=True)\n",
    "\n",
    "# 이용 의도 점수 변환 \n",
    "intent_weights = [1, 2, 3, 6, 0]  # \"전혀 없다\" ~ \"매우 있다\", \"잘 모르겠다\"(0점 처리)\n",
    "intent_columns = ['전혀 없다 (%)', '별로 없다 (%)', '약간 있다 (%)', '매우 있다 (%)', '잘 모르겠다 (%)']\n",
    "intent_df['이용 의도 점수'] = (intent_df[intent_columns].astype(float) * intent_weights).sum(axis=1) / 100\n",
    "\n",
    "# 이용 빈도 점수 변환\n",
    "frequency_weights = [30, 10, 5, 2, -5, -10]  \n",
    "frequency_columns = ['거의 매일 (%)', '일주일에 한두 번 (%)', '1개월에 한두 번 (%)', '6개월에 한두 번 (%)', '최근 1년간 이용 한적 없음 (%)', '전혀 이용한 적 없음 (%)']\n",
    "frequency_df[\"이용 빈도 점수\"] = (frequency_df[frequency_columns].astype(float) * frequency_weights).sum(axis=1) / sum(frequency_weights)\n",
    "\n",
    "# 필요한 컬럼 선택\n",
    "intent_df = intent_df[['구분별(1)', '구분별(2)', '이용 의도 점수']]\n",
    "frequency_df = frequency_df[['구분별(1)', '구분별(2)', '이용 빈도 점수']]\n",
    "\n",
    "# 병합\n",
    "merged_df = pd.merge(intent_df, frequency_df, on=['구분별(1)', '구분별(2)'])\n",
    "\n",
    "# 데이터 타입 변환\n",
    "merged_df['이용 의도 점수'] = merged_df['이용 의도 점수'].astype(float)\n",
    "merged_df['이용 빈도 점수'] = merged_df['이용 빈도 점수'].astype(float)\n",
    "\n",
    "# 그룹별 피어슨 상관계수 계산\n",
    "group_correlations = {}\n",
    "\n",
    "unique_groups = merged_df[\"구분별(1)\"].unique()\n",
    "\n",
    "for group in unique_groups:\n",
    "    subset = merged_df[merged_df[\"구분별(1)\"] == group]\n",
    "    if len(subset) > 1:  # 최소한 두 개 이상의 데이터 필요\n",
    "        correlation = subset[['이용 의도 점수', '이용 빈도 점수']].corr(method='pearson').iloc[0, 1]\n",
    "        group_correlations[group] = correlation\n",
    "\n",
    "# 결과 출력\n",
    "print(group_correlations)"
   ]
  },
  {
   "cell_type": "code",
   "execution_count": null,
   "id": "b58da8d4-66aa-4296-b61f-3ae86d331a60",
   "metadata": {},
   "outputs": [],
   "source": []
  }
 ],
 "metadata": {
  "kernelspec": {
   "display_name": "Python 3 (ipykernel)",
   "language": "python",
   "name": "python3"
  },
  "language_info": {
   "codemirror_mode": {
    "name": "ipython",
    "version": 3
   },
   "file_extension": ".py",
   "mimetype": "text/x-python",
   "name": "python",
   "nbconvert_exporter": "python",
   "pygments_lexer": "ipython3",
   "version": "3.12.4"
  }
 },
 "nbformat": 4,
 "nbformat_minor": 5
}
