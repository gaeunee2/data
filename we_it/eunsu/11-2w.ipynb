{
 "cells": [
  {
   "cell_type": "code",
   "execution_count": null,
   "id": "d5043f43-578c-49a4-b207-1e0545cc4724",
   "metadata": {},
   "outputs": [],
   "source": [
    "#3-1 k-최근접 이웃 회귀\n",
    "import numpy as np\n",
    "perch_length = np.array([8.4, 13.7, 15.0, 16.2, 17.4, 18.0, 18.7, 19.0, 19.6, 20.0, 21.0,\n",
    "       21.0, 21.0, 21.3, 22.0, 22.0, 22.0, 22.0, 22.0, 22.5, 22.5, 22.7,\n",
    "       23.0, 23.5, 24.0, 24.0, 24.6, 25.0, 25.6, 26.5, 27.3, 27.5, 27.5,\n",
    "       27.5, 28.0, 28.7, 30.0, 32.8, 34.5, 35.0, 36.5, 36.0, 37.0, 37.0,\n",
    "       39.0, 39.0, 39.0, 40.0, 40.0, 40.0, 40.0, 42.0, 43.0, 43.0, 43.5,\n",
    "       44.0])\n",
    "perch_weight = np.array([5.9, 32.0, 40.0, 51.5, 70.0, 100.0, 78.0, 80.0, 85.0, 85.0, 110.0,\n",
    "       115.0, 125.0, 130.0, 120.0, 120.0, 130.0, 135.0, 110.0, 130.0,\n",
    "       150.0, 145.0, 150.0, 170.0, 225.0, 145.0, 188.0, 180.0, 197.0,\n",
    "       218.0, 300.0, 260.0, 265.0, 250.0, 250.0, 300.0, 320.0, 514.0,\n",
    "       556.0, 840.0, 685.0, 700.0, 700.0, 690.0, 900.0, 650.0, 820.0,\n",
    "       850.0, 900.0, 1015.0, 820.0, 1100.0, 1000.0, 1100.0, 1000.0,\n",
    "       1000.0])\n"
   ]
  },
  {
   "cell_type": "code",
   "execution_count": null,
   "id": "a3b56b08-e40f-459a-84b8-ed40f0e2e0f8",
   "metadata": {},
   "outputs": [],
   "source": [
    "import matplotlib.pyplot as plt\n",
    "plt.scatter(perch_length, perch_weight)\n",
    "plt.xlabel('length')\n",
    "plt.ylabel('weight')\n",
    "plt.show()"
   ]
  },
  {
   "cell_type": "code",
   "execution_count": null,
   "id": "b658f9d6-e5be-4c28-b670-ddffdee2db0d",
   "metadata": {},
   "outputs": [],
   "source": [
    "#테스트 세트와 훈련 세트로 나누기\n",
    "from sklearn.model_selection import train_test_split\n",
    "train_input, test_input, train_target, test_target = train_test_split(perch_length, perch_weight, random_state=42)"
   ]
  },
  {
   "cell_type": "code",
   "execution_count": null,
   "id": "662ca3b0-84fc-47a7-913d-465c9a8d1ad4",
   "metadata": {},
   "outputs": [],
   "source": [
    "#넘파이 배열은 크기를 바꿀 수 있는 reshape() 메서드 제공\n",
    "test_array = np.array([1,2,3,4])\n",
    "print(test_array.shape)"
   ]
  },
  {
   "cell_type": "code",
   "execution_count": null,
   "id": "dd13e02d-dcca-4950-841b-6ba06dcd3f3a",
   "metadata": {},
   "outputs": [],
   "source": [
    "test_array = test_array.reshape(2,2)\n",
    "print(test_array.shape)"
   ]
  },
  {
   "cell_type": "code",
   "execution_count": null,
   "id": "ccaa3809-5d74-4ab9-adc5-4d32eff68569",
   "metadata": {},
   "outputs": [],
   "source": [
    "train_input = train_input.reshape(-1,1)\n",
    "test_input = test_input.reshape(-1,1)\n",
    "print(train_input.shape, test_input.shape)"
   ]
  },
  {
   "cell_type": "code",
   "execution_count": null,
   "id": "7477ecf6-6194-4322-9d8f-b5157d375bb0",
   "metadata": {},
   "outputs": [],
   "source": [
    "from sklearn.neighbors import KNeighborsRegressor\n",
    "\n",
    "knr = KNeighborsRegressor()\n",
    "\n",
    "#k-최근접 이웃 회귀 모델을 훈련합니다\n",
    "knr.fit(train_input, train_target)"
   ]
  },
  {
   "cell_type": "code",
   "execution_count": null,
   "id": "d7ae3c90-9bdc-4d17-a266-060610a1bffa",
   "metadata": {},
   "outputs": [],
   "source": [
    "print(knr.score(test_input, test_target)) #결정계수"
   ]
  },
  {
   "cell_type": "code",
   "execution_count": null,
   "id": "a99edd3c-1e11-4b1c-b345-fbbc4a70c8b1",
   "metadata": {},
   "outputs": [],
   "source": [
    "from sklearn.metrics import mean_absolute_error\n",
    "\n",
    "#테스트 세트에 대한 예측을 만듭니다\n",
    "test_prediction = knr.predict(test_input)\n",
    "\n",
    "#테스트 세트에 대한 평균 절댓값 오차를 계산합니다\n",
    "mae = mean_absolute_error(test_target, test_prediction)\n",
    "print(mae)"
   ]
  },
  {
   "cell_type": "code",
   "execution_count": null,
   "id": "0f70fe5f-c78f-4df5-940c-6764530a9e58",
   "metadata": {},
   "outputs": [],
   "source": [
    "print(knr.score(train_input, train_target))"
   ]
  },
  {
   "cell_type": "code",
   "execution_count": null,
   "id": "8acd1b8d-bb1a-4d65-a140-1edec803badf",
   "metadata": {},
   "outputs": [],
   "source": [
    "#이웃의 개수를 3으로 설정합니다\n",
    "knr.n_neighbors = 3\n",
    "\n",
    "#모델을 다시 훈련합니다\n",
    "knr.fit(train_input, train_target)\n",
    "print(knr.score(train_input, train_target))"
   ]
  },
  {
   "cell_type": "code",
   "execution_count": null,
   "id": "cd366b18-24ff-4523-866e-f89bedeb5f8f",
   "metadata": {},
   "outputs": [],
   "source": [
    "#3-2 선형 회귀3-2 선형 회귀\n",
    "import numpy as np\n",
    "perch_length = np.array([8.4, 13.7, 15.0, 16.2, 17.4, 18.0, 18.7, 19.0, 19.6, 20.0, 21.0,\n",
    "       21.0, 21.0, 21.3, 22.0, 22.0, 22.0, 22.0, 22.0, 22.5, 22.5, 22.7,\n",
    "       23.0, 23.5, 24.0, 24.0, 24.6, 25.0, 25.6, 26.5, 27.3, 27.5, 27.5,\n",
    "       27.5, 28.0, 28.7, 30.0, 32.8, 34.5, 35.0, 36.5, 36.0, 37.0, 37.0,\n",
    "       39.0, 39.0, 39.0, 40.0, 40.0, 40.0, 40.0, 42.0, 43.0, 43.0, 43.5,\n",
    "       44.0])\n",
    "perch_weight = np.array([5.9, 32.0, 40.0, 51.5, 70.0, 100.0, 78.0, 80.0, 85.0, 85.0, 110.0,\n",
    "       115.0, 125.0, 130.0, 120.0, 120.0, 130.0, 135.0, 110.0, 130.0,\n",
    "       150.0, 145.0, 150.0, 170.0, 225.0, 145.0, 188.0, 180.0, 197.0,\n",
    "       218.0, 300.0, 260.0, 265.0, 250.0, 250.0, 300.0, 320.0, 514.0,\n",
    "       556.0, 840.0, 685.0, 700.0, 700.0, 690.0, 900.0, 650.0, 820.0,\n",
    "       850.0, 900.0, 1015.0, 820.0, 1100.0, 1000.0, 1100.0, 1000.0,\n",
    "       1000.0])"
   ]
  },
  {
   "cell_type": "code",
   "execution_count": null,
   "id": "b8e4cd68-b647-4884-b77d-d3aca5208474",
   "metadata": {},
   "outputs": [],
   "source": [
    "from sklearn.model_selection import train_test_split\n",
    "\n",
    "#훈련 세트와 테스트 세트로 나눕니다\n",
    "train_input, test_input, train_target, test_target = train_test_split(perch_length, perch_weight, random_state=42)\n",
    "\n",
    "#훈련 세트와 테스트 세트를 2차원 배열로 바꿉니다\n",
    "train_input = train_input.reshape(-1,1)\n",
    "test_input = test_input.reshape(-1,1)"
   ]
  },
  {
   "cell_type": "code",
   "execution_count": null,
   "id": "66aca0fe-9f12-42de-af0e-7e63e246a501",
   "metadata": {},
   "outputs": [],
   "source": [
    "#최근접 이웃 개수를 3으로 하는 모델 훈련\n",
    "from sklearn.neighbors import KNeighborsRegressor\n",
    "\n",
    "knr = KNeighborsRegressor(n_neighbors=3)\n",
    "\n",
    "#k-최근접 이웃 회귀 모델을 훈련합니다\n",
    "knr.fit(train_input, train_target)"
   ]
  },
  {
   "cell_type": "code",
   "execution_count": null,
   "id": "4c81d096-a4bd-41ef-b683-adb2e76175e9",
   "metadata": {},
   "outputs": [],
   "source": [
    "print(knr.predict([[50]])) #길이 50cm인 농어 무게 예측"
   ]
  },
  {
   "cell_type": "code",
   "execution_count": null,
   "id": "7facad67-1ac8-41e0-ba1e-c6b57e8a273a",
   "metadata": {},
   "outputs": [],
   "source": [
    "import matplotlib.pyplot as plt\n",
    "\n",
    "#50cm 농어의 이웃을 구합니다\n",
    "distances, indexes = knr.kneighbors([[50]])\n",
    "\n",
    "#훈련 세트의 산점도를 그립니다\n",
    "plt.scatter(train_input, train_target)\n",
    "\n",
    "#훈련 세트 중에서 이웃 샘플만 다시 그립니다\n",
    "plt.scatter(train_input[indexes], train_target[indexes], marker='D')\n",
    "\n",
    "#50cm 농어 데이터\n",
    "plt.scatter(50, 1033, marker='^')\n",
    "plt.xlabel('length')\n",
    "plt.ylabel('weight')\n",
    "plt.show()"
   ]
  },
  {
   "cell_type": "code",
   "execution_count": null,
   "id": "6f8e9596-2417-4638-8d57-70aa827bd6f3",
   "metadata": {},
   "outputs": [],
   "source": [
    "print(np.mean(train_target[indexes]))"
   ]
  },
  {
   "cell_type": "code",
   "execution_count": null,
   "id": "ff108971-5783-4e17-9767-a41cece016e9",
   "metadata": {},
   "outputs": [],
   "source": [
    "print(knr.predict([[100]]))"
   ]
  },
  {
   "cell_type": "code",
   "execution_count": null,
   "id": "a13dc11c-1d24-4e77-8dad-5d20704558dd",
   "metadata": {},
   "outputs": [],
   "source": [
    "#100cm 농어의 이웃을 구합니다\n",
    "distances, indexes = knr.kneighbors([[100]])\n",
    "\n",
    "#훈련 세트의 산점도를 그립니다\n",
    "plt.scatter(train_input, train_target)\n",
    "\n",
    "#훈련 세트 중에서 이웃 샘플만 다시 그립니다\n",
    "plt.scatter(train_input[indexes], train_target[indexes], marker='D')\n",
    "\n",
    "#100cm 농어 데이터\n",
    "plt.scatter(100, 1033, marker='^')\n",
    "plt.xlabel('length')\n",
    "plt.ylabel('weight')\n",
    "plt.show()"
   ]
  },
  {
   "cell_type": "code",
   "execution_count": null,
   "id": "e9f2fbee-7b58-42fd-b45d-b41981ed4137",
   "metadata": {},
   "outputs": [],
   "source": [
    "#선형 회귀\n",
    "from sklearn.linear_model import LinearRegression\n",
    "lr = LinearRegression()\n",
    "\n",
    "#선형 회귀 모델을 훈련합니다\n",
    "lr.fit(train_input, train_target)\n",
    "\n",
    "#50cm 농어에 대해 예측합니다\n",
    "print(lr.predict([[50]]))"
   ]
  },
  {
   "cell_type": "code",
   "execution_count": null,
   "id": "535fcee1-17b5-4b19-a6f0-201ae80c75c6",
   "metadata": {},
   "outputs": [],
   "source": [
    "print(lr.coef_,lr.intercept_)"
   ]
  },
  {
   "cell_type": "code",
   "execution_count": null,
   "id": "dc2fb4d7-f3a6-42d0-baf0-fb708855f26c",
   "metadata": {},
   "outputs": [],
   "source": [
    "#훈련 세트의 산점도를 그립니다\n",
    "plt.scatter(train_input, train_target)\n",
    "\n",
    "#15에서 50까지 1차 방정식 그래프를 그립니다\n",
    "plt.plot([15,50], [15*lr.coef_+lr.intercept_, 50*lr.coef_+lr.intercept_])\n",
    "\n",
    "#50cm 농어 데이터\n",
    "plt.scatter(50, 1241.8, marker='^')\n",
    "plt.xlabel('length')\n",
    "plt.ylabel('weight')\n",
    "plt.show()"
   ]
  },
  {
   "cell_type": "code",
   "execution_count": null,
   "id": "a8c4e13d-3ccd-495b-b9fb-b78618a0421a",
   "metadata": {},
   "outputs": [],
   "source": [
    "print(lr.score(train_input, train_target)) #훈련 세트\n",
    "print(lr.score(test_input, test_target)) #테스트 세트"
   ]
  },
  {
   "cell_type": "code",
   "execution_count": null,
   "id": "e04fec26-015d-40bd-bade-d6479ebfc279",
   "metadata": {},
   "outputs": [],
   "source": [
    "train_poly = np.column_stack((train_input ** 2, train_input))\n",
    "test_poly = np.column_stack((test_input ** 2, test_input))"
   ]
  },
  {
   "cell_type": "code",
   "execution_count": null,
   "id": "f3c4e6bc-965b-4179-a452-3c64539e4d03",
   "metadata": {},
   "outputs": [],
   "source": [
    "print(train_poly.shape, test_poly.shape)"
   ]
  },
  {
   "cell_type": "code",
   "execution_count": null,
   "id": "e655ee54-7250-4316-aad2-72a82ccfa126",
   "metadata": {},
   "outputs": [],
   "source": [
    "lr = LinearRegression()\n",
    "lr.fit(train_poly, train_target)\n",
    "\n",
    "print(lr.predict([[50**2, 50]]))"
   ]
  },
  {
   "cell_type": "code",
   "execution_count": null,
   "id": "92add2db-9dca-4e5a-873e-5023cb1ebc34",
   "metadata": {},
   "outputs": [],
   "source": [
    "print(lr.coef_, lr.intercept_)"
   ]
  },
  {
   "cell_type": "code",
   "execution_count": null,
   "id": "9ade1d1d-64ed-414c-8d89-cee2f0e5b3a6",
   "metadata": {},
   "outputs": [],
   "source": [
    "#구간별 직선을 그리기 위해 15에서 49까지 정수 배열을 만듭니다\n",
    "point = np.arange(15,50)\n",
    "\n",
    "#훈련 세트의 산점도를 그립니다\n",
    "plt.scatter(train_input, train_target)\n",
    "\n",
    "#15에서 49까지 2차 방정식 그래프를 그립니다\n",
    "plt.plot(point, 1.01*point**2 - 21.6*point + 116.05)\n",
    "\n",
    "#50cm 농어 데이터 \n",
    "plt.scatter(50, 1574, marker='^')\n",
    "plt.xlabel('length')\n",
    "plt.ylabel('weight')\n",
    "plt.show()"
   ]
  },
  {
   "cell_type": "code",
   "execution_count": null,
   "id": "f5285c8d-60cd-4882-bbba-dbd693da8a1e",
   "metadata": {},
   "outputs": [],
   "source": [
    "print(lr.score(train_poly, train_target))\n",
    "print(lr.score(test_poly, test_target))\n",
    "\n",
    "#여전히 테스트 세트의 점수가 더 높음 -> 과소적합 남아 있음"
   ]
  },
  {
   "cell_type": "code",
   "execution_count": null,
   "id": "9072d1e7-c962-4d07-8d8a-becef8612a96",
   "metadata": {},
   "outputs": [],
   "source": [
    "#3-3 특성 공학과 규제\n",
    "\n",
    "import pandas as pd #pd는 관례적으로 사용하는 판다스의 별칭\n",
    "df = pd.read_csv('https://bit.ly/perch_csv_data')\n",
    "perch_full = df.to_numpy()\n",
    "print(perch_full)"
   ]
  },
  {
   "cell_type": "code",
   "execution_count": null,
   "id": "501bb1b4-9c96-45ae-9330-91d8a2444376",
   "metadata": {},
   "outputs": [],
   "source": [
    "#타깃데이터\n",
    "\n",
    "import numpy as np\n",
    "perch_length = np.array([8.4, 13.7, 15.0, 16.2, 17.4, 18.0, 18.7, 19.0, 19.6, 20.0, 21.0,\n",
    "       21.0, 21.0, 21.3, 22.0, 22.0, 22.0, 22.0, 22.0, 22.5, 22.5, 22.7,\n",
    "       23.0, 23.5, 24.0, 24.0, 24.6, 25.0, 25.6, 26.5, 27.3, 27.5, 27.5,\n",
    "       27.5, 28.0, 28.7, 30.0, 32.8, 34.5, 35.0, 36.5, 36.0, 37.0, 37.0,\n",
    "       39.0, 39.0, 39.0, 40.0, 40.0, 40.0, 40.0, 42.0, 43.0, 43.0, 43.5,\n",
    "       44.0])\n",
    "perch_weight = np.array([5.9, 32.0, 40.0, 51.5, 70.0, 100.0, 78.0, 80.0, 85.0, 85.0, 110.0,\n",
    "       115.0, 125.0, 130.0, 120.0, 120.0, 130.0, 135.0, 110.0, 130.0,\n",
    "       150.0, 145.0, 150.0, 170.0, 225.0, 145.0, 188.0, 180.0, 197.0,\n",
    "       218.0, 300.0, 260.0, 265.0, 250.0, 250.0, 300.0, 320.0, 514.0,\n",
    "       556.0, 840.0, 685.0, 700.0, 700.0, 690.0, 900.0, 650.0, 820.0,\n",
    "       850.0, 900.0, 1015.0, 820.0, 1100.0, 1000.0, 1100.0, 1000.0,\n",
    "       1000.0])\n"
   ]
  },
  {
   "cell_type": "code",
   "execution_count": null,
   "id": "b5b3ed76-000b-4bad-b658-9be627db9276",
   "metadata": {},
   "outputs": [],
   "source": [
    "from sklearn.model_selection import train_test_split\n",
    "\n",
    "#훈련 세트와 테스트 세트로 나눕니다\n",
    "train_input, test_input, train_target, test_target = train_test_split(perch_full, perch_weight, random_state=42)"
   ]
  },
  {
   "cell_type": "code",
   "execution_count": null,
   "id": "dfb28f79-581d-492e-9a52-170e75984537",
   "metadata": {},
   "outputs": [],
   "source": [
    "from sklearn.preprocessing import PolynomialFeatures"
   ]
  },
  {
   "cell_type": "code",
   "execution_count": null,
   "id": "3feebcc9-663d-4f05-9b99-105e03bda2f6",
   "metadata": {},
   "outputs": [],
   "source": [
    "poly = PolynomialFeatures(include_bias=False) #절편을 위한 항 제거\n",
    "poly.fit([[2,3]]) #새롭게 만들 특성 조합 찾기\n",
    "print(poly.transform([[2,3]])) #실제로 데이터 변환"
   ]
  },
  {
   "cell_type": "code",
   "execution_count": null,
   "id": "2151ceb1-fac7-45fc-be3b-5003515a1627",
   "metadata": {},
   "outputs": [],
   "source": [
    "poly = PolynomialFeatures(include_bias=False)\n",
    "poly.fit(train_input)\n",
    "train_poly = poly.transform(train_input)\n",
    "print(train_poly.shape)"
   ]
  },
  {
   "cell_type": "code",
   "execution_count": null,
   "id": "e7b26149-8b69-4be6-ae17-c3f872421a14",
   "metadata": {},
   "outputs": [],
   "source": [
    "poly.get_feature_names_out() #9개의 특성이 각각 어떤 입력의 조합으로 만들어졌는지 알려줌"
   ]
  },
  {
   "cell_type": "code",
   "execution_count": null,
   "id": "9d83e638-ea45-4752-b5f0-fe736a7cc1d4",
   "metadata": {},
   "outputs": [],
   "source": [
    "test_poly = poly.transform(test_input) #테스트 세트 변환"
   ]
  },
  {
   "cell_type": "code",
   "execution_count": null,
   "id": "4a762714-b011-490d-8f44-0d89eb542999",
   "metadata": {},
   "outputs": [],
   "source": [
    "#다중 회귀 모델 훈련\n",
    "\n",
    "from sklearn.linear_model import LinearRegression\n",
    "lr = LinearRegression()\n",
    "lr.fit(train_poly, train_target)"
   ]
  },
  {
   "cell_type": "code",
   "execution_count": null,
   "id": "3ff9c282-4b9d-451c-9424-7f74b97251e0",
   "metadata": {},
   "outputs": [],
   "source": [
    "print(lr.score(train_poly, train_target))"
   ]
  },
  {
   "cell_type": "code",
   "execution_count": null,
   "id": "9a485e82-f15c-4aad-ad9a-972857fb0394",
   "metadata": {},
   "outputs": [],
   "source": [
    "print(lr.score(test_poly, test_target))"
   ]
  },
  {
   "cell_type": "code",
   "execution_count": null,
   "id": "6feb065f-7121-4033-b901-391fee0c5ffb",
   "metadata": {},
   "outputs": [],
   "source": [
    "poly = PolynomialFeatures(degree=5, include_bias=False)\n",
    "poly.fit(train_input)\n",
    "train_poly = poly.transform(train_input)\n",
    "test_poly = poly.transform(test_input)\n",
    "print(train_poly.shape)"
   ]
  },
  {
   "cell_type": "code",
   "execution_count": null,
   "id": "b411a05b-f321-40a5-a5d8-33685f64da8d",
   "metadata": {},
   "outputs": [],
   "source": [
    "lr.fit(train_poly, train_target)\n",
    "print(lr.score(train_poly, train_target))"
   ]
  },
  {
   "cell_type": "code",
   "execution_count": null,
   "id": "e2e244ec-af88-4dcc-83f3-b39a9371d8fc",
   "metadata": {},
   "outputs": [],
   "source": [
    "#테스트 세트 점수\n",
    "\n",
    "print(lr.score(test_poly, test_target)) #과대적합"
   ]
  },
  {
   "cell_type": "code",
   "execution_count": null,
   "id": "18d50d63-0f43-4781-aebb-e22e1b6c75f4",
   "metadata": {},
   "outputs": [],
   "source": [
    "from sklearn.preprocessing import StandardScaler\n",
    "from sklearn.linear_model import Ridge\n",
    "\n",
    "# 데이터 전처리\n",
    "ss = StandardScaler()\n",
    "ss.fit(train_poly)  # train_poly가 미리 정의되어 있어야 함\n",
    "train_scaled = ss.transform(train_poly)\n",
    "test_scaled = ss.transform(test_poly)  # test_poly도 미리 정의되어 있어야 함\n",
    "\n",
    "# 릿지 회귀\n",
    "ridge = Ridge()\n",
    "ridge.fit(train_scaled, train_target)  # train_target도 미리 정의되어 있어야 함\n",
    "print(ridge.score(train_scaled, train_target))\n"
   ]
  },
  {
   "cell_type": "code",
   "execution_count": null,
   "id": "3692beb8-2f85-4abb-a789-d51a18bb4477",
   "metadata": {},
   "outputs": [],
   "source": [
    "print(ridge.score(test_scaled, test_target))"
   ]
  },
  {
   "cell_type": "code",
   "execution_count": null,
   "id": "d36e98e9-274d-49c9-8896-c88c415034a8",
   "metadata": {},
   "outputs": [],
   "source": [
    "import matplotlib.pyplot as plt\n",
    "train_score = []\n",
    "test_score = []"
   ]
  },
  {
   "cell_type": "code",
   "execution_count": null,
   "id": "a95843ab-1d54-4c54-8079-2721e23bf875",
   "metadata": {},
   "outputs": [],
   "source": [
    "alpha_list = [0.001, 0.01, 0.1, 1, 10, 100]\n",
    "for alpha in alpha_list:\n",
    "    #릿지 모델 만듦\n",
    "    ridge = Ridge(alpha=alpha)\n",
    "    #릿지 모델 훈련\n",
    "    ridge.fit(train_scaled, train_target)\n",
    "    #훈련 점수와 테스트 점수 저장\n",
    "    train_score.append(ridge.score(train_scaled, train_target))\n",
    "    test_score.append(ridge.score(test_scaled, test_target))"
   ]
  },
  {
   "cell_type": "code",
   "execution_count": null,
   "id": "96135ca6-d188-411f-8798-9d0245146974",
   "metadata": {},
   "outputs": [],
   "source": [
    "plt.plot(np.log10(alpha_list), train_score)\n",
    "plt.plot(np.log10(alpha_list), test_score)\n",
    "plt.xlabel('alpha')\n",
    "plt.ylabel('R^2')\n",
    "plt.show()"
   ]
  },
  {
   "cell_type": "code",
   "execution_count": null,
   "id": "98c44977-5413-44fc-b2ee-9494e387f0b9",
   "metadata": {},
   "outputs": [],
   "source": [
    "ridge = Ridge(alpha=0.1)\n",
    "ridge.fit(train_scaled, train_target)\n",
    "print(ridge.score(train_scaled, train_target))\n",
    "print(ridge.score(test_scaled, test_target))"
   ]
  },
  {
   "cell_type": "code",
   "execution_count": null,
   "id": "49a9eb4b-e5d8-49f6-8376-1a922a215f24",
   "metadata": {},
   "outputs": [],
   "source": [
    "#라쏘 회귀\n",
    "from sklearn.linear_model import Lasso\n",
    "lasso = Lasso()\n",
    "lasso.fit(train_scaled, train_target)\n",
    "print(lasso.score(train_scaled, train_target))"
   ]
  },
  {
   "cell_type": "code",
   "execution_count": null,
   "id": "793dab06-2994-4a32-9e09-51e311922bee",
   "metadata": {},
   "outputs": [],
   "source": [
    "print(lasso.score(test_scaled, test_target))"
   ]
  },
  {
   "cell_type": "code",
   "execution_count": null,
   "id": "a67d4034-bf34-480e-b852-ec7596d5f5de",
   "metadata": {},
   "outputs": [],
   "source": [
    "train_score = []\n",
    "test_score = []\n",
    "alpha_list = [0.001, 0.01, 0.1, 1, 10, 100]\n",
    "for alpha in alpha_list:\n",
    "    #라쏘 모델 만듦\n",
    "    lasso = Lasso(alpha=alpha, max_iter=100000000)\n",
    "    #라쏘 모델 훈련\n",
    "    lasso.fit(train_scaled, train_target)\n",
    "    #훈련 점수와 테스트 점수 저장\n",
    "    train_score.append(lasso.score(train_scaled, train_target))\n",
    "    test_score.append(lasso.score(test_scaled, test_target))"
   ]
  },
  {
   "cell_type": "code",
   "execution_count": null,
   "id": "37055d73-14d1-4792-95d1-ecebf082ca94",
   "metadata": {},
   "outputs": [],
   "source": [
    "plt.plot(np.log10(alpha_list), train_score)\n",
    "plt.plot(np.log10(alpha_list), test_score)\n",
    "plt.xlabel('alpha')\n",
    "plt.ylabel('R^2')\n",
    "plt.show()"
   ]
  },
  {
   "cell_type": "code",
   "execution_count": null,
   "id": "983d7e96-ff09-4d94-99a3-1ee947e6464b",
   "metadata": {},
   "outputs": [],
   "source": [
    "lasso = Lasso(alpha=10)\n",
    "lasso.fit(train_scaled, train_target)\n",
    "print(lasso.score(train_scaled, train_target))\n",
    "print(lasso.score(test_scaled, test_target))"
   ]
  },
  {
   "cell_type": "code",
   "execution_count": null,
   "id": "9264a22a-fc45-454b-8c43-8f8827d70869",
   "metadata": {},
   "outputs": [],
   "source": [
    "print(np.sum(lasso.coef_ ==0))"
   ]
  },
  {
   "cell_type": "code",
   "execution_count": null,
   "id": "521d1d21-6b2c-493a-8d01-83b7b84b5695",
   "metadata": {},
   "outputs": [],
   "source": [
    "#4-1 로지스틱 회귀\n",
    "\n",
    "import pandas as pd\n",
    "fish = pd.read_csv('https://bit.ly/fish_csv_data')\n",
    "fish.head()"
   ]
  },
  {
   "cell_type": "code",
   "execution_count": null,
   "id": "b284716f-baef-4d5d-aaa6-7a5904eb7786",
   "metadata": {},
   "outputs": [],
   "source": [
    "print(pd.unique(fish['Species']))"
   ]
  },
  {
   "cell_type": "code",
   "execution_count": null,
   "id": "9b17326f-93bf-41d7-b935-9c0d29c1d39c",
   "metadata": {},
   "outputs": [],
   "source": [
    "fish_input = fish[['Weight', 'Length', 'Diagonal', 'Height', 'Width']].to_numpy()"
   ]
  },
  {
   "cell_type": "code",
   "execution_count": null,
   "id": "343cda9b-3122-4104-8062-38b73d8814f5",
   "metadata": {},
   "outputs": [],
   "source": [
    "print(fish_input[:5])"
   ]
  },
  {
   "cell_type": "code",
   "execution_count": null,
   "id": "d0c13653-0164-4a48-8129-501c17c61de0",
   "metadata": {},
   "outputs": [],
   "source": [
    "fish_target = fish['Species'].to_numpy()"
   ]
  },
  {
   "cell_type": "code",
   "execution_count": null,
   "id": "db9ad1b7-5acb-446a-810b-1034218cd04c",
   "metadata": {},
   "outputs": [],
   "source": [
    "#훈련세트와 테스트세트로 나누기\n",
    "from sklearn.model_selection import train_test_split\n",
    "train_input, test_input, train_target, test_target = train_test_split(fish_input, fish_target, random_state=42)"
   ]
  },
  {
   "cell_type": "code",
   "execution_count": null,
   "id": "355f0736-9161-4a6e-8298-9109a58e0d4e",
   "metadata": {},
   "outputs": [],
   "source": [
    "from sklearn.preprocessing import StandardScaler\n",
    "\n",
    "# 데이터 전처리\n",
    "ss = StandardScaler()\n",
    "ss.fit(train_input)\n",
    "train_scaled = ss.transform(train_input)\n",
    "test_scaled = ss.transform(test_input)  "
   ]
  },
  {
   "cell_type": "code",
   "execution_count": null,
   "id": "604e8d66-2661-4efb-8562-33e6257a1d6b",
   "metadata": {},
   "outputs": [],
   "source": [
    "#k-최근접 이웃 분류기의 확률 예측\n",
    "\n",
    "from sklearn.neighbors import KNeighborsClassifier\n",
    "kn = KNeighborsClassifier(n_neighbors=3)\n",
    "kn.fit(train_scaled, train_target)\n",
    "print(kn.score(train_scaled, train_target))\n",
    "print(kn.score(test_scaled, test_target))"
   ]
  },
  {
   "cell_type": "code",
   "execution_count": null,
   "id": "34f4d1e7-dc2f-4f96-a440-dd5c30b25fe2",
   "metadata": {},
   "outputs": [],
   "source": [
    "print(kn.classes_)"
   ]
  },
  {
   "cell_type": "code",
   "execution_count": null,
   "id": "ef6ffe72-e06f-4222-ada2-0e034cfaf19a",
   "metadata": {},
   "outputs": [],
   "source": [
    "print(kn.predict(test_scaled[:5]))"
   ]
  },
  {
   "cell_type": "code",
   "execution_count": null,
   "id": "25ab6e62-0751-4fa7-8a98-9b65ad081910",
   "metadata": {},
   "outputs": [],
   "source": [
    "import numpy as np\n",
    "proba = kn.predict_proba(test_scaled[:5])\n",
    "print(np.round(proba, decimals=4))"
   ]
  },
  {
   "cell_type": "code",
   "execution_count": null,
   "id": "5ba18c6c-6e0b-448e-8e3f-990da051b897",
   "metadata": {},
   "outputs": [],
   "source": [
    "distances, indexes = kn.kneighbors(test_scaled[3:4])\n",
    "print(train_target[indexes])"
   ]
  },
  {
   "cell_type": "code",
   "execution_count": null,
   "id": "c347e123-e925-41e6-a509-fd0c952274cd",
   "metadata": {},
   "outputs": [],
   "source": [
    "import numpy as np\n",
    "import matplotlib.pyplot as plt\n",
    "z = np.arange(-5, 5, 0.1)\n",
    "phi = 1 / (1 + np.exp(-z))\n",
    "plt.plot(z, phi)\n",
    "plt.xlabel('z')\n",
    "plt.ylabel('phi')\n",
    "plt.show()"
   ]
  },
  {
   "cell_type": "code",
   "execution_count": null,
   "id": "ff8934bf-9563-448c-a1c7-42c409499a08",
   "metadata": {},
   "outputs": [],
   "source": [
    "char_arr = np.array(['A', 'B', 'C', 'D', 'E'])\n",
    "print(char_arr[[True, False, True, False, False]])"
   ]
  },
  {
   "cell_type": "code",
   "execution_count": null,
   "id": "949486b0-0959-4613-912c-0af4931b5126",
   "metadata": {},
   "outputs": [],
   "source": [
    "bream_smelt_indexes = (train_target == 'Bream') | (train_target =='Smelt')\n",
    "train_bream_smelt = train_scaled[bream_smelt_indexes]\n",
    "target_bream_smelt = train_target[bream_smelt_indexes]"
   ]
  },
  {
   "cell_type": "code",
   "execution_count": null,
   "id": "fd60ba6a-0692-44ed-bb71-e99937c04f4d",
   "metadata": {},
   "outputs": [],
   "source": [
    "from sklearn.linear_model import LogisticRegression\n",
    "lr = LogisticRegression()\n",
    "lr.fit(train_bream_smelt, target_bream_smelt)"
   ]
  },
  {
   "cell_type": "code",
   "execution_count": null,
   "id": "9fddaadb-9b93-480c-9939-6224795d8c9a",
   "metadata": {},
   "outputs": [],
   "source": [
    "print(lr.predict(train_bream_smelt[:5]))"
   ]
  },
  {
   "cell_type": "code",
   "execution_count": null,
   "id": "cafcad16-24e7-438a-b65e-6ddb41fca7b5",
   "metadata": {},
   "outputs": [],
   "source": [
    "print(lr.predict_proba(train_bream_smelt[:5]))"
   ]
  },
  {
   "cell_type": "code",
   "execution_count": null,
   "id": "053be7a2-a24a-498d-989d-ef55e96e6541",
   "metadata": {},
   "outputs": [],
   "source": [
    "print(lr.classes_)"
   ]
  },
  {
   "cell_type": "code",
   "execution_count": null,
   "id": "a4dbb74b-3808-4b03-b1a6-73e1e31cb459",
   "metadata": {},
   "outputs": [],
   "source": [
    "print(lr.coef_, lr.intercept_)"
   ]
  },
  {
   "cell_type": "code",
   "execution_count": null,
   "id": "8dc66913-be2b-4025-96b5-28ece3ee59b1",
   "metadata": {},
   "outputs": [],
   "source": [
    "decisions = lr.decision_function(train_bream_smelt[:5])\n",
    "print(decisions)"
   ]
  },
  {
   "cell_type": "code",
   "execution_count": null,
   "id": "9441fb72-c45f-4ae6-9bf5-c3e706de36d2",
   "metadata": {},
   "outputs": [],
   "source": [
    "from scipy.special import expit\n",
    "print(expit(decisions))"
   ]
  },
  {
   "cell_type": "code",
   "execution_count": null,
   "id": "7d7ff179-2919-4f4c-83a2-cf857e44580b",
   "metadata": {},
   "outputs": [],
   "source": [
    "lr = LogisticRegression(C=20, max_iter=1000)\n",
    "lr.fit(train_scaled, train_target)\n",
    "print(lr.score(train_scaled, train_target))\n",
    "print(lr.score(test_scaled, test_target))"
   ]
  },
  {
   "cell_type": "code",
   "execution_count": null,
   "id": "2b5fc34f-5e20-44c1-ad42-6397680b7a64",
   "metadata": {},
   "outputs": [],
   "source": [
    "print(lr.predict(test_scaled[:5]))"
   ]
  },
  {
   "cell_type": "code",
   "execution_count": null,
   "id": "ee262eee-42e7-4efc-94f7-e32e09ed145f",
   "metadata": {},
   "outputs": [],
   "source": [
    "proba = lr.predict_proba(test_scaled[:5])\n",
    "print(np.round(proba, decimals=3))"
   ]
  },
  {
   "cell_type": "code",
   "execution_count": null,
   "id": "66431977-c7da-4672-9557-5cba21fdce3e",
   "metadata": {},
   "outputs": [],
   "source": [
    "print(lr.classes_)"
   ]
  },
  {
   "cell_type": "code",
   "execution_count": null,
   "id": "dd3f6068-a2d9-4b85-8bb0-6d7d2682d09a",
   "metadata": {},
   "outputs": [],
   "source": [
    "print(lr.coef_.shape, lr.intercept_.shape)"
   ]
  },
  {
   "cell_type": "code",
   "execution_count": null,
   "id": "bd30770a-81ac-4fc1-9014-f09c37b33d86",
   "metadata": {},
   "outputs": [],
   "source": [
    "decision = lr.decision_function(test_scaled[:5])\n",
    "print(np.round(decision, decimals=2))"
   ]
  },
  {
   "cell_type": "code",
   "execution_count": null,
   "id": "593c790d-b157-4ad1-8d77-11e7c094f655",
   "metadata": {},
   "outputs": [],
   "source": [
    "from scipy.special import softmax\n",
    "proba = softmax(decision, axis=1)\n",
    "print(np.round(proba, decimals=3))"
   ]
  },
  {
   "cell_type": "code",
   "execution_count": null,
   "id": "e90a5aa5-2cce-43ce-9ffe-55e6d2634c31",
   "metadata": {},
   "outputs": [],
   "source": [
    "#4-2 확률적 경사 하강법\n",
    "\n",
    "#SGDClassifier\n",
    "import pandas as pd\n",
    "fish = pd.read_csv('https://bit.ly/fish_csv_data')"
   ]
  },
  {
   "cell_type": "code",
   "execution_count": null,
   "id": "60c911b3-50e6-4488-80af-f9c113b45af8",
   "metadata": {},
   "outputs": [],
   "source": [
    "fish_input = fish[['Weight', 'Length', 'Diagonal', 'Height', 'Width']].to_numpy()\n",
    "fish_target = fish['Species'].to_numpy()"
   ]
  },
  {
   "cell_type": "code",
   "execution_count": null,
   "id": "e7fdf3b9-c463-4ffb-961e-6572cd802312",
   "metadata": {},
   "outputs": [],
   "source": [
    "#데이터를 훈련 세트와 테스트 세트로 나누기\n",
    "from sklearn.model_selection import train_test_split\n",
    "train_input, test_input, train_target, test_target = train_test_split(fish_input, fish_target, random_state=42)"
   ]
  },
  {
   "cell_type": "code",
   "execution_count": null,
   "id": "276a2c5c-3dd2-4c2a-9432-ade50fcdc36c",
   "metadata": {},
   "outputs": [],
   "source": [
    "#훈련 세트와 테스트 세트의 특성 표준화 전처리\n",
    "from sklearn.preprocessing import StandardScaler\n",
    "ss = StandardScaler()\n",
    "ss.fit(train_input)\n",
    "train_scaled = ss.transform(train_input)\n",
    "test_scaled = ss.transform(test_input)"
   ]
  },
  {
   "cell_type": "code",
   "execution_count": null,
   "id": "c03951e4-44a7-4a3c-86d8-d16b3c655ed1",
   "metadata": {},
   "outputs": [],
   "source": [
    "from sklearn.linear_model import SGDClassifier #분류용 클래스"
   ]
  },
  {
   "cell_type": "code",
   "execution_count": null,
   "id": "85e2467d-a63b-4bc9-9911-e2cb2430a799",
   "metadata": {},
   "outputs": [],
   "source": [
    "sc = SGDClassifier(loss='log_loss', max_iter=10, random_state=42) #지정 반복 횟수 부족\n",
    "sc.fit(train_scaled, train_target)\n",
    "print(sc.score(train_scaled, train_target))\n",
    "print(sc.score(test_scaled, test_target))"
   ]
  },
  {
   "cell_type": "code",
   "execution_count": null,
   "id": "9f256c7b-abc4-447b-a846-3a202c978bce",
   "metadata": {},
   "outputs": [],
   "source": [
    "#훈련한 모델 sc를 추가로 더 훈련(점진적 학습)\n",
    "sc.partial_fit(train_scaled, train_target)\n",
    "print(sc.score(train_scaled, train_target))\n",
    "print(sc.score(test_scaled, test_target))"
   ]
  },
  {
   "cell_type": "code",
   "execution_count": null,
   "id": "29487b1c-5db3-493f-ae7b-e18aae92ba5e",
   "metadata": {},
   "outputs": [],
   "source": [
    "import numpy as np\n",
    "sc = SGDClassifier(loss='log_loss', random_state=42)\n",
    "train_score =[]\n",
    "test_score = []\n",
    "classes = np.unique(train_target)"
   ]
  },
  {
   "cell_type": "code",
   "execution_count": null,
   "id": "bdcafbdc-5077-48f7-8aa9-fd390a3a535d",
   "metadata": {},
   "outputs": [],
   "source": [
    "#300번의 에포크 동안 훈련 반복\n",
    "for _ in range(0,300):\n",
    "    sc.partial_fit(train_scaled, train_target, classes=classes)\n",
    "    train_score.append(sc.score(train_scaled, train_target))\n",
    "    test_score.append(sc.score(test_scaled, test_target))"
   ]
  },
  {
   "cell_type": "code",
   "execution_count": null,
   "id": "b2a46de7-e17f-4c12-8c67-049968e76c02",
   "metadata": {},
   "outputs": [],
   "source": [
    "import matplotlib.pyplot as plt\n",
    "plt.plot(train_score) #파랑\n",
    "plt.plot(test_score)\n",
    "plt.xlabel('epoch')\n",
    "plt.ylabel('accuracy')\n",
    "plt.show()"
   ]
  },
  {
   "cell_type": "code",
   "execution_count": null,
   "id": "0d7c7240-0983-4efe-8c2e-39cca08901c7",
   "metadata": {},
   "outputs": [],
   "source": [
    "sc = SGDClassifier(loss='log_loss', max_iter=100, tol=None, random_state=42) #tol=None 자동으로 멈추지 않고 100만큼 반복\n",
    "sc.fit(train_scaled, train_target)\n",
    "print(sc.score(train_scaled, train_target))\n",
    "print(sc.score(test_scaled, test_target))"
   ]
  },
  {
   "cell_type": "code",
   "execution_count": null,
   "id": "680f909e-883f-43de-a0eb-23400d679dfe",
   "metadata": {},
   "outputs": [],
   "source": [
    "sc = SGDClassifier(loss='hinge', max_iter=100, tol=None, random_state=42) #loss 매개변수 기본값\n",
    "sc.fit(train_scaled, train_target)\n",
    "print(sc.score(train_scaled, train_target))\n",
    "print(sc.score(test_scaled, test_target))"
   ]
  }
 ],
 "metadata": {
  "kernelspec": {
   "display_name": "Python 3 (ipykernel)",
   "language": "python",
   "name": "python3"
  },
  "language_info": {
   "codemirror_mode": {
    "name": "ipython",
    "version": 3
   },
   "file_extension": ".py",
   "mimetype": "text/x-python",
   "name": "python",
   "nbconvert_exporter": "python",
   "pygments_lexer": "ipython3",
   "version": "3.12.4"
  }
 },
 "nbformat": 4,
 "nbformat_minor": 5
}
