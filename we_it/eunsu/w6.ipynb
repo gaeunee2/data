{
 "cells": [
  {
   "cell_type": "code",
   "execution_count": 1,
   "id": "16615225-edb9-421b-a88b-696e4e52ef3b",
   "metadata": {},
   "outputs": [
    {
     "data": {
      "text/plain": [
       "[1, 2, 'a', 'b']"
      ]
     },
     "execution_count": 1,
     "metadata": {},
     "output_type": "execute_result"
    }
   ],
   "source": [
    "#리스트 만들기\n",
    "x = [1,2,'a','b']\n",
    "x"
   ]
  },
  {
   "cell_type": "code",
   "execution_count": 2,
   "id": "46b23367-7b31-4496-bf43-c5b11b4190b0",
   "metadata": {},
   "outputs": [
    {
     "data": {
      "text/plain": [
       "list"
      ]
     },
     "execution_count": 2,
     "metadata": {},
     "output_type": "execute_result"
    }
   ],
   "source": [
    "type(x)"
   ]
  },
  {
   "cell_type": "code",
   "execution_count": 3,
   "id": "5fa05240-8a74-4b1b-a115-7305a24f3f94",
   "metadata": {},
   "outputs": [
    {
     "data": {
      "text/plain": [
       "1"
      ]
     },
     "execution_count": 3,
     "metadata": {},
     "output_type": "execute_result"
    }
   ],
   "source": [
    "x[0] #0번째 값 추출"
   ]
  },
  {
   "cell_type": "code",
   "execution_count": 4,
   "id": "14009e96-b78b-4c48-ace4-1ce578c25f98",
   "metadata": {},
   "outputs": [
    {
     "data": {
      "text/plain": [
       "[2, 'a']"
      ]
     },
     "execution_count": 4,
     "metadata": {},
     "output_type": "execute_result"
    }
   ],
   "source": [
    "x[1:3] #1-2번째 값 추출"
   ]
  },
  {
   "cell_type": "code",
   "execution_count": 6,
   "id": "13f8ec5e-b525-49f2-95fc-d03ef95631bf",
   "metadata": {},
   "outputs": [
    {
     "data": {
      "text/plain": [
       "[1, 2, 'a', 'b', 8, 8]"
      ]
     },
     "execution_count": 6,
     "metadata": {},
     "output_type": "execute_result"
    }
   ],
   "source": [
    "x.append(8) #x에 8추가\n",
    "x"
   ]
  },
  {
   "cell_type": "code",
   "execution_count": 7,
   "id": "df756818-d37a-4276-ae6a-87b2a53e7ff4",
   "metadata": {},
   "outputs": [
    {
     "data": {
      "text/plain": [
       "[1, 'a', 'b', 8, 8]"
      ]
     },
     "execution_count": 7,
     "metadata": {},
     "output_type": "execute_result"
    }
   ],
   "source": [
    "x.remove(2) #x에서 2삭제\n",
    "x"
   ]
  },
  {
   "cell_type": "code",
   "execution_count": 9,
   "id": "7fbe5c2e-de41-4e48-bc6b-74bc47de178f",
   "metadata": {},
   "outputs": [
    {
     "data": {
      "text/plain": [
       "[9, 'a', 'b', 8, 8]"
      ]
     },
     "execution_count": 9,
     "metadata": {},
     "output_type": "execute_result"
    }
   ],
   "source": [
    "x[0] = 9 #0번째 값을 9로 변경\n",
    "x"
   ]
  },
  {
   "cell_type": "code",
   "execution_count": 12,
   "id": "f605a671-6f26-4e38-94e3-6ecec2226c35",
   "metadata": {},
   "outputs": [
    {
     "data": {
      "text/plain": [
       "(1, 2, 'a', 'b')"
      ]
     },
     "execution_count": 12,
     "metadata": {},
     "output_type": "execute_result"
    }
   ],
   "source": [
    "#17-4 튜플 만들기\n",
    "x = (1,2,'a','b')\n",
    "x"
   ]
  },
  {
   "cell_type": "code",
   "execution_count": 13,
   "id": "ac012987-1daf-4378-9745-47926dd3da76",
   "metadata": {},
   "outputs": [
    {
     "data": {
      "text/plain": [
       "tuple"
      ]
     },
     "execution_count": 13,
     "metadata": {},
     "output_type": "execute_result"
    }
   ],
   "source": [
    "type(x)"
   ]
  },
  {
   "cell_type": "code",
   "execution_count": 14,
   "id": "a9ee55a0-7021-469b-b6f8-21dcb841648b",
   "metadata": {},
   "outputs": [
    {
     "data": {
      "text/plain": [
       "(1, 2, 'a', 'b')"
      ]
     },
     "execution_count": 14,
     "metadata": {},
     "output_type": "execute_result"
    }
   ],
   "source": [
    "# () 생략하고 튜플 만들기\n",
    "x2 = 1,2,'a','b'\n",
    "x2"
   ]
  },
  {
   "cell_type": "code",
   "execution_count": 15,
   "id": "3ad34e8f-3095-48a7-b727-35ebf83ef422",
   "metadata": {},
   "outputs": [
    {
     "data": {
      "text/plain": [
       "tuple"
      ]
     },
     "execution_count": 15,
     "metadata": {},
     "output_type": "execute_result"
    }
   ],
   "source": [
    "type(x2)"
   ]
  },
  {
   "cell_type": "code",
   "execution_count": 16,
   "id": "40cbc8e3-070b-480d-b385-a4e8f1ea84eb",
   "metadata": {},
   "outputs": [
    {
     "data": {
      "text/plain": [
       "1"
      ]
     },
     "execution_count": 16,
     "metadata": {},
     "output_type": "execute_result"
    }
   ],
   "source": [
    "#0번째 값 추출\n",
    "x[0]"
   ]
  },
  {
   "cell_type": "code",
   "execution_count": 17,
   "id": "2b901ab8-e7b8-4b9f-a571-92e00deffb0f",
   "metadata": {},
   "outputs": [
    {
     "data": {
      "text/plain": [
       "(2, 'a')"
      ]
     },
     "execution_count": 17,
     "metadata": {},
     "output_type": "execute_result"
    }
   ],
   "source": [
    "#1-2번째 값 추출\n",
    "x[1:3]"
   ]
  },
  {
   "cell_type": "code",
   "execution_count": 18,
   "id": "86db9837-5783-4c4a-8fb6-a12a0a4ddb05",
   "metadata": {},
   "outputs": [],
   "source": [
    "#튜플은 한 번 만들면 수정 불가능 - 오류코드\n",
    "#x.append(8) \n",
    "#x.remove(3) \n",
    "#x[0] = 9"
   ]
  },
  {
   "cell_type": "code",
   "execution_count": 19,
   "id": "3c1dd1a5-68b7-4315-8b3a-c81272579741",
   "metadata": {},
   "outputs": [
    {
     "data": {
      "text/plain": [
       "{'kim', 'name'}"
      ]
     },
     "execution_count": 19,
     "metadata": {},
     "output_type": "execute_result"
    }
   ],
   "source": [
    "#17-5 딕셔너리\n",
    "\n",
    "#딕셔너리 만들기\n",
    "x = {'name', 'kim'}\n",
    "x"
   ]
  },
  {
   "cell_type": "code",
   "execution_count": 20,
   "id": "6f48a613-84a4-467a-a793-f80c80f10d54",
   "metadata": {},
   "outputs": [
    {
     "data": {
      "text/plain": [
       "set"
      ]
     },
     "execution_count": 20,
     "metadata": {},
     "output_type": "execute_result"
    }
   ],
   "source": [
    "type(x)"
   ]
  },
  {
   "cell_type": "code",
   "execution_count": 22,
   "id": "64f6ffec-ed6d-4320-8b9c-5adf308eab97",
   "metadata": {},
   "outputs": [
    {
     "data": {
      "text/plain": [
       "{'id': 1, 'name': ['kim', 'park'], 'nclass': (1, 2, 3)}"
      ]
     },
     "execution_count": 22,
     "metadata": {},
     "output_type": "execute_result"
    }
   ],
   "source": [
    "x = {'id' :1, 'name' : ['kim', 'park'], 'nclass' : (1,2,3)}\n",
    "x"
   ]
  },
  {
   "cell_type": "code",
   "execution_count": 23,
   "id": "139a26f9-6622-4e2f-bd60-75f3761f90e4",
   "metadata": {},
   "outputs": [
    {
     "data": {
      "text/plain": [
       "1"
      ]
     },
     "execution_count": 23,
     "metadata": {},
     "output_type": "execute_result"
    }
   ],
   "source": [
    "#id 키의 값 추출\n",
    "x['id']"
   ]
  },
  {
   "cell_type": "code",
   "execution_count": 24,
   "id": "4435eedd-6296-4047-b313-a144d350a5a8",
   "metadata": {},
   "outputs": [
    {
     "data": {
      "text/plain": [
       "['kim', 'park']"
      ]
     },
     "execution_count": 24,
     "metadata": {},
     "output_type": "execute_result"
    }
   ],
   "source": [
    "#name 키의 값 추출\n",
    "x['name']"
   ]
  },
  {
   "cell_type": "code",
   "execution_count": 26,
   "id": "218192eb-5edc-418c-9ae4-37407860788d",
   "metadata": {},
   "outputs": [],
   "source": [
    "#x[1] - 키-값 쌍은 인덱스를 이용해 추출할 수 없음, 오류코드"
   ]
  },
  {
   "cell_type": "code",
   "execution_count": 27,
   "id": "5ef3fa97-2835-41c1-b401-07ec301186a9",
   "metadata": {},
   "outputs": [
    {
     "data": {
      "text/plain": [
       "'kim'"
      ]
     },
     "execution_count": 27,
     "metadata": {},
     "output_type": "execute_result"
    }
   ],
   "source": [
    "#name 키의 0번째 값 추출\n",
    "x['name'][0]"
   ]
  },
  {
   "cell_type": "code",
   "execution_count": 28,
   "id": "c06a27bf-e0c7-411b-9469-bc88d03b0914",
   "metadata": {},
   "outputs": [
    {
     "data": {
      "text/plain": [
       "2"
      ]
     },
     "execution_count": 28,
     "metadata": {},
     "output_type": "execute_result"
    }
   ],
   "source": [
    "#nclass 키의 1번째 값 추출\n",
    "x['nclass'][1]"
   ]
  },
  {
   "cell_type": "code",
   "execution_count": 29,
   "id": "690d8aa5-6ee3-436c-8861-e305c9392c5b",
   "metadata": {},
   "outputs": [
    {
     "data": {
      "text/plain": [
       "{'id': 1, 'name': ['kim', 'park'], 'nclass': (1, 2, 3), 'score': [5, 6, 7]}"
      ]
     },
     "execution_count": 29,
     "metadata": {},
     "output_type": "execute_result"
    }
   ],
   "source": [
    "#'score':[5,6,7]쌍 추가\n",
    "x['score'] = [5,6,7]\n",
    "x"
   ]
  },
  {
   "cell_type": "code",
   "execution_count": 30,
   "id": "10188753-bc31-4f7f-8acd-e64e318eb2e0",
   "metadata": {},
   "outputs": [
    {
     "data": {
      "text/plain": [
       "{'name': ['kim', 'park'], 'nclass': (1, 2, 3), 'score': [5, 6, 7]}"
      ]
     },
     "execution_count": 30,
     "metadata": {},
     "output_type": "execute_result"
    }
   ],
   "source": [
    "#id 키:값 쌍 삭제\n",
    "del(x['id'])\n",
    "x"
   ]
  },
  {
   "cell_type": "code",
   "execution_count": 31,
   "id": "1abdeeb1-b675-4ff4-ab9b-b4fc6c5571f7",
   "metadata": {},
   "outputs": [
    {
     "data": {
      "text/plain": [
       "{'name': ['kim'], 'nclass': (1, 2, 3), 'score': [5, 6, 7]}"
      ]
     },
     "execution_count": 31,
     "metadata": {},
     "output_type": "execute_result"
    }
   ],
   "source": [
    "#name 키의 1번째 요소 삭제\n",
    "del(x['name'][1])\n",
    "x"
   ]
  },
  {
   "cell_type": "code",
   "execution_count": 32,
   "id": "3d6b0a16-a812-4f4e-ab23-f35507f39c8f",
   "metadata": {},
   "outputs": [
    {
     "data": {
      "text/plain": [
       "{'name': ['kim'], 'nclass': (1, 2, 3), 'score': [7, 8, 9]}"
      ]
     },
     "execution_count": 32,
     "metadata": {},
     "output_type": "execute_result"
    }
   ],
   "source": [
    "#score 키의 값 변경\n",
    "x['score'] = [7,8,9]\n",
    "x"
   ]
  },
  {
   "cell_type": "code",
   "execution_count": 33,
   "id": "a14232e8-b591-4650-bdd5-b929f09d88aa",
   "metadata": {},
   "outputs": [
    {
     "data": {
      "text/plain": [
       "{'name': ['kim'], 'nclass': (1, 2, 3), 'score': [7, 8, 99]}"
      ]
     },
     "execution_count": 33,
     "metadata": {},
     "output_type": "execute_result"
    }
   ],
   "source": [
    "#score 키의 2번째 값 변경\n",
    "x['score'][2] = 99\n",
    "x"
   ]
  },
  {
   "cell_type": "code",
   "execution_count": 34,
   "id": "1f8c4c98-f5df-46f3-82b2-2b08486106c3",
   "metadata": {},
   "outputs": [
    {
     "data": {
      "text/plain": [
       "{'name': ['kim'], 'nclass': (1, 2, 3), 'score': [7, 8, 99], 'math': [7, 8, 99]}"
      ]
     },
     "execution_count": 34,
     "metadata": {},
     "output_type": "execute_result"
    }
   ],
   "source": [
    "#(1) 기존 키를 새 키에 할당\n",
    "x['math'] = x['score']\n",
    "x"
   ]
  },
  {
   "cell_type": "code",
   "execution_count": 35,
   "id": "6b6a21a4-18e1-4756-abdd-c0840ff435d2",
   "metadata": {},
   "outputs": [
    {
     "data": {
      "text/plain": [
       "{'name': ['kim'], 'nclass': (1, 2, 3), 'math': [7, 8, 99]}"
      ]
     },
     "execution_count": 35,
     "metadata": {},
     "output_type": "execute_result"
    }
   ],
   "source": [
    "#(2) 기존 키 삭제\n",
    "del(x['score'])\n",
    "x"
   ]
  },
  {
   "cell_type": "code",
   "execution_count": 36,
   "id": "b8f9c81d-8117-4ee3-a604-00064a242973",
   "metadata": {},
   "outputs": [
    {
     "data": {
      "text/plain": [
       "0    3\n",
       "1    4\n",
       "2    5\n",
       "dtype: int64"
      ]
     },
     "execution_count": 36,
     "metadata": {},
     "output_type": "execute_result"
    }
   ],
   "source": [
    "#17-6\n",
    "\n",
    "#시리즈 만들기\n",
    "import pandas as pd\n",
    "x_num = pd.Series([3,4,5])\n",
    "x_num"
   ]
  },
  {
   "cell_type": "code",
   "execution_count": 37,
   "id": "0353a4e6-27e2-433e-b811-ee2d09207f6e",
   "metadata": {},
   "outputs": [
    {
     "data": {
      "text/plain": [
       "pandas.core.series.Series"
      ]
     },
     "execution_count": 37,
     "metadata": {},
     "output_type": "execute_result"
    }
   ],
   "source": [
    "type(x_num)"
   ]
  },
  {
   "cell_type": "code",
   "execution_count": 38,
   "id": "5a4f70a4-532d-4de1-8fbb-d1acf0b3615f",
   "metadata": {},
   "outputs": [
    {
     "data": {
      "text/plain": [
       "kim     3\n",
       "lee     4\n",
       "park    5\n",
       "dtype: int64"
      ]
     },
     "execution_count": 38,
     "metadata": {},
     "output_type": "execute_result"
    }
   ],
   "source": [
    "#인덱스 정하기\n",
    "x_label = pd.Series([3,4,5], index = ['kim', 'lee', 'park'])\n",
    "x_label"
   ]
  },
  {
   "cell_type": "code",
   "execution_count": 39,
   "id": "8d3bc685-4dcc-4cca-8c4b-b3eb7e2b5a01",
   "metadata": {},
   "outputs": [
    {
     "data": {
      "text/plain": [
       "3"
      ]
     },
     "execution_count": 39,
     "metadata": {},
     "output_type": "execute_result"
    }
   ],
   "source": [
    "#0번째 값 추출\n",
    "x_num[0]"
   ]
  },
  {
   "cell_type": "code",
   "execution_count": 40,
   "id": "175fb55c-968f-402a-add3-2a1fd6acddcc",
   "metadata": {},
   "outputs": [
    {
     "data": {
      "text/plain": [
       "4"
      ]
     },
     "execution_count": 40,
     "metadata": {},
     "output_type": "execute_result"
    }
   ],
   "source": [
    "#1번째 값 추출\n",
    "x_num[1]"
   ]
  },
  {
   "cell_type": "code",
   "execution_count": 44,
   "id": "3e64c45a-e5e2-4abb-9cf9-c472c160e513",
   "metadata": {},
   "outputs": [
    {
     "data": {
      "text/plain": [
       "3"
      ]
     },
     "execution_count": 44,
     "metadata": {},
     "output_type": "execute_result"
    }
   ],
   "source": [
    "x_label['kim']"
   ]
  },
  {
   "cell_type": "code",
   "execution_count": 45,
   "id": "7bf69fd8-53da-4941-8dc4-9c92217f0f61",
   "metadata": {},
   "outputs": [
    {
     "data": {
      "text/plain": [
       "3"
      ]
     },
     "execution_count": 45,
     "metadata": {},
     "output_type": "execute_result"
    }
   ],
   "source": [
    "x_label.loc['kim']\n"
   ]
  },
  {
   "cell_type": "code",
   "execution_count": 46,
   "id": "f667b1a8-dba9-4d68-979d-4a1804e9c219",
   "metadata": {},
   "outputs": [
    {
     "data": {
      "text/plain": [
       "3"
      ]
     },
     "execution_count": 46,
     "metadata": {},
     "output_type": "execute_result"
    }
   ],
   "source": [
    "x_num.iloc[0]"
   ]
  },
  {
   "cell_type": "code",
   "execution_count": 47,
   "id": "1799f2a1-31e3-4fb7-ab22-bce65c2df498",
   "metadata": {},
   "outputs": [
    {
     "data": {
      "text/plain": [
       "0    3\n",
       "1    4\n",
       "2    5\n",
       "3    9\n",
       "dtype: int64"
      ]
     },
     "execution_count": 47,
     "metadata": {},
     "output_type": "execute_result"
    }
   ],
   "source": [
    "#3번째 인덱스에 9 할당\n",
    "x_num[3] = 9\n",
    "x_num"
   ]
  },
  {
   "cell_type": "code",
   "execution_count": 48,
   "id": "7ba594fc-4813-4cb0-9f7d-80bfdc9b953a",
   "metadata": {},
   "outputs": [
    {
     "data": {
      "text/plain": [
       "kim     3\n",
       "lee     4\n",
       "park    5\n",
       "choi    6\n",
       "dtype: int64"
      ]
     },
     "execution_count": 48,
     "metadata": {},
     "output_type": "execute_result"
    }
   ],
   "source": [
    "#인덱스 choi에 6 할당\n",
    "x_label['choi'] = 6\n",
    "x_label"
   ]
  },
  {
   "cell_type": "code",
   "execution_count": 49,
   "id": "1f463705-45f8-426a-9a54-02f6a6863fda",
   "metadata": {},
   "outputs": [
    {
     "data": {
      "text/plain": [
       "0    3\n",
       "1    4\n",
       "3    9\n",
       "dtype: int64"
      ]
     },
     "execution_count": 49,
     "metadata": {},
     "output_type": "execute_result"
    }
   ],
   "source": [
    "#2번째 인덱스 삭제\n",
    "del(x_num[2])\n",
    "x_num"
   ]
  },
  {
   "cell_type": "code",
   "execution_count": 50,
   "id": "ab64e88c-2c7f-4030-9297-2235e80545e6",
   "metadata": {},
   "outputs": [
    {
     "data": {
      "text/plain": [
       "kim     3\n",
       "lee     4\n",
       "choi    6\n",
       "dtype: int64"
      ]
     },
     "execution_count": 50,
     "metadata": {},
     "output_type": "execute_result"
    }
   ],
   "source": [
    "#인덱스 park 삭제\n",
    "del(x_label['park'])\n",
    "x_label"
   ]
  },
  {
   "cell_type": "code",
   "execution_count": 51,
   "id": "229475fa-1a57-4dc2-b3a8-d26a2ea98af0",
   "metadata": {},
   "outputs": [
    {
     "data": {
      "text/plain": [
       "0    3\n",
       "1    4\n",
       "3    4\n",
       "dtype: int64"
      ]
     },
     "execution_count": 51,
     "metadata": {},
     "output_type": "execute_result"
    }
   ],
   "source": [
    "#3번째 인덱스의 값을 4로 변경\n",
    "x_num[3]=4\n",
    "x_num"
   ]
  },
  {
   "cell_type": "code",
   "execution_count": 52,
   "id": "9cf6e1cd-e7e7-4f62-a80f-c52a71d08a7f",
   "metadata": {},
   "outputs": [
    {
     "data": {
      "text/plain": [
       "kim     5\n",
       "lee     4\n",
       "choi    6\n",
       "dtype: int64"
      ]
     },
     "execution_count": 52,
     "metadata": {},
     "output_type": "execute_result"
    }
   ],
   "source": [
    "#인덱스 kim의 값을 5로 변경\n",
    "x_label['kim']=5\n",
    "x_label"
   ]
  },
  {
   "cell_type": "code",
   "execution_count": 53,
   "id": "86714e15-b826-4cef-81ec-6f71966f619a",
   "metadata": {},
   "outputs": [
    {
     "data": {
      "text/plain": [
       "0      29\n",
       "1      29\n",
       "2      31\n",
       "3      30\n",
       "4      26\n",
       "       ..\n",
       "229    28\n",
       "230    29\n",
       "231    26\n",
       "232    26\n",
       "233    26\n",
       "Name: hwy, Length: 234, dtype: int64"
      ]
     },
     "execution_count": 53,
     "metadata": {},
     "output_type": "execute_result"
    }
   ],
   "source": [
    "mpg = pd.read_csv('mpg.csv')\n",
    "mpg['hwy']"
   ]
  },
  {
   "cell_type": "code",
   "execution_count": 54,
   "id": "a374f363-74d0-4036-9394-ff925f211e38",
   "metadata": {},
   "outputs": [
    {
     "data": {
      "text/plain": [
       "23.44017094017094"
      ]
     },
     "execution_count": 54,
     "metadata": {},
     "output_type": "execute_result"
    }
   ],
   "source": [
    "mpg['hwy'].mean()"
   ]
  },
  {
   "cell_type": "code",
   "execution_count": 55,
   "id": "8119af6c-660d-49b3-a7a3-227eaacf5a76",
   "metadata": {},
   "outputs": [
    {
     "data": {
      "text/plain": [
       "category\n",
       "suv           62\n",
       "compact       47\n",
       "midsize       41\n",
       "subcompact    35\n",
       "pickup        33\n",
       "minivan       11\n",
       "2seater        5\n",
       "Name: count, dtype: int64"
      ]
     },
     "execution_count": 55,
     "metadata": {},
     "output_type": "execute_result"
    }
   ],
   "source": [
    "n_category = mpg['category'].value_counts()\n",
    "n_category"
   ]
  },
  {
   "cell_type": "code",
   "execution_count": 56,
   "id": "cd01148e-fc3e-4b80-ab74-f3fe51e98ac2",
   "metadata": {},
   "outputs": [
    {
     "data": {
      "text/plain": [
       "pandas.core.series.Series"
      ]
     },
     "execution_count": 56,
     "metadata": {},
     "output_type": "execute_result"
    }
   ],
   "source": [
    "type(n_category)"
   ]
  },
  {
   "cell_type": "code",
   "execution_count": 57,
   "id": "8cb709a5-4094-45a1-9b48-d4b8271453d2",
   "metadata": {},
   "outputs": [
    {
     "data": {
      "text/plain": [
       "category\n",
       "suv        62\n",
       "compact    47\n",
       "Name: count, dtype: int64"
      ]
     },
     "execution_count": 57,
     "metadata": {},
     "output_type": "execute_result"
    }
   ],
   "source": [
    "#인덱스 번호로 추출하기\n",
    "n_category[0:2]"
   ]
  },
  {
   "cell_type": "code",
   "execution_count": 59,
   "id": "d6401b50-457d-49d9-92a6-0fbacc27f848",
   "metadata": {},
   "outputs": [
    {
     "data": {
      "text/plain": [
       "category\n",
       "suv        62\n",
       "compact    47\n",
       "Name: count, dtype: int64"
      ]
     },
     "execution_count": 59,
     "metadata": {},
     "output_type": "execute_result"
    }
   ],
   "source": [
    "#인덱스 문자열로 추출하기\n",
    "n_category[['suv','compact']]"
   ]
  },
  {
   "cell_type": "code",
   "execution_count": 60,
   "id": "17614d2c-6ef9-4c3b-b331-34d8c798eb08",
   "metadata": {},
   "outputs": [
    {
     "data": {
      "text/html": [
       "<div>\n",
       "<style scoped>\n",
       "    .dataframe tbody tr th:only-of-type {\n",
       "        vertical-align: middle;\n",
       "    }\n",
       "\n",
       "    .dataframe tbody tr th {\n",
       "        vertical-align: top;\n",
       "    }\n",
       "\n",
       "    .dataframe thead th {\n",
       "        text-align: right;\n",
       "    }\n",
       "</style>\n",
       "<table border=\"1\" class=\"dataframe\">\n",
       "  <thead>\n",
       "    <tr style=\"text-align: right;\">\n",
       "      <th></th>\n",
       "      <th>var1</th>\n",
       "      <th>var2</th>\n",
       "    </tr>\n",
       "  </thead>\n",
       "  <tbody>\n",
       "    <tr>\n",
       "      <th>0</th>\n",
       "      <td>1</td>\n",
       "      <td>4</td>\n",
       "    </tr>\n",
       "    <tr>\n",
       "      <th>1</th>\n",
       "      <td>2</td>\n",
       "      <td>5</td>\n",
       "    </tr>\n",
       "    <tr>\n",
       "      <th>2</th>\n",
       "      <td>3</td>\n",
       "      <td>6</td>\n",
       "    </tr>\n",
       "  </tbody>\n",
       "</table>\n",
       "</div>"
      ],
      "text/plain": [
       "   var1  var2\n",
       "0     1     4\n",
       "1     2     5\n",
       "2     3     6"
      ]
     },
     "execution_count": 60,
     "metadata": {},
     "output_type": "execute_result"
    }
   ],
   "source": [
    "#17-7 데이터 프레임\n",
    "#데이터 프레임 만들기\n",
    "import pandas as pd\n",
    "df = pd.DataFrame({'var1': [1,2,3],\n",
    "                   'var2' : [4,5,6]})\n",
    "df"
   ]
  },
  {
   "cell_type": "code",
   "execution_count": 61,
   "id": "3d83ff6f-9adc-47b8-9fca-cae7ab0bcaa2",
   "metadata": {},
   "outputs": [
    {
     "data": {
      "text/plain": [
       "pandas.core.frame.DataFrame"
      ]
     },
     "execution_count": 61,
     "metadata": {},
     "output_type": "execute_result"
    }
   ],
   "source": [
    "type(df)"
   ]
  },
  {
   "cell_type": "code",
   "execution_count": 64,
   "id": "ed8c8ebb-b0dc-4c6a-a2b2-754c0f60ea15",
   "metadata": {},
   "outputs": [
    {
     "data": {
      "text/html": [
       "<div>\n",
       "<style scoped>\n",
       "    .dataframe tbody tr th:only-of-type {\n",
       "        vertical-align: middle;\n",
       "    }\n",
       "\n",
       "    .dataframe tbody tr th {\n",
       "        vertical-align: top;\n",
       "    }\n",
       "\n",
       "    .dataframe thead th {\n",
       "        text-align: right;\n",
       "    }\n",
       "</style>\n",
       "<table border=\"1\" class=\"dataframe\">\n",
       "  <thead>\n",
       "    <tr style=\"text-align: right;\">\n",
       "      <th></th>\n",
       "      <th>var1</th>\n",
       "      <th>var2</th>\n",
       "    </tr>\n",
       "  </thead>\n",
       "  <tbody>\n",
       "    <tr>\n",
       "      <th>kim</th>\n",
       "      <td>1</td>\n",
       "      <td>4</td>\n",
       "    </tr>\n",
       "    <tr>\n",
       "      <th>lee</th>\n",
       "      <td>2</td>\n",
       "      <td>5</td>\n",
       "    </tr>\n",
       "    <tr>\n",
       "      <th>park</th>\n",
       "      <td>3</td>\n",
       "      <td>6</td>\n",
       "    </tr>\n",
       "  </tbody>\n",
       "</table>\n",
       "</div>"
      ],
      "text/plain": [
       "      var1  var2\n",
       "kim      1     4\n",
       "lee      2     5\n",
       "park     3     6"
      ]
     },
     "execution_count": 64,
     "metadata": {},
     "output_type": "execute_result"
    }
   ],
   "source": [
    "#인덱스 정하기\n",
    "df = pd.DataFrame({'var1': [1,2,3],\n",
    "                   'var2': [4,5,6]},\n",
    "                  index = ['kim', 'lee', 'park'])\n",
    "df"
   ]
  },
  {
   "cell_type": "code",
   "execution_count": 65,
   "id": "9997c8f2-89b4-4e76-b2df-918c9f6b43da",
   "metadata": {},
   "outputs": [
    {
     "data": {
      "text/plain": [
       "kim     1\n",
       "lee     2\n",
       "park    3\n",
       "Name: var1, dtype: int64"
      ]
     },
     "execution_count": 65,
     "metadata": {},
     "output_type": "execute_result"
    }
   ],
   "source": [
    "x=df['var1']\n",
    "x"
   ]
  },
  {
   "cell_type": "code",
   "execution_count": 66,
   "id": "bda0a849-ee04-46cc-bf99-39f76a89f200",
   "metadata": {},
   "outputs": [
    {
     "data": {
      "text/plain": [
       "pandas.core.series.Series"
      ]
     },
     "execution_count": 66,
     "metadata": {},
     "output_type": "execute_result"
    }
   ],
   "source": [
    "type(x)"
   ]
  },
  {
   "cell_type": "code",
   "execution_count": 67,
   "id": "1d691927-a5f4-4afd-a06e-f66acd80fc0a",
   "metadata": {},
   "outputs": [
    {
     "data": {
      "text/plain": [
       "pandas.core.frame.DataFrame"
      ]
     },
     "execution_count": 67,
     "metadata": {},
     "output_type": "execute_result"
    }
   ],
   "source": [
    "#데이터프레임으로 자료 구조 바꾸기\n",
    "df_x = pd.DataFrame(x)\n",
    "type(df_x)"
   ]
  },
  {
   "cell_type": "code",
   "execution_count": 68,
   "id": "9b2f169b-303d-40c3-8296-b6916b60344c",
   "metadata": {},
   "outputs": [
    {
     "data": {
      "text/plain": [
       "var1    2.0\n",
       "dtype: float64"
      ]
     },
     "execution_count": 68,
     "metadata": {},
     "output_type": "execute_result"
    }
   ],
   "source": [
    "df_x.mean()"
   ]
  },
  {
   "cell_type": "code",
   "execution_count": 69,
   "id": "d9564a69-3b94-4b24-a6f4-870a45af9369",
   "metadata": {},
   "outputs": [
    {
     "data": {
      "text/plain": [
       "var1\n",
       "1       1\n",
       "2       1\n",
       "3       1\n",
       "Name: count, dtype: int64"
      ]
     },
     "execution_count": 69,
     "metadata": {},
     "output_type": "execute_result"
    }
   ],
   "source": [
    "df_x.value_counts()"
   ]
  },
  {
   "cell_type": "code",
   "execution_count": null,
   "id": "7d65f8cb-6fa8-4def-8754-4185440847fa",
   "metadata": {},
   "outputs": [],
   "source": []
  }
 ],
 "metadata": {
  "kernelspec": {
   "display_name": "Python 3 (ipykernel)",
   "language": "python",
   "name": "python3"
  },
  "language_info": {
   "codemirror_mode": {
    "name": "ipython",
    "version": 3
   },
   "file_extension": ".py",
   "mimetype": "text/x-python",
   "name": "python",
   "nbconvert_exporter": "python",
   "pygments_lexer": "ipython3",
   "version": "3.12.4"
  }
 },
 "nbformat": 4,
 "nbformat_minor": 5
}
