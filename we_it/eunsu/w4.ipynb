{
 "cells": [
  {
   "cell_type": "markdown",
   "id": "86919972-5998-4659-9940-8d6378c31921",
   "metadata": {},
   "source": [
    "#11장\n",
    "import json\n",
    "geo = json.load(open('SIG.geojson', encoding = 'UTF-8'))"
   ]
  },
  {
   "cell_type": "code",
   "execution_count": null,
   "id": "3ee3319f-a065-4545-af1e-2b85e0cda27f",
   "metadata": {},
   "outputs": [],
   "source": [
    "#행정 구역 코드 출력\n",
    "geo['features'][0]['properties']"
   ]
  },
  {
   "cell_type": "code",
   "execution_count": null,
   "id": "f0606048-ba81-4ca7-b2b0-1869c3e8b1f5",
   "metadata": {},
   "outputs": [],
   "source": [
    "#위도, 경도 좌표 출력\n",
    "geo['features'][0]['geometry']"
   ]
  },
  {
   "cell_type": "code",
   "execution_count": null,
   "id": "53871468-2ebe-48ce-bcaa-f611c5ca33d4",
   "metadata": {},
   "outputs": [],
   "source": [
    "import pandas as pd\n",
    "df_pop = pd.read_csv('Population_SIG.csv')\n",
    "df_pop.head()"
   ]
  },
  {
   "cell_type": "code",
   "execution_count": null,
   "id": "fdbb0202-f852-46d6-af82-d5924a461a9e",
   "metadata": {},
   "outputs": [],
   "source": [
    "df_pop.info()"
   ]
  },
  {
   "cell_type": "code",
   "execution_count": null,
   "id": "c1f05fa4-8509-4cc4-beed-35572d0562f7",
   "metadata": {},
   "outputs": [],
   "source": [
    "df_pop['code'] = df_pop['code'].astype(str) #데이터타입 변경"
   ]
  },
  {
   "cell_type": "code",
   "execution_count": null,
   "id": "874ecd5b-2baa-46bd-9ac6-a4c68cede093",
   "metadata": {},
   "outputs": [],
   "source": [
    "#단계 구분도 만들기 , folium 패키지 이용\n",
    "import folium\n",
    "folium.Map(location = [35.95, 127.7], #지도 중심 좌표(위도,경도)\n",
    "           zoom_start = 8) #확대 단계"
   ]
  },
  {
   "cell_type": "code",
   "execution_count": null,
   "id": "eda4647c-7b34-40c9-a34f-b7886aec0416",
   "metadata": {},
   "outputs": [],
   "source": [
    "map_sig = folium.Map(location = [35.95, 127.7], #지도 중심 좌표\n",
    "                     zoom_start = 8, #확대 단계\n",
    "                     tiles = 'cartodbpositron') #지도 종류\n",
    "map_sig"
   ]
  },
  {
   "cell_type": "code",
   "execution_count": null,
   "id": "27afc865-5585-4812-a1f5-f4e5db72170d",
   "metadata": {},
   "outputs": [],
   "source": [
    "folium.Choropleth(\n",
    "    geo_data = geo, #지도 데이터\n",
    "    data = df_pop, #통계 데이터\n",
    "    columns = ('code', 'pop'), #df_pop 행정 구역 코드, 인구\n",
    "    key_on = 'feature.properties.SIG_CD')\\\n",
    ".add_to(map_sig)\n",
    "map_sig"
   ]
  },
  {
   "cell_type": "code",
   "execution_count": null,
   "id": "9fc0c284-7b99-4134-b038-e2cedac4c1a7",
   "metadata": {},
   "outputs": [],
   "source": [
    "#계급 구간 정하기\n",
    "bins = list(df_pop['pop'].quantile([0,0.2,0.4,0.6,0.8,1]))\n",
    "bins"
   ]
  },
  {
   "cell_type": "code",
   "execution_count": null,
   "id": "8a8c3128-4bf2-456e-bc2b-986ea9342a39",
   "metadata": {},
   "outputs": [],
   "source": [
    "#배경 지도 만들기 \n",
    "map_sig = folium.Map(location = [35.95, 127.7],\n",
    "                     zoom_start = 8,\n",
    "                     tiles = 'cartodbpositron') #지도 종류"
   ]
  },
  {
   "cell_type": "code",
   "execution_count": null,
   "id": "badb2f9f-ff72-432e-a2e0-44183a21f05d",
   "metadata": {},
   "outputs": [],
   "source": [
    "#단계 구분도 만들기\n",
    "folium.Choropleth(\n",
    "    geo_data = geo,\n",
    "    data = df_pop,\n",
    "    columns = ('code', 'pop'),\n",
    "    key_on = 'feature.properties.SIG_CD',\n",
    "    fill_color = 'YlGnBu',\n",
    "    fill_opacity = 1,\n",
    "    line_opacity = 0.5,\n",
    "    bins = bins)\\\n",
    ".add_to(map_sig)\n",
    "map_sig"
   ]
  },
  {
   "cell_type": "code",
   "execution_count": null,
   "id": "22573e31-1837-440c-bbde-7e5373df54a1",
   "metadata": {},
   "outputs": [],
   "source": [
    "#11-2 서울시 동별 외국인 인구 단계 구분도 만들기\n",
    "\n",
    "import json\n",
    "geo_seoul = json.load(open('EMD_Seoul.geojson', encoding = 'UTF-8'))"
   ]
  },
  {
   "cell_type": "code",
   "execution_count": null,
   "id": "c819cb0f-3e2f-4161-bd5a-ea9e2e7b2ad7",
   "metadata": {},
   "outputs": [],
   "source": [
    "#행정 구역 코드 출력\n",
    "geo_seoul['features'][0]['properties']"
   ]
  },
  {
   "cell_type": "code",
   "execution_count": null,
   "id": "1bc6246d-6a0b-4b24-aeb0-562de3c1d3b7",
   "metadata": {},
   "outputs": [],
   "source": [
    "#위도, 경도 좌표 출력\n",
    "geo_seoul['features'][0]['geometry']"
   ]
  },
  {
   "cell_type": "code",
   "execution_count": null,
   "id": "a43231e1-4e2b-4245-a93a-5253054b375d",
   "metadata": {},
   "outputs": [],
   "source": [
    "#서울시 동별 외국인 인구 데이터 준비하기\n",
    "foreigner = pd.read_csv('Foreigner_EMD_Seoul.csv')\n",
    "foreigner.head()"
   ]
  },
  {
   "cell_type": "code",
   "execution_count": null,
   "id": "519b4d19-9815-4927-95c7-9af93cfe893f",
   "metadata": {},
   "outputs": [],
   "source": [
    "foreigner.info()"
   ]
  },
  {
   "cell_type": "code",
   "execution_count": null,
   "id": "5b164dcd-47b4-43d0-a355-d590421cd181",
   "metadata": {},
   "outputs": [],
   "source": [
    "foreigner['code'] = foreigner['code'].astype(str) #문자타입으로 변경"
   ]
  },
  {
   "cell_type": "code",
   "execution_count": null,
   "id": "a68561ec-7237-4fe7-933b-f4f4e9b0c63d",
   "metadata": {},
   "outputs": [],
   "source": [
    "#단계 구분도 만들기\n",
    "bins = list(foreigner['pop'].quantile([0, 0.2, 0.4, 0.5, 0.6, 0.7, 0.8, 0.9, 1]))\n",
    "bins"
   ]
  },
  {
   "cell_type": "code",
   "execution_count": null,
   "id": "6827d0e0-30a6-4fc6-ab89-11bd2f2df1dc",
   "metadata": {},
   "outputs": [],
   "source": [
    "#배경 지도 만들기\n",
    "map_seoul = folium.Map(location = [37.56, 127], #서울 좌표\n",
    "                       zoom_start = 12, #확대 단계\n",
    "                       tiles = 'cartodbpositron') #지도 종류\n",
    "#단계구분도 만들기\n",
    "folium.Choropleth(\n",
    "    geo_data = geo_seoul,  #지도 데이터\n",
    "    data = foreigner,  #통계 데이터\n",
    "    columns = ('code', 'pop'), #foreigner 행정구역코드, 인구\n",
    "    key_on = 'feature.properties.ADM_DR_CD',\n",
    "    fill_color = 'Blues',\n",
    "    nan_fill_color = 'White',\n",
    "    fill_opacity = 1,\n",
    "    line_opacity = 0.5,\n",
    "    bins = bins)\\\n",
    ".add_to(map_seoul)\n",
    "map_seoul"
   ]
  },
  {
   "cell_type": "code",
   "execution_count": null,
   "id": "d01ea478-6eac-4b90-b782-47d358244e3c",
   "metadata": {},
   "outputs": [],
   "source": [
    "geo_seoul_sig = json.load(open('SIG_Seoul.geojson', encoding = 'UTF-8'))"
   ]
  },
  {
   "cell_type": "code",
   "execution_count": null,
   "id": "d432fb09-70cc-4aeb-adb2-8d5687dcd1a2",
   "metadata": {},
   "outputs": [],
   "source": [
    "#서울 구 라인 추가\n",
    "folium.Choropleth(geo_data = geo_seoul_sig,\n",
    "                 fill_opacity = 0,\n",
    "                 line_weight = 4)\\\n",
    ".add_to(map_seoul)\n",
    "map_seoul"
   ]
  },
  {
   "cell_type": "code",
   "execution_count": null,
   "id": "668e1679-4a3e-4fd4-8c87-342cdf495313",
   "metadata": {},
   "outputs": [],
   "source": [
    "#12 인터랙티브 그래프(마우스 움직임에 반응)\n",
    "\n",
    "#산점도 만들기\n",
    "\n",
    "import pandas as pd\n",
    "mpg = pd.read_csv('mpg.csv')"
   ]
  },
  {
   "cell_type": "code",
   "execution_count": null,
   "id": "78d12a9d-a785-4da9-8f20-058d310dc3dd",
   "metadata": {},
   "outputs": [],
   "source": [
    "#산점도 만들기\n",
    "import plotly.express as px\n",
    "px.scatter(data_frame = mpg, x = 'cty', y = 'hwy', color = 'drv')"
   ]
  },
  {
   "cell_type": "code",
   "execution_count": null,
   "id": "dfa5510c-c31b-4575-b3b0-bb3a30ab8e66",
   "metadata": {},
   "outputs": [],
   "source": [
    "#막대 그래프 만들기\n",
    "\n",
    "#자동차 종류별 빈도 구하기\n",
    "df = mpg.groupby('category', as_index = False)\\\n",
    ".agg(n=('category','count'))\n",
    "df"
   ]
  },
  {
   "cell_type": "code",
   "execution_count": null,
   "id": "3b083cc5-5c19-46c7-92bc-805890a35438",
   "metadata": {},
   "outputs": [],
   "source": [
    "#막대 그래프 만들기\n",
    "px.bar(data_frame = df, x = 'category', y = 'n', color = 'category')"
   ]
  },
  {
   "cell_type": "code",
   "execution_count": null,
   "id": "ed4980a6-0e6c-4c09-9e7b-b86404f19f46",
   "metadata": {},
   "outputs": [],
   "source": [
    "import pandas as pd\n",
    "import plotly.express as px\n",
    "\n",
    "#economics 불러오기\n",
    "economics = pd.read_csv('economics.csv')\n",
    "\n",
    "#선 그래프 만들기\n",
    "px.line(data_frame = economics, x = 'date', y = 'psavert')"
   ]
  },
  {
   "cell_type": "code",
   "execution_count": null,
   "id": "a836644a-39eb-4285-bb3a-9167ab8d3111",
   "metadata": {},
   "outputs": [],
   "source": [
    "import pandas as pd\n",
    "import plotly.express as px\n",
    "\n",
    "# mpg.csv 파일 읽기\n",
    "mpg = pd.read_csv('mpg.csv')\n",
    "\n",
    "#상자 그림 만들기\n",
    "px.box(data_frame = mpg, x = 'drv', y = 'hwy', color = 'drv')"
   ]
  },
  {
   "cell_type": "code",
   "execution_count": null,
   "id": "e80f0e14-dfb1-43e6-bd09-a2d392bdb195",
   "metadata": {},
   "outputs": [],
   "source": [
    "#그래프를 변수에 할당하기\n",
    "fig = px.scatter(data_frame = mpg, x = 'cty', y = 'hwy')\n",
    "\n",
    "#html로 저장하기\n",
    "fig.write_html('scatter_plot.html')"
   ]
  },
  {
   "cell_type": "markdown",
   "id": "c2778f2c-8a07-4442-83bc-05644b1f5c17",
   "metadata": {},
   "source": [
    "#13장 마크다운으로 데이터 분석 보고서 만들기\n",
    "\n",
    "## 마크다운\n",
    "\n",
    "마크다운 문법으로 코드를 작성해 [HTML](httpl://ko.wikipedia.org/wiki/HTML)로 변환할 수 있습니다."
   ]
  },
  {
   "cell_type": "markdown",
   "id": "245b015e-6546-489a-b3e0-4537737161c8",
   "metadata": {},
   "source": [
    "문자 앞뒤에 *특수문자*를 넣으면 기울임체가 됩니다.\n",
    "    \n",
    "문자 앞뒤에 **특수문자**를 넣으면 강조체가 됩니다.\n",
    "\n",
    "문자 앞뒤에 ~~특수문자~~를 넣으면 취소선을 만듭니다.\n",
    "\n",
    "문자 앞뒤에 [특수문자](http://www.google.com/search?q=special+character)를 넣으면 하이퍼링크를 만듭니다.\n",
    "\n",
    "\n",
    "# 1단계 제목\n",
    "## 2단계 제목\n",
    "### 3단계 제목\n",
    "#### 4단계 제목\n",
    "\n",
    "코드에 백틱 기호를 입력하면 `pandas`와 같이 음영을 넣습니다."
   ]
  },
  {
   "cell_type": "markdown",
   "id": "4c40580c-410b-4ac2-963b-feee1f82bd57",
   "metadata": {},
   "source": [
    "#데이터 분석 보고서 만들기\n",
    "\n",
    "## 마크다운\n",
    "\n",
    "마크다운 문법으로 코드를 작성해 [HTML](https://ko.wikipedia.org/wiki/HTML)로 변환할 수 있습니다. 마크다운을 이용하면 분석 과정과 결과를 자세하게 기술할 수 있어서 **재현 가능성**을 갖춘 *데이터 분석 보고서*를 만들 수 있습니다.\n",
    "\n",
    "### 마크다운 문법 예제\n",
    "\n",
    "코드와 코드 실행 결과물을 보고서에 함께 출력합니다"
   ]
  },
  {
   "cell_type": "code",
   "execution_count": null,
   "id": "5dbaad2e-55d6-4d2c-8df1-8d5d9a858d38",
   "metadata": {},
   "outputs": [],
   "source": [
    "import pandas as pd\n",
    "df = pd.read_csv('mpg.csv')\n",
    "df['drv'].value_counts()"
   ]
  },
  {
   "cell_type": "code",
   "execution_count": null,
   "id": "8485a89d-d76d-436c-99f4-f4bee8514a97",
   "metadata": {},
   "outputs": [],
   "source": [
    "import seaborn as sns\n",
    "sns.countplot(data = df, x = 'drv')"
   ]
  },
  {
   "cell_type": "code",
   "execution_count": null,
   "id": "81bd67b3-029f-4e2a-8fd2-75a71bd28274",
   "metadata": {},
   "outputs": [],
   "source": [
    "#14 통계 분석 기법을 이용한 가설 검정\n",
    "\n",
    "#14-2 t 검정 - 두 집단의 평균 비교하기\n",
    "import pandas as pd\n",
    "mpg = pd.read_csv('mpg.csv')\n",
    "\n",
    "#기술 통계 분석\n",
    "mpg.query('category in [\"compact\", \"suv\"]')\\\n",
    ".groupby('category', as_index = False)\\\n",
    ".agg(n =('category', 'count'),\n",
    "     mean = ('cty', 'mean'))"
   ]
  },
  {
   "cell_type": "code",
   "execution_count": null,
   "id": "4253b793-5e64-4d1b-91ff-639a38530400",
   "metadata": {},
   "outputs": [],
   "source": [
    "compact = mpg.query('category == \"compact\"')['cty'] #category가 'compact'행과 'suv'행 sty 추출해 각각 변수에 할당\n",
    "suv = mpg.query('category == \"suv\"')['cty']"
   ]
  },
  {
   "cell_type": "code",
   "execution_count": null,
   "id": "f692c414-7520-42dc-b689-828c3d16ae20",
   "metadata": {},
   "outputs": [],
   "source": [
    "#t-test\n",
    "from scipy import stats\n",
    "stats.ttest_ind(compact, suv, equal_var = True)"
   ]
  },
  {
   "cell_type": "code",
   "execution_count": null,
   "id": "098b95cf-5ed3-4d4c-b57e-c4eb4b3b3167",
   "metadata": {},
   "outputs": [],
   "source": [
    "#일반 휘발유와 고급 휘발유의 도시 연비 t 검정\n",
    "\n",
    "#기술 통계 분석\n",
    "mpg.query('fl in [\"r\", \"p\"]')\\\n",
    ".groupby('fl', as_index = False)\\\n",
    ".agg(n =('fl', 'count'),\n",
    "     mean =('cty', 'mean')) #cty 평균 구하기"
   ]
  },
  {
   "cell_type": "code",
   "execution_count": null,
   "id": "af90fc2b-d98c-49ee-a9a6-2a4a34523d62",
   "metadata": {},
   "outputs": [],
   "source": [
    "regular = mpg.query('fl == \"r\"')['cty']\n",
    "premium = mpg.query('fl==\"p\"')['cty']\n",
    "\n",
    "#t-test\n",
    "stats.ttest_ind(regular, premium, equal_var = True)"
   ]
  },
  {
   "cell_type": "code",
   "execution_count": null,
   "id": "953507aa-c59e-48c3-8c54-804c279fc979",
   "metadata": {},
   "outputs": [],
   "source": [
    "#14-3 상관분석- 두 변수의 관계 분석하기\n",
    "\n",
    "#실업자 수와 개인 소비 지출의 상관관계\n",
    "\n",
    "#economics 데이터 불러오기\n",
    "economics= pd.read_csv('economics.csv')\n",
    "\n",
    "#상관행렬 만들기\n",
    "economics[['unemploy', 'pce']].corr()"
   ]
  },
  {
   "cell_type": "code",
   "execution_count": null,
   "id": "f1b9192b-a60d-47f5-a0ae-c0c7395416ff",
   "metadata": {},
   "outputs": [],
   "source": [
    "#상관분석\n",
    "stats.pearsonr(economics['unemploy'], economics['pce']) #상관계수와 유의확률 출력"
   ]
  },
  {
   "cell_type": "code",
   "execution_count": null,
   "id": "2302745b-8595-4e13-be3a-5dfeb1f9e828",
   "metadata": {},
   "outputs": [],
   "source": [
    "#상관행렬 만들기\n",
    "mtcars = pd.read_csv('mtcars.csv')\n",
    "mtcars.head()"
   ]
  },
  {
   "cell_type": "code",
   "execution_count": null,
   "id": "58349ccd-b720-4c3a-aa6f-4e04501146ab",
   "metadata": {},
   "outputs": [],
   "source": [
    "car_cor = mtcars.corr() #상관행렬 만들기\n",
    "car_cor = round(car_cor, 2) #소수점 둘째 자리까지 반올림\n",
    "car_cor"
   ]
  },
  {
   "cell_type": "code",
   "execution_count": null,
   "id": "c7bd66cd-3646-4018-ba4d-f6ce07914b2e",
   "metadata": {},
   "outputs": [],
   "source": [
    "#히트맵 만들기\n",
    "import matplotlib.pyplot as plt\n",
    "plt.rcParams.update({'figure.dpi' :'120', #해상도 설정\n",
    "                     'figure.figsize' : [7.5, 5.5]}) #가로 세로 크기 설정"
   ]
  },
  {
   "cell_type": "code",
   "execution_count": null,
   "id": "c931a798-7417-4691-857d-1b5cda1c14a8",
   "metadata": {},
   "outputs": [],
   "source": [
    "#히트맵 만들기\n",
    "import seaborn as sns\n",
    "sns.heatmap(car_cor,\n",
    "            annot = True, #상관계수 표시\n",
    "            cmap = 'RdBu') #컬러맵"
   ]
  },
  {
   "cell_type": "code",
   "execution_count": null,
   "id": "0d50fe68-d175-41e5-8d94-c07f21f5b59f",
   "metadata": {},
   "outputs": [],
   "source": [
    "#대각 행렬 제거하기\n",
    "\n",
    "#mask만들기\n",
    "import numpy as np\n",
    "mask = np.zeros_like(car_cor)\n",
    "mask"
   ]
  },
  {
   "cell_type": "code",
   "execution_count": null,
   "id": "39d1715d-bcbf-4376-bcdb-f342952b1fd8",
   "metadata": {},
   "outputs": [],
   "source": [
    "#오른쪽 위 대각 행렬을 1로 바꾸기\n",
    "mask[np.triu_indices_from(mask)]=1\n",
    "mask"
   ]
  },
  {
   "cell_type": "code",
   "execution_count": null,
   "id": "5a8a25ec-95b8-4fa8-976b-37eaba05854b",
   "metadata": {},
   "outputs": [],
   "source": [
    "#히트맵 만들기\n",
    "sns.heatmap(data = car_cor,\n",
    "            annot = True, #상관계수 표시\n",
    "            cmap = 'RdBu', #컬러맵\n",
    "            mask = mask) #mask 적용"
   ]
  },
  {
   "cell_type": "code",
   "execution_count": null,
   "id": "405b438a-fbee-4bc6-a7b6-20e966350c8a",
   "metadata": {},
   "outputs": [],
   "source": [
    "#빈 행과 열 제거하기\n",
    "mask_new = mask[1:, :-1] #mask 첫 번째 행, 마지막 열 제거\n",
    "cor_new = car_cor.iloc[1:, :-1] #상관행렬 첫 번째 행, 마지막 열 제거\n",
    "\n",
    "#히트맵 만들기\n",
    "sns.heatmap(data = cor_new,\n",
    "            annot = True, #상관계수 표시\n",
    "            cmap = 'RdBu', #컬러맵\n",
    "            mask = mask_new) #mask 적용"
   ]
  },
  {
   "cell_type": "code",
   "execution_count": null,
   "id": "874ff21a-d071-4751-8a09-a84fc5db9d8b",
   "metadata": {},
   "outputs": [],
   "source": [
    "#히트맵 만들기\n",
    "sns.heatmap(data = cor_new,\n",
    "            annot = True, #상관계수 표시\n",
    "            cmap = 'RdBu', #컬러맵\n",
    "            mask = mask_new, #mask 적용\n",
    "            linewidths = .5,\n",
    "            vmax = 1,\n",
    "            vmin = -1,\n",
    "            cbar_kws = {'shrink': .5}) #범례 크기 줄이기"
   ]
  },
  {
   "cell_type": "code",
   "execution_count": null,
   "id": "8a5cb043-ccb6-4ad4-9ae9-84c9b15314d6",
   "metadata": {},
   "outputs": [],
   "source": []
  }
 ],
 "metadata": {
  "kernelspec": {
   "display_name": "Python 3 (ipykernel)",
   "language": "python",
   "name": "python3"
  },
  "language_info": {
   "codemirror_mode": {
    "name": "ipython",
    "version": 3
   },
   "file_extension": ".py",
   "mimetype": "text/x-python",
   "name": "python",
   "nbconvert_exporter": "python",
   "pygments_lexer": "ipython3",
   "version": "3.12.4"
  }
 },
 "nbformat": 4,
 "nbformat_minor": 5
}
