{
 "cells": [
  {
   "cell_type": "markdown",
   "id": "c9d697c4",
   "metadata": {},
   "source": [
    "# Mission 3\n",
    "\n",
    "- 아래의 데이터는 회원제로 운영되고 있는 **친환경 식품을 판매하는 소매점**에서 나온 판매 데이터 / 고객 데이터 입니다. 매장에서 제품을 결제하려면 코스트코와 같이, 회원등록을 해야만 결제가 가능합니다. 회원 등록할 때, 회원의 연령, 성별과 같은 기본정보를 수집한 **고객 데이터**가 있습니다. 그리고 각 회원이 매장에서 결제를 진행할 때, 한 제품을 바코드에 찍을 때 마다 발생하는 **결제 데이터**가 존재합니다. 이 두가지 데이터를 이용해서, 아래의 미션을 수행해 봅시다. \n",
    "\n",
    "- 먼저 개인 스스로 풀어보고, 풀지 못한 미션은 팀원들과 같이 풀어보세요.\n",
    "- Chat GPT + 교재 + 팀스터디 모두 활용하여 풀어보시길 바랍니다. \n",
    "- 미션 미제출시, 수료증 발급에 제한이 될 수 있습니다. \n",
    "\n",
    "- **기한 : 24년 12월 3일 23시 59분까지 / 이후 제출 절대 인정 불가**  \n",
    "- 제출처: weit2024.project@gmail.com\n",
    "\n",
    "- 참고 영상 : \n",
    "    - 시각화 관련 : https://youtube.com/playlist?list=PLhdHuKlSngGw314hPvsbqV38YY1rqpCkW\n",
    "    - 데이터 전처리 관련 : https://youtube.com/playlist?list=PLhdHuKlSngGxL_R2g8OYFtsUKs-mMhRBs"
   ]
  },
  {
   "cell_type": "markdown",
   "id": "2bd23612",
   "metadata": {},
   "source": [
    "1. 1_store_member.csv 데이터를 df_member 변수로, 2_store_product.csv 데이터를 df_product변수로 선언하고, 각각의 데이터의 구조와 타입을 확인하시오  "
   ]
  },
  {
   "cell_type": "code",
   "execution_count": 6,
   "id": "09baa95b",
   "metadata": {},
   "outputs": [
    {
     "name": "stdout",
     "output_type": "stream",
     "text": [
      "<class 'pandas.core.frame.DataFrame'>\n",
      "RangeIndex: 4396 entries, 0 to 4395\n",
      "Data columns (total 7 columns):\n",
      " #   Column  Non-Null Count  Dtype \n",
      "---  ------  --------------  ----- \n",
      " 0   회원번호    4396 non-null   int64 \n",
      " 1   회원상태    4396 non-null   object\n",
      " 2   성별      4396 non-null   object\n",
      " 3   결혼유무    3449 non-null   object\n",
      " 4   주소      4396 non-null   object\n",
      " 5   생년      4396 non-null   int64 \n",
      " 6   연령      4396 non-null   int64 \n",
      "dtypes: int64(3), object(4)\n",
      "memory usage: 240.5+ KB\n",
      "None\n",
      "<class 'pandas.core.frame.DataFrame'>\n",
      "RangeIndex: 735783 entries, 0 to 735782\n",
      "Data columns (total 11 columns):\n",
      " #   Column    Non-Null Count   Dtype  \n",
      "---  ------    --------------   -----  \n",
      " 0   공급일자      735783 non-null  int64  \n",
      " 1   물품코드      735783 non-null  int64  \n",
      " 2   물품대분류     735783 non-null  object \n",
      " 3   물품중분류     735783 non-null  object \n",
      " 4   물품소분류     735783 non-null  object \n",
      " 5   물품명       735783 non-null  object \n",
      " 6   구매수량      735783 non-null  float64\n",
      " 7   구매금액      735783 non-null  int64  \n",
      " 8   구매매장      735783 non-null  object \n",
      " 9   반품_원거래일자  10337 non-null   float64\n",
      " 10  회원번호      735761 non-null  float64\n",
      "dtypes: float64(3), int64(3), object(5)\n",
      "memory usage: 61.7+ MB\n",
      "None\n"
     ]
    }
   ],
   "source": [
    "import pandas as pd\n",
    "df_member = pd.read_csv('1_store_member.csv')\n",
    "df_product = pd.read_csv('2_store_product.csv')\n",
    "\n",
    "print(df_member.info())\n",
    "print(df_product.info())"
   ]
  },
  {
   "cell_type": "markdown",
   "id": "a92ea14a",
   "metadata": {},
   "source": [
    "2.  df_product 데이터에서, '회원번호' 별 '구매금액'과 '구매수량'의 합을 계산하고 pandas 라이브러리의 reset_index()함수를 활용해,아래와 같은 테이블로 변환하여, df_product_id 변수로 선언하시오. "
   ]
  },
  {
   "cell_type": "code",
   "execution_count": 8,
   "id": "af6e1bb5",
   "metadata": {},
   "outputs": [
    {
     "name": "stdout",
     "output_type": "stream",
     "text": [
      "        회원번호     구매금액    구매수량\n",
      "0     2101.0  1991230   382.0\n",
      "1     2102.0  2095860   472.5\n",
      "2     2103.0  8273550  1675.4\n",
      "3     2104.0  6289495  1401.8\n",
      "4     2105.0  3067930   602.0\n",
      "...      ...      ...     ...\n",
      "4280  6492.0    51550    10.0\n",
      "4281  6493.0    22500     3.0\n",
      "4282  6494.0    18500     3.0\n",
      "4283  6495.0     5300     1.0\n",
      "4284  6496.0    69220     8.0\n",
      "\n",
      "[4285 rows x 3 columns]\n"
     ]
    }
   ],
   "source": [
    "df_product_id = df_product.groupby('회원번호')[['구매금액', '구매수량']].sum()\\\n",
    "                          .reset_index()\n",
    "print(df_product_id)"
   ]
  },
  {
   "cell_type": "markdown",
   "id": "6d127435",
   "metadata": {},
   "source": [
    "3. pandas 라이브러리의 rename() 함수를 활용하여, df_product_id 변수의 '구매금액'과 '구매수량'항목 명을, '총구매금액', '총구매수량'으로 변환하시오. "
   ]
  },
  {
   "cell_type": "code",
   "execution_count": 10,
   "id": "7d9bc14e",
   "metadata": {},
   "outputs": [
    {
     "name": "stdout",
     "output_type": "stream",
     "text": [
      "        회원번호    총구매금액   총구매수량\n",
      "0     2101.0  1991230   382.0\n",
      "1     2102.0  2095860   472.5\n",
      "2     2103.0  8273550  1675.4\n",
      "3     2104.0  6289495  1401.8\n",
      "4     2105.0  3067930   602.0\n",
      "...      ...      ...     ...\n",
      "4280  6492.0    51550    10.0\n",
      "4281  6493.0    22500     3.0\n",
      "4282  6494.0    18500     3.0\n",
      "4283  6495.0     5300     1.0\n",
      "4284  6496.0    69220     8.0\n",
      "\n",
      "[4285 rows x 3 columns]\n"
     ]
    }
   ],
   "source": [
    "df_product_id = df_product_id.rename(columns={'구매금액': '총구매금액',\n",
    "                                              '구매수량': '총구매수량'})\n",
    "print(df_product_id)"
   ]
  },
  {
   "cell_type": "markdown",
   "id": "e260a151",
   "metadata": {},
   "source": [
    "4. df_product 데이터에서, '회원번호' 항목과, '공급일자' 데이터를 활용해, 아래와 같이 각 '회원번호'별 '방문횟수'의 합을 계산하여, df_product_id2 변수로 선언하시오. "
   ]
  },
  {
   "cell_type": "code",
   "execution_count": 12,
   "id": "42ea96ff",
   "metadata": {},
   "outputs": [
    {
     "name": "stdout",
     "output_type": "stream",
     "text": [
      "        회원번호  총방문횟수\n",
      "0     2101.0     86\n",
      "1     2102.0     79\n",
      "2     2103.0    126\n",
      "3     2104.0    125\n",
      "4     2105.0     57\n",
      "...      ...    ...\n",
      "4280  6492.0      1\n",
      "4281  6493.0      1\n",
      "4282  6494.0      1\n",
      "4283  6495.0      1\n",
      "4284  6496.0      1\n",
      "\n",
      "[4285 rows x 2 columns]\n"
     ]
    }
   ],
   "source": [
    "df_product_id2 = df_product.groupby('회원번호')\\\n",
    "                           .agg(총방문횟수=('공급일자', 'nunique'))\\\n",
    "                           .reset_index()\n",
    "print(df_product_id2)"
   ]
  },
  {
   "cell_type": "markdown",
   "id": "d1f7d271",
   "metadata": {},
   "source": [
    "5. 앞서 생성한 df_product_id 변수와 df_product_id2 변수, df_member 변수를 이용해, '회원번호'를 기준으로 아래와 같이 하나의 데이터로 병합하고, df2 변수로 선언하시오. (pandas merge함수 활용)"
   ]
  },
  {
   "cell_type": "code",
   "execution_count": 14,
   "id": "bc868770",
   "metadata": {},
   "outputs": [
    {
     "name": "stdout",
     "output_type": "stream",
     "text": [
      "        회원번호    총구매금액   총구매수량  총방문횟수  회원상태 성별 결혼유무               주소    생년  연령\n",
      "0     2101.0  1991230   382.0     86  정상회원  여   기혼  서울 강북구 미아동 134-  1967  51\n",
      "1     2102.0  2095860   472.5     79  정상회원  여  NaN   경기 용인시 수지구 동천동  1947  71\n",
      "2     2103.0  8273550  1675.4    126  정상회원  여   기혼   경기 용인시 수지구 동천동  1972  46\n",
      "3     2104.0  6289495  1401.8    125  정상회원  여  NaN   경기 용인시 수지구 성복동  1969  49\n",
      "4     2105.0  3067930   602.0     57  정상회원  여   기혼   경기 용인시 수지구 동천동  1948  70\n",
      "...      ...      ...     ...    ...   ... ..  ...              ...   ...  ..\n",
      "4280  6492.0    51550    10.0      1  정상회원  여   미혼   경기 성남시 분당구 판교동  1963  55\n",
      "4281  6493.0    22500     3.0      1  정상회원  여   기혼  서울 관악구 행운동 1681  1982  36\n",
      "4282  6494.0    18500     3.0      1  정상회원  남   기혼   경기 성남시 분당구 백현동  1975  43\n",
      "4283  6495.0     5300     1.0      1  정상회원  여   기혼  서울 용산구 한남동 737-  1961  57\n",
      "4284  6496.0    69220     8.0      1  정상회원  여   미혼   경기 수원시 영통구 이의동  1971  47\n",
      "\n",
      "[4285 rows x 10 columns]\n"
     ]
    }
   ],
   "source": [
    "df2 = pd.merge(df_product_id, df_product_id2, on='회원번호')\n",
    "df2 = pd.merge(df2, df_member, on='회원번호')\n",
    "print(df2)"
   ]
  },
  {
   "cell_type": "markdown",
   "id": "a2edb396",
   "metadata": {},
   "source": [
    "6. df2 데이터에서 '총구매금액'과 '총방문횟수'를 나누어, 고객이 한번 방문했을 때, 평균적으로 구매하는 금액 '1회방문구매평균' 항목을 계산하고, 변수로 선언하시오.  "
   ]
  },
  {
   "cell_type": "code",
   "execution_count": 16,
   "id": "bab3439c",
   "metadata": {},
   "outputs": [
    {
     "name": "stdout",
     "output_type": "stream",
     "text": [
      "        회원번호    총구매금액   총구매수량  총방문횟수  회원상태 성별 결혼유무               주소    생년  연령  \\\n",
      "0     2101.0  1991230   382.0     86  정상회원  여   기혼  서울 강북구 미아동 134-  1967  51   \n",
      "1     2102.0  2095860   472.5     79  정상회원  여  NaN   경기 용인시 수지구 동천동  1947  71   \n",
      "2     2103.0  8273550  1675.4    126  정상회원  여   기혼   경기 용인시 수지구 동천동  1972  46   \n",
      "3     2104.0  6289495  1401.8    125  정상회원  여  NaN   경기 용인시 수지구 성복동  1969  49   \n",
      "4     2105.0  3067930   602.0     57  정상회원  여   기혼   경기 용인시 수지구 동천동  1948  70   \n",
      "...      ...      ...     ...    ...   ... ..  ...              ...   ...  ..   \n",
      "4280  6492.0    51550    10.0      1  정상회원  여   미혼   경기 성남시 분당구 판교동  1963  55   \n",
      "4281  6493.0    22500     3.0      1  정상회원  여   기혼  서울 관악구 행운동 1681  1982  36   \n",
      "4282  6494.0    18500     3.0      1  정상회원  남   기혼   경기 성남시 분당구 백현동  1975  43   \n",
      "4283  6495.0     5300     1.0      1  정상회원  여   기혼  서울 용산구 한남동 737-  1961  57   \n",
      "4284  6496.0    69220     8.0      1  정상회원  여   미혼   경기 수원시 영통구 이의동  1971  47   \n",
      "\n",
      "          1회방문구매평균  \n",
      "0     23153.837209  \n",
      "1     26529.873418  \n",
      "2     65663.095238  \n",
      "3     50315.960000  \n",
      "4     53823.333333  \n",
      "...            ...  \n",
      "4280  51550.000000  \n",
      "4281  22500.000000  \n",
      "4282  18500.000000  \n",
      "4283   5300.000000  \n",
      "4284  69220.000000  \n",
      "\n",
      "[4285 rows x 11 columns]\n"
     ]
    }
   ],
   "source": [
    "df2['1회방문구매평균'] = df2['총구매금액'] / df2['총방문횟수']\n",
    "print(df2)"
   ]
  },
  {
   "cell_type": "markdown",
   "id": "47032db4",
   "metadata": {},
   "source": [
    "7. df2 데이터에서 고객 '연령'데이터를 이용해, 고객의 '연령대'를 계산하고 파생변수로 선언하시오. "
   ]
  },
  {
   "cell_type": "code",
   "execution_count": 18,
   "id": "91a973c3",
   "metadata": {},
   "outputs": [
    {
     "name": "stdout",
     "output_type": "stream",
     "text": [
      "        회원번호    총구매금액   총구매수량  총방문횟수  회원상태 성별 결혼유무               주소    생년  연령  \\\n",
      "0     2101.0  1991230   382.0     86  정상회원  여   기혼  서울 강북구 미아동 134-  1967  51   \n",
      "1     2102.0  2095860   472.5     79  정상회원  여  NaN   경기 용인시 수지구 동천동  1947  71   \n",
      "2     2103.0  8273550  1675.4    126  정상회원  여   기혼   경기 용인시 수지구 동천동  1972  46   \n",
      "3     2104.0  6289495  1401.8    125  정상회원  여  NaN   경기 용인시 수지구 성복동  1969  49   \n",
      "4     2105.0  3067930   602.0     57  정상회원  여   기혼   경기 용인시 수지구 동천동  1948  70   \n",
      "...      ...      ...     ...    ...   ... ..  ...              ...   ...  ..   \n",
      "4280  6492.0    51550    10.0      1  정상회원  여   미혼   경기 성남시 분당구 판교동  1963  55   \n",
      "4281  6493.0    22500     3.0      1  정상회원  여   기혼  서울 관악구 행운동 1681  1982  36   \n",
      "4282  6494.0    18500     3.0      1  정상회원  남   기혼   경기 성남시 분당구 백현동  1975  43   \n",
      "4283  6495.0     5300     1.0      1  정상회원  여   기혼  서울 용산구 한남동 737-  1961  57   \n",
      "4284  6496.0    69220     8.0      1  정상회원  여   미혼   경기 수원시 영통구 이의동  1971  47   \n",
      "\n",
      "          1회방문구매평균  연령대  \n",
      "0     23153.837209  50대  \n",
      "1     26529.873418  70대  \n",
      "2     65663.095238  40대  \n",
      "3     50315.960000  40대  \n",
      "4     53823.333333  70대  \n",
      "...            ...  ...  \n",
      "4280  51550.000000  50대  \n",
      "4281  22500.000000  30대  \n",
      "4282  18500.000000  40대  \n",
      "4283   5300.000000  50대  \n",
      "4284  69220.000000  40대  \n",
      "\n",
      "[4285 rows x 12 columns]\n"
     ]
    }
   ],
   "source": [
    "df2['연령대'] = pd.cut(\n",
    "    df2['연령'],\n",
    "    bins=[0, 19, 29, 39, 49, 59, 69, 79, 200],\n",
    "    labels=['10대 이하', '20대', '30대', '40대', \n",
    "            '50대', '60대', '70대', '80대 이상'],\n",
    "    right=True\n",
    ")\n",
    "print(df2)"
   ]
  },
  {
   "cell_type": "markdown",
   "id": "78028ebb",
   "metadata": {},
   "source": [
    "8. df_product데이터의'물품대분류' 중 가장 많이 판매되는(수량)3가지 항목을 확인 하시오. "
   ]
  },
  {
   "cell_type": "code",
   "execution_count": 20,
   "id": "18eb8b6a",
   "metadata": {},
   "outputs": [
    {
     "data": {
      "text/html": [
       "<div>\n",
       "<style scoped>\n",
       "    .dataframe tbody tr th:only-of-type {\n",
       "        vertical-align: middle;\n",
       "    }\n",
       "\n",
       "    .dataframe tbody tr th {\n",
       "        vertical-align: top;\n",
       "    }\n",
       "\n",
       "    .dataframe thead th {\n",
       "        text-align: right;\n",
       "    }\n",
       "</style>\n",
       "<table border=\"1\" class=\"dataframe\">\n",
       "  <thead>\n",
       "    <tr style=\"text-align: right;\">\n",
       "      <th></th>\n",
       "      <th>물품대분류</th>\n",
       "      <th>구매수량</th>\n",
       "    </tr>\n",
       "  </thead>\n",
       "  <tbody>\n",
       "    <tr>\n",
       "      <th>15</th>\n",
       "      <td>채소</td>\n",
       "      <td>210661.70</td>\n",
       "    </tr>\n",
       "    <tr>\n",
       "      <th>16</th>\n",
       "      <td>축산물</td>\n",
       "      <td>155188.75</td>\n",
       "    </tr>\n",
       "    <tr>\n",
       "      <th>0</th>\n",
       "      <td>간식</td>\n",
       "      <td>137427.30</td>\n",
       "    </tr>\n",
       "  </tbody>\n",
       "</table>\n",
       "</div>"
      ],
      "text/plain": [
       "   물품대분류       구매수량\n",
       "15    채소  210661.70\n",
       "16   축산물  155188.75\n",
       "0     간식  137427.30"
      ]
     },
     "execution_count": 20,
     "metadata": {},
     "output_type": "execute_result"
    }
   ],
   "source": [
    "top_3_products = df_product.groupby('물품대분류')['구매수량']\\\n",
    "                           .sum().reset_index()\\\n",
    "                           .sort_values(by='구매수량', ascending=False)\n",
    "top_3_products.head(3)"
   ]
  },
  {
   "cell_type": "markdown",
   "id": "96940876",
   "metadata": {},
   "source": [
    "9. 앞서 확인한 3가지 항목을 추출하여, df_product_top이라는 변수로 선언하고, df_product_top에서 '구매매장'별 '구매금액'의 합과 평균을 계산하시오."
   ]
  },
  {
   "cell_type": "code",
   "execution_count": 22,
   "id": "5ec0325b",
   "metadata": {},
   "outputs": [
    {
     "name": "stdout",
     "output_type": "stream",
     "text": [
      "  구매매장         sum         mean\n",
      "0  매장1   745858255  5698.228744\n",
      "1  매장2   902358696  5728.970567\n",
      "2  매장3  1712438120  5535.457690\n",
      "3  매장4   816392717  5914.860582\n"
     ]
    }
   ],
   "source": [
    "top_3_categories = top_3_products['물품대분류']\n",
    "df_product_top = df_product[df_product['물품대분류'].isin(top_3_categories)]\n",
    "\n",
    "df_purchase = df_product_top.groupby('구매매장')['구매금액']\\\n",
    "                                    .agg(['sum', 'mean']).reset_index()\n",
    "print(df_purchase)"
   ]
  },
  {
   "cell_type": "markdown",
   "id": "47a016f5",
   "metadata": {},
   "source": [
    "10. df_product데이터의 '공급일자'데이터를 날짜형식으로 변환하여, '연도' / '월' / '요일' 항목을 새로운 파생변수로 생성하시오."
   ]
  },
  {
   "cell_type": "code",
   "execution_count": 24,
   "id": "873255ac",
   "metadata": {},
   "outputs": [
    {
     "name": "stdout",
     "output_type": "stream",
     "text": [
      "             공급일자    연도  월         요일\n",
      "0      2017-02-01  2017  2  Wednesday\n",
      "1      2017-02-01  2017  2  Wednesday\n",
      "2      2017-02-01  2017  2  Wednesday\n",
      "3      2017-02-01  2017  2  Wednesday\n",
      "4      2017-02-01  2017  2  Wednesday\n",
      "...           ...   ... ..        ...\n",
      "735778 2017-06-30  2017  6     Friday\n",
      "735779 2017-06-30  2017  6     Friday\n",
      "735780 2017-06-30  2017  6     Friday\n",
      "735781 2017-06-30  2017  6     Friday\n",
      "735782 2017-06-30  2017  6     Friday\n",
      "\n",
      "[735783 rows x 4 columns]\n"
     ]
    }
   ],
   "source": [
    "df_product['공급일자'] = pd.to_datetime(df_product['공급일자'], \n",
    "                                        format='%Y%m%d')\n",
    "\n",
    "df_product['연도'] = df_product['공급일자'].dt.year\n",
    "df_product['월'] = df_product['공급일자'].dt.month\n",
    "df_product['요일'] = df_product['공급일자'].dt.day_name()\n",
    "\n",
    "print(df_product[['공급일자', '연도', '월', '요일']])"
   ]
  },
  {
   "cell_type": "markdown",
   "id": "221cc336",
   "metadata": {},
   "source": [
    "11. df_product데이터의 '월'에 따른'물품대분류'별 '구매금액'의 합을 게산하여 result8.xlsx저장 하시오. "
   ]
  },
  {
   "cell_type": "code",
   "execution_count": 26,
   "id": "854e70ca",
   "metadata": {},
   "outputs": [
    {
     "name": "stdout",
     "output_type": "stream",
     "text": [
      "result8.xlsx 저장 완료\n"
     ]
    }
   ],
   "source": [
    "result = df_product.groupby(['월', '물품대분류'])['구매금액']\\\n",
    "                   .sum().reset_index()\n",
    "result.to_excel('result8.xlsx', index=False)\n",
    "print(\"result8.xlsx 저장 완료\")"
   ]
  },
  {
   "cell_type": "markdown",
   "id": "b3067020",
   "metadata": {},
   "source": [
    "12. df2 데이터를 이용해, '성별'에 따른 '총구매금액'의 평균을 시각화 하시오. "
   ]
  },
  {
   "cell_type": "code",
   "execution_count": 30,
   "id": "4cf7b44e",
   "metadata": {},
   "outputs": [
    {
     "name": "stderr",
     "output_type": "stream",
     "text": [
      "C:\\Users\\User\\anaconda3\\Lib\\site-packages\\IPython\\core\\pylabtools.py:170: UserWarning: Glyph 45224 (\\N{HANGUL SYLLABLE NAM}) missing from current font.\n",
      "  fig.canvas.print_figure(bytes_io, **kw)\n",
      "C:\\Users\\User\\anaconda3\\Lib\\site-packages\\IPython\\core\\pylabtools.py:170: UserWarning: Glyph 50668 (\\N{HANGUL SYLLABLE YEO}) missing from current font.\n",
      "  fig.canvas.print_figure(bytes_io, **kw)\n",
      "C:\\Users\\User\\anaconda3\\Lib\\site-packages\\IPython\\core\\pylabtools.py:170: UserWarning: Glyph 49457 (\\N{HANGUL SYLLABLE SEONG}) missing from current font.\n",
      "  fig.canvas.print_figure(bytes_io, **kw)\n",
      "C:\\Users\\User\\anaconda3\\Lib\\site-packages\\IPython\\core\\pylabtools.py:170: UserWarning: Glyph 48324 (\\N{HANGUL SYLLABLE BYEOL}) missing from current font.\n",
      "  fig.canvas.print_figure(bytes_io, **kw)\n",
      "C:\\Users\\User\\anaconda3\\Lib\\site-packages\\IPython\\core\\pylabtools.py:170: UserWarning: Glyph 52509 (\\N{HANGUL SYLLABLE CONG}) missing from current font.\n",
      "  fig.canvas.print_figure(bytes_io, **kw)\n",
      "C:\\Users\\User\\anaconda3\\Lib\\site-packages\\IPython\\core\\pylabtools.py:170: UserWarning: Glyph 44396 (\\N{HANGUL SYLLABLE GU}) missing from current font.\n",
      "  fig.canvas.print_figure(bytes_io, **kw)\n",
      "C:\\Users\\User\\anaconda3\\Lib\\site-packages\\IPython\\core\\pylabtools.py:170: UserWarning: Glyph 47588 (\\N{HANGUL SYLLABLE MAE}) missing from current font.\n",
      "  fig.canvas.print_figure(bytes_io, **kw)\n",
      "C:\\Users\\User\\anaconda3\\Lib\\site-packages\\IPython\\core\\pylabtools.py:170: UserWarning: Glyph 44552 (\\N{HANGUL SYLLABLE GEUM}) missing from current font.\n",
      "  fig.canvas.print_figure(bytes_io, **kw)\n",
      "C:\\Users\\User\\anaconda3\\Lib\\site-packages\\IPython\\core\\pylabtools.py:170: UserWarning: Glyph 50529 (\\N{HANGUL SYLLABLE AEG}) missing from current font.\n",
      "  fig.canvas.print_figure(bytes_io, **kw)\n"
     ]
    },
    {
     "data": {
      "image/png": "[encoded data removed]",
      "text/plain": [
       "<Figure size 800x600 with 1 Axes>"
      ]
     },
     "metadata": {},
     "output_type": "display_data"
    }
   ],
   "source": [
    "import seaborn as sns\n",
    "import matplotlib.pyplot as plt\n",
    "\n",
    "gender_avg_purchase = df2.groupby('성별')['총구매금액']\\\n",
    "                         .mean().reset_index()\n",
    "\n",
    "plt.figure(figsize=(8, 6))\n",
    "sns.barplot(x='성별', y='총구매금액', data=gender_avg_purchase)\n",
    "plt.show()"
   ]
  },
  {
   "cell_type": "markdown",
   "id": "987454a2",
   "metadata": {},
   "source": [
    "13. df2 데이터를 이용해, '1회방문구매평균'을 바탕으로 고객등급을 분류하고자 한다. 10만원 이상 고객은 A / 5만원 이상은 B / 2만원 이상 C / 나머지는 D 등급으로 분류하여, '고객등급'이라는 새로운 항목을 생성하시오.  "
   ]
  },
  {
   "cell_type": "code",
   "execution_count": null,
   "id": "121ee836",
   "metadata": {},
   "outputs": [],
   "source": []
  },
  {
   "cell_type": "markdown",
   "id": "06f0a911",
   "metadata": {},
   "source": [
    "14. df2에서 '고객등급'을 input 함수를 이용해 특정 값을 입력했을 때, 해당 고객등급에서 '성별'에 따른 '총구매금액' 기술통계량(describe 함수 활용)을 계산하여 'result9_등급명.xlsx'저장하는 프로그램을 구성하시오. "
   ]
  },
  {
   "cell_type": "code",
   "execution_count": null,
   "id": "e9cf60ab-e3ca-45d3-8572-b75e1088140b",
   "metadata": {},
   "outputs": [],
   "source": []
  },
  {
   "cell_type": "markdown",
   "id": "9d382cc7",
   "metadata": {},
   "source": [
    "# -끝- 고생하셨습니다"
   ]
  },
  {
   "attachments": {
    "image.png": {
     "image/png": "[encoded data removed]"
    }
   },
   "cell_type": "markdown",
   "id": "8096cf01",
   "metadata": {},
   "source": [
    "![image.png](attachment:image.png)"
   ]
  }
 ],
 "metadata": {
  "kernelspec": {
   "display_name": "Python 3 (ipykernel)",
   "language": "python",
   "name": "python3"
  },
  "language_info": {
   "codemirror_mode": {
    "name": "ipython",
    "version": 3
   },
   "file_extension": ".py",
   "mimetype": "text/x-python",
   "name": "python",
   "nbconvert_exporter": "python",
   "pygments_lexer": "ipython3",
   "version": "3.12.4"
  }
 },
 "nbformat": 4,
 "nbformat_minor": 5
}
