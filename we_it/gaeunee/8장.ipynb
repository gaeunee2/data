{
 "cells": [
  {
   "cell_type": "code",
   "execution_count": null,
   "metadata": {},
   "outputs": [],
   "source": [
    "#산점도\n",
    "import pandas as pd\n",
    "import seaborn as sns\n",
    "mpg = pd.read_csv('mpg.csv')\n",
    "\n",
    "#drv에 따라 표식 색 다르게 표현\n",
    "sns.scatterplot(data = mpg, x = 'displ', y = 'hwy', hue = 'drv')\\\n",
    "    .set(xlim = [3, 6], ylim = [10, 30]); #x, y축 범위 제한\n",
    "#그래프 출력 코드 뒤 ;입력 -> 설명 메시지 출력X\n",
    "\n",
    "#그래프 설정 바꾸기\n",
    "import matplotlib.pyplot as plt\n",
    "plt.rcParams.update({'figure.dpi': '150', #해상도, 기본값 72\n",
    "                     'figure.figsize': [8, 6], #가로 세로 크기, 기본값 [6, 4]\n",
    "                     'font.size': '15', #글자 크기, 기본값 10\n",
    "                     'font.family': 'Malgun Gothic'}) #폰트, 기본값 sans-serif\n",
    "\n",
    "#모든 설정 되돌리기\n",
    "plt.rcdefaults()"
   ]
  },
  {
   "cell_type": "code",
   "execution_count": null,
   "metadata": {},
   "outputs": [],
   "source": [
    "#p204 mpg 데이터를 이용한 분석 문제 해결\n",
    "import pandas as pd\n",
    "import seaborn as sns\n",
    "mpg = pd.read_csv('mpg.csv')\n",
    "mid = pd.read_csv('midwest.csv')\n",
    "\n",
    "sns.scatterplot(data = mpg, x = 'cty', y = 'hwy');\n",
    "sns.scatterplot(data = mid, x = 'poptotal', y = 'popasian')\\\n",
    "    .set(xlim = [0, 500000], ylim = [0, 10000]);"
   ]
  },
  {
   "cell_type": "code",
   "execution_count": null,
   "metadata": {},
   "outputs": [],
   "source": [
    "#평균 막대 그래프 만들기\n",
    "import pandas as pd\n",
    "import seaborn as sns\n",
    "mpg = pd.read_csv('mpg.csv')\n",
    "\n",
    "df_mpg = mpg.groupby('drv', as_index = False)\\\n",
    "            .agg(mean_hwy = ('hwy', 'mean'))\n",
    "df_mpg = df_mpg.sort_values('mean_hwy', ascending = False) #데이터프레임 정렬\n",
    "sns.barplot(data = df_mpg, x = 'drv', y = 'mean_hwy');"
   ]
  },
  {
   "cell_type": "code",
   "execution_count": null,
   "metadata": {},
   "outputs": [],
   "source": [
    "#빈도 막대 그래프 만들기\n",
    "import pandas as pd\n",
    "import seaborn as sns\n",
    "mpg = pd.read_csv('mpg.csv')\n",
    "\n",
    "sns.countplot(data = mpg, x = 'drv', order = ['4', 'f', 'r']);\n",
    "sns.countplot(data = mpg, x = 'drv',\n",
    "              order = mpg['drv'].value_counts().index); #drv 빈도 높은 순으로 정렬"
   ]
  },
  {
   "cell_type": "code",
   "execution_count": null,
   "metadata": {},
   "outputs": [],
   "source": [
    "#p211 mpg 데이터를 이용한 분석 문제 해결\n",
    "import pandas as pd\n",
    "import seaborn as sns\n",
    "mpg = pd.read_csv('mpg.csv')\n",
    "\n",
    "df_mpg = mpg.query('category == \"suv\"')\\\n",
    "            .groupby('manufacturer', as_index = False)\\\n",
    "            .agg(cty_mean = ('cty', 'mean'))\\\n",
    "            .sort_values('cty_mean', ascending = False)\\\n",
    "            .head()\n",
    "sns.barplot(data = df_mpg, x = 'manufacturer', y = 'cty_mean');\n",
    "\n",
    "df = mpg.groupby('category', as_index = False)\\\n",
    "        .agg(count = ('category', 'count'))\\\n",
    "        .sort_values('count', ascending = False)\n",
    "sns.barplot(data = df, x = 'category', y = 'count');"
   ]
  },
  {
   "cell_type": "code",
   "execution_count": null,
   "metadata": {},
   "outputs": [],
   "source": [
    "#시계열 그래프 만들기\n",
    "import pandas as pd\n",
    "import seaborn as sns\n",
    "economics = pd.read_csv('economics.csv')\n",
    "\n",
    "economics['date2'] = pd.to_datetime(economics['date']) #날짜 시간 타입 변수 만들기\n",
    "economics['year'] = economics['date2'].dt.year #연 추출\n",
    "economics.head()\n",
    "sns.lineplot(data = economics, x = 'year', y = 'unemploy', \n",
    "             errorbar = None); #신뢰구간 표시X"
   ]
  },
  {
   "cell_type": "code",
   "execution_count": null,
   "metadata": {},
   "outputs": [],
   "source": [
    "#p217 economics 데이터를 이용한 분석 문제 해결\n",
    "import pandas as pd\n",
    "import seaborn as sns\n",
    "economics = pd.read_csv('economics.csv')\n",
    "\n",
    "economics['date2'] = pd.to_datetime(economics['date'])\n",
    "economics['year'] = economics['date2'].dt.year\n",
    "sns.lineplot(data = economics, x = 'year', y = 'psavert',\n",
    "             errorbar = None)"
   ]
  },
  {
   "cell_type": "code",
   "execution_count": null,
   "metadata": {},
   "outputs": [],
   "source": [
    "#Q2 2014년 월별 psavert 변화를 나타낸 시계열 그래프\n",
    "import pandas as pd\n",
    "import seaborn as sns\n",
    "economics = pd.read_csv('economics.csv')\n",
    "\n",
    "economics['date2'] = pd.to_datetime(economics['date'])\n",
    "economics['year'] = economics['date2'].dt.year\n",
    "economics['month'] = economics['date2'].dt.month\n",
    "\n",
    "df_eco = economics.query('year == 2014')\n",
    "sns.lineplot(data = df_eco, x = 'month', y = 'psavert');"
   ]
  },
  {
   "cell_type": "code",
   "execution_count": null,
   "metadata": {},
   "outputs": [],
   "source": [
    "#상자 그림 만들기\n",
    "import pandas as pd\n",
    "import seaborn as sns\n",
    "mpg = pd.read_csv('mpg.csv')\n",
    "\n",
    "sns.boxplot(data = mpg, x = 'drv', y = 'hwy')\n",
    "\n",
    "#상자 아래 세로선 - 아랫수염 (하위 0~25%)\n",
    "#상자 밑면 - 1사분위수 (하위 25% 위치 값)\n",
    "#상자 내 굵은 선 - 2사분위수 (하위 50% 위치 값)\n",
    "#상자 윗면 - 3사분위수 (하위 75% 위치 값)\n",
    "#상자 위 세로선 - 윗수염 (하위 75~100%)\n",
    "#상자 밖 가로선 - 극단치 경계 (Q1, Q3 밖 1.5IQR 내 최댓값)\n",
    "#상자 밖 점 표식 - 극단치 (Q1, Q3 밖 1.5IQR 벗어난 값)"
   ]
  },
  {
   "cell_type": "code",
   "execution_count": null,
   "metadata": {},
   "outputs": [],
   "source": [
    "#p220 mpg 데이터를 이용한 분석 문제 해결\n",
    "import pandas as pd\n",
    "import seaborn as sns\n",
    "mpg = pd.read_csv('mpg.csv')\n",
    "\n",
    "df_mpg = mpg.query('category in [\"compact\", \"subcompact\", \"suv\"]')\n",
    "sns.boxplot(data = df_mpg, x = 'category', y = 'cty');"
   ]
  }
 ],
 "metadata": {
  "kernelspec": {
   "display_name": "Python 3",
   "language": "python",
   "name": "python3"
  },
  "language_info": {
   "codemirror_mode": {
    "name": "ipython",
    "version": 3
   },
   "file_extension": ".py",
   "mimetype": "text/x-python",
   "name": "python",
   "nbconvert_exporter": "python",
   "pygments_lexer": "ipython3",
   "version": "3.11.1"
  }
 },
 "nbformat": 4,
 "nbformat_minor": 2
}
