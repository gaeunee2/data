{
 "cells": [
  {
   "cell_type": "markdown",
   "metadata": {
    "id": "J-j_27Xhq0fS"
   },
   "source": [
    " # WEIT x DataStation Team Mission 2. \n",
    "\n",
    "\n",
    "- 첨부된 데이터는 다이어트 식품을 판매하는 어플리케이션 회사에서 나온 고객 결제 데이터 입니다. 고객들이 온라인 마케팅으로 유입된 채널에 따라, 결제를 완료한 고객도 있고, 유입이 되었으나 이탈한 고객도 있습니다. 이 데이터로 아래의 미션을 수행보세요.  \n",
    "- 먼저 개인적으로 풀어본 다음, 팀별로 모여 문제를 풀어보세요.\n",
    "- Chat GPT와 책, 유튜브 등 여러 자료를 활용하여 최대한 풀어보세요.\n",
    "- 미제출시 수료증 및 이수증 발급이 제한됩니다.\n",
    "\n",
    "- **기한 : 24년 11월 19일 23시 59분까지 / 이후 제출 인정 불가** \n",
    "- **양식 :** \n",
    "    - 제목 : \"위아이티6기_팀명_이름_Mission2\"\n",
    "    - 첨부파일 : 해당 Mission 파일 \n",
    "    - 개별 제출 \n",
    "- **제출처 : weit2024.project@gmail.com**"
   ]
  },
  {
   "cell_type": "markdown",
   "metadata": {
    "id": "p9eTIuz4q0fU"
   },
   "source": [
    "### 1. 02_Data.csv파일을 불러와, df1으로 선언하고 데이터의 구조와 타입을 확인하시오."
   ]
  },
  {
   "cell_type": "code",
   "execution_count": 41,
   "metadata": {
    "id": "wS-DEnaBrOYT"
   },
   "outputs": [
    {
     "name": "stdout",
     "output_type": "stream",
     "text": [
      "<class 'pandas.core.frame.DataFrame'>\n",
      "RangeIndex: 10000 entries, 0 to 9999\n",
      "Data columns (total 10 columns):\n",
      " #   Column      Non-Null Count  Dtype \n",
      "---  ------      --------------  ----- \n",
      " 0   회원코드        10000 non-null  object\n",
      " 1   프로그램        10000 non-null  object\n",
      " 2   상태          10000 non-null  object\n",
      " 3   프로그램가격      10000 non-null  int64 \n",
      " 4   최종결제금액      10000 non-null  int64 \n",
      " 5   결제시각        10000 non-null  object\n",
      " 6   결제유형        10000 non-null  object\n",
      " 7   채널          10000 non-null  object\n",
      " 8   보조식품가격      10000 non-null  int64 \n",
      " 9   보조식품(추가구매)  10000 non-null  object\n",
      "dtypes: int64(3), object(7)\n",
      "memory usage: 781.4+ KB\n"
     ]
    }
   ],
   "source": [
    "import pandas as pd\n",
    "df1 = pd.read_csv('02_Data.csv')\n",
    "\n",
    "df1.info() #data 구조 및 type 확인 (DataFrame)"
   ]
  },
  {
   "cell_type": "markdown",
   "metadata": {
    "id": "cOGAoqD2q0fV"
   },
   "source": [
    "### 2. '프로그램가격'의 평균, 최대값, 최소값을 확인하시오."
   ]
  },
  {
   "cell_type": "code",
   "execution_count": 42,
   "metadata": {
    "id": "afm9ZpJKrGGu"
   },
   "outputs": [
    {
     "data": {
      "text/plain": [
       "np.int64(44780)"
      ]
     },
     "execution_count": 42,
     "metadata": {},
     "output_type": "execute_result"
    }
   ],
   "source": [
    "#평균 107,778.024\n",
    "df1['프로그램가격'].mean()\n",
    "\n",
    "#최대값 177,000\n",
    "df1['프로그램가격'].max()\n",
    "\n",
    "#최소값 44,780\n",
    "df1['프로그램가격'].min()"
   ]
  },
  {
   "cell_type": "markdown",
   "metadata": {
    "id": "IeBoRU26q0fW"
   },
   "source": [
    "### 3. '채널'의 항목과 빈도수를 확인하고, '채널'별 '최종결제금액'의 합을 계산하여, result1.xlsx로 저장하시오."
   ]
  },
  {
   "cell_type": "code",
   "execution_count": 43,
   "metadata": {
    "id": "Vl9rFLb3rHXg"
   },
   "outputs": [
    {
     "name": "stdout",
     "output_type": "stream",
     "text": [
      "채널\n",
      "facebook     6880\n",
      "others       1390\n",
      "naver        1009\n",
      "direct        297\n",
      "email         271\n",
      "google        120\n",
      "instagram      33\n",
      "Name: count, dtype: int64\n",
      "result.xlsx 파일 저장완료\n"
     ]
    }
   ],
   "source": [
    "#'채널' 항목 빈도수 확인\n",
    "print(df1['채널'].value_counts())\n",
    "\n",
    "result = df1.groupby('채널')['최종결제금액'].sum()\\\n",
    "                                            .reset_index()\n",
    "result.to_excel('result1.xlsx', index=False)\n",
    "print(\"result.xlsx 파일 저장완료\")"
   ]
  },
  {
   "cell_type": "markdown",
   "metadata": {
    "id": "NgzwqKvzq0fW"
   },
   "source": [
    "### 4. '채널'의 빈도수가 높은 상위 3개 항목을 뽑아, 해당 데이터의 '보조식품(추가구매)'에 따른 '최종결제금액'의 합과 평균을 계산하시오.  "
   ]
  },
  {
   "cell_type": "code",
   "execution_count": 44,
   "metadata": {
    "id": "4U_iC6gQrH5P"
   },
   "outputs": [
    {
     "name": "stdout",
     "output_type": "stream",
     "text": [
      "          채널 보조식품(추가구매)        sum           mean\n",
      "0   facebook       구매안함  527758080  115407.408703\n",
      "1   facebook    단백질보충제A   30694290  128967.605042\n",
      "2   facebook    단백질보충제B    5848280  114672.156863\n",
      "3   facebook   식이요법보조제A  199833090  126316.744627\n",
      "4   facebook   식이요법보조제B   54792540  141217.886598\n",
      "5   facebook     종합비타민A    6210180  129378.750000\n",
      "6      naver       구매안함  103391890  109178.342133\n",
      "7      naver    단백질보충제A    4784580  129312.972973\n",
      "8      naver    단백질보충제B     422280  105570.000000\n",
      "9      naver     종합비타민A    2893000  137761.904762\n",
      "10    others       구매안함  139047490  106143.122137\n",
      "11    others    단백질보충제A    5924740  128798.695652\n",
      "12    others    단백질보충제B     692060   98865.714286\n",
      "13    others     종합비타민A    3685400  136496.296296\n"
     ]
    }
   ],
   "source": [
    "top3_channels = df1['채널'].value_counts().head(3).index\n",
    "top3_channels_df = df1[df1['채널'].isin(top3_channels)]\n",
    "\n",
    "result = top3_channels_df.groupby(['채널', '보조식품(추가구매)'])['최종결제금액']\\\n",
    "                         .agg(['sum', 'mean']).reset_index()\n",
    "\n",
    "print(result)"
   ]
  },
  {
   "cell_type": "markdown",
   "metadata": {
    "id": "FiKu9siPq0fW"
   },
   "source": [
    "### 5. '결제시각'데이터에서 날짜와 시간데이터를 나누어 데이터만 뽑아, '결제날짜'와 '결제시간'파생변수로 각각 선언하시오."
   ]
  },
  {
   "cell_type": "code",
   "execution_count": null,
   "metadata": {
    "id": "_XTKZF9zrIvT"
   },
   "outputs": [
    {
     "name": "stdout",
     "output_type": "stream",
     "text": [
      "                        결제시각        결제날짜             결제시간\n",
      "0    2017-04-14 19:03:29.976  2017-04-14  19:03:29.976000\n",
      "1    2017-05-23 20:53:54.368  2017-05-23  20:53:54.368000\n",
      "2    2017-08-23 23:39:21.840  2017-08-23  23:39:21.840000\n",
      "3    2017-08-28 20:18:22.824  2017-08-28  20:18:22.824000\n",
      "4    2017-05-07 17:50:30.944  2017-05-07  17:50:30.944000\n",
      "...                      ...         ...              ...\n",
      "9995 2017-04-18 00:43:58.104  2017-04-18  00:43:58.104000\n",
      "9996 2017-08-16 10:03:10.136  2017-08-16  10:03:10.136000\n",
      "9997 2017-08-09 11:47:55.408  2017-08-09  11:47:55.408000\n",
      "9998 2017-04-28 07:05:19.776  2017-04-28  07:05:19.776000\n",
      "9999 2017-06-02 10:16:34.576  2017-06-02  10:16:34.576000\n",
      "\n",
      "[10000 rows x 3 columns]\n"
     ]
    }
   ],
   "source": [
    "df1['결제시각'] = df1['결제시각'].replace({'오전': 'AM', '오후': 'PM'}, \n",
    "                                  regex=True)\n",
    "df1['결제시각'] = pd.to_datetime(df1['결제시각'], \n",
    "                             format='%Y-%m-%d %p %I:%M:%S.%f', \n",
    "                             errors='coerce')\n",
    "\n",
    "df1 = df1.assign(결제날짜 = df1['결제시각'].dt.date, \n",
    "                 결제시간 = df1['결제시각'].dt.time)\n",
    "\n",
    "print(df1[['결제시각', '결제날짜', '결제시간']])"
   ]
  },
  {
   "cell_type": "markdown",
   "metadata": {
    "id": "zFz5emi-q0fX"
   },
   "source": [
    "\n",
    "### 6. 앞서 추출된 '결제날짜'데이터를 이용하여, '연도' / '월' / '일' 데이터를 추출하시오."
   ]
  },
  {
   "cell_type": "code",
   "execution_count": 50,
   "metadata": {
    "id": "wi53P2ACrJiA"
   },
   "outputs": [
    {
     "name": "stdout",
     "output_type": "stream",
     "text": [
      "           결제날짜    연도  월   일\n",
      "0    2017-04-14  2017  4  14\n",
      "1    2017-05-23  2017  5  23\n",
      "2    2017-08-23  2017  8  23\n",
      "3    2017-08-28  2017  8  28\n",
      "4    2017-05-07  2017  5   7\n",
      "...         ...   ... ..  ..\n",
      "9995 2017-04-18  2017  4  18\n",
      "9996 2017-08-16  2017  8  16\n",
      "9997 2017-08-09  2017  8   9\n",
      "9998 2017-04-28  2017  4  28\n",
      "9999 2017-06-02  2017  6   2\n",
      "\n",
      "[10000 rows x 4 columns]\n"
     ]
    }
   ],
   "source": [
    "df1['결제날짜'] = pd.to_datetime(df1['결제날짜'], errors='coerce')\n",
    "df1['연도'] = df1['결제날짜'].dt.year\n",
    "df1['월'] = df1['결제날짜'].dt.month\n",
    "df1['일'] = df1['결제날짜'].dt.day\n",
    "\n",
    "print(df1[['결제날짜', '연도', '월', '일']])"
   ]
  },
  {
   "cell_type": "markdown",
   "metadata": {
    "id": "rzXcA2rnq0fX"
   },
   "source": [
    "### 7. 결제 '월'별 '최종결제금액'의 합을 계산하시오."
   ]
  },
  {
   "cell_type": "code",
   "execution_count": 52,
   "metadata": {
    "id": "CJHslrElrKQo"
   },
   "outputs": [
    {
     "data": {
      "text/html": [
       "<div>\n",
       "<style scoped>\n",
       "    .dataframe tbody tr th:only-of-type {\n",
       "        vertical-align: middle;\n",
       "    }\n",
       "\n",
       "    .dataframe tbody tr th {\n",
       "        vertical-align: top;\n",
       "    }\n",
       "\n",
       "    .dataframe thead th {\n",
       "        text-align: right;\n",
       "    }\n",
       "</style>\n",
       "<table border=\"1\" class=\"dataframe\">\n",
       "  <thead>\n",
       "    <tr style=\"text-align: right;\">\n",
       "      <th></th>\n",
       "      <th>월</th>\n",
       "      <th>최종결제금액</th>\n",
       "    </tr>\n",
       "  </thead>\n",
       "  <tbody>\n",
       "    <tr>\n",
       "      <th>0</th>\n",
       "      <td>3</td>\n",
       "      <td>67579200</td>\n",
       "    </tr>\n",
       "    <tr>\n",
       "      <th>1</th>\n",
       "      <td>4</td>\n",
       "      <td>133340640</td>\n",
       "    </tr>\n",
       "    <tr>\n",
       "      <th>2</th>\n",
       "      <td>5</td>\n",
       "      <td>185577300</td>\n",
       "    </tr>\n",
       "    <tr>\n",
       "      <th>3</th>\n",
       "      <td>6</td>\n",
       "      <td>203945100</td>\n",
       "    </tr>\n",
       "    <tr>\n",
       "      <th>4</th>\n",
       "      <td>7</td>\n",
       "      <td>178364700</td>\n",
       "    </tr>\n",
       "    <tr>\n",
       "      <th>5</th>\n",
       "      <td>8</td>\n",
       "      <td>395389300</td>\n",
       "    </tr>\n",
       "  </tbody>\n",
       "</table>\n",
       "</div>"
      ],
      "text/plain": [
       "   월     최종결제금액\n",
       "0  3   67579200\n",
       "1  4  133340640\n",
       "2  5  185577300\n",
       "3  6  203945100\n",
       "4  7  178364700\n",
       "5  8  395389300"
      ]
     },
     "execution_count": 52,
     "metadata": {},
     "output_type": "execute_result"
    }
   ],
   "source": [
    "df1.groupby('월')['최종결제금액'].sum().reset_index()"
   ]
  },
  {
   "cell_type": "markdown",
   "metadata": {
    "id": "GECm-xIlq0fX"
   },
   "source": [
    "### 8. '최종결제금액'이 높은 30명의 고객 명단을 추출하여, result2.xlsx로 선언하시오."
   ]
  },
  {
   "cell_type": "code",
   "execution_count": 53,
   "metadata": {
    "id": "MRROuBm4rLM5"
   },
   "outputs": [
    {
     "name": "stdout",
     "output_type": "stream",
     "text": [
      "result2.xlsx 파일로 저장완료\n"
     ]
    }
   ],
   "source": [
    "df1.nlargest(30, '최종결제금액').to_excel('result2.xlsx', index=False)\n",
    "print(\"result2.xlsx 파일로 저장완료\")"
   ]
  },
  {
   "cell_type": "markdown",
   "metadata": {
    "id": "kHg4eyExq0fX"
   },
   "source": [
    "### 9. '상태'가 completed에 해당하는 데이터만 뽑아, '채널'별 '최종결제금액'의 합을 계산하시오."
   ]
  },
  {
   "cell_type": "code",
   "execution_count": 55,
   "metadata": {
    "id": "0U_P-z5zrL1l"
   },
   "outputs": [
    {
     "data": {
      "text/html": [
       "<div>\n",
       "<style scoped>\n",
       "    .dataframe tbody tr th:only-of-type {\n",
       "        vertical-align: middle;\n",
       "    }\n",
       "\n",
       "    .dataframe tbody tr th {\n",
       "        vertical-align: top;\n",
       "    }\n",
       "\n",
       "    .dataframe thead th {\n",
       "        text-align: right;\n",
       "    }\n",
       "</style>\n",
       "<table border=\"1\" class=\"dataframe\">\n",
       "  <thead>\n",
       "    <tr style=\"text-align: right;\">\n",
       "      <th></th>\n",
       "      <th>채널</th>\n",
       "      <th>최종결제금액</th>\n",
       "    </tr>\n",
       "  </thead>\n",
       "  <tbody>\n",
       "    <tr>\n",
       "      <th>0</th>\n",
       "      <td>direct</td>\n",
       "      <td>17538760</td>\n",
       "    </tr>\n",
       "    <tr>\n",
       "      <th>1</th>\n",
       "      <td>email</td>\n",
       "      <td>17475380</td>\n",
       "    </tr>\n",
       "    <tr>\n",
       "      <th>2</th>\n",
       "      <td>facebook</td>\n",
       "      <td>437954060</td>\n",
       "    </tr>\n",
       "    <tr>\n",
       "      <th>3</th>\n",
       "      <td>google</td>\n",
       "      <td>7017240</td>\n",
       "    </tr>\n",
       "    <tr>\n",
       "      <th>4</th>\n",
       "      <td>instagram</td>\n",
       "      <td>1890780</td>\n",
       "    </tr>\n",
       "    <tr>\n",
       "      <th>5</th>\n",
       "      <td>naver</td>\n",
       "      <td>63103330</td>\n",
       "    </tr>\n",
       "    <tr>\n",
       "      <th>6</th>\n",
       "      <td>others</td>\n",
       "      <td>83813430</td>\n",
       "    </tr>\n",
       "  </tbody>\n",
       "</table>\n",
       "</div>"
      ],
      "text/plain": [
       "          채널     최종결제금액\n",
       "0     direct   17538760\n",
       "1      email   17475380\n",
       "2   facebook  437954060\n",
       "3     google    7017240\n",
       "4  instagram    1890780\n",
       "5      naver   63103330\n",
       "6     others   83813430"
      ]
     },
     "execution_count": 55,
     "metadata": {},
     "output_type": "execute_result"
    }
   ],
   "source": [
    "df1[df1['상태'] == 'completed'].groupby('채널')['최종결제금액']\\\n",
    "                               .sum().reset_index()"
   ]
  },
  {
   "cell_type": "markdown",
   "metadata": {},
   "source": [
    "## 끝. 고생하셨습니다"
   ]
  }
 ],
 "metadata": {
  "colab": {
   "provenance": []
  },
  "kernelspec": {
   "display_name": "Python 3",
   "language": "python",
   "name": "python3"
  },
  "language_info": {
   "codemirror_mode": {
    "name": "ipython",
    "version": 3
   },
   "file_extension": ".py",
   "mimetype": "text/x-python",
   "name": "python",
   "nbconvert_exporter": "python",
   "pygments_lexer": "ipython3",
   "version": "3.11.1"
  }
 },
 "nbformat": 4,
 "nbformat_minor": 0
}
